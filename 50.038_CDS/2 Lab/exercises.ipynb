{
 "cells": [
  {
   "cell_type": "markdown",
   "id": "3XE-GC7PvOBN",
   "metadata": {
    "id": "3XE-GC7PvOBN"
   },
   "source": [
    "# Pandas Tutorial -- CDS 2023\n"
   ]
  },
  {
   "cell_type": "markdown",
   "id": "q72dXwaog4h7",
   "metadata": {
    "id": "q72dXwaog4h7"
   },
   "source": [
    "## 1. Setup\n"
   ]
  },
  {
   "cell_type": "markdown",
   "id": "438f13d5",
   "metadata": {},
   "source": [
    "Name: Sharryl Seto\n",
    "\n",
    "ID: 1005523"
   ]
  },
  {
   "cell_type": "markdown",
   "id": "vSvx8LjDp6Yh",
   "metadata": {
    "id": "vSvx8LjDp6Yh"
   },
   "source": [
    "### Import\n",
    "\n",
    "Before moving on to learn pandas first we need to install it and import it. If you install [Anaconda distributions](https://www.anaconda.com/) on your local machine or using [Google Colab](https://research.google.com/colaboratory) then pandas will already be available there, otherwise, you follow this installation process from [pandas official's website](https://pandas.pydata.org/docs/getting_started/install.html)."
   ]
  },
  {
   "cell_type": "code",
   "execution_count": 18,
   "id": "e7dcee3a",
   "metadata": {
    "id": "e7dcee3a"
   },
   "outputs": [],
   "source": [
    "# Importing libraries\n",
    "import numpy as np\n",
    "import pandas as pd"
   ]
  },
  {
   "cell_type": "markdown",
   "id": "68cb06b1",
   "metadata": {
    "id": "68cb06b1"
   },
   "source": [
    "## 2. Loading Different Data Formats Into a Pandas Data Frame\n",
    "\n",
    "\n"
   ]
  },
  {
   "cell_type": "code",
   "execution_count": 3,
   "id": "CeSsGkTMiMcI",
   "metadata": {
    "id": "CeSsGkTMiMcI"
   },
   "outputs": [],
   "source": [
    "# given\n",
    "city_names = pd.Series(['San Francisco', 'San Jose', 'Sacramento'])\n",
    "population = pd.Series([852469, 1015785, 485199])\n",
    "cities = pd.DataFrame({ 'City name': city_names, 'Population': population })\n",
    "cities['Area square miles'] = pd.Series([46.87, 176.53, 97.92])"
   ]
  },
  {
   "cell_type": "markdown",
   "id": "10a5b306",
   "metadata": {
    "id": "10a5b306"
   },
   "source": [
    "## 3. Data preprocessing\n",
    "Data preprocessing is the process of making raw data to clean data. This is the most crucial part of data the science. In this section, we will explore data first then we remove unwanted columns, remove duplicates, handle missing data, etc. After this step, we get clean data from raw data."
   ]
  },
  {
   "cell_type": "markdown",
   "id": "2098e35f",
   "metadata": {
    "id": "2098e35f"
   },
   "source": [
    "### 3.1 Data Exploring"
   ]
  },
  {
   "cell_type": "markdown",
   "id": "aHKv7GbtBGG5",
   "metadata": {
    "id": "aHKv7GbtBGG5"
   },
   "source": [
    "#### Retrieving rows from data frame."
   ]
  },
  {
   "cell_type": "code",
   "execution_count": 4,
   "id": "cbc7a3df",
   "metadata": {
    "colab": {
     "base_uri": "https://localhost:8080/",
     "height": 225
    },
    "id": "cbc7a3df",
    "outputId": "29db4b44-340c-42fd-c251-509c11391231"
   },
   "outputs": [
    {
     "data": {
      "text/html": [
       "<div>\n",
       "<style scoped>\n",
       "    .dataframe tbody tr th:only-of-type {\n",
       "        vertical-align: middle;\n",
       "    }\n",
       "\n",
       "    .dataframe tbody tr th {\n",
       "        vertical-align: top;\n",
       "    }\n",
       "\n",
       "    .dataframe thead th {\n",
       "        text-align: right;\n",
       "    }\n",
       "</style>\n",
       "<table border=\"1\" class=\"dataframe\">\n",
       "  <thead>\n",
       "    <tr style=\"text-align: right;\">\n",
       "      <th></th>\n",
       "      <th>City name</th>\n",
       "      <th>Population</th>\n",
       "      <th>Area square miles</th>\n",
       "    </tr>\n",
       "  </thead>\n",
       "  <tbody>\n",
       "    <tr>\n",
       "      <th>0</th>\n",
       "      <td>San Francisco</td>\n",
       "      <td>852469</td>\n",
       "      <td>46.87</td>\n",
       "    </tr>\n",
       "    <tr>\n",
       "      <th>1</th>\n",
       "      <td>San Jose</td>\n",
       "      <td>1015785</td>\n",
       "      <td>176.53</td>\n",
       "    </tr>\n",
       "    <tr>\n",
       "      <th>2</th>\n",
       "      <td>Sacramento</td>\n",
       "      <td>485199</td>\n",
       "      <td>97.92</td>\n",
       "    </tr>\n",
       "  </tbody>\n",
       "</table>\n",
       "</div>"
      ],
      "text/plain": [
       "       City name  Population  Area square miles\n",
       "0  San Francisco      852469              46.87\n",
       "1       San Jose     1015785             176.53\n",
       "2     Sacramento      485199              97.92"
      ]
     },
     "execution_count": 4,
     "metadata": {},
     "output_type": "execute_result"
    }
   ],
   "source": [
    "# display first 3 rows\n",
    "cities.head(3)\n"
   ]
  },
  {
   "cell_type": "markdown",
   "id": "A5NQiaXLlmS3",
   "metadata": {
    "id": "A5NQiaXLlmS3"
   },
   "source": [
    "#### Retrieving information about dataframe "
   ]
  },
  {
   "cell_type": "code",
   "execution_count": 9,
   "id": "5ad7ad16",
   "metadata": {
    "colab": {
     "base_uri": "https://localhost:8080/"
    },
    "id": "5ad7ad16",
    "outputId": "4d2bb777-3516-441a-cb7d-625b298afddb"
   },
   "outputs": [
    {
     "data": {
      "text/plain": [
       "object     1\n",
       "int64      1\n",
       "float64    1\n",
       "Name: count, dtype: int64"
      ]
     },
     "execution_count": 9,
     "metadata": {},
     "output_type": "execute_result"
    }
   ],
   "source": [
    "cities.dtypes.value_counts()"
   ]
  },
  {
   "cell_type": "markdown",
   "id": "XfPcQQb2IH-u",
   "metadata": {
    "id": "XfPcQQb2IH-u"
   },
   "source": [
    "#### Display number of rows and columns. "
   ]
  },
  {
   "cell_type": "code",
   "execution_count": 10,
   "id": "740fc7ae",
   "metadata": {
    "colab": {
     "base_uri": "https://localhost:8080/"
    },
    "id": "740fc7ae",
    "outputId": "0609e71c-2834-4b0d-c924-f9eab9fb7508"
   },
   "outputs": [
    {
     "data": {
      "text/plain": [
       "(3, 3)"
      ]
     },
     "execution_count": 10,
     "metadata": {},
     "output_type": "execute_result"
    }
   ],
   "source": [
    "cities.shape"
   ]
  },
  {
   "cell_type": "markdown",
   "id": "HXspyxQwg5wn",
   "metadata": {
    "id": "HXspyxQwg5wn"
   },
   "source": [
    "#### Adding a new column to a DataFrame\n",
    "\n"
   ]
  },
  {
   "cell_type": "code",
   "execution_count": 21,
   "id": "te1hhuRlhN-l",
   "metadata": {
    "colab": {
     "base_uri": "https://localhost:8080/",
     "height": 191
    },
    "id": "te1hhuRlhN-l",
    "outputId": "2fe189a0-aaf9-45ee-e68c-240a5e59506e"
   },
   "outputs": [],
   "source": [
    "# Add a new column bool if city named after saint & greater than 50 square miles\n",
    "cities['Bool'] = (cities['City name'].str.contains('San')) & (cities['Area square miles'] >50)"
   ]
  },
  {
   "cell_type": "code",
   "execution_count": 22,
   "id": "2bXmRJsHig4t",
   "metadata": {
    "colab": {
     "base_uri": "https://localhost:8080/",
     "height": 207
    },
    "id": "2bXmRJsHig4t",
    "outputId": "dabdebe3-2614-42b7-9553-57692e0e60b2"
   },
   "outputs": [
    {
     "data": {
      "text/html": [
       "<div>\n",
       "<style scoped>\n",
       "    .dataframe tbody tr th:only-of-type {\n",
       "        vertical-align: middle;\n",
       "    }\n",
       "\n",
       "    .dataframe tbody tr th {\n",
       "        vertical-align: top;\n",
       "    }\n",
       "\n",
       "    .dataframe thead th {\n",
       "        text-align: right;\n",
       "    }\n",
       "</style>\n",
       "<table border=\"1\" class=\"dataframe\">\n",
       "  <thead>\n",
       "    <tr style=\"text-align: right;\">\n",
       "      <th></th>\n",
       "      <th>City name</th>\n",
       "      <th>Population</th>\n",
       "      <th>Area square miles</th>\n",
       "      <th>Bool</th>\n",
       "    </tr>\n",
       "  </thead>\n",
       "  <tbody>\n",
       "    <tr>\n",
       "      <th>0</th>\n",
       "      <td>San Francisco</td>\n",
       "      <td>852469</td>\n",
       "      <td>46.87</td>\n",
       "      <td>False</td>\n",
       "    </tr>\n",
       "    <tr>\n",
       "      <th>1</th>\n",
       "      <td>San Jose</td>\n",
       "      <td>1015785</td>\n",
       "      <td>176.53</td>\n",
       "      <td>True</td>\n",
       "    </tr>\n",
       "    <tr>\n",
       "      <th>2</th>\n",
       "      <td>Sacramento</td>\n",
       "      <td>485199</td>\n",
       "      <td>97.92</td>\n",
       "      <td>False</td>\n",
       "    </tr>\n",
       "  </tbody>\n",
       "</table>\n",
       "</div>"
      ],
      "text/plain": [
       "       City name  Population  Area square miles   Bool\n",
       "0  San Francisco      852469              46.87  False\n",
       "1       San Jose     1015785             176.53   True\n",
       "2     Sacramento      485199              97.92  False"
      ]
     },
     "execution_count": 22,
     "metadata": {},
     "output_type": "execute_result"
    }
   ],
   "source": [
    "cities.head(3)"
   ]
  },
  {
   "cell_type": "code",
   "execution_count": 2,
   "id": "ff245cb7",
   "metadata": {},
   "outputs": [],
   "source": [
    "# exercise 2\n",
    "# Importing libraries\n",
    "import pandas as pd"
   ]
  },
  {
   "cell_type": "code",
   "execution_count": 3,
   "id": "6e274cb4",
   "metadata": {},
   "outputs": [],
   "source": [
    "# given\n",
    "terms_1 = pd.Series(['this', 'is', 'a', 'sample'])\n",
    "count_1 = pd.Series([1,1,2,1])\n",
    "doc_1 = pd.DataFrame({ 'Term': terms_1, 'Count': count_1 })\n",
    "\n",
    "terms_2 = pd.Series(['this', 'is', 'another', 'sample'])\n",
    "count_2 = pd.Series([1,1,2,3])\n",
    "doc_2 = pd.DataFrame({ 'Term': terms_2, 'Count': count_2 })\n"
   ]
  },
  {
   "cell_type": "code",
   "execution_count": 4,
   "id": "43b638ed",
   "metadata": {},
   "outputs": [
    {
     "data": {
      "text/html": [
       "<div>\n",
       "<style scoped>\n",
       "    .dataframe tbody tr th:only-of-type {\n",
       "        vertical-align: middle;\n",
       "    }\n",
       "\n",
       "    .dataframe tbody tr th {\n",
       "        vertical-align: top;\n",
       "    }\n",
       "\n",
       "    .dataframe thead th {\n",
       "        text-align: right;\n",
       "    }\n",
       "</style>\n",
       "<table border=\"1\" class=\"dataframe\">\n",
       "  <thead>\n",
       "    <tr style=\"text-align: right;\">\n",
       "      <th></th>\n",
       "      <th>Term</th>\n",
       "      <th>Count</th>\n",
       "    </tr>\n",
       "  </thead>\n",
       "  <tbody>\n",
       "    <tr>\n",
       "      <th>0</th>\n",
       "      <td>this</td>\n",
       "      <td>1</td>\n",
       "    </tr>\n",
       "    <tr>\n",
       "      <th>1</th>\n",
       "      <td>is</td>\n",
       "      <td>1</td>\n",
       "    </tr>\n",
       "    <tr>\n",
       "      <th>2</th>\n",
       "      <td>a</td>\n",
       "      <td>2</td>\n",
       "    </tr>\n",
       "    <tr>\n",
       "      <th>3</th>\n",
       "      <td>sample</td>\n",
       "      <td>1</td>\n",
       "    </tr>\n",
       "  </tbody>\n",
       "</table>\n",
       "</div>"
      ],
      "text/plain": [
       "     Term  Count\n",
       "0    this      1\n",
       "1      is      1\n",
       "2       a      2\n",
       "3  sample      1"
      ]
     },
     "execution_count": 4,
     "metadata": {},
     "output_type": "execute_result"
    }
   ],
   "source": [
    "doc_1.head(4)"
   ]
  },
  {
   "cell_type": "code",
   "execution_count": 5,
   "id": "6411104a",
   "metadata": {},
   "outputs": [
    {
     "data": {
      "text/html": [
       "<div>\n",
       "<style scoped>\n",
       "    .dataframe tbody tr th:only-of-type {\n",
       "        vertical-align: middle;\n",
       "    }\n",
       "\n",
       "    .dataframe tbody tr th {\n",
       "        vertical-align: top;\n",
       "    }\n",
       "\n",
       "    .dataframe thead th {\n",
       "        text-align: right;\n",
       "    }\n",
       "</style>\n",
       "<table border=\"1\" class=\"dataframe\">\n",
       "  <thead>\n",
       "    <tr style=\"text-align: right;\">\n",
       "      <th></th>\n",
       "      <th>Term</th>\n",
       "      <th>Count</th>\n",
       "    </tr>\n",
       "  </thead>\n",
       "  <tbody>\n",
       "    <tr>\n",
       "      <th>0</th>\n",
       "      <td>this</td>\n",
       "      <td>1</td>\n",
       "    </tr>\n",
       "    <tr>\n",
       "      <th>1</th>\n",
       "      <td>is</td>\n",
       "      <td>1</td>\n",
       "    </tr>\n",
       "    <tr>\n",
       "      <th>2</th>\n",
       "      <td>another</td>\n",
       "      <td>2</td>\n",
       "    </tr>\n",
       "    <tr>\n",
       "      <th>3</th>\n",
       "      <td>sample</td>\n",
       "      <td>3</td>\n",
       "    </tr>\n",
       "  </tbody>\n",
       "</table>\n",
       "</div>"
      ],
      "text/plain": [
       "      Term  Count\n",
       "0     this      1\n",
       "1       is      1\n",
       "2  another      2\n",
       "3   sample      3"
      ]
     },
     "execution_count": 5,
     "metadata": {},
     "output_type": "execute_result"
    }
   ],
   "source": [
    "doc_2.head(4)"
   ]
  },
  {
   "cell_type": "code",
   "execution_count": null,
   "id": "0f26a87e",
   "metadata": {},
   "outputs": [],
   "source": [
    "# calculate tf-idf score for each word in document d1 and d2. \n",
    "# The function you try to design is tfidf(w,d) where w can be any word in the vocabulary and d is either d1 and d2."
   ]
  },
  {
   "cell_type": "code",
   "execution_count": 6,
   "id": "0087871b",
   "metadata": {},
   "outputs": [
    {
     "data": {
      "text/html": [
       "<div>\n",
       "<style scoped>\n",
       "    .dataframe tbody tr th:only-of-type {\n",
       "        vertical-align: middle;\n",
       "    }\n",
       "\n",
       "    .dataframe tbody tr th {\n",
       "        vertical-align: top;\n",
       "    }\n",
       "\n",
       "    .dataframe thead th {\n",
       "        text-align: right;\n",
       "    }\n",
       "</style>\n",
       "<table border=\"1\" class=\"dataframe\">\n",
       "  <thead>\n",
       "    <tr style=\"text-align: right;\">\n",
       "      <th></th>\n",
       "      <th>Term</th>\n",
       "      <th>Count</th>\n",
       "      <th>Term Frequency</th>\n",
       "    </tr>\n",
       "  </thead>\n",
       "  <tbody>\n",
       "    <tr>\n",
       "      <th>0</th>\n",
       "      <td>this</td>\n",
       "      <td>1</td>\n",
       "      <td>0.2</td>\n",
       "    </tr>\n",
       "    <tr>\n",
       "      <th>1</th>\n",
       "      <td>is</td>\n",
       "      <td>1</td>\n",
       "      <td>0.2</td>\n",
       "    </tr>\n",
       "    <tr>\n",
       "      <th>2</th>\n",
       "      <td>a</td>\n",
       "      <td>2</td>\n",
       "      <td>0.4</td>\n",
       "    </tr>\n",
       "    <tr>\n",
       "      <th>3</th>\n",
       "      <td>sample</td>\n",
       "      <td>1</td>\n",
       "      <td>0.2</td>\n",
       "    </tr>\n",
       "  </tbody>\n",
       "</table>\n",
       "</div>"
      ],
      "text/plain": [
       "     Term  Count  Term Frequency\n",
       "0    this      1             0.2\n",
       "1      is      1             0.2\n",
       "2       a      2             0.4\n",
       "3  sample      1             0.2"
      ]
     },
     "execution_count": 6,
     "metadata": {},
     "output_type": "execute_result"
    }
   ],
   "source": [
    "# Add a new column tf term freq\n",
    "doc_1['Term Frequency'] = doc_1['Count']/doc_1['Count'].sum()\n",
    "doc_1.head(4)"
   ]
  },
  {
   "cell_type": "code",
   "execution_count": 7,
   "id": "e3c3621a",
   "metadata": {},
   "outputs": [
    {
     "data": {
      "text/html": [
       "<div>\n",
       "<style scoped>\n",
       "    .dataframe tbody tr th:only-of-type {\n",
       "        vertical-align: middle;\n",
       "    }\n",
       "\n",
       "    .dataframe tbody tr th {\n",
       "        vertical-align: top;\n",
       "    }\n",
       "\n",
       "    .dataframe thead th {\n",
       "        text-align: right;\n",
       "    }\n",
       "</style>\n",
       "<table border=\"1\" class=\"dataframe\">\n",
       "  <thead>\n",
       "    <tr style=\"text-align: right;\">\n",
       "      <th></th>\n",
       "      <th>Term</th>\n",
       "      <th>Count</th>\n",
       "      <th>Term Frequency</th>\n",
       "    </tr>\n",
       "  </thead>\n",
       "  <tbody>\n",
       "    <tr>\n",
       "      <th>0</th>\n",
       "      <td>this</td>\n",
       "      <td>1</td>\n",
       "      <td>0.142857</td>\n",
       "    </tr>\n",
       "    <tr>\n",
       "      <th>1</th>\n",
       "      <td>is</td>\n",
       "      <td>1</td>\n",
       "      <td>0.142857</td>\n",
       "    </tr>\n",
       "    <tr>\n",
       "      <th>2</th>\n",
       "      <td>another</td>\n",
       "      <td>2</td>\n",
       "      <td>0.285714</td>\n",
       "    </tr>\n",
       "    <tr>\n",
       "      <th>3</th>\n",
       "      <td>sample</td>\n",
       "      <td>3</td>\n",
       "      <td>0.428571</td>\n",
       "    </tr>\n",
       "  </tbody>\n",
       "</table>\n",
       "</div>"
      ],
      "text/plain": [
       "      Term  Count  Term Frequency\n",
       "0     this      1        0.142857\n",
       "1       is      1        0.142857\n",
       "2  another      2        0.285714\n",
       "3   sample      3        0.428571"
      ]
     },
     "execution_count": 7,
     "metadata": {},
     "output_type": "execute_result"
    }
   ],
   "source": [
    "# Add a new column tf term freq\n",
    "doc_2['Term Frequency'] = doc_2['Count']/doc_2['Count'].sum()\n",
    "doc_2.head(4)"
   ]
  },
  {
   "cell_type": "code",
   "execution_count": 39,
   "id": "b6529344",
   "metadata": {},
   "outputs": [
    {
     "name": "stdout",
     "output_type": "stream",
     "text": [
      "0.14285714285714285\n"
     ]
    }
   ],
   "source": [
    "print(doc_2.loc[doc_2['Term'] == 'this', 'Term Frequency'].iloc[0] )"
   ]
  },
  {
   "cell_type": "code",
   "execution_count": 44,
   "id": "9f08144f",
   "metadata": {},
   "outputs": [
    {
     "name": "stdout",
     "output_type": "stream",
     "text": [
      "0.0\n"
     ]
    }
   ],
   "source": [
    "print( np.log2(2/2))"
   ]
  },
  {
   "cell_type": "code",
   "execution_count": 15,
   "id": "beb84314",
   "metadata": {},
   "outputs": [
    {
     "name": "stdout",
     "output_type": "stream",
     "text": [
      "True\n"
     ]
    }
   ],
   "source": [
    "print(doc_1['Term'].eq('this').any())"
   ]
  },
  {
   "cell_type": "code",
   "execution_count": 57,
   "id": "1e6d9838",
   "metadata": {},
   "outputs": [],
   "source": [
    "# write function tf-idf(w,d) = tf * log2 (2/ df of word)\n",
    "def tf_idf_score(w, d):\n",
    "    # check document frequency of word (how many times it appears in each doc)  \n",
    "    print(\"calculating tf-idf score for the word: '\", w, \"' in \", d) \n",
    "    df = 0\n",
    "    tf_idf = 0\n",
    "    in_doc_1 = False\n",
    "    in_doc_2 = False\n",
    "\n",
    "    if doc_1['Term'].eq(w).any():\n",
    "        in_doc_1 = True\n",
    "    if doc_2['Term'].eq(w).any():\n",
    "        in_doc_2 = True\n",
    "    \n",
    "    if in_doc_1 & in_doc_2:\n",
    "        print(\"word appears in both documents\") # not very helpful\n",
    "        df = 2\n",
    "    elif in_doc_1 | in_doc_2:\n",
    "        df = 1\n",
    "    else:\n",
    "        df = 0\n",
    "        print(\"word does not appear in either document\")\n",
    "        return 0\n",
    "    \n",
    "    # calculate score\n",
    "    if (d == 'd1') & in_doc_1:\n",
    "        tf_idf = doc_1.loc[doc_1['Term'] == w, 'Term Frequency'].iloc[0] * np.log2(2/df)\n",
    "    elif (d == 'd2') & in_doc_2:\n",
    "        tf_idf = doc_2.loc[doc_2['Term'] == w, 'Term Frequency'].iloc[0] * np.log2(2/df)\n",
    "    else:\n",
    "        print(\"word does not appear in this document\")\n",
    "        return 0\n",
    "    print(tf_idf)\n",
    "    return tf_idf"
   ]
  },
  {
   "cell_type": "code",
   "execution_count": 58,
   "id": "fca2c79e",
   "metadata": {},
   "outputs": [
    {
     "name": "stdout",
     "output_type": "stream",
     "text": [
      "calculating tf-idf score for the word: ' is ' in  d2\n",
      "word appears in both documents\n"
     ]
    },
    {
     "data": {
      "text/plain": [
       "0.0"
      ]
     },
     "execution_count": 58,
     "metadata": {},
     "output_type": "execute_result"
    }
   ],
   "source": [
    "tf_idf_score('is','d2')"
   ]
  },
  {
   "cell_type": "code",
   "execution_count": null,
   "id": "3a13913e",
   "metadata": {},
   "outputs": [],
   "source": []
  },
  {
   "cell_type": "markdown",
   "id": "a9414a18",
   "metadata": {
    "id": "8f734a86"
   },
   "source": [
    "## 7. Reference\n",
    "\n",
    "\n",
    "1. [Pandas user guide](https://pandas.pydata.org/docs/user_guide/index.html)\n",
    "2. [Pandas 1.x Cookbook](https://www.packtpub.com/product/pandas-1-x-cookbook-second-edition/9781839213106)\n",
    "3. [The Data Wrangling Workshop](https://www.packtpub.com/product/the-data-wrangling-workshop-second-edition/9781839215001) \n",
    "4. [Python for Data Analysis](https://www.oreilly.com/library/view/python-for-data/9781449323592/)\n",
    "5. [Data Analysis with Python: Zero to Pandas - Jovian YouTube Channel](https://www.youtube.com/watch?v=BaV4PRXYNIY&list=PLyMom0n-MBrpzC91Uo560S4VbsiLYtCwo)\n",
    "6. [Best practices with pandas - Data School YouTube Channel](https://www.youtube.com/watch?v=hl-TGI4550M&list=PL5-da3qGB5IBITZj_dYSFqnd_15JgqwA6)\n",
    "7. [Pandas Tutorials - Corey Schafer YouTube Channel](https://www.youtube.com/watch?v=ZyhVh-qRZPA&list=PL-osiE80TeTsWmV9i9c58mdDCSskIFdDS)\n",
    "8. [Pandas Crosstab Explained](https://pbpython.com/pandas-crosstab.html)"
   ]
  }
 ],
 "metadata": {
  "colab": {
   "collapsed_sections": [
    "q72dXwaog4h7",
    "68cb06b1",
    "2098e35f",
    "44ff83e8",
    "5UgQzwrITZk3",
    "6bxAq9hnUK4R",
    "2980dcd0",
    "QyO24xKLTEEm",
    "YC_ucd2fXzjD",
    "d9d6f71f",
    "4e3b208b",
    "CZnzwDXQg35f",
    "x0r-TXU244iu",
    "2c7fbc9c"
   ],
   "name": "artical-medium.ipynb",
   "provenance": []
  },
  "kernelspec": {
   "display_name": "Python 3 (ipykernel)",
   "language": "python",
   "name": "python3"
  },
  "language_info": {
   "codemirror_mode": {
    "name": "ipython",
    "version": 3
   },
   "file_extension": ".py",
   "mimetype": "text/x-python",
   "name": "python",
   "nbconvert_exporter": "python",
   "pygments_lexer": "ipython3",
   "version": "3.11.7"
  }
 },
 "nbformat": 4,
 "nbformat_minor": 5
}
