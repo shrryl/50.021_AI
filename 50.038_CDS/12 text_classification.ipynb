{
  "cells": [
    {
      "cell_type": "markdown",
      "metadata": {
        "id": "J9R13VwC6P7x"
      },
      "source": [
        "# Text classification from scratch"
      ]
    },
    {
      "cell_type": "markdown",
      "metadata": {
        "id": "j0lbRD2V6P7z"
      },
      "source": [
        "## Introduction\n",
        "\n",
        "This example shows how to do text classification starting from raw text (as\n",
        "a set of text files on disk). We demonstrate the workflow on the IMDB sentiment\n",
        "classification dataset (unprocessed version). We use the `TextVectorization` layer for\n",
        " word splitting & indexing."
      ]
    },
    {
      "cell_type": "markdown",
      "metadata": {
        "id": "f8cX1J7P6P7z"
      },
      "source": [
        "## Setup"
      ]
    },
    {
      "cell_type": "code",
      "execution_count": 1,
      "metadata": {
        "id": "wrfCGj5n6P7z"
      },
      "outputs": [],
      "source": [
        "import tensorflow as tf\n",
        "import numpy as np"
      ]
    },
    {
      "cell_type": "markdown",
      "metadata": {
        "id": "SwCZa6sJ6P70"
      },
      "source": [
        "## Load the data: IMDB movie review sentiment classification\n",
        "\n",
        "Let's download the data and inspect its structure."
      ]
    },
    {
      "cell_type": "code",
      "execution_count": 2,
      "metadata": {
        "colab": {
          "base_uri": "https://localhost:8080/"
        },
        "id": "X6CRY4146P70",
        "outputId": "8bd5ae48-93b2-4023-b064-9ed857092353"
      },
      "outputs": [
        {
          "output_type": "stream",
          "name": "stdout",
          "text": [
            "  % Total    % Received % Xferd  Average Speed   Time    Time     Time  Current\n",
            "                                 Dload  Upload   Total   Spent    Left  Speed\n",
            "100 80.2M  100 80.2M    0     0  16.4M      0  0:00:04  0:00:04 --:--:-- 18.6M\n"
          ]
        }
      ],
      "source": [
        "!curl -O https://ai.stanford.edu/~amaas/data/sentiment/aclImdb_v1.tar.gz\n",
        "!tar -xf aclImdb_v1.tar.gz"
      ]
    },
    {
      "cell_type": "markdown",
      "metadata": {
        "id": "sE0wCR4Q6P70"
      },
      "source": [
        "The `aclImdb` folder contains a `train` and `test` subfolder:"
      ]
    },
    {
      "cell_type": "code",
      "execution_count": 3,
      "metadata": {
        "colab": {
          "base_uri": "https://localhost:8080/"
        },
        "id": "6LSDwnk86P70",
        "outputId": "4b652f2e-299e-49bc-b405-0a58e892d69c"
      },
      "outputs": [
        {
          "output_type": "stream",
          "name": "stdout",
          "text": [
            "imdbEr.txt  imdb.vocab\tREADME\ttest  train\n"
          ]
        }
      ],
      "source": [
        "!ls aclImdb"
      ]
    },
    {
      "cell_type": "code",
      "execution_count": 4,
      "metadata": {
        "colab": {
          "base_uri": "https://localhost:8080/"
        },
        "id": "d-WvVmzo6P70",
        "outputId": "01988d98-e3ae-48b7-d0a5-d9e659d3fce3"
      },
      "outputs": [
        {
          "output_type": "stream",
          "name": "stdout",
          "text": [
            "labeledBow.feat  neg  pos  urls_neg.txt  urls_pos.txt\n"
          ]
        }
      ],
      "source": [
        "!ls aclImdb/test"
      ]
    },
    {
      "cell_type": "code",
      "execution_count": 5,
      "metadata": {
        "colab": {
          "base_uri": "https://localhost:8080/"
        },
        "id": "ZNYcCY2a6P71",
        "outputId": "4a875fc6-519f-4666-db5f-d9b1513cf185"
      },
      "outputs": [
        {
          "output_type": "stream",
          "name": "stdout",
          "text": [
            "labeledBow.feat  neg  pos  unsup  unsupBow.feat  urls_neg.txt  urls_pos.txt  urls_unsup.txt\n"
          ]
        }
      ],
      "source": [
        "!ls aclImdb/train"
      ]
    },
    {
      "cell_type": "markdown",
      "metadata": {
        "id": "h0yek-VV6P71"
      },
      "source": [
        "The `aclImdb/train/pos` and `aclImdb/train/neg` folders contain text files, each of\n",
        " which represents one review (either positive or negative):"
      ]
    },
    {
      "cell_type": "code",
      "execution_count": 6,
      "metadata": {
        "colab": {
          "base_uri": "https://localhost:8080/"
        },
        "id": "6iuGss736P71",
        "outputId": "112c50c1-bc94-4e20-dc4a-0be926274048"
      },
      "outputs": [
        {
          "output_type": "stream",
          "name": "stdout",
          "text": [
            "Being an Austrian myself this has been a straight knock in my face. Fortunately I don't live nowhere near the place where this movie takes place but unfortunately it portrays everything that the rest of Austria hates about Viennese people (or people close to that region). And it is very easy to read that this is exactly the directors intention: to let your head sink into your hands and say \"Oh my god, how can THAT be possible!\". No, not with me, the (in my opinion) totally exaggerated uncensored swinger club scene is not necessary, I watch porn, sure, but in this context I was rather disgusted than put in the right context.<br /><br />This movie tells a story about how misled people who suffer from lack of education or bad company try to survive and live in a world of redundancy and boring horizons. A girl who is treated like a whore by her super-jealous boyfriend (and still keeps coming back), a female teacher who discovers her masochism by putting the life of her super-cruel \"lover\" on the line, an old couple who has an almost mathematical daily cycle (she is the \"official replacement\" of his ex wife), a couple that has just divorced and has the ex husband suffer under the acts of his former wife obviously having a relationship with her masseuse and finally a crazy hitchhiker who asks her drivers the most unusual questions and stretches their nerves by just being super-annoying.<br /><br />After having seen it you feel almost nothing. You're not even shocked, sad, depressed or feel like doing anything... Maybe that's why I gave it 7 points, it made me react in a way I never reacted before. If that's good or bad is up to you!"
          ]
        }
      ],
      "source": [
        "!cat aclImdb/train/pos/6248_7.txt"
      ]
    },
    {
      "cell_type": "markdown",
      "metadata": {
        "id": "uDeN9Nd46P71"
      },
      "source": [
        "We are only interested in the `pos` and `neg` subfolders, so let's delete the rest:"
      ]
    },
    {
      "cell_type": "code",
      "execution_count": 7,
      "metadata": {
        "id": "A4m-Vrc_6P71"
      },
      "outputs": [],
      "source": [
        "!rm -r aclImdb/train/unsup"
      ]
    },
    {
      "cell_type": "markdown",
      "metadata": {
        "id": "J_vyc64_6P71"
      },
      "source": [
        "You can use the utility `tf.keras.utils.text_dataset_from_directory` to\n",
        "generate a labeled `tf.data.Dataset` object from a set of text files on disk filed\n",
        " into class-specific folders.\n",
        "\n",
        "Let's use it to generate the training, validation, and test datasets. The validation\n",
        "and training datasets are generated from two subsets of the `train` directory, with 20%\n",
        "of samples going to the validation dataset and 80% going to the training dataset.\n",
        "\n",
        "Having a validation dataset in addition to the test dataset is useful for tuning\n",
        "hyperparameters, such as the model architecture, for which the test dataset should not\n",
        "be used.\n",
        "\n",
        "Before putting the model out into the real world however, it should be retrained using all\n",
        "available training data (without creating a validation dataset), so its performance is maximized.\n",
        "\n",
        "When using the `validation_split` & `subset` arguments, make sure to either specify a\n",
        "random seed, or to pass `shuffle=False`, so that the validation & training splits you\n",
        "get have no overlap."
      ]
    },
    {
      "cell_type": "code",
      "execution_count": 8,
      "metadata": {
        "colab": {
          "base_uri": "https://localhost:8080/"
        },
        "id": "zBuCcw5V6P71",
        "outputId": "2e752173-5f57-4961-bf9f-b27d17878e21"
      },
      "outputs": [
        {
          "output_type": "stream",
          "name": "stdout",
          "text": [
            "Found 25000 files belonging to 2 classes.\n",
            "Using 20000 files for training.\n",
            "Found 25000 files belonging to 2 classes.\n",
            "Using 5000 files for validation.\n",
            "Found 25000 files belonging to 2 classes.\n",
            "Number of batches in raw_train_ds: 625\n",
            "Number of batches in raw_val_ds: 157\n",
            "Number of batches in raw_test_ds: 782\n"
          ]
        }
      ],
      "source": [
        "batch_size = 32\n",
        "raw_train_ds = tf.keras.utils.text_dataset_from_directory(\n",
        "    \"aclImdb/train\",\n",
        "    batch_size=batch_size,\n",
        "    validation_split=0.2,\n",
        "    subset=\"training\",\n",
        "    seed=1337,\n",
        ")\n",
        "raw_val_ds = tf.keras.utils.text_dataset_from_directory(\n",
        "    \"aclImdb/train\",\n",
        "    batch_size=batch_size,\n",
        "    validation_split=0.2,\n",
        "    subset=\"validation\",\n",
        "    seed=1337,\n",
        ")\n",
        "raw_test_ds = tf.keras.utils.text_dataset_from_directory(\n",
        "    \"aclImdb/test\", batch_size=batch_size\n",
        ")\n",
        "\n",
        "print(f\"Number of batches in raw_train_ds: {raw_train_ds.cardinality()}\")\n",
        "print(f\"Number of batches in raw_val_ds: {raw_val_ds.cardinality()}\")\n",
        "print(f\"Number of batches in raw_test_ds: {raw_test_ds.cardinality()}\")"
      ]
    },
    {
      "cell_type": "markdown",
      "metadata": {
        "id": "-rz3JJBy6P72"
      },
      "source": [
        "Let's preview a few samples:"
      ]
    },
    {
      "cell_type": "code",
      "execution_count": 9,
      "metadata": {
        "colab": {
          "base_uri": "https://localhost:8080/"
        },
        "id": "jkZbJBom6P72",
        "outputId": "a7d8d105-2e66-48e5-a2c0-e77d16c87435"
      },
      "outputs": [
        {
          "output_type": "stream",
          "name": "stdout",
          "text": [
            "b'I\\'ve seen tons of science fiction from the 70s; some horrendously bad, and others thought provoking and truly frightening. Soylent Green fits into the latter category. Yes, at times it\\'s a little campy, and yes, the furniture is good for a giggle or two, but some of the film seems awfully prescient. Here we have a film, 9 years before Blade Runner, that dares to imagine the future as somthing dark, scary, and nihilistic. Both Charlton Heston and Edward G. Robinson fare far better in this than The Ten Commandments, and Robinson\\'s assisted-suicide scene is creepily prescient of Kevorkian and his ilk. Some of the attitudes are dated (can you imagine a filmmaker getting away with the \"women as furniture\" concept in our oh-so-politically-correct-90s?), but it\\'s rare to find a film from the Me Decade that actually can make you think. This is one I\\'d love to see on the big screen, because even in a widescreen presentation, I don\\'t think the overall scope of this film would receive its due. Check it out.'\n",
            "1\n",
            "b'First than anything, I\\'m not going to praise I\\xc3\\xb1arritu\\'s short film, even I\\'m Mexican and proud of his success in mainstream Hollywood.<br /><br />In another hand, I see most of the reviews focuses on their favorite (and not so) short films; but we are forgetting that there is a subtle bottom line that circles the whole compilation, and maybe it will not be so pleasant for American people. (Even if that was not the main purpose of the producers) <br /><br />What i\\'m talking about is that most of the short films does not show the suffering that WASP people went through because the terrorist attack on September 11th, but the suffering of the Other people.<br /><br />Do you need proofs about what i\\'m saying? Look, in the Bosnia short film, the message is: \"You cry because of the people who died in the Towers, but we (The Others = East Europeans) are crying long ago for the crimes committed against our women and nobody pay attention to us like the whole world has done to you\".<br /><br />Even though the Burkina Fasso story is more in comedy, there is a the same thought: \"You are angry because Osama Bin Laden punched you in an evil way, but we (The Others = Africans) should be more angry, because our people is dying of hunger, poverty and AIDS long time ago, and nobody pay attention to us like the whole world has done to you\".<br /><br />Look now at the Sean Penn short: The fall of the Twin Towers makes happy to a lonely (and alienated) man. So the message is that the Power and the Greed (symbolized by the Towers) must fall for letting the people see the sun rise and the flowers blossom? It is remarkable that this terrible bottom line has been proposed by an American. There is so much irony in this short film that it is close to be subversive.<br /><br />Well, the Ken Loach (very know because his anti-capitalism ideology) is much more clearly and shameless in going straight to the point: \"You are angry because your country has been attacked by evil forces, but we (The Others = Latin Americans) suffered at a similar date something worst, and nobody remembers our grief as the whole world has done to you\".<br /><br />It is like if the creative of this project wanted to say to Americans: \"You see now, America? You are not the only that have become victim of the world violence, you are not alone in your pain and by the way, we (the Others = the Non Americans) have been suffering a lot more than you from long time ago; so, we are in solidarity with you in your pain... and by the way, we are sorry because you have had some taste of your own medicine\" Only the Mexican and the French short films showed some compassion and sympathy for American people; the others are like a slap on the face for the American State, that is not equal to American People.'\n",
            "1\n",
            "b'Blood Castle (aka Scream of the Demon Lover, Altar of Blood, Ivanna--the best, but least exploitation cinema-sounding title, and so on) is a very traditional Gothic Romance film. That means that it has big, creepy castles, a headstrong young woman, a mysterious older man, hints of horror and the supernatural, and romance elements in the contemporary sense of that genre term. It also means that it is very deliberately paced, and that the film will work best for horror mavens who are big fans of understatement. If you love films like Robert Wise\\'s The Haunting (1963), but you also have a taste for late 1960s/early 1970s Spanish and Italian horror, you may love Blood Castle, as well.<br /><br />Baron Janos Dalmar (Carlos Quiney) lives in a large castle on the outskirts of a traditional, unspecified European village. The locals fear him because legend has it that whenever he beds a woman, she soon after ends up dead--the consensus is that he sets his ferocious dogs on them. This is quite a problem because the Baron has a very healthy appetite for women. At the beginning of the film, yet another woman has turned up dead and mutilated.<br /><br />Meanwhile, Dr. Ivanna Rakowsky (Erna Sch\\xc3\\xbcrer) has appeared in the center of the village, asking to be taken to Baron Dalmar\\'s castle. She\\'s an out-of-towner who has been hired by the Baron for her expertise in chemistry. Of course, no one wants to go near the castle. Finally, Ivanna finds a shady individual (who becomes even shadier) to take her. Once there, an odd woman who lives in the castle, Olga (Cristiana Galloni), rejects Ivanna and says that she shouldn\\'t be there since she\\'s a woman. Baron Dalmar vacillates over whether she should stay. She ends up staying, but somewhat reluctantly. The Baron has hired her to try to reverse the effects of severe burns, which the Baron\\'s brother, Igor, is suffering from.<br /><br />Unfortunately, the Baron\\'s brother appears to be just a lump of decomposing flesh in a vat of bizarre, blackish liquid. And furthermore, Ivanna is having bizarre, hallucinatory dreams. Just what is going on at the castle? Is the Baron responsible for the crimes? Is he insane? <br /><br />I wanted to like Blood Castle more than I did. As I mentioned, the film is very deliberate in its pacing, and most of it is very understated. I can go either way on material like that. I don\\'t care for The Haunting (yes, I\\'m in a very small minority there), but I\\'m a big fan of 1960s and 1970s European horror. One of my favorite directors is Mario Bava. I also love Dario Argento\\'s work from that period. But occasionally, Blood Castle moved a bit too slow for me at times. There are large chunks that amount to scenes of not very exciting talking alternated with scenes of Ivanna slowly walking the corridors of the castle.<br /><br />But the atmosphere of the film is decent. Director Jos\\xc3\\xa9 Luis Merino managed more than passable sets and locations, and they\\'re shot fairly well by Emanuele Di Cola. However, Blood Castle feels relatively low budget, and this is a Roger Corman-produced film, after all (which usually means a low-budget, though often surprisingly high quality \"quickie\"). So while there is a hint of the lushness of Bava\\'s colors and complex set decoration, everything is much more minimalist. Of course, it doesn\\'t help that the Retromedia print I watched looks like a 30-year old photograph that\\'s been left out in the sun too long. It appears \"washed out\", with compromised contrast.<br /><br />Still, Merino and Di Cola occasionally set up fantastic visuals. For example, a scene of Ivanna walking in a darkened hallway that\\'s shot from an exaggerated angle, and where an important plot element is revealed through shadows on a wall only. There are also a couple Ingmar Bergmanesque shots, where actors are exquisitely blocked to imply complex relationships, besides just being visually attractive and pulling your eye deep into the frame.<br /><br />The performances are fairly good, and the women--especially Sch\\xc3\\xbcrer--are very attractive. Merino exploits this fact by incorporating a decent amount of nudity. Sch\\xc3\\xbcrer went on to do a number of films that were as much soft corn porn as they were other genres, with English titles such as Sex Life in a Woman\\'s Prison (1974), Naked and Lustful (1974), Strip Nude for Your Killer (1975) and Erotic Exploits of a Sexy Seducer (1977). Blood Castle is much tamer, but in addition to the nudity, there are still mild scenes suggesting rape and bondage, and of course the scenes mixing sex and death.<br /><br />The primary attraction here, though, is probably the story, which is much a slow-burning romance as anything else. The horror elements, the mystery elements, and a somewhat unexpected twist near the end are bonuses, but in the end, Blood Castle is a love story, about a couple overcoming various difficulties and antagonisms (often with physical threats or harms) to be together.'\n",
            "1\n",
            "b\"I was talked into watching this movie by a friend who blubbered on about what a cute story this was.<br /><br />Yuck.<br /><br />I want my two hours back, as I could have done SO many more productive things with my time...like, for instance, twiddling my thumbs. I see nothing redeeming about this film at all, save for the eye-candy aspect of it...<br /><br />3/10 (and that's being generous)\"\n",
            "0\n",
            "b\"Michelle Rodriguez is the defining actress who could be the charging force for other actresses to look out for. She has the audacity to place herself in a rarely seen tough-girl role very early in her career (and pull it off), which is a feat that should be recognized. Although her later films pigeonhole her to that same role, this film was made for her ruggedness.<br /><br />Her character is a romanticized student/fighter/lover, struggling to overcome her disenchanted existence in the projects, which is a little overdone in film...but not by a girl. That aspect of this film isn't very original, but the story goes in depth when the heated relationships that this girl has to deal with come to a boil and her primal rage takes over.<br /><br />I haven't seen an actress take such an aggressive stance in movie-making yet, and I'm glad that she's getting that original twist out there in Hollywood. This film got a 7 from me because of the average story of ghetto youth, but it has such a great actress portraying a rarely-seen role in a minimal budget movie. Great work.\"\n",
            "1\n"
          ]
        }
      ],
      "source": [
        "# It's important to take a look at your raw data to ensure your normalization\n",
        "# and tokenization will work as expected. We can do that by taking a few\n",
        "# examples from the training set and looking at them.\n",
        "# This is one of the places where eager execution shines:\n",
        "# we can just evaluate these tensors using .numpy()\n",
        "# instead of needing to evaluate them in a Session/Graph context.\n",
        "for text_batch, label_batch in raw_train_ds.take(1):\n",
        "    for i in range(5):\n",
        "        print(text_batch.numpy()[i])\n",
        "        print(label_batch.numpy()[i])"
      ]
    },
    {
      "cell_type": "markdown",
      "metadata": {
        "id": "pYWYhQ__6P72"
      },
      "source": [
        "## Prepare the data\n",
        "\n",
        "In particular, we remove `<br />` tags."
      ]
    },
    {
      "cell_type": "code",
      "execution_count": 10,
      "metadata": {
        "id": "0YJmfqw86P72"
      },
      "outputs": [],
      "source": [
        "from tensorflow.keras.layers import TextVectorization\n",
        "import string\n",
        "import re\n",
        "\n",
        "# Having looked at our data above, we see that the raw text contains HTML break\n",
        "# tags of the form '<br />'. These tags will not be removed by the default\n",
        "# standardizer (which doesn't strip HTML). Because of this, we will need to\n",
        "# create a custom standardization function.\n",
        "def custom_standardization(input_data):\n",
        "    lowercase = tf.strings.lower(input_data)\n",
        "    stripped_html = tf.strings.regex_replace(lowercase, \"<br />\", \" \")\n",
        "    return tf.strings.regex_replace(\n",
        "        stripped_html, f\"[{re.escape(string.punctuation)}]\", \"\"\n",
        "    )\n",
        "\n",
        "\n",
        "# Model constants.\n",
        "max_features = 20000\n",
        "embedding_dim = 128\n",
        "sequence_length = 500\n",
        "\n",
        "# Now that we have our custom standardization, we can instantiate our text\n",
        "# vectorization layer. We are using this layer to normalize, split, and map\n",
        "# strings to integers, so we set our 'output_mode' to 'int'.\n",
        "# Note that we're using the default split function,\n",
        "# and the custom standardization defined above.\n",
        "# We also set an explicit maximum sequence length, since the CNNs later in our\n",
        "# model won't support ragged sequences.\n",
        "vectorize_layer = TextVectorization(\n",
        "    standardize=custom_standardization,\n",
        "    max_tokens=max_features,\n",
        "    output_mode=\"int\",\n",
        "    output_sequence_length=sequence_length,\n",
        ")\n",
        "\n",
        "# Now that the vocab layer has been created, call `adapt` on a text-only\n",
        "# dataset to create the vocabulary. You don't have to batch, but for very large\n",
        "# datasets this means you're not keeping spare copies of the dataset in memory.\n",
        "\n",
        "# Let's make a text-only dataset (no labels):\n",
        "text_ds = raw_train_ds.map(lambda x, y: x)\n",
        "# Let's call `adapt`:\n",
        "vectorize_layer.adapt(text_ds)"
      ]
    },
    {
      "cell_type": "markdown",
      "metadata": {
        "id": "VGfiO2Kl6P72"
      },
      "source": [
        "## Two options to vectorize the data\n",
        "\n",
        "There are 2 ways we can use our text vectorization layer:\n",
        "\n",
        "**Option 1: Make it part of the model**, so as to obtain a model that processes raw\n",
        " strings, like this:"
      ]
    },
    {
      "cell_type": "markdown",
      "metadata": {
        "id": "ykoUfV6B6P72"
      },
      "source": [
        "```python\n",
        "text_input = tf.keras.Input(shape=(1,), dtype=tf.string, name='text')\n",
        "x = vectorize_layer(text_input)\n",
        "x = layers.Embedding(max_features + 1, embedding_dim)(x)\n",
        "...\n",
        "```\n",
        "\n",
        "**Option 2: Apply it to the text dataset** to obtain a dataset of word indices, then\n",
        " feed it into a model that expects integer sequences as inputs.\n",
        "\n",
        "An important difference between the two is that option 2 enables you to do\n",
        "**asynchronous CPU processing and buffering** of your data when training on GPU.\n",
        "So if you're training the model on GPU, you probably want to go with this option to get\n",
        " the best performance. This is what we will do below.\n",
        "\n",
        "If we were to export our model to production, we'd ship a model that accepts raw\n",
        "strings as input, like in the code snippet for option 1 above. This can be done after\n",
        " training. We do this in the last section.\n"
      ]
    },
    {
      "cell_type": "code",
      "execution_count": 11,
      "metadata": {
        "id": "E_nPlgKK6P73"
      },
      "outputs": [],
      "source": [
        "\n",
        "def vectorize_text(text, label):\n",
        "    text = tf.expand_dims(text, -1)\n",
        "    return vectorize_layer(text), label\n",
        "\n",
        "\n",
        "# Vectorize the data.\n",
        "train_ds = raw_train_ds.map(vectorize_text)\n",
        "val_ds = raw_val_ds.map(vectorize_text)\n",
        "test_ds = raw_test_ds.map(vectorize_text)\n",
        "\n",
        "# Do async prefetching / buffering of the data for best performance on GPU.\n",
        "train_ds = train_ds.cache().prefetch(buffer_size=10)\n",
        "val_ds = val_ds.cache().prefetch(buffer_size=10)\n",
        "test_ds = test_ds.cache().prefetch(buffer_size=10)"
      ]
    },
    {
      "cell_type": "markdown",
      "metadata": {
        "id": "TANPEa_36P73"
      },
      "source": [
        "## Build a model\n",
        "\n",
        "We choose a simple 1D convnet starting with an `Embedding` layer."
      ]
    },
    {
      "cell_type": "code",
      "execution_count": 12,
      "metadata": {
        "id": "suK_sDlA6P73",
        "colab": {
          "base_uri": "https://localhost:8080/"
        },
        "outputId": "432c7e2f-8bec-4632-c6d6-58981790d145"
      },
      "outputs": [
        {
          "output_type": "stream",
          "name": "stdout",
          "text": [
            "Model: \"model\"\n",
            "_________________________________________________________________\n",
            " Layer (type)                Output Shape              Param #   \n",
            "=================================================================\n",
            " input_1 (InputLayer)        [(None, None)]            0         \n",
            "                                                                 \n",
            " embedding (Embedding)       (None, None, 128)         2560000   \n",
            "                                                                 \n",
            " dropout (Dropout)           (None, None, 128)         0         \n",
            "                                                                 \n",
            " conv1d (Conv1D)             (None, None, 128)         114816    \n",
            "                                                                 \n",
            " conv1d_1 (Conv1D)           (None, None, 128)         114816    \n",
            "                                                                 \n",
            " global_max_pooling1d (Glob  (None, 128)               0         \n",
            " alMaxPooling1D)                                                 \n",
            "                                                                 \n",
            " dense (Dense)               (None, 128)               16512     \n",
            "                                                                 \n",
            " dropout_1 (Dropout)         (None, 128)               0         \n",
            "                                                                 \n",
            " predictions (Dense)         (None, 1)                 129       \n",
            "                                                                 \n",
            "=================================================================\n",
            "Total params: 2806273 (10.71 MB)\n",
            "Trainable params: 2806273 (10.71 MB)\n",
            "Non-trainable params: 0 (0.00 Byte)\n",
            "_________________________________________________________________\n"
          ]
        }
      ],
      "source": [
        "from tensorflow.keras import layers\n",
        "\n",
        "# A integer input for vocab indices.\n",
        "inputs = tf.keras.Input(shape=(None,), dtype=\"int64\")\n",
        "\n",
        "# Next, we add a layer to map those vocab indices into a space of dimensionality\n",
        "# 'embedding_dim'.\n",
        "x = layers.Embedding(max_features, embedding_dim)(inputs)\n",
        "x = layers.Dropout(0.5)(x)\n",
        "\n",
        "# Conv1D + global max pooling\n",
        "x = layers.Conv1D(128, 7, padding=\"valid\", activation=\"relu\", strides=3)(x)\n",
        "cnn_output = layers.Conv1D(128, 7, padding=\"valid\", activation=\"relu\", strides=3)(x)\n",
        "\n",
        "# Question 1: Feed cnn_output to the attention layer by calling tf.keras.layers.Attention()\n",
        "\n",
        "\n",
        "# Question 2: Add the output of the last CNN, `cnn_output' to the output of attention. This layer is called residual connection.\n",
        "\n",
        "\n",
        "output_layer = layers.GlobalMaxPooling1D()(cnn_output)\n",
        "\n",
        "# We add a vanilla hidden layer:\n",
        "final_output = layers.Dense(128, activation=\"relu\")(output_layer)\n",
        "final_output = layers.Dropout(0.5)(final_output)\n",
        "\n",
        "# We project onto a single unit output layer, and squash it with a sigmoid:\n",
        "predictions = layers.Dense(1, activation=\"sigmoid\", name=\"predictions\")(final_output)\n",
        "\n",
        "model = tf.keras.Model(inputs, predictions)\n",
        "\n",
        "# Compile the model with binary crossentropy loss and an adam optimizer.\n",
        "model.compile(loss=\"binary_crossentropy\", optimizer=\"adam\", metrics=[\"accuracy\"])\n",
        "\n",
        "model.summary()"
      ]
    },
    {
      "cell_type": "markdown",
      "metadata": {
        "id": "VUZJkDY26P73"
      },
      "source": [
        "## Train the model"
      ]
    },
    {
      "cell_type": "code",
      "execution_count": 13,
      "metadata": {
        "colab": {
          "base_uri": "https://localhost:8080/"
        },
        "id": "LZEHwBSl6P74",
        "outputId": "95102cbf-3cba-4c62-d2d1-1402349ea716"
      },
      "outputs": [
        {
          "output_type": "stream",
          "name": "stdout",
          "text": [
            "Epoch 1/3\n",
            "625/625 [==============================] - 52s 75ms/step - loss: 0.4953 - accuracy: 0.7169 - val_loss: 0.3104 - val_accuracy: 0.8696\n",
            "Epoch 2/3\n",
            "625/625 [==============================] - 4s 7ms/step - loss: 0.2228 - accuracy: 0.9140 - val_loss: 0.3118 - val_accuracy: 0.8766\n",
            "Epoch 3/3\n",
            "625/625 [==============================] - 4s 7ms/step - loss: 0.1087 - accuracy: 0.9621 - val_loss: 0.5735 - val_accuracy: 0.8402\n"
          ]
        },
        {
          "output_type": "execute_result",
          "data": {
            "text/plain": [
              "<keras.src.callbacks.History at 0x7edc20076620>"
            ]
          },
          "metadata": {},
          "execution_count": 13
        }
      ],
      "source": [
        "epochs = 3\n",
        "\n",
        "# Fit the model using the train and test datasets.\n",
        "model.fit(train_ds, validation_data=val_ds, epochs=epochs)"
      ]
    },
    {
      "cell_type": "markdown",
      "metadata": {
        "id": "dn6f2-Nd6P74"
      },
      "source": [
        "## Evaluate the model on the test set"
      ]
    },
    {
      "cell_type": "code",
      "execution_count": 14,
      "metadata": {
        "colab": {
          "base_uri": "https://localhost:8080/"
        },
        "id": "E4FRY0iQ6P74",
        "outputId": "3655bff5-161d-49bf-e6bb-d3bc90f6ea7a"
      },
      "outputs": [
        {
          "output_type": "stream",
          "name": "stdout",
          "text": [
            "782/782 [==============================] - 3s 4ms/step - loss: 0.6204 - accuracy: 0.8286\n"
          ]
        },
        {
          "output_type": "execute_result",
          "data": {
            "text/plain": [
              "[0.6203978657722473, 0.8285599946975708]"
            ]
          },
          "metadata": {},
          "execution_count": 14
        }
      ],
      "source": [
        "model.evaluate(test_ds)"
      ]
    },
    {
      "cell_type": "markdown",
      "source": [
        "Question 1: Create a new CNN+Attention model by using Luong Attention https://keras.io/api/layers/attention_layers/attention/ and apply it after the convolution operation. Compute the final results of CNN+Attention model by calling model.evaluate(raw_test_ds). Use same values for both query and key. In other words, you are doing self attention.\n",
        "\n",
        "Inputs are query tensor of shape [batch_size, Tq, dim], value tensor of shape [batch_size, Tv, dim] and key tensor of shape [batch_size, Tv, dim]. Inside Keras's attention layer, the calculation follows the steps:\n",
        "\n",
        "1. Calculate scores with shape [batch_size, Tq, Tv] as a query-key dot product: scores = tf.matmul(query, key, transpose_b=True).\n",
        "2. Use scores to calculate a distribution with shape [batch_size, Tq, Tv]: distribution = tf.nn.softmax(scores).\n",
        "3. Use distribution to create a linear combination of value with shape [batch_size, Tq, dim]: return tf.matmul(distribution, value).\n",
        "4. Use output of step 3 in the subsequent layers in your model.\n",
        "\n",
        "Question 2: Add the original output from the CNN to the output of attention layer and feed the result to the next layers.\n",
        "\n",
        "![Screenshot 2023-04-11 at 6.49.38 PM.png](data:image/png;base64,iVBORw0KGgoAAAANSUhEUgAABcoAAAGOCAYAAACnjDAkAAAMPmlDQ1BJQ0MgUHJvZmlsZQAASImVVwdYU8kWnluSkEBoAQSkhN4EkRpASggt9N5EJSQBQokxEFTs6KKCaxcL2NBVEQUrzYIidhbF3hcLKsq6WLArb1JA133le+f75t7//nPmP2fOnVsGALXjHJEoD1UHIF9YKI4N9qcnp6TSSU8BAoyAMnAEdA63QMSMjg4H0IbOf7d316E3tCv2Uq1/9v9X0+DxC7gAINEQZ/AKuPkQHwQAr+KKxIUAEKW82ZRCkRTDBrTEMEGIF0pxlhxXSXGGHO+V+cTHsiBuB0BJhcMRZwGgegny9CJuFtRQ7YfYUcgTCAFQo0Psk58/iQdxOsTW0EcEsVSfkfGDTtbfNDOGNTmcrGEsn4vMlAIEBaI8zrT/sxz/2/LzJEMxLGFTyRaHxErnDOt2M3dSmBSrQNwnzIiMglgT4g8CnswfYpSSLQlJkPujBtwCFqwZ0IHYkccJCIPYAOIgYV5kuILPyBQEsSGGKwSdKihkx0OsC/FCfkFgnMJns3hSrCIW2pApZjEV/FmOWBZXGuu+JDeBqdB/nc1nK/Qx1eLs+CSIKRCbFwkSIyFWhdihIDcuTOEztjibFTnkI5bESvM3hziWLwz2l+tjRZnioFiFf1l+wdB8sc3ZAnakAu8vzI4PkdcHa+dyZPnDuWCX+EJmwpAOvyA5fGguPH5AoHzu2DO+MCFOofNBVOgfKx+LU0R50Qp/3JSfFyzlTSF2KSiKU4zFEwvhgpTr45miwuh4eZ54cQ4nNFqeD74MhAMWCAB0IIEtA0wCOUDQ2dfYB6/kPUGAA8QgC/CBvYIZGpEk6xHCYxwoBn9CxAcFw+P8Zb18UAT5r8Os/GgPMmW9RbIRueAJxPkgDOTBa4lslHA4WiJ4DBnBP6JzYOPCfPNgk/b/e36I/c4wIROuYCRDEelqQ57EQGIAMYQYRLTB9XEf3AsPh0c/2JxwBu4xNI/v/oQnhC7CQ8I1Qjfh1kRBifinLCNAN9QPUtQi48da4JZQ0xX3x72hOlTGdXB9YI+7wDhM3BdGdoUsS5G3tCr0n7T/NoMf7obCj+xIRskjyH5k659Hqtqqug6rSGv9Y33kuWYM15s13PNzfNYP1efBc9jPnthC7AB2BjuBncOOYI2AjrViTVgHdlSKh1fXY9nqGooWK8snF+oI/hFv6M5KK1ngWOvY6/hF3lfInyp9RwPWJNE0sSAru5DOhF8EPp0t5DqMojs5OjkDIP2+yF9fb2Jk3w1Ep+M7N+8PALxbBwcHD3/nQlsB2OcOH//m75w1A346lAE428yViIvkHC49EOBbQg0+aXrw+2UGrOF8nIAb8AJ+IBCEgigQD1LABJh9NlznYjAFzABzQSkoB8vAarAebAJbwU6wB+wHjeAIOAFOgwvgErgG7sDV0wNegH7wDnxGEISEUBEaoocYIxaIHeKEMBAfJBAJR2KRFCQdyUKEiASZgcxDypEVyHpkC1KD7EOakRPIOaQLuYU8QHqR18gnFENVUC3UELVER6MMlImGofHoeDQLnYwWo/PRJehatBrdjTagJ9AL6DW0G32BDmAAU8Z0MBPMHmNgLCwKS8UyMTE2CyvDKrBqrA5rgff5CtaN9WEfcSJOw+m4PVzBIXgCzsUn47Pwxfh6fCfegLfjV/AHeD/+jUAlGBDsCJ4ENiGZkEWYQiglVBC2Ew4RTsFnqYfwjkgk6hCtiO7wWUwh5hCnExcTNxDriceJXcRHxAESiaRHsiN5k6JIHFIhqZS0jrSb1Eq6TOohfVBSVjJWclIKUkpVEiqVKFUo7VI6pnRZ6anSZ7I62YLsSY4i88jTyEvJ28gt5IvkHvJnigbFiuJNiafkUOZS1lLqKKcodylvlJWVTZU9lGOUBcpzlNcq71U+q/xA+aOKpoqtCkslTUWiskRlh8pxlVsqb6hUqiXVj5pKLaQuodZQT1LvUz+o0lQdVNmqPNXZqpWqDaqXVV+qkdUs1JhqE9SK1SrUDqhdVOtTJ6tbqrPUOeqz1CvVm9VvqA9o0DTGaERp5Gss1tilcU7jmSZJ01IzUJOnOV9zq+ZJzUc0jGZGY9G4tHm0bbRTtB4topaVFlsrR6tca49Wp1a/tqa2i3ai9lTtSu2j2t06mI6lDlsnT2epzn6d6zqfRhiOYI7gj1g0om7E5RHvdUfq+unydct063Wv6X7So+sF6uXqLddr1Lunj+vb6sfoT9HfqH9Kv2+k1kivkdyRZSP3j7xtgBrYGsQaTDfYatBhMGBoZBhsKDJcZ3jSsM9Ix8jPKMdoldExo15jmrGPscB4lXGr8XO6Np1Jz6OvpbfT+00MTEJMJCZbTDpNPptamSaYlpjWm94zo5gxzDLNVpm1mfWbG5tHmM8wrzW/bUG2YFhkW6yxOGPx3tLKMslygWWj5TMrXSu2VbFVrdVda6q1r/Vk62rrqzZEG4ZNrs0Gm0u2qK2rbbZtpe1FO9TOzU5gt8GuaxRhlMco4ajqUTfsVeyZ9kX2tfYPHHQcwh1KHBodXo42H506evnoM6O/Obo65jluc7wzRnNM6JiSMS1jXjvZOnGdKp2uOlOdg5xnOzc5v3Kxc+G7bHS56UpzjXBd4Nrm+tXN3U3sVufW627unu5e5X6DocWIZixmnPUgePh7zPY44vHR082z0HO/519e9l65Xru8no21Gssfu23sI29Tb473Fu9uH7pPus9mn25fE1+Ob7XvQz8zP57fdr+nTBtmDnM386W/o7/Y/5D/e5YnaybreAAWEBxQFtAZqBmYELg+8H6QaVBWUG1Qf7Br8PTg4yGEkLCQ5SE32IZsLruG3R/qHjoztD1MJSwubH3Yw3DbcHF4SwQaERqxMuJupEWkMLIxCkSxo1ZG3Yu2ip4cfTiGGBMdUxnzJHZM7IzYM3G0uIlxu+LexfvHL42/k2CdIEloS1RLTEusSXyfFJC0Iqk7eXTyzOQLKfopgpSmVFJqYur21IFxgeNWj+tJc00rTbs+3mr81PHnJuhPyJtwdKLaRM7EA+mE9KT0XelfOFGcas5ABjujKqOfy+Ku4b7g+fFW8Xr53vwV/KeZ3pkrMp9leWetzOrN9s2uyO4TsATrBa9yQnI25bzPjcrdkTuYl5RXn6+Un57fLNQU5grbJxlNmjqpS2QnKhV1T/acvHpyvzhMvL0AKRhf0FSoBX/kOyTWkl8kD4p8iiqLPkxJnHJgqsZU4dSOabbTFk17WhxU/Nt0fDp3etsMkxlzZzyYyZy5ZRYyK2NW22yz2fNn98wJnrNzLmVu7tzfSxxLVpS8nZc0r2W+4fw58x/9EvxLbalqqbj0xgKvBZsW4gsFCzsXOS9at+hbGa/sfLljeUX5l8Xcxed/HfPr2l8Hl2Qu6VzqtnTjMuIy4bLry32X71yhsaJ4xaOVESsbVtFXla16u3ri6nMVLhWb1lDWSNZ0rw1f27TOfN2ydV/WZ6+/VulfWV9lULWo6v0G3obLG/021m0y3FS+6dNmweabW4K3NFRbVldsJW4t2vpkW+K2M78xfqvZrr+9fPvXHcId3Ttjd7bXuNfU7DLYtbQWrZXU9u5O231pT8Cepjr7ui31OvXle8Feyd7n+9L3Xd8ftr/tAONA3UGLg1WHaIfKGpCGaQ39jdmN3U0pTV3Noc1tLV4thw47HN5xxORI5VHto0uPUY7NPzbYWtw6cFx0vO9E1olHbRPb7pxMPnm1Paa981TYqbOng06fPMM803rW++yRc57nms8zzjdecLvQ0OHaceh3198Pdbp1Nlx0v9h0yeNSS9fYrmOXfS+fuBJw5fRV9tUL1yKvdV1PuH7zRtqN7pu8m89u5d16dbvo9uc7c+4S7pbdU79Xcd/gfvUfNn/Ud7t1H30Q8KDjYdzDO4+4j148Lnj8pWf+E+qTiqfGT2ueOT070hvUe+n5uOc9L0QvPveV/qnxZ9VL65cH//L7q6M/ub/nlfjV4OvFb/Te7Hjr8rZtIHrg/rv8d5/fl33Q+7DzI+PjmU9Jn55+nvKF9GXtV5uvLd/Cvt0dzB8cFHHEHNmvAAYbmpkJwOsdAFBTAKDB/RllnHz/JzNEvmeVIfCfsHyPKDM3AOrg/3tMH/y7uQHA3m1w+wX11dIAiKYCEO8BUGfn4Ta0V5PtK6VGhPuAzdFfM/IzwL8x+Z7zh7x/PgOpqgv4+fwv5jF8hLkXzb8AAACKZVhJZk1NACoAAAAIAAQBGgAFAAAAAQAAAD4BGwAFAAAAAQAAAEYBKAADAAAAAQACAACHaQAEAAAAAQAAAE4AAAAAAAAAkAAAAAEAAACQAAAAAQADkoYABwAAABIAAAB4oAIABAAAAAEAAAXKoAMABAAAAAEAAAGOAAAAAEFTQ0lJAAAAU2NyZWVuc2hvdG9dhYkAAAAJcEhZcwAAFiUAABYlAUlSJPAAAAHXaVRYdFhNTDpjb20uYWRvYmUueG1wAAAAAAA8eDp4bXBtZXRhIHhtbG5zOng9ImFkb2JlOm5zOm1ldGEvIiB4OnhtcHRrPSJYTVAgQ29yZSA2LjAuMCI+CiAgIDxyZGY6UkRGIHhtbG5zOnJkZj0iaHR0cDovL3d3dy53My5vcmcvMTk5OS8wMi8yMi1yZGYtc3ludGF4LW5zIyI+CiAgICAgIDxyZGY6RGVzY3JpcHRpb24gcmRmOmFib3V0PSIiCiAgICAgICAgICAgIHhtbG5zOmV4aWY9Imh0dHA6Ly9ucy5hZG9iZS5jb20vZXhpZi8xLjAvIj4KICAgICAgICAgPGV4aWY6UGl4ZWxZRGltZW5zaW9uPjM5ODwvZXhpZjpQaXhlbFlEaW1lbnNpb24+CiAgICAgICAgIDxleGlmOlBpeGVsWERpbWVuc2lvbj4xNDgyPC9leGlmOlBpeGVsWERpbWVuc2lvbj4KICAgICAgICAgPGV4aWY6VXNlckNvbW1lbnQ+U2NyZWVuc2hvdDwvZXhpZjpVc2VyQ29tbWVudD4KICAgICAgPC9yZGY6RGVzY3JpcHRpb24+CiAgIDwvcmRmOlJERj4KPC94OnhtcG1ldGE+CjNQJSIAAAAcaURPVAAAAAIAAAAAAAAAxwAAACgAAADHAAAAxwAAZxE7yuKaAABAAElEQVR4AeydB9zlRNm3B4SXIm2lIwiy1IVlkSJVEAFdiihKW3pRkI4gvSOCoghIL4pUQaq4grSliSBIB2lLWWABQXpRQck3/7xfnjcnmclJcpJzcp5zze/3POlTrpnkJP+Zue8pAhsMAQIQgAAEIAABCEAAAhCAAAQgAAEIQAACEIAABCAwoASmQCgf0Jqn2BCAAAQgAAEIQAACEIAABCAAAQhAAAIQgAAEIBASQCinIUAAAhCAAAQgAAEIQAACEIAABCAAAQhAAAIQgMBAE0AoH+jqp/AQgAAEIAABCEAAAhCAAAQgAAEIQAACEIAABCCAUE4bgAAEIAABCEAAAhCAAAQgAAEIQAACEIAABCAAgYEmgFA+0NVP4SEAAQhAAAIQgAAEIAABCEAAAhCAAAQgAAEIQAChnDYAAQhAAAIQgAAEIAABCEAAAhCAAAQgAAEIQAACA00AoXygq5/CQwACEIAABCAAAQhAAAIQgAAEIAABCEAAAhCAAEI5bQACEIAABCAAAQhAAAIQgAAEIAABCEAAAhCAAAQGmgBC+UBXP4WHAAQgAAEIQAACEIAABCAAAQhAAAIQgAAEIAABhHLaAAQgAAEIQAACEIAABCAAAQhAAAIQgAAEIAABCAw0AYTyga5+Cg8BCEAAAhCAAAQgAAEIQAACEIAABCAAAQhAAAII5bQBCEAAAhCAAAQgAAEIQAACEIAABCAAAQhAAAIQGGgCCOUDXf0UHgIQgAAEIAABCEAAAhCAAAQgAAEIQAACEIAABBDKaQMQgAAEIAABCEAAAhCAAAQgAAEIQAACEIAABCAw0AQQyge6+ik8BCAAAQhAAAIQgAAEIAABCEAAAhCAAAQgAAEIIJTTBiAAAQhAAAIQgAAEIAABCEAAAhCAAAQgAAEIQGCgCSCUD3T1U3gIQAACEIAABCAAAQhAAAIQgAAEIAABCEAAAhBAKKcNQAACEIAABCAAAQhAAAIQgAAEIAABCEAAAhCAwEATQCgf6Oqn8BCAAAQgAAEIQAACEIAABCAAAQhAAAIQgAAEIIBQThuAAAQgAAEIQAACEIAABCAAAQhAAAIQgAAEIACBgSaAUD7Q1U/hIQABCEAAAhCAAAQgAAEIQAACEIAABCAAAQhAAKGcNgABCEAAAhCAAAQgAAEIQAACEIAABCAAAQhAAAIDTQChfKCrn8JDAAIQgAAEIAABCEAAAhCAAAQgAAEIQAACEIAAQjltAAIQgAAEIAABCEAAAhCAAAQgAAEIQAACEIAABAaaAEL5QFc/hYcABCAAAQhAAAIQgAAEIAABCEAAAhCAAAQgAAGEctoABCAAAQhAAAIQgAAEIAABCEAAAhCAAAQgAAEIDDQBhPKBrn4KDwEIQAACEIAABCAAAQhAAAIQgAAEIAABCEAAAgjltAEIQAACEIAABCAAAQhAAAIQgAAEIAABCEAAAhAYaAII5QNd/RQeAhCAAAQgAAEIQAACEIAABCAAAQhAAAIQgAAEEMppAxCAAAQgAAEIQAACEIAABCAAAQhAAAIQgAAEIDDQBBDKB7r6KTwEIAABCEAAAhCAAAQgAAEIQAACEIAABCAAAQgglNMGIAABCEAAAhCAAAQgAAEIQAACEIAABCAAAQhAYKAJIJQPdPVTeAhAAAIQgAAEIAABCEAAAhCAAAQgAAEIQAACEEAopw1AAAIQgAAEIAABCEAAAhCAAAQgAAEIQAACEIDAQBNAKB/o6qfwEIAABCAAAQhAAAIQgAAEIAABCEAAAhCAAAQggFBOG4AABCAAAQhAAAIQgAAEIAABCEAAAhCAAAQgAIGBJoBQPtDVT+EhAAEIQAACEIAABCAAAQhAAAIQgAAEIAABCEAAoZw2AAEIQAACEIAABCAAAQhAAAIQgAAEIAABCEAAAgNNAKF8oKufwkMAAhCAAAQgAAEIQAACEIAABCAAAQhAAAIQgABCOW0AAhCAAAQgAAEIQAACEIAABCAAAQhAAAIQgAAEBpoAQvlAVz+FhwAEIAABCEAAAhCAAAQgAAEIQAACEIAABCAAAYRy2gAEIAABCEAAAhCAAAQgAAEIQAACEIAABCAAAQgMNAGE8oGufgoPAQhAAAIQgAAEIAABCEAAAhCAAAQgAAEIQAACCOW0AQhAAAIQgAAEIAABCEAAAhCAAAQgAAEIQAACEBhoAgjlA139FB4CEIAABCAAAQhAAAIQgAAEIAABCEAAAhCAAAQQymkDEIAABCAAAQhAAAIQgAAEIAABCEAAAhCAAAQgMNAEEMr7sPrfffddc99995XK+ZRTTmmmn3568+lPfzr8m2GGGcyss85aKi4uyibw/vvvm3vvvTf7JMdR1dGnPvWp8G+aaaYJ60v1NNtss5lpp53WcQW7qiAQBIG54447zH//+19ndLPPPrtZcsklncfY2WwC7733nllppZXM66+/PpTRG264wYwZM2ZoO1r54IMPzD333BNtDi2XX355o/uQAAEIDAaBxx57zLz22msthdVvgH4L+inouff000+biRMnmv/85z9m4YUXNosttlit5dDv6eTJk81TTz1lnnvuOTPVVFOZz372s+HfQgstZKaeeuquIXzyySfNhAkThtJbZ511zAILLDC03eSVpZZayvz9738fyuJll11mVltttaFtViAAAQhAAAIQgAAEqieAUF4909pjPPvss82OO+5YWTojRowwehmXaLT55pubFVZYobK4mxjRW2+9ZSSSbbrpprVm7/zzzzfbbLNNpWnMMsssZtSoUeYb3/iG2WmnnczMM89cafyDHJk+6BdddFEvAn3cS2wg5CfQrXutXY522WUXc/rppw+dtsgii5hHH33UKdZccsklZty4cUPnRivnnXee2XrrraNNlhCAgCWg+2iOOeYI/4YbEInJElnj4YgjjjCHH354fFfj1tVJ/9Of/tRce+214W/WO++848yj3v1UxtVXX90ceOCBZqaZZnKeV2SnBgcccsgh5k9/+pP58MMPnZeq01/vmjvssEP47uk8qaKdH3/8sVluueXMww8/PBTjKaecYnbdddeh7aIr55xzjvntb39b9DLv+T/60Y+MOmJdYY899jAnn3zy0CF1cjz00ENmuummG9rHCgQgAAEIQAACEIBAxQTsqA9CnxE466yzAtsMavtbccUVg0svvTT45JNP+oxMdnbtSKrgtNNOC+wI+sCOqM8+uYKjv/71r2urI9X/jDPOGOy1117BG2+8UUFuicIKIpn1ZYVyIOUk0O17LStbt912WzDFFFO01O3VV1/tveQ3v/lNy7nRs9YK5d5rOACBQSPw9ttvB7vvvntgZz8FP/vZz4Zl8W3HaepZYEXyxpbVzoYK7ECKYK655krlO3qO+ZZzzz13cPHFF5cu27PPPhtssskmqWetLz3tt7PngoMOOiiwYnbpdNtdaDs2UiysUN7usszj6623XirOrHK2O5bF/R//+EdgB0i0pLfvvvtm5o+DEIAABCAAAQhAAAKdETCdXc7VvSBQt1AevdR//etfD6yZl14UsfI0b7nllsCOmh/62BgOQnlUT6NHjw5effXVypkNWoQI5dXUeC/uNV/O7YjGwI7AG7rvdc+sscYavtPD/QjlmXg4CIHAzpYK5pxzzqH7CqG8943ixRdfbHnHid4Pii71fJw0aVKhAlnTKqXE+ShvK6+8cmBHwRdKM8/J48ePD6yJl6F2GqXXqVBuTcik4oziLrPMEspVzuOPP74lPXVO2ZH7eRBwDgQgAAEIQAACEIBACQII5SWg9fqSbgnleuFffPHFA2uSotdFLp3+888/H2y88cYtHxkq13ASylUea0oi0IcyoTwBhPLy7HRlL+81X8418i4uXGgE4wMPPOA7PdyPUJ6Jh4MDTmCDDTZouad0fyGU97ZRaAbPl770pVS9xJ99RdatOZbgzTffzFUozWjT+UXid5274YYbVjqL0ZrXC6yPF2e+OhHKrb13Z5yuMuXd104o//e//x2MHDmyJV0N/Pjoo49y1REnQQACEIAABCAAAQgUI4BQXoxXI87uplCuF31N4+23Ecuaynu4nSJt7Ti2fFxEHy7DTShXuayNy0a0z37NBEJ5uZprwr3myrlG3GnkXXTPa2ltjLtObdmHUN6Cgw0ItBD4/Oc/33JP6b5CKG9B1PWNww47LFUn0XPPOiAOdt5559DsnHVoGdx8883BqaeeGmy//fbO0dbRdeuvv37bcsg836qrrupNe8011wyOOuqo4A9/+ENw7rnnhs/fLLMwxx57bNs085ygMvre/VS+ToTyG2+80VveiF3RZTuhXGW2NtFT6YotAQIQgAAEIAABCECgegI487RvtP0Wqnbmmaf89oMndIBpR2TmOb3n51i7jmb22Wf35sMK5UYOr+oMcv637bbb1plEKu7f//73xn7gpvazoz0BnHm2Z+Q6own3WjJf1lavWWaZZVocuE011VTmiSeeMHZkXvL0lm2cebbgYAMCLQQWXHBBY01ttOyzQrnZZ599WvYNhw2XM0/bAW/k0LMp4dZbbzV6P7OidSpLY8eONWeccYaZf/75U8e0Q45Y5Rj+rrvuch6X0/O1117beUw7r7zySvPtb387dVzvidYfTOhwPHlQjkX1jiJnn8lg/a4Ya+vcyNln2WDNlJgDDjjA2FH23iisUF7amaecpO63334tcSu/P/zhD1v2FdmQc3ZrIz7zEvv5Z8aMGWMeeeSRofP+53/+J3TsqXZKgAAEIAABCEAAAhCokED12jsx1k0gz4jyeeedN5hvvvnCv3nmmSewL/LBTDPNFEw77bSpUSm2OeXad+SRR9ZdtMribzc9tikjylU3UT3J7qXsvn7mM58JHXXmrZf4ecsuu2xlDActIkaUl6vxJtxryZzLGXH8vtC67bRKnubcZkS5Ews7IRASYET54Y1qCeuuu27qWafnnRXAc+VTDkBllzz5vNT2WmutlRnHcsstl7rOirfBFVdckXndBx98EHzta19LXas0f/CDH2Re6zso57Lf/OY3nXEmy9bJiPLNN988lYace3YjXHbZZam0t9xyy24kTRoQgAAEIAABCEBgoAhgeqUPqzuPUK4psb4gp0mPP/54cPnllwebbLJJ5hTV+AeG7D2+8sorvmgbtb8J4t2vf/3r1EdNnKfW//nPf3q5/etf/wrtPv/yl78MVllllbZxRXHbEWbeODngJ4BQ7meTdaQJ91oyfzJDFN0P0fLpp59OnubcRih3YmEnBEICCOWHN6YlyDa5BkBEz7hoqQ54O3I7dz5feOGFYJZZZknFI0eYEqBdwWeCZM8993Sdntonu9tLLLFEKk2Zisl6L0pFZHdIQF5ggQVScUU8kstOhPJRo0al0pHpm24Evdcn7cGrjvBP0w36pAEBCEAAAhCAwCARQCjvw9ruVChPFtlOo87tCOqggw5KXt7I7SaId50K5XGw+kCSzfXkB59ru5OPwHiag7aOUF6uxptwr8Vzftttt6XukxVWWCF+SuY6QnkmHg4OOAGE8sMb0wLkh8H1DnDRRRcVzqPPzvlNN93kjEvON5Npyy54kcEU1sxVKg7FedVVVznTTO7885//HKy88srOOJJ5i2+XfUf68MMPU34vFO/vfve7ZNZq27YmXlLlLTsKv7ZMEjEEIAABCEAAAhDocwLYKLdvuf0W8tgol73KKaaYInfRZNPXTh81119/feY1I0aMMHb0ipGN7yqCHTVtXnrpJfPaa68ZO5IotCsu2+KyJ9xJaILd5Dw2yu3IKWPN4eQu6qabbmqsU6fM8/fee28jO52dBPtcM9aBq7EjzYz9+A3tOnda53XVdbtyfvTRR2FZ/v73v4en2tF2xjoUM9bRY8ulg2CjXPX61ltvGd0fb7zxRli3sl+r+7psaMK9Fs/7BhtsYGSrPx6K2FDGRnmcXOv6u+++a3SfqB3pOT3HHHOY6aefvvWkGrf0DHn55ZeN7mU9N3UfKw/Je7mqLCidSZMmhb9Hem4orX7x06HfFv2u6k/vA6ova9qr49/uptoot+Y8wmfam2++abQue9d2lHT4bNN6mdB0G+V6ru27776poukeaWfzOnmRnpl6dibDhRdeaLbYYovk7vDei35To4OyV25nKkabbZdql8qn2mg8WPMmxor98V2pdd9zOn7iOuusE/rW0fttPFihvJSN8nvuucfYTtd4VOG63mGt6bzU/jp2yM/G4osv3hK1nVUQvpdrSYAABCAAAQhAAAIQ6JwAQnnnDLseQx1CuQqhD0w5C9JLf1Y499xzSzuptKNPzQUXXGDsVNnQaVPyA0npSuBfaqmljBxRyenTqquumpWdoWO333670UedwnvvvWf0IZUVvvvd77YclhD885//vFAHQ0sEiY06hPJnnnnGLLTQQomUWjetnU5jR2S17rRbdiaC+etf/5rarx3W1mjo1Evral/HHXecmThxojaHggTV7bff3nzve98LBaOhA56VOuvak+TQbonBaqdXX321ufPOO1OOziSyWduuxtr3NOKlNteJUH7NNdeY8ePHD6WfXPnOd75jvvjFLyZ3p7bt6L3MjhAJFquvvnrquqwdEjPUuaJOMDva2unEVp1Uql+JYNttt52Rc7EsQbBp91pUfokIdmp8KORG+7R8/vnnvQ7t4udp3SfA6H7eeuutk6dXuu2678aNG2esDeFC6cixnDo040GOhe3oy/iutus333yzUdu2prrCP9dvwyKLLGIkSNkRpoXbpjKQfC6pk1Qc1CYVdF/qN8OO9Dd6/iWDOvLkcPBb3/qWkcBmTREkT8m9rU4fiWjWxnL4+2RHkLZcq98IiYlbbbVVWGYdFBPxVudBFCSm7bDDDtFm15Z2hG2Y9z/84Q/GzpBxpqvfD3WKW7NrudrD3/72N3PiiScOxXXOOee0lFUHllxySbPSSisNnaPn6VFHHRUK80M7K16xM+HCtilnlnoe6f3FF6zPlrBtfvWrXzWbbbaZkRPEPKHpQrmrU1CdA/r9Kxrk2HP06NGpy37xi1+Y3XffvWW/nqd2ZkHLPm2cfvrp4ftB6kDGDlfn/6yzzhp25mZcZk499VSz2267OU/RM8TOfjRyvKoOomTbKCuU61m10047taSpzjo7ir5lX90bqifVVzwU6QyOX8c6BCAAAQhAAAIQgICDgP24I/QZgapNr8SLf8IJJ6Smddpm07LPiqXxS3KtP/DAA4EdbRTInmIyvnbbVigPZE6hXTj66KMLx51M++OPP26XTO7jVZpeiSfqskkaL8fSSy8dP31o/Stf+YqXj47Jqdcuu+ziPSdKw44gHYrTtdKNunalq30yUXPaaacF9kO7bTmi8qy22mqBFYOCTkyvtONmxQZfllv2y7RRlC/X0opPLednbVhxIDjggAMC1Zcrrqx9soMq2/iyI+sKTbvXojzazq9UWYuYXVE8vTS9suiii6byL5NLRYOcOSfr96c//WnuaKwgndsxXjwdOQX8y1/+kjsdneh6Lj377LOBnQkS6H6wo8VTZYmnGV+3on1gO4QKpa+TbcdqYMXAQveKnCjKtvOECRNS+ZOjwm6Ghx9+OLCdFal8xNm41uWEUM++rHDxxRcXjldp3XXXXVnRlj5mO04C22FVqF3Ey657Q7/NeUJV92OetMqcIxMlRxxxROi40w4qCL7whS8EtsOoTFSB7RBz1rOLle8ZmdcPRDyD+r2O10+0bme0xU9Lrct8SnRufLnMMssEDz744ND5co4eP651XVsm7Lzzzqm4uuXIM55f1XmyTHIKX+X7azw91iEAAQhAAAIQgMCgEdDIIEKfEahTKLdT653OoeIv5fp4LBLsKKNAjkDjcZRZ33HHHUPxxJd208S7uoRyO0Iqk2VZofzQQw/NjDeqszXXXNNXBUG36tqVAQlrdkRprjJEZYmWdqRoYEeoZV5rR2K6kg33NU0of+ihh4LPfe5zmeWJyp61tCN1nWJ50+41VYKeXXamQKrMdqSdt95cB3wikB1R7jq90n1VCXNlhXJrsiIUpzt5XkvYPumkk3JzcQnlErrUwZHVNn3HlL6dQZE7fdnYdzl/9cUf3z/bbLOFZY3v03o3hXK1yzId0FGedc/IsbcvNEkoly1o1z0elaXIUp2I7UJV92O7dJpw3OcDRU47k0EOO5Os9RtaJtgZX6m4FLc6oLJCUiiXA1M7Gy6Qg9N4qFIot7MmUnl1OfKUA1TZj7/vvvsCO+Mk8701nte863Y0eSofYnbllVfmjYLzIAABCEAAAhCAAAQyCCCUZ8Bp6qE6hXKVOc/INDtFvS0eiS52mrPzhT75kZV325qdCHxpN028q0Mot/Zy2/JU/bmCS5CKuNupyrlH6GmkcTJ0u66T6Ws0vEZ2ReWpY9kvQrmcr1mbvJWx0EyQpPjQtHtN7cGam3CW2ZoJSDaXzO1BFco1GlECb1X3jsS0PMH1XNKMhk7yIaHfmhxqm7w1TxN0mpYrn90Syo855piOOEV5t2aWgjPOOMPJqylC+aWXXpr7NyoqV7ulRuJnhUERyjVzyJrdSrUla0InmDx5cgqRNWGTOneJJZZInZdnh+5BVz21G/UdCeXqFLSmmgI52nSFqoRyvWOoMyCZV43Ef//998M8aBCBBPvkOerI0nNOMzYlolcRrJ3yVDrWLF4VURMHBCAAAQhAAAIQGHgCCOV92ATqFsrzjCz+4x//2JacTLQkPxiq2F5llVX6YpRrHUK5tY/ZlqnPNI5LkCpaHxrN5/rQ63ZdJxvfj3/847ZcipY1eX4/COUSha1jzspZyKRJPDRRKLdObFPltnbh49nOtT6oQvk222yT4he/B2TWRDM2JEqp/q1N8sA6sMu85swzz2zLPO9zSTNpdK7EIGvzP7B+LDLT/tGPftQ27ayOAWsjPZDwdfDBBwealWD9AwQjR47MTDPi1Q2h3GcqI8qDhEs9l6198UCmn6yN+kD7JH5G58SX6iy1Ns5TzDQq1vosGPqLXxOtL7DAAkPHda71+xBIAK0qyIxUljktdXbss88+gXViHWiEvcq81157BZoR4yuv8i4TLllhUIRymWWK6jK+1EwLV3DN9ihrgkSdsGp78XS1bp2UupIe2qdBA5oJ0c7cSFVCufV/kcqj8ql2Z538Oo8ly6RttWPrCyc0dTdUmBIrrvd0PaMJEIAABCAAAQhAAAKdExgYoVy2ix955JHAOgULbe9ap4aVT4fsvDryxVC3UG4dILZ96bdOMzMzq9Ffro+EqvbJDEsyNE28q1Io/+c//xlYJ4u5mFrHckk04XZeQSqrjjS6OBl6UdfxPGgaciemB7LKGz/WdKFcgoNLwIiXoZP1uN3Xpt1rag8yOZQs3yGHHBJvKrnWB1Eol6mSJLto2zoHDGQL2RX0uyrh3CV06XqN7JYZoKzQ7rkk8ybWgWTofyAZj3xXWCe0zrzLZm9yJkT8epUpKmNyqc7Yl19+OX760LpMNFlnkN5rFVfdQrlEaJcAqLQ1m0QmsFQ3rqCZF6rTZJm1LZYyYZQVrBPH1LVFzRtlxe86tscee6TSVH4lUF533XXesioumcDwtTH9bsg0hi8MglBuHaoHM888s5OvBF1XcM3CkP3uskH3arI9dhJfPB+u+6TdaPX49dG6dfKcymMyz0W21bHQ7l6L0nYtfSZrquygcqXLPghAAAIQgAAEIDAIBAZCKJdjMDnsS77EauriPffc03f1XLdQLidcSVbJ7awPDY308X2IJ+OZc845g69//evh6KFx48YFEiOT5/i2r7322pa6k33KueaaK/zLM6o2OjdaauqxptdWFaoQyvURKyFATrp8HJL7fc7ZfGJB8vqs7aQNzF7VdbyONLo0K8/RMQmpardyNqg2fvLJJwdjxozJda3iaLpQnrfDYtSoUcGBBx4Y6MNfI/IkJvuEkoidlhpxHIWm3Wsyx+QaOaoyFg2DJpTrmac2Ea/raH255ZYL9PvZLtxxxx3e0eUaeZ4Vsp5LGhGs0cRZQSZW5p57bmf+x48f77xUHY8aBR2VM76UvwH5O8gKen5kjaavWyjfddddnXnXiFI9k9uFiRMnekfka1R2Vui2UK4Rwy6xU7Ob8joMVYfJsssu62R20UUXeYs73IVycXGZUdH9IJMmPnMmLvMi7UaAeyHbAy4zIvHfm6xr2x1ztZ2s91dffLJpH39OVLGu9zqZbSkT3nnnHWd+uuFLo0x+uQYCEIAABCAAAQj0E4FhL5RLQJEQ6nup1Yg3jUjtp1C3UO5zFBRn6Bu1LI6+0V/x6yVqSaBzjfjTh6umvcfPd63rw9cX5KDNdU20r6zjKV96rv15hPJVV101+PKXvzz0t+KKK4YChkTZItN5o3Lpw8sXsgSp6HotJQBpBKcEMs3C0LR9fTSr8+Nf//pXS/S9rmuJaNNPP31mXatM+uiWOJYMEgLyOgBtulAuUTNej651ma1wcdBz0ickRfFoFO0rr7ySRBg04V6T4B/lM74s82wfNKHcN1JSz2B11OUNvhGOetY//vjj3mh8zyU5o3WZeXJFpOdVvN6jdd9IZ9+sqazflGS6119/vTNNpV2nUP7GG284n3lyYnr33Xcns+nd1r3ssrmsUeWu3+Uoom4L5XLqGNVnfKnOviLh9ttvd8YjsyO+MNyF8iwn1FmCq6vduJxa+rgm97sGAmy00UbJ00ptVyWU656Otz/Xur411Lkn3zx6l8vjK0Sz9HyzP9oV2OWwu6oOhnZpcxwCEIAABCAAAQgMZwLDXijXS6PrhTa+r4wd2142irqFco1Ii/NxrcsuoytISHV9mMTjUOeERIasIHuQro+AeDxa1zRyV2iCeJdHKE+Wp9NtOV7zBZ8gFU9TYvjTTz+dikL1mhyp3oS6zuNort2IVhU2jwPbJgvl999/f9t7VjaKs8Jzzz3XtoNKzsiSoQn32n777Zcqv8wqtBsZnCyLtgdNKNdMnvgzIFovI3zJPnV0fXx50EEHuVCH+3zPJZ/I7YpIo8rj6UXrP/jBD1yne81YafZOkaBOziit+LJOofykk05ypqkRr0WDy86xynHDDTd4o+q2UO7Lo+t3yptpe0Ajd+N1FK0feeSR3suGs1DuemZGTDbddFMvE3WiROfFl8cee6z3mnYHVlpppVScPqfk7eJKHne9j5YZUa7Zj/HyxteXWWaZQD4Dkh1MEsAfe+yx0NdB/PzkustBerIcrm2XA3ONzidAAAIQgAAEIAABCHRGYNgL5XlH5WqUVr+EuoVyjTRLvsgnt5PO/SJ2PpEpfr1PZI/iiJa+kY7xuGR2wxWaIN51WyhvJwj7BKk4T9kbzhuaUNd77rlnZludcsopc80Y8Y02jLNpslAuATue1+S6Rps+9dRTbatWAkn8Wl0nsxwaIXfMMcc4RwY34V5zdYguueSSbcvrOsHXrrNGWLriKbOvKmFOM0Di9ah138hZlwAkh3Oa2l80SBRSm0mmLZvfvuB7LvlshPvicdk53m233VKny9SMHIMm86jZPUWDnF8m49F2nUL5t771LWeamhVSNPju3axOkm4L5RIf1Yl30003BXIOK4G3jO8BsXG1dTlr9YWq7kdf/L3av//++zvbkNqunvdZ5kD+/e9/BzPNNFPqesVZNqy++uqp+NZYY42y0bVcV4VQnvVOvNZaawXvvfdeS5rJDQnm8hvgGokv5prFUaZT11WPKi8BAhCAAAQgAAEIQKAzAsNaKNfLvs/JWPLjVkJZv4S6hXKZ3EjySW67BAjxk1ibPDe+Ldvh7WzORvWgj4vll18+Mz6NOncFnwAQ5aUpplei/HS61CiidmYSfIJUlLZG4GpkZt7QhLrW9OYo/67lxhtvnLc4wcorr5wZV5OFck3fdpU/2udywuoCo+egOrLOPffc4L777nOaaUle14R7bd11102VX6PtyoRBEsolbEdtJL7M25np4uuyeSyzPT57x67nksw/FQ0uZ64up8++2Rdy0lkmuBwb1imUu8Re2SYvG1y22tdcc01vdN0Wyr0ZKXBAYrv80bjYZQm8w00oFwcNcojf6/F13XeyX58VZLorfk207uuIy4orOqaOtCieaDl27NjocEfLKoRymY4aPXp0asaV3oGS5uiyMquR41H5ksus2YC+OCW+J+ORqavkyHbf9eyHAAQgAAEIQAACEHATGNZCuUa+SPxLvki6tpNmJdy4mrG3bqH84YcfbstM06FdQaM4XXyjfUUFGJ9oFcWn5QsvvJDKShPEu26NKJdYnGdGhEuQinMsaoKoCXXdbsbIiSeemGobvh2HH354ZtttslC+8MILZ+b96KOP9hW74/1NuNdcHWqyPV8m+J45w3FEuUxXxZ8B0boEmLLB52jSN6PB9VzSKM2iweWwe/vtt09FIxMJUTnjS58Zr1QEiR2uTpq6hHKNso/nOVqX2K38l/lzjcSXs0ZfaLpQrvc+vc9dddVVgcyBrL/++s4R0BE7jVD3heEklEvg9s1GEAuJ5HnN2bgGoBx11FE+jG33u/xjZJl/aRth7IQqhPJYdKFPDjkE171WVJDW4A/NXInaXny51VZbxZPJte4zPffqq6/mup6TIAABCEAAAhCAAATcBIa1UK4iu5wExV9Ota7RxUVfeN04u7O3bqHc55Qtzu3nP/+5s7DtnBedffbZzut8Ox944AHnR0U8LxoplgxNEO/qFsrFWkJA3hFNLkEqztElKiW5xrebUNcaqRovQ3JdYkneoGn9yevj290QyuWgLp5mct0nRshURvLc+LZGiNcVmnCvuUbFynFpmTBIQvn555/vbDdFbXXHOcu2eLztRet33XVX/LShdddzKe8MiKFI7IrE9SitaOl6pvl+PzW6vkxwOUSsSyjP04kdlb2T5bTTTutF0RShXDMGNQNGzqZ333330M/EyJEjnaZ/slgMglAu4XSFFVZI3R8RF3WM+DqyXA1h5plnTsWV5YfAFUd83xJLLJGKz2feL35dnvWqhfI8aWadIwfpEff4MqtzyhefxPp4HNG60iBAAAIQgAAEIAABCJQnMOyF8iuvvNL5Ihm9UGr5ox/9qDzBHlzp+9CPl0kjV8qG3/72t22ZuYQ32UiN58G1PmHChELZkp1cVzzxffpYSIYmiHd1COUzzDBDOCJJI6WLmEkRH5cgFedYxO5rE+paphzi+Xet33vvvcmm4d0eP358ZnydCOVywJcnZDlYU/lcQrnudZdd6DiPG2+8MU/ypc5pwr3msv2aZVIhq6CDJJT7bNvL1EDZcMUVVzjvI9dzWmm4nkvbbbdd4eTzCuW6h+L3RrSeZZc5KzMyORHFES3rEspvu+22VFpRmlUvNQLZFXotlEvQVSfYdNNNVwmL4S6Uq3MlyzG6ZiO1M7eSbAcafZ5sb9///veTp+XedrUpnyPe3JH+/xObJpQrWy4TQOKp2RBFwh133JGqB8VT9D27SJqcCwEIQAACEIAABAaBwLAXylWJ+hCS3b7ki722NRW1n0aTqzx1C+UHHHCAk1Wc37XXXqustIS33noraDfCVx9tRYPE4XjayfULL7wwFWUTxLs8Qvnxxx8fnHLKKS1/MnugjghNq1VHj1jLrm4e8yopELEdLkEqzvLkk0+OnZ292oS6lk32eP5d60Xam0R1VxzRvk6EcgmSeYJME0XpuZYuofzdd9/NvEbx/OlPf8qTfKlzen2vSVzIyypPAQdJKD/ttNOc7MqKxuKrtuaqDwnoruB6LvmcNLuuj/blFcol6LnyJyefZYJmSSXjq0sov/rqq1NpJdOuatvXEesSNTWLoO6g54ze1+SguaoyKp7hLJT/8Y9/DLJmfslsm7gWDS6TNHL4XDa4Oj1cv3Vl4m+iUL66w3mp2uLkyZMLFdE34/Lyyy8vFA8nQwACEIAABCAAAQi0EhgIoVxFvuGGG0JHk/rI02gY2RW94IILWmn0yVbdQrk+8rM+RNXpoBHFyfDee+9lXqc4i4zwVfwSwdp9GEs8SIZei3fKTx6h3DdqL1meKrZdglS8nl2zBHzpNqGuJebF8+9a95l7cJWr3WjNToRydYjkCS4zDvFyucQDn1Acv04dLnWFXt9rGlHv8kWhDr8yYTgI5XPPPXfq3nA52zvmmGNS56ndvPTSS2XQhdf4bIDfcsstzjhdz6U6hfKf/OQnzjIXFamiwsj+f/xe03pdQrmPbTL9KrZ9AmovhHI96+VDo0y5NHp32223DTudXT4thqtQfs4552Q6s//mN7/pdbAbtW3fUs5ek3Uhh5xlgu/3I+8srHZpNlEol5PhJD9tFzX/5OuU7MR0VjueHIcABCAAAQhAAAKDQGBghPLhVJl1CuUffPBBpuMrvcwvvvjiXpwzzTST8wMg+ii49NJLvde6Dsi5VHStbymb6sng+/iK4pCphrpDvwnlMrlTJDShrl0CaVTHWv7+97/PXSR1nMWvTa53IpRLkMwTtt5668w8uIRyxesyPRLP/6mnnpon+VLnNOFeczkkLCO2CkDThPIiJpGiCpx++ulT7cgllJ9xxhmp89RuOpmBoJkp8bYXrT/66KNR9lqW3RbKfebY7r777pZ85d1wiV51CeU+Uwt77rlnIAeDVf75Ztp1Wyj/+OOPQ/vjUTvyLeVgUg6m5cT3xz/+cSCxMNn54TIZMtyEcnUcHnzwwc57MGK32267BWVnUOi+kE34KK5oqWdwmXDfffel4lKcv/vd78pEl7qmiUL5Tjvt5CyzawBKqkCxHWIU8Y8vH3zwwdhZrEIAAhCAAAQgAAEIFCWAUF6UWAPOr1Mo1yik+Au3az3LydJiiy2Web2cTxYJ119/fWZ8yp/E9GRognjXb0K5RisWCU2o69lnnz2zfeheyRvkq8DV3qN9nQjlhx56aK5srL/++pl58AnlLqE4yreWEk7yBs3QkKmfvLMdmnCvuUabasRkmdA0oTxLyHOV76OPPnK2IZdQro7LeDuJ1l3mrFxpufb5zAfJVJIrdFsol2AflTO+vOyyy1zZa7vPNQOrLqFcI07jeY7Wq7Ln3Law9oRuC+V65kXlTC7nnXfe0G/DX//611z2nV0mPvbdd19vsV0mRg4//HDv+b0+IJFcHYRJTtG2Zuf5HLEXyburg01xywxY0XDRRRc58ysHpFWEqoVyOU9/8cUXS5msicrjeubNNtts0eHcy1/+8pdOdj6zSbkj5kQIQAACEIAABCAw4AQQyvuwAdQllOsDYIkllnC+eEcfWlpmjfRxfQDEr5VNzCJh5513zszPzDPPHGjEWTK0E++mnXba5CWVb/ebUO5ztucD04S6XnbZZTPbxwYbbODLfmq/zo231eR6llC+6667Zl67xx57pNJz7RgzZkxmPD6hXNPek/mNb6uu8oS4ECfhQ47eNtxww0Cjmi+55JLANSq4CffaN77xjVT5V1111TxFTp3TS6Hc1fm01157pfKYtePll19OsVBbcAnlvqn7MidSNmy00Uap9NWWfCNYXc+RMrMB8tooVweQ8hO/P7SuUchlgu6RZFx1CeXyU5FMS9syhdGt0E2hXKPaJYa7yrzyyisHRcRU1bsrHnXs+EK/CeUaKe4qo/ZplonLTJ2v7Fn7b7/9dmc6Lt81WfHomAZeJPM8//zzt7ss9/FOhXI9t9ZZZ51Av//xWXTaVzbMM888qTKX+b1ymZHSzAp1mBAgAAEIQAACEIAABMoTQCgvz65nV9YllLcTpfUxow/HrJfwgw46KPUBkPwIyjty78knn8y0sal45dzLFTSFNZlufFsmO+oO/SaUy/FXkdCEus4SBlTfci775ptvti2WnH76HP5G7SZLKD/wwAMz29smm2zSNg+yw9vOlIxPKNeo4yifvqUcf7ULEgt912u/RvAnQxPuNddUdonOZUIvhXJXR8k222xTqBhymumqQ5dQLvHQ5YC5rL1hjSjVyMhk+lnCV7eFcsH83Oc+l8rjggsu6Ox0zYJ/0003peJR2esSypWXRRZZJJXmiBEjAs0kKBM0e0CdMSeeeGJw1VVXBXpOyFmzL3RTKPeN/pcJFflmKBJ8Pij23ntvbzT9JJRrZHzyvou25bNAo+6rCu+8847zuVF09ovy4+po2nTTTavKatCpUK6MuDprNDvhww8/LJxPde5E9RJflukcdNW57g0CBCAAAQhAAAIQgEBnBBDKO+PXk6urFsrl6FQjveMv7b71s88+O7PMjz/+eNt4JDjKFnpWkBgv0wm+fET7ffnRh1x0jm/ps8Gala8ix/pNKFc7KBKaUNe+advxOpf93nbBNQo2HofWs4RyiZDJ8+PbCyywQFth54c//GFmHIrPJ5TLFns8Pdf6lltumYlBDlpHjhyZGY8605KhCffaEUcckcr3rLPOmsxqru1eCuUuEzJ5ZwNEhfN1HrmEcl3je/YXnWGiuHxmMrJmVPRCKPf5ApApgyJhpZVWSrU73Xt1CuXbb7+9M02NLi0annnmGWdntEa8+oJLKPe1LV8cefdrhLLrWZZl/s0Xt68zUfa2faFfhHI54nZx0j4905977jlfEUvvd5kJUwdUkQ6bP//5z858n3DCCaXzlbywCqF8u+22c+azzAj6HXbYwRlXGZM4clKbrPflllsuiYBtCEAAAhCAAAQgAIGCBBDKCwJrwul5hPJJkyaFdhRlSzH6e/7554MnnngikKMfiaJy8PelL30p9aKdfPGOtueaa65A5lnaheWXX75tnDLx8re//c0ZlaaXr7feem3jUH58I3q0P8q3b/nUU085069qZ78J5TfeeGPhove6rmX2Q2Z0fHUc7T/ggAOcZVOHTDvHZ1EcWUK5z1ZodK2WWbZwNTLV5YAxfr3WfUK5RqNrVGny/OS28uDqINL0cp8YEI9DzgKToQn32plnnuksu559RUMvhfJ11103VQ61i6wRvvHyqbwzzjhjKg7VoU/M9HXQLL300pmzh+Lpal0zN2QKK95eonWZavCFXgjl8mshEwVR/qKlROC8Qt/48eNT10fx1CmU+2YMyKGvfveLBJ8966yRwS7zQL7nUpG8uM6Vg+mIaXyZ1zlyFKc6BGaYYQZnXJqN4gv9IJRr5p3PmbOcm77yyiu+4nW0//zzz3fy1Ptp3jB27NhUHJrhknTCmjc+13lVCOUXX3xxKp9qjzKX4vo9deVD+/T76Zq5pudmUUeeik/P6Ph9ofWvf/3rOkSAAAQgAAEIQAACEOiAAEJ5B/B6dWkeoTz58lzFtj5a8wQJ8HnS08edzHdoNKyEi1tuuSU47rjjnNPiXfH94he/8GZHHy+uD5J4PLJxqhFBchgqZ2iyd52nI8CbaOLAIAjlTahr16iqeD1H6zpP9a2R06rnO++8M2hnlzy6VsssoVxtN36ua112kXXvxk3ByFSFRJ9pppmm7fWKM0uQymMKR3GsvvrqgUYgPvTQQ8HEiRNDnwMahebKc3zfqFGjEi38fzebcK/JrEA8r9G6RO+ioZdC+S677OIsRx6b4WrTspsblT259Anl6mxyOTnU9Xoe5wkSl32jtGX2wWefXHH3QihXui7byCrzGmus0db2tfx0zDLLLF7WdQrlut9kJiZZv9pWB3NeoV+OXF222j/1qU9lCu7LLLNMKm3XTBMx7jTIJJarnEUc9aojT7/1rni0b6uttvJms4xQrs7X5J83gQ4PKB2fnw6ZQHrhhRc6TMF/+dtvv+383ZLoq9/WdsE3+6SMCZKstKoQyuWI2Pc+qdlMeYI6O133jtpgGf8Imsnlun/z5idPnjkHAhCAAAQgAAEIDCoBhPI+rPleCOUSkvMGOdfUSBvfh2kV+/OI2i5bue3S1sizqsIgCOVNqGvNkHB9MPrqWue6RpP6zo/2ZwnlspfrG7EYXR8tJURpJL5mc8Sdg0XHs5ZZQrlGDubNQ1YavmNZommv7zUJRi4HaXKyWjT4hPLDDjssnAWjmTCd/vk65CZMmOB8bqrNalSjL0gQ85lQierTJ5QrzixntOPGjQs7l3xpaxR7lhB5yimn+C4N9/dKKBczXweV2pJm2CRHi0oc1KwMn2gWsa5TKBe00047zdlOlP4XvvCFQE55s4KcOvr8IcgMVVZwzUKTGKnZalUH/b74ZgxJ6G8XNGtsqaWW8rISLzkC9oWiQrnPFFiW6SFf2nn2X3755d6ynXTSSR0/p/Sc02wlX/D55tAgCM2S8gWfGRw956qe6VeFUK5yyB9OdH/Hl/o916CNrM5AmZiZf/75ndfPN998gXxFFA3yKRPPR7R+//33F42K8yEAAQhAAAIQgAAEEgQQyhNA+mGz20K5hIykYNCO00svvRQ6/ote3qtczjHHHLlGSskhXdF0b7311nZFy318EIRywWhCXecdTV20PcTPzxLKxUFTnuPn17GeJZQrDz6hptO8SAj1ibtKt9f3mvKw4447pvhranrR4BPKO2UYv17PcF9YfPHFU+WIrpUAK4eLEkLl6FAjmzfffHOnY73ommiZJZRrdKLad3RucinBUGKQBB+N0NX5N998c3Dsscc6nXdG1+cxA9AroVz85b8gyqtrKcFPwvC3v/3t0JF1O4E8iqNuoVyi3FprreXNu8RlmZSSmPb3v/89bGoy7SDxf8011/ReJzM/7Zz+brjhhs7rJbxLpP/yl78cdpTfddddviZeaL+vA0idHPvss08gU23JoBkmMqniM0kS1ZOWit8Xigrlvncz2aWuOqhz0GV6I162KtazzNzI14yEXlc6qh91KmnGns5TR64cx2b5nska3V+WX1VCuUaEu+zzR2XX4A2ZY4pM3eh+0/2nQSZZHfPnnXdeqaIdeuihKe5yOkqAAAQgAAEIQAACEOicAEJ55wy7HoPvYyx6Ya9yKYFAo+jKBH0g+Ubslc2jprvnmdar/J588smpD4l26epDrqowKEK5ePW6rmVuYIUVVihc3+3aQ/x4O6H8nnvuCTS6LH5N0XV96GZd004oV13IDEJWHEWPSRzQ1POs0Ot7TXlzOTTVCEWJukVCN4Ty008/3ZulMizz1GmWUK7MSCD1mWDJE3/ynM9+9rOBzLq0C70UytX5s/baa1d6v4iDTODUHSSAi3GSu2tbdp9d++P7JHTncU4oM0Dx63zrZZwTupjddtttmc9VPXPlLFmddRo9nmUSx5VXdQ74Rk03WSjXTCpXeareJx8GWUGzE/J2IGXlTbOs2jl5z8qH71hVQrniv++++3K90/pmQSTLX2bGU1ROmYhKxleXCaQoTZYQgAAEIAABCEBgUAgglPdhTXdDKNfHo6Z3dxpkB3n06NGpF/rkC36ebQmVRaZ3S9zLGsnjSrOMrUgfo0ESysWgl3Wt9DXia6WVVird1jQdPMveeTuhXHnYf//9S6evD/pHHnkkU3TII5RrpGEn+YjfF7I363O6q/JGodf3mvKhkc56bsXzr3WN6isSei2Uy4b+mDFjUuVIlsu3/cUvfjEc/Z083k4oF6O77747mHPOOUunHaWpUdiaaZIn9FIoV/4kzmkEeJT3Ikt1JK+22mqpa4vY0M7DyHfOc889F8hhY5E8u85Vh5LafZ4gsVDnu+KJ75MN+KqCzB7F4y6zrnamGRiuay+44AJnVpsslGsksqssVe9rJ5QLnN5JOxHLR44cOTTzwVkRHeysUihXNuS4u+h7patOvve97xVylhxHIJNErt+6PB1d8XhYhwAEIAABCEAAAhBwE0Aod3Np9N46hXKNzJKgEnc42CkMjdrTFOmyo231UaKPCtcU63Z5c01PdX20RPt22223dlHmPj5oQrnA9LKulb5GBsoURVSfeZYzzjhjcPbZZ+vyjoVymUSQM608QlI8b2PHjh0SFrMEhzxCeVgQ+0/ijxwpxtPJu678b7HFFqGT3Si+dste3mtR3lzmb4re070WylUWTdt3CbDt6m+bbbYJ5CD2nHPOSdV7HqFcaU+aNCnTPEdWHtRu1EkjISdv6LVQHuXzV7/6VTDrrLOmuLnKO2LEiODMM88MhS6Xze5NN900irb2pWZMyGRF0WdOVC6NwpbJiCIhj6krjfCuKsj0m0bflhEoJZSq7evZrD9XHev56wpNFsr33nvvXG01queyyzxCudjJ7JdLlG6XrkZGV+kbJlmPrjy185uQjCO5/fjjj5fuXFP707NGHdplg2bwJbnKzFCWebSyaXEdBCAAAQhAAAIQGEQCCOV9WOud2iHWtNDZZ5890Cge2RSVs7bjjz8+uP322zMdEnWK6tVXXw1OOOGEMM3kS75rWyMbv/Od7xQS61x51MirdiYtlP6CCy4YjhZyxVFmX5ajLaUnMwdyAtmt4BIR49xlf7iq0Ku6jvIvW7w+27ZRmeX4crvttguef/756LJMp4Ya5Zs3yCmjRqlmiVcSxFdfffWUk0YJ91Eek8ui5gw0WlazJBZbbDFvnPE0lKdNNtkk1yhyF4te3WtRXlwCsUTNIs7SXCZc4oyqWPeNYI3KES0vueSSXHaIJUpeccUV0WXh6OBkPovOEJIzPtnBzmO2QyZA1FESv5eGMtNmxfVc2muvvdpclT7ssn1c1Imi2olMSWy99dbh75Q6mtTBq2e1fi9lUkVtLN6RrBH8Sdb63ep2kM16/ZZrFkgyP65tCeRqM2UFO93ro0aN8qYl29VVB81uWXfddb1pxsup+pLImzS9pE6M+Hla1/uQKyyzzDKpc7M6nORwNxm3tmULv+qw8cYbO9Nypd/JPr2z5Q2aWSTb8HnaoGYadmMEtMuGugYxVBH0W5H3t1XOPGWvXJ2gnQb9RifrVM5GCRCAAAQgAAEIQAAC1RCYQtHYFy4CBLpK4OmnnzbWjIp54YUXwj9rb9XYETHGiuPGOus0yy23nLHOkYwV7irJl5q5naZurF3P8E/p2o+5MD2laU12GPvRX0laRNJKoNt1HU/djo41dvSVefHFF411smXsiERjP1jNwgsvbKzoFba5+PlVr6ud3XLLLWEbVx7UDu2He5gHOxLV2M6ZqpP0xqe8WGe1ZvLkycYKGsaaqjHWnq+xNsjDfCgvWrdTur1x5DnQy3vNml8xdlaMsbaxW7JqOxeNnWnQsq+fNvTssp0/xpozCdux8m7FaWM7AI3tbAnbc13lsbM0wjb85JNPhlyt0GOsPWvzuc99LmzHajdWLDZWUK4rC42OV88T3VvxcMghhxgr0sZ3dW3djr42f/nLX8z9998f1pfuBTvSNGwrqqvoT22nit9XPd/1bNMzRfEpXrWNeeaZp7Y2ofQmTpwY/tnRyMZ2zBrbwRi+O+i+sA5Fu/ps7Vrl9klCdkaJsZ3F4buW6kZt0HY2mUUWWSR8VmlpBWZjO5L7pETZ2bR+fIyej3qn1dJ2GIbvFrajzcw111zh81HvtFUEO7MyvLesX5aW6Kwtf2NnIbXsYwMCEIAABCAAAQhAoBwBhPJy3LgKAhCAAAQaSMCOoDcHHnhgS86seQ9z8803t+xjY3AJSLhTJ5oEu5lmmqk0CIlV6liyJj1a4rCj9411rNeyjw0IQAACnRI48cQTzfe///2WaNTpbmeEtuxjAwIQgAAEIAABCECgPAGE8vLsuBICEIAABBpGwDrDDEc6a8R8FDTSVSNQNZqWAAFrHsJYXx8hCM0okmBuTRcYa/KlEJxLL73UbLbZZqlrGN2ZQsIOCECgAgLWea957LHHWmK64YYbzNprr92yjw0IQAACEIAABCAAgfIEEMrLs+NKCEAAAhBoIAHrUNUceeSRLTk7+OCDzdFHH92yj43BJOAalTnbbLMZmQArYg7C+kEIzZzEKep6mWKQKRACBCAAgaoIyKSSnjnxILNX2k+AAAQgAAEIQAACEKiOAEJ5dSyJCQIQgAAEGkBAo8llO1qjy6Mge7HPPvussc6Mo10sB5SAzBTIOLRXdgAAJtFJREFUtnsynHvuuWbbbbdN7nZuH3bYYU475Jj5ceJiJwQg0CGBbbbZxpx//vktsVxzzTXGOkRu2ccGBCAAAQhAAAIQgEBnBBDKO+PH1RCAAAQg0EACBxxwgPnJT37SkjNt77fffi372Bg8AupAkTPnpC/zaaaZxpxzzjlm3LhxXkeUGi1+7LHHmuOOO84J7rLLLjMbbbSR8xg7IQABCJQh8Oijj5oxY8aYTz75ZOjypZde2jzwwAND26xAAAIQgAAEIAABCFRDAKG8Go7EAgEIQAACDSLwzjvvGNlzfemll4ZyNcsss5hnnnnGfOYznxnax8pgEpBN35tuuslZ+JEjR4Yjy7WcZ555zIcffhi2o4ceesicd9555v3333det8kmmxjZLSdAAAIQqJLAeuutZ6699tqhKOV3Q74Q5MiTAAEIQAACEIAABCBQLQGE8mp5EhsEIAABCDSEwPXXX2/Gjh3bkpu9997bHH/88S372Bg8Aq+//rpZfvnlzaRJkyop/LzzzmsefvhhM2LEiEriIxIIQAACInDrrbeaNdZYowXGnnvuaeRrgQABCEAAAhCAAAQgUD0BhPLqmRIjBCAAAQg0hMBOO+1kzjrrrKHcyLzGE088YRZYYIGhfawMJgEJ26ussop3hHheKiuvvLK55JJLzHzzzZf3Es6DAAQg0JaAzEOtsMIK5t577x06d+GFFzaa3TLddNMN7WMFAhCAAAQgAAEIQKA6Agjl1bEkJghAAAIQaBgB2aMePXp0y8jhLbbYwlx44YUNyynZ6QWBxx57zBxzzDGhyZT//ve/hbIgx7B77bVX6NRzqqmmKnQtJ0MAAhBoR0CmnDbbbLOh06acckojZ8Tq4CNAAAIQgAAEIAABCNRDAKG8Hq7ECgEIQAACDSEwYcIEs9Zaaw05b5R9VzlHGzVqVENySDZ6TeDZZ58NHXTKXI/s2v/nP/9xZkltRyPIt9lmGyOb5HIKSoAABCBQBwGNHp84ceJQ1JgOG0LBCgQgAAEIQAACEKiNAEJ5bWiJGAIQgAAEmkLguuuuM//4xz+GsvOtb33LfPrTnx7aZgUCEQGNLJ88ebJ5/vnnw6VGjsupp/7mmmsuM/XUU0ensoQABCBQG4Hx48ebt956K4x/hhlmMOuss47R84gAAQhAAAIQgAAEIFAfAYTy+tgSMwQgAAEIQAACEIAABCAAAQhAAAIQgAAEIAABCPQBAYTyPqgksggBCEAAAhCAAAQgAAEIQAACEIAABCAAAQhAAAL1EUAor48tMUMAAhCAAAQgAAEIQAACEIAABCAAAQhAAAIQgEAfEEAo74NKIosQgAAEIAABCEAAAhCAAAQgAAEIQAACEIAABCBQHwGE8vrYEjMEIAABCEAAAhCAAAQgAAEIQAACEIAABCAAAQj0AQGE8j6oJLIIAQhAAAIQgAAEIAABCEAAAhCAAAQgAAEIQAAC9RFAKK+PLTFDAAIQgAAEIAABCEAAAhCAAAQgAAEIQAACEIBAHxBAKO+DSiKLEIAABCAAAQhAAAIQgAAEIAABCEAAAhCAAAQgUB8BhPL62BIzBCAAAQhAAAIQgAAEIAABCEAAAhCAAAQgAAEI9AEBhPI+qCSyCAEIQAACEIAABCAAAQhAAAIQgAAEIAABCEAAAvURQCivjy0xQwACEIAABCAAAQhAAAIQgAAEIAABCEAAAhCAQB8QQCjvg0oiixCAAAQgAAEIQAACEIAABCAAAQhAAAIQgAAEIFAfAYTy+tgSMwQgAAEIQAACEIAABCAAAQhAAAIQgAAEIAABCPQBAYTyPqgksggBCEAAAhCAAAQgAAEIQAACEIAABCAAAQhAAAL1EUAor48tMUMAAhCAAAQgAAEIQAACEIAABCAAAQhAAAIQgEAfEEAo74NKIosQgAAEIAABCEAAAhCAAAQgAAEIQAACEIAABCBQHwGE8vrYEjMEIAABCEAAAhCAAAQgAAEIQAACEIAABCAAAQj0AQGE8j6oJLIIAQhAAAIQgAAEIAABCEAAAhCAAAQgAAEIQAAC9RFAKK+PLTFDAAIQgAAEIAABCEAAAhCAAAQgAAEIQAACEIBAHxBAKO+DSiKLEIAABCAAAQhAAAIQgAAEIAABCEAAAhCAAAQgUB8BhPL62BIzBCAAAQhAAAIQgAAEIAABCEAAAhCAAAQgAAEI9AEBhPI+qCSyCAEIQAACEIAABCAAAQhAAAIQgAAEIAABCEAAAvURQCivjy0xQwACEIAABCAAAQhAAAIQgAAEIAABCEAAAhCAQB8QQCjvg0oiixCAAAQgAAEIQAACEIAABCAAAQhAAAIQgAAEIFAfAYTy+tgSMwQgAAEIQAACEIAABCAAAQhAAAIQgAAEIAABCPQBAYTyPqgksggBCEAAAhCAAAQgAAEIQAACEIAABCAAAQhAAAL1EUAor48tMUMAAhCAAAQgAAEIQAACEIAABCAAAQhAAAIQgEAfEEAo74NKIosQgAAEIAABCEAAAhCAAAQgAAEIQAACEIAABCBQHwGE8vrYEjMEIAABCEAAAhCAAAQgAAEIQAACEIAABCAAAQj0AQGE8j6oJLIIAQhAAAIQgAAEIAABCEAAAhCAAAQgAAEIQAAC9RFAKK+PLTFDAAIQgAAEIAABCEAAAhCAAAQgAAEIQAACEIBAHxBAKO+DSiKLEIAABCAAAQhAAAIQgAAEIAABCEAAAhCAAAQgUB8BhPL62BIzBCAAAQhAAAIQgAAEIAABCEAAAhCAAAQgAAEI9AEBhPI+qCSyCAEIQAACEIAABCAAAQhAAAIQgAAEIAABCEAAAvURQCivjy0xQwACEIAABCAAAQhAAAIQgAAEIAABCEAAAhCAQB8QQCjvg0oiixCAAAQgAAEIQAACEIAABCAAAQhAAAIQgAAEIFAfAYTy+tgSMwQgAAEIQAACEIAABCAAAQhAAAIQgAAEIAABCPQBAYTyPqgksggBCEAAAhCAAAQgAAEIQAACEIAABCAAAQhAAAL1EUAor48tMUMAAhCAAAQgAAEIQAACEIAABCAAAQhAAAIQgEAfEEAo74NKIosQgAAEIAABCEAAAhCAAAQgAAEIQAACEIAABCBQHwGE8vrYEjMEIAABCEAAAhCAAAQgAAEIQAACEIAABCAAAQj0AQGE8j6oJLIIAQhAAAIQgAAEIAABCEAAAhCAAAQgAAEIQAAC9RFAKK+PLTFDAAIQgAAEIAABCEAAAhCAAAQgAAEIQAACEIBAHxBAKO+DSiKLEIAABCAAAQhAAAIQgAAEIAABCEAAAhCAAAQgUB8BhPL62BIzBCAAAQhAAAIQgAAEIAABCEAAAhCAAAQgAAEI9AEBhPI+qCSyCAEIQAACEIAABCAAAQhAAAIQgAAEIAABCEAAAvURQCivjy0xQwACEIAABCAAAQhAAAIQgAAEIAABCEAAAhCAQB8QQCjvg0oiixCAAAQgAAEIQAACEIAABCAAAQhAAAIQgAAEIFAfAYTy+tgSMwQgAAEIQAACEIAABCAAAQhAAAIQgAAEIAABCPQBAYTyPqgksggBCEAAAhCAAAQgAAEIQAACEIAABCAAAQhAAAL1EUAor48tMUMAAhCAAAQgAAEIQAACEIAABCAAAQhAAAIQgEAfEEAo74NKIosQgAAEIAABCEAAAhCAAAQgAAEIQAACEIAABCBQHwGE8vrYEjMEIAABCEAAAhCAAAQgAAEIQAACEIAABCAAAQj0AQGE8j6oJLIIAQhAAAIQgAAEIAABCEAAAhCAAAQgAAEIQAAC9RFAKK+PLTFDAAIQgAAEIAABCEAAAhCAAAQgAAEIQAACEIBAHxBAKO+DSiKLEIAABCAAAQhAAAIQgAAEIAABCEAAAhCAAAQgUB8BhPL62BIzBCAAAQhAAAIQgAAEIAABCEAAAhCAAAQgAAEI9AEBhPI+qCSyCAEIQAACEIAABCAAAQhAAAIQgAAEIAABCEAAAvURQCivjy0xQwACEIAABCAAAQhAAAIQgAAEIAABCEAAAhCAQB8QQCjvg0oiixCAAAQgAAEIQAACEIAABCAAAQhAAAIQgAAEIFAfAYTy+tgSMwQgAAEIQAACEIAABCAAAQhAAAIQgAAEIAABCPQBAYTyPqgksggBCEAAAhCAAAQgAAEIQAACEIAABCAAAQhAAAL1EUAor48tMUMAAhCAAAQgAAEIQAACEIAABCAAAQhAAAIQgEAfEEAo74NKIosQgAAEIAABCEAAAhCAAAQgAAEIQAACEIAABCBQHwGE8vrYEjMEIAABCEAAAhCAAAQgAAEIQAACEIAABCAAAQj0AQGE8j6oJLIIAQhAAAIQgAAEIAABCEAAAhCAAAQgAAEIQAAC9RFAKK+PLTFDAAIQgAAEIAABCEAAAhCAAAQgAAEIQAACEIBAHxBAKO+DSiKLEIAABCAAAQhAAAIQgAAEIAABCEAAAhCAAAQgUB8BhPL62BIzBCAAAQhAAAIQgAAEIAABCEAAAhCAAAQgAAEI9AEBhPI+qCSyCAEIQAACEIAABCAAAQhAAAIQgAAEIAABCEAAAvURQCivjy0xQwACEIAABCAAAQhAAAIQgAAEIAABCEAAAhCAQB8QQCjvg0oiixCAAAQgAAEIQAACEIAABCAAAQhAAAIQgAAEIFAfAYTy+tgSMwQgAAEIQAACEIAABCAAAQhAAAIQgAAEIAABCPQBAYTyPqgksggBCEAAAhCAAAQgAAEIQAACEIAABCAAAQhAAAL1EUAor48tMUMAAhCAAAQgAAEIQAACEIAABCAAAQhAAAIQgEAfEEAo74NKIosQgAAEIAABCEAAAhCAAAQgAAEIQAACEIAABCBQHwGE8vrYEjMEIAABCEAAAhCAAAQgAAEIQAACEIAABCAAAQj0AQGE8j6oJLIIAQhAAAIQgAAEIAABCEAAAhCAAAQgAAEIQAAC9RFAKK+PLTFDAAIQgAAEIAABCEAAAhCAAAQgAAEIQAACEIBAHxBAKO+DSiKLEIAABCAAAQhAAAIQgAAEIAABCEAAAhCAAAQgUB8BhPL62BJzFwl88skn5o477jBaxsOIESPM0ksvHd/V0foLL7xgnnnmmZY4ZpttNjN69OiWfWxAAAIQgICbwKRJk8yzzz6bOjjnnHOaUaNGpfZXteODDz4w99xzT6nopphiCjPjjDOaWWedNfzTOgECw52A3nf03hMPCy20kJlvvvniu1gf5gRoB8O8godR8Z566ikzefLklhItuuiiZp555mnZx0b1BJ5++mnz0ksvtUS88MILm3nnnbdlHxsQgAAE+oEAQnk/1BJ5bEvgoYcecgriU089tbn33nvNmDFj2saR54Stt97aXHDBBS2nLrjgginxvOUENiAAgb4i8Oijj5o55pgj/OurjPdJZjfbbDNz6aWXpnK71FJLGT3L6wqXXHKJGTduXCXRTzPNNGallVYyY8eONeuss45R3vs50Ob7ufbqy/u6665rrrvuupYE9B503nnntexjY3gToB0Mr/odzs/7VVdd1dx5550tFbbrrruaU045pWUfG/kIFGkra665ppkwYUJLxN/97nfNWWed1bKPDQhAAAJ9QSAgQGAYEHjwwQcDe8M5/6xIHnz00UeVlHLLLbdMpfH5z3++kriJBAIQ6C2Bt99+O9h9992DT33qU8HPfvaz3mZmGKe+6aabpp6jen7bmTm1lvo3v/mNM13fb0eR/RtuuGHw4osv1pr/OiKnzddBdfjEaTuBUveMFcqHTwEpSS4CtINcmBp/0iA871dZZZXUM8sK5Y2vm6ZlsExb+cpXvpJi/53vfKdpRSM/EIAABHIRMLnO4iQINJxAllAusePwww+vpAQI5ZVgJBIINI7A+eefH1jTH0Mv+Qjl9VXRcBTK9TtjzbEEV111VX3gKo6ZNl8x0GEYHQLpMKzUEkWiHZSA1rBLBuV5j1DeecMr21YQyjtnTwwQgEBzCCCUN6cuyEkHBNoJ5dYES3D//fd3kML/XopQ3jFCIoBA4whssMEGQwJ5NIoYoby+ahquQrnaznTTTRf85S9/qQ9eRTHT5isCOcyjQSAd5hWcs3i0g5ygGnraID3vEco7a4SdtBWE8s7YczUEINAsAtgot1+2hP4n4LNRHi+ZbMj+9a9/NbJbXjZstdVW5sILL2y53JpecTqmazmJDQhAoLEE5Gfgueeea8mfFcrNPvvs07KPjWoI+GyUyynyww8/XE0ijlh8NsqtqR0jp8yuYF/ZzD//+c/w7z//+Y/rlNQ+OSV97LHHQqefqYMN2UGbb0hFNDwb2KZueAV1KXu0gy6BrimZQXreY6O8s0bUSVtx2Si3plfM2Wef3VmmuBoCEIBADwgglPcAOklWTyCPUK5UDz30UHPUUUeVzgBCeWl0XAiBxhLo5MOgsYVqcMaaJpTLMaEcFLYLH3/8sXnllVfMI488Yu644w5z2mmnmffee8952RFHHGGsyS/nsSbspM03oRaan4cDDzzQ3HDDDS0ZtTNCzH777deyj43hTYB20N/1O0jPe4TyztpqJ20Fobwz9lwNAQg0iwBCebPqg9yUJJBXKJ9qqqmMnRZvlllmmVIpIZSXwsZFEGg0gU4+DBpdsIZmrl+F8iTON954w3z1q1811qxX8pCZffbZzaRJk4w1xZI61oQdtPkm1AJ5gAAEIFA/gUF63iOUd9aeOmkrCOWdsedqCECgWQQQyptVH+SmJIG8Qrmi1/R+mWD5n//5n8KpIZQXRsYFEGg8gU4+DBpfuAZmcLgI5UL72muvmcUXX9y8+eabKdI33XST0YdjEwNtvom1Qp4gAAEIVE9gkJ73COWdtZ9O2gpCeWfsuRoCEGgWAYTyZtUHuSlJoIhQriQOPvhgc/TRRxdODaG8MDIugEDjCXTyYdD4wjUwg8NJKBdemSX48Y9/nCJ9+umnm+9973up/U3YQZtvQi2QBwhAAAL1Exik5z1CeWftqZO2glDeGXuuhgAEmkUAobxZ9UFuShIoKpTLBMvdd99tll122UIp1imUv/vuu+app54ych6naftzzDGHmX766Qvlr9sn//e//zWvvvqqefnll82UU05p5Nj0M5/5TO3Z+OCDD4zMHmgUp9ZnnHFGM8sss5gRI0aE63Vl4B//+EfouFXmFBZeeGEz7bTTlk6qV2WIZ1htTuYh3n//fTPXXHOZz372s4VmWnzyySehzeaXXnopbKudMonnLbkuh4oavas/pat7RE4TP/3pTydPLbzdyYdBu8TqzHe7tKtor3oeyS73Cy+8EDpCltPLWWed1cwwwwztkvce32GHHcyvfvWr1PEVV1zR3HXXXan9Ve3wOfPMa6Pcl48//elP5ktf+lLq8L777muOO+641P4m7KizzXdavirarfLQi3tP98vkyZPNiy++GD6b5ptvvvB3qVMmw+36fq3jOp6HddRtv+SzjrK74uz2s6Bp/Ot+3jfp+yWvUC7n3Hq30Z++X+aee+7wPVjOvesM3W6LRcvSSVspIpTru0PsX3/99fB9Ut8feresKzSdey+eGb3+DuUbtK7WTrxVEUAor4ok8fSUgE8oP/XUU0MHnq5p8UsuuaS57777CgmDVQrlN998s7nmmmvM448/Hv5JbEyGRRZZxKyzzjpmww03NKuvvnrycG3bZ511VmieJkpAL5HHHHNMKIJLHL/88svNr3/9ayPTAnrZjAcJ1osttpiRp3PxKmPiJh6f1p977rmQ1a233mpuv/12p5mD6Jp55503ZCXbwRq5mjf9X/ziF+bRRx+NojHTTDONOf7448Prb7vttnDUaFzEExOVc9dddzXbbbddW1vE3SiDMp+su6mnntr87Gc/G8qfHBGeeeaZ5tJLLzUSK+JhiimmMAsttJDZcccdjcRMdTwkg+r797//fRjHhAkTjBwcRkFM5p9/fjNq1KjQ2dtqq60WHSq1/POf/2yuuOIK84c//ME8+eSTzjiU3/XWW89ssskmZuWVV3aek9z5t7/9zZx44olDu88555ywg2poh13R82GllVYa2iU2cgQscb5dqCvf8XTraq/6mLj66qtD7mL+7LPPmg8//DCedLiujhV9FK211loh+yKdehKQ1SaTQc+6a6+9Nrm7su26hHJ1cC666KKpfB5wwAHm2GOPTe2PdkhEnzhxYrQZLseNG2fWWGONln3tNn74wx+Gwmz8vG233bblfqi7zcfTzlqvq91GaXbj3ovSipbqtD3jjDPMxRdfbJ555hnz73//OzoULtW5pHrVM3XMmDHhPpl/07M6HpJ1Fj/WzbYST1cdWhpUEA9rr7222XjjjeO7WtaHUx1343nYAq/kRt35zNsOdC9oxqY6s+sIeqZKyMsTuvksqJt/nvLGz6n7ed/k75d2QrneX/X9oneNf/3rX3FsRoOovvzlL5uNNtrIyGmxvmeqCN1si0XzW2VbaSeU633y3HPPDb8hn3jiiVRWNfhIcci5+gYbbNDRYCRF3mTuvXhmdOM7lG/QVLNmRz8TsD1YBAj0PYEHH3wwsPdh6u/KK68MLrzwwtT+6Fw7Zb5Q2bfccstUXHYUdaE47Id08M1vfjMVT5Qn39KKJ4F1RFoorbInf+UrX0nlT4ztqNLAjpxMHfPleZ555glOOeWUstkIrAAV2BemwI7wyJ1mPC9WNA/sC3Gu9JdbbrlUGnakQ/C73/0usGJz6lg8HTv6P7ACsjOdbpZBGXDVnR3hGFixM/jud7+bWY54mewHQmA7CFrK9PTTTwdf+MIXcsVhheUwvbfeeqsljjwbDz/8cGBF01zpxPNsBfPAvvS3TcIKWoXjVjq2oyQz7rrzHU+8jvb6m9/8JrCjqgqzsZ0Hge14CGynSTyL3nXb6eZMY/PNN/deU8UBlS/eXqJ1O6K8o+jtiHJnvPaDITNeK66nrjv88MMzr3Ed1HMuKku0/OlPf9pyal1tviWRHBt1tFsl2817Lyqm/dANdt9998DOMErxj+ohvrQdicH+++8ffPTRR4HtxE9dk6yzKB0tu9lW4um6nsP6Tc4Kw6WOu/U8zGKZ51g38pm3HTzwwAOpdh2/BzpdHz9+fFsk3X4WdIN/20InTqjred8P3y+rrLJKqg3aAS2BneUT6B0xbxu0sxaDX/7yl4Ht9EnQzb/Z7baYP2f/d2aVbcX1/WEHTQX6rTz00EMDOwApN399W5f95m06924/M7r5HepqA3yD/t/9xlp/EdAoOgIE+p5AllCuwn3jG99w/jhLgL3nnntyl78TodxOcQoOOuigQi8KyRc65fekk07Knd+yJ7p+6H77298GdmSck2Myn8ntnXfeObAj0QtlRwK1HV1QKr1k+nYUUtu0XR/3dsR0YEekt82DrnWFbpdBeXDVnR29GCyxxBJty5HkJv433nhjWLQ//vGPwUwzzVQ4DrEp8qEh0bJdx0Qyn/Ft5dnOeHBVx9C+Kj8Moki7ke8oLS2rbq8XXXRRoM6NOMui6+oAtKNp49l0rtvRt8509DFbZ9DHiatMnQrl+gB0xXvHHXdkFqeb4mcdbT6zcJ6DVbdbJdPte09pqhPVzmBx1rurLcT32RGLwc9//vPUtcNZKO/0t7TbddzN56HaU9nQrXz2i1BOO/nfllT1876fvl9cQvm6664bWDNYqWdu/LnsW//2t7+dexBA/D7udluMp11kvcq24vr+sLM9AzvKvxR7fQsof0VC07l365kdMev2d6irDfANGtUGy34jgFDebzVGfp0E2gnl1g5aYG1nO3+orZmIwE6/c8ab3FlWKNdIy6997WvO9H0vZ1n799xzz2TWKt12/dBl5SfPMWsGxTvqOpl5axak9ChyX140wiAruASckSNH5qqzk08+ORV1L8qgTLjqruwHglha0ybB/fffH1g78LlYuPjbadspPq4dvpHGrjiz9mnkpsRYX6jyw0BpdCvf8fJU2V7zilhZzKNj1gxRPJvOdXW6RefHl4cccojz/Kp21iGUa6TMzDPPnCqPRPB2HUQI5f87C6yT52wv7j1rJi18LsbbbhXrw1ko76c67vbzsOzzrZv57AehvNvPgm7yL9pGqnzH6bfvF5dQ3unz2Zq/bPt7Hq+jbrfFeNpF16tsK67vj07ZW384gTXZkqtYTefe7WdGL75DXW2Ab9BczZeTGkhgCuXJPsQIEOhrAj4b5db0SmjfW4WzLwNmiy22cJaznS3Z6KKyNsple9T2ckfRpJayRW6FL7P00ksbOy07tJ1uR7qHTsFSJ///HbIzLVvSdQSXnblkOrL9bUfqh/bAl1pqqdCWsZzayX7522+/nTw93LaCstltt92cx6Kd1lRH6ChTti5dQXbBZZPamnUxsv2q859//nnz2GOPhTbTfY802bzLqoPll1++xS67K23XPtkAl0OauBOaXpVB+ctTdzpPtnKtGZXQFrtsBd57771OW9Q61xXkQFX1Lgee4i9bgGq7riB71tZsS6YDSNmNlE1CX7Aj4s0KK6wQpilb6Fa8D/Ms+4quOpetSdmzj9sZj+LWtbI3HgU74iJaHVousMACQ/aEtVM2ytV+ZQM/HrqZ73i6VbVX+W+Qzdd33nknHn24LkepsvO/+OKLh06uxFlOPWWr306BT52vHaob23FpRo8e7TyunbJvKtvmySCfAHvvvXdyd2XbVdsol3+J9ddfP3z2JTMpm9U77bRTcnfLtp5lSdv71vSKOeKII1rOa7chh5FJHxdWdDU/+MEPhi6tss0PRVpipap2q6R7de/ZEYZG7xauIJ8JahPylyCHt7LvbT+OjX4b24VkncXP72ZbiadrR2Ka6667Lr4rtB/brd/SbtdxL56HLXBzbnQ7n3nbgZyDjx071vmb7Cua3qHkE0b2iRXuvPNO56l6zuk9xeUnhHbSiqzK532/fb+4bJS30vnf9zm9A+tcvd/IV4janfxWyQ+TK9gO/kzfDNE13W6LUbpll1W2lbzfH/omsDOrjBx4yleS3uPlt8P1Lq9yyU+X7zc3KnfTuXf7md2r79C8bWCQv0GjNsuyDwjYhxIBAn1PoN2I8qiAPtvgMmmSxxZamRHlvtGT9vEQyA70VVddFWWvZanRiNaBV2AFv9RoRV0rW2+2g6Dlmqo2XD3CSjP6s6JwYEVIZ3KyheYaKalrrXPIwL4UOa+Ldu6xxx5D6UTpaSk74PaDPXNUh/2Ico6o1vWawqeRgL7gGqEbT195l017Teuzgl5gHZqF+dRIk2ToVRmUj3Z1p3K6TEJYsTyXeRaZ51D5NBU3HrR99NFHO+tOHK2DyPjpLeuyHemb8aGR7Keffrq33q2jz/A+itdVtG4diwbWq3pLWq4N2UKMromW1tmk69SWfb3Md1Xt1TreS5VdDOzHcWBftFvKG9+wH1eB/cB0XiublFlB10ac48u8Mw+y4s465htRrnTlY8D3J3MyYqHR45pCKr8Huu81cyGe/2hddlB9Pgvi+XM9J+uyUR5PV+tl23wynqLbVbXbXt171gGcs85V95qi//777zuRyGRaO18bw3lEeXRvaJn3t7QXddyL56GzwbTZ2e185h1R3ibbmYf1zis/FfG2Eq3rPcD3vks7ycQaHiz7vO/H75d2I8rVlq655hontBtuuCF8PkXtLr7U+047E5K9aIvOgnSws2xbUZLtvj+sMB7I9Ij8dCSDfCLZgTfO+986i8+c+d0P3Lv9zO7Vd2i7NsA3aLLls91kApheaXLtkLfcBPIK5TLBIpE3/vITreslqJ0JlqJCuV6qZNolSiO+1I9FnulkEjX1chG/Nlp3ibS5oWWcmPVDJ3HHjr7IuDoI7IjyQM5Ho3zGl7vssov3Wk3xdAmmsjvdzpFiFKkEqmWXXdaZtl7QfCFLwLEjbgM7wj11qRxHJuuwl2VQBrPqTnYakwJ3vFC6P7JsskvoiWyWx6+Lr++www5O9rLJ6wuyTR1vI9G6nWkR2BFqvsuG9qs92tHtzjjUqdEulP0w6GW+q2qvLv8N+tDMI/TKsZfreWpH42citzMQnHXl6zTMjKzAQZ9QHrW3KpZydvvee+/lyhVC+f91vop9kedsL+49/Z77TIjID0Y7UzsS2SXS+NrZIAjlTa/jXjwPcz0sEid1O5/dEMrlw8d1b+i9Qx3ivtCLZ0G3+fvKnnd/mXecfv1+yRLK9fy2s08zsel90jcI4IILLsi8thdtMTNDJQ6WaStRMlnfHyuuuGKgb4ysoAEJrndKPRfUieEL/cC9m8+MXn6HZrUBvkF9LZj9TSWAUN7UmiFfhQjkFcoVaZY9tv322y8z3aJCuZ3q73zxl8211157LTOt+EE7JdAZj0b32un/8VMrWc/6odOIyjxBArJrNLzK7nP4J/ttrg8ljeQuEjTa3RVPlhDhEx41atQ3et6Vp16WQfnx1Z06IOzUP1eWW/ZZEzVOduIpp6ztgkaKuDo7rMkd56XqgNBokWR96ePYmi1wXuPaqRdwayokFY9GlbcTfct8GPQ631W1Vwm7SfZ5nN9GdSC74snrta0RPr6gUf6uazSiqM5Qt1C+1157ZXZEJcuGUP5/QnmR52yv7j1rXsrZblWP7UYaRnXvcuIZ3QtZv0+9aitlBNIqnk29quNePA+jtlFk2e18lmkHRcpz9tlnO+8t3RsuHzBR3LSTiET2ssw7Tr9+v/iEcn0v6VsxT9Ds1Oi5HF/KZ49ESFfoVVt05aWTfWXaSpSe7/tDflzaieRRHCeccIKTvW+WZ79w7+Yzu5ffob42wDdo1MJZ9hMBhPJ+qi3y6iVQRChXJBqJHX/5idYlzmWNXC4qlI8bN86ZzmGHHeYti++Aqzda+dYonKqD74fO2pAulNT222/vLL9vZMChhx7qPN/aty6Urqa/R3UaXx555JHeeHwf9xK/ioRelkH59NWdzPjkCT4xUWaCXn/99TxROB3XaiSBK8gkQbyOovUiYm0Ur4+9r71F15X5MOh1vqtqr0suuWSKvz408wY9e6395LDO1ZGijxmNDP/www8zo5AppKiuo2U7h7uZEeY46GvbUfqdLjXVNTnDJCtbvRI/lacybT6rLHmPVdFue3Xv7b///qk2qzZz7rnn5i1+2JEiM2KutjbchfIiv6W9quNePQ9zN6D/f2K381mnUC6Teq5BFbpHdt9990w0tJNMPEMHyzzv+/X7xSeUb7zxxkM88qy42rzapG/mW6/aYp6yFDmnTFuJ4vd9f+SZ2RnFoXdHdWokfyN937r9wr2bz2zft1A3vqV9bYBv0KiFs+wnAv8PAAD//+PMcusAAEAASURBVOydB3wUxRfH3yUhoffepYggiIIiKFVUul0REUWlCtKLVBEQlKoI0gREaX+QJlWlCCgICiioFGkKSO89bf7zLtlwud2723J3e0d+8/kk26a8+c7buZ23s29IIKRJAomJiWL37t3iq6++EtOmTRO//vqriI2NDVsWv/32myAi1d+iRYs063Ty5EmRK1cuVXzO45577hE3btzQTPfqq6+q0tx1112acflkvnz5VPG53EuXLnlM4+nCn3/+KSIjI1X5Pfroo56SmD7/2GOPqcphNjt27DCU58GDB0VUVJQqr06dOmnmEx8fLw4fPizWrFkjJk+eLHr16iX69++vGdfXSS32/fr185jswQcfVMnJdd6wYYPHNFoX7KwDy+Op7Vh/9ISNGzdqcnjxxRf1JHfGad26tSqPypUra6Z/7rnnVHGZ+9mzZzXjezt55swZzbwGDhzoLZnge5jLdP0bNWqU1zR2y+0vfW3YsGGqeisMXn75ZXH+/HmvDKxczJs3r6rco0ePWsnSZ9q5c+eqylTq668t99E9evQQ/BvrK5QpU0Ylz3vvvecrmep64cKFVfmMHDlSFc/1hBmdd01vdt8femvXvcfPBu56UqxYMcPPTiNGjFDlw/l6azO7dKVBgwYqWV977TWvzR/ObWxXf+gVqMbFYMtpRg80xFad4mf3LFmyqHSM74dGjRoJfp7yFuzqC4LN3xsDPdfM9Pdaz9DhMH7hMZF7Px0RESH++usvPahS4mzevFmVD+fbrVu3lDiuO3bpoqsM/tg3oytKuZ7GHzwWNBIKFCigYt++fXvNLMKFezD7DDvHoZ50AGNQTfXFyRAnQCEuH8QLAIFDhw6JmjVrqn6EypYtK7Zt2xaAEgOfpVFDOUvkzWjChg6tYMRQzj8K7g9rfNy9e3etrHWde/LJJ1V5RkdHi+vXr+tKrzeS1g8d64yZ8PDDD6tkrlChgpmsdKXhBwTWY62H/N69e3vMw9Pg/r///vOYJlAXzNaB5dFqu5w5c+oy3HH6AwcOqNqL9dYbO07nGrp27arKo1KlSq5RUva12unuu+9OuW50p3jx4qqy69at6zUbMwMDu+X2l7727dtXxUvpt/Lnzy+4LdeuXStu3brllaHRi1pGx6tXrxrNxlB8b32+Umd/bdmYGBcX51U+u4yfLJQZnfdaGZ0X/aG3dtx7/NJISzc8vfT1hoP1PF26dKr87nRDuZHfUjvamNvMrv7Qm75oXQu2nIEwlPOL0UKFCqnuA77PKlasKK5cuaJV9VTnoCepcHg8MNrfh/P4RctQ7usZ0BO40qVLq/STxzRawS5d1JLFyjmjuuJaltb4g5/JjYZq1aqpuPPkDa0QLtyD3WdrsTJyzuw4VEsHMAb1PgY10i6IG1wCDi5OPpQgpBEC586do/Lly5OcUa1Z45iYGNq+fTvde++9mtdD9eTvv/9O999/v0o8OaOcnn32WdV55cTzzz9PHMc9yNkH9OOPP5L8sU51qUWLFjRr1qxU5+RDBcmXD6nO8cHKlStJzohRnZ84cSK1a9dOdV7PiY4dO9KECRNUUffv30/ygU513uwJ+VBJ69atS5VczhKmKVOmpDqn5+Cll16iBQsWpIoqfzSJddFqkF9BkJypQPv27aO9e/fSTz/9RHJGNF2+fFkzazlDnT766CPNaw899BDJLytSXcuUKRNJo0aqc/4+8GcdWDattmM9lrNjdIkujRkkB6+quJMmTaK2bduqzmudkDP3adiwYakuSUO5s29xPXnixAkqWLCg6ynnvnyw1tRzVUSNE3xvyQF4qitcxvHjx1Odcz0oUaIEyS8ZXE+RnFFO8qVWqnPKQSjI7S99/eeff6hkyZKUkJCgVE9zy/dCnTp1qH79+iRnxhD3e1ZC9erVnferkoc0HBLfC4EM8+bNo2bNmqmKGDRokOZ514jyZaSzL5DGG2d/z7+TP/zwg0pvXNO89dZb9Pnnn7ueSrUvXxY4+y7Xk3JGObE8RkKRIkXo2LFjqZJIoyvJF76pzrkeGNV517RW9q3qrV333p49e6hcuXKqqvvirEqQfEKLv7e87NIVvtdXrVqVqhryJRDNnDkz1TnXg3BtY66DXf2hKz89+8GW04weeKsHP6Pxb4D8slUVTc4mpa1btxL3a96CXX0ByxRs/t446Lmm1d94e8YJ5/GL+7MF8+FnV36GNRrk5CT6/vvvUyXLli0bXbx4MdU5O3UxlSB+ODCqK65Fao0/atWq5XxWco3na1/OEqfFixeniia/aqX58+enOhdO3EO5z/DnOFRLBzAG9T4GTaXUOAgtAsG1y6M0uwm8/vrrqre0UiNTnatSpYrdYhou38yMci7k1KlTInfu3Knqr/Dg2X7uLliMzCj/8ssvNfOVg07D9VMSsDsIRT7X7ZYtW5QoftlqvREeOnSoqbx5Br2rrLzvcDgMfa7OM/DYJci4cePEO++8I3h2kzTuabqicS/L9ZhduXgKWjMdeVaTv0Iw6sCyarWdNG7qroY0KKvaixmuXr1adx7s4saVO+9rzSjftWuXKp57On8cp0+f3qvsRmfQhILc/tRXvi+Mcub+sUuXLmL9+vVCGtm98tW62KRJk1RlsiuWQAdPM8ql0c9U0TzjhtNqzWhinvy5N7s48xQwozzp2cNIP2vXvcd6rnWPsE6ZCdJ4oMrvTp5RHg5trLSjHf2hUraRbTDl9OeMcmmUEU888YRK//n+ypgxo9MVpB4OdvUFimzB5K+UaXZr9BknnMcvWjPKhw8fbgrdm2++qdJTHr/wb79rsFsXXWWxum9UV1zL0xp/PPPMM65RdO1ruVPRcv8Ybtzt7jOCMQ7V0gGMQb2PQXXdFIhkCwG4XrEFu32FavmF1Rr8ydm+9glpomSzhnIuSs4yVD0IKUzcfdEZMZSPHTtWM185M81EDZOSLFy4UDPPFStWmM5TK6HWDx37szcTPvnkE02Z5QxIn9nJmfJCzhAWGTJk0MxDaSe9W35I8RS0DI/yiwNP0XWfD2YdWCittpOz+nXL68lQbsRXu15DOeept+2sxnN/6eUKxOjAIBTk9qe+sqG7adOmptuCfWT37NlT6LmnFe7uL23ZaBzo4G9DuSLvH3/8IfLkyaPJ7+mnn1aiqbYwlCcZyo30s3bde56eEzZt2qRqVz0n2DWPe592JxvKw6GNlXazoz9UyjayDaac/jSUv/HGGyrd53uBXyzKWaS6EdjVFygCBpO/UqbZrdFnnHAev2gZys2+0OQ1Q9z7aT4+ffp0qqawWxdTCWPxwKiuuBanNf5o2bKlaxRd+3oN5eHG3a4+I5jjUC0dwBiUVBMvdd0IiGQ7ARjKbW+C4AnAbxK1FlbUegjg2bvhFKwYyrmeL7zwgubDED+4S3ceKSiMGMo/++wzzTy5HcwG6Q5GM082oPszaP3QLV261FQR0lWNpszeFvbgRRn5QYn5a+mn2XNGDeU8Y9ZssKMOLKtW20kXELqrEUxD+ZIlS/zavt70gr8e8RSMDgxCQW4tQ7kVfWU2PDvak8HXG1vlWubMmYWvRVCVNnD3Y1+1alXlUsC2gTKUs8CeDKnMxlOfD0N5kqHciN7ade/x4tKKnrtujS5wrSi31svEO9lQHg5trLSNsg1mf6iUaWYbDDn9ZSgfPHiw5n3E95Q3/dfiYldf4C5LMPi7l2n02OgzTjiPX7QM5V9//bVRZM74nji4LzweKrpoqpJuiYzqimtyrfFHq1atXKPo2tdrKA9X7sHqM+wYh2rpAMag5PRgoEv5ESmkCMBQHlLNEVhheDE2rQWkXAd9yr7R1cEDK7nv3K0ayr25YOHFXJTFMo0YyqWPZs0BgZFZl+41/+abbzTz5M/C/Rm0fujMuoz5+OOPNWVmg6xWYKMSu/9RdNHIll0g8OwF6XdeaH09YdRQ7v5FgZa8WufsqgPLotV2Rh5Ug2ko96TPRtpcb1x+YPQUjA4MQkFuLUO5WX115cIz7/nrETaM6P29cG+DAQMGuGapuT9kyJBU97j0gasZz58nA2ko55lC7A7KnQUf79y5U7Ma/jKUS5++qnJ9GZ2M6rxmBUyctKq3dt17c+bMUTHmtv35559NUBCif//+qvy8tZldumLGQBqubazVkMHqD7XKNnIu0HKa0QN3+T258+D7qE2bNu7RfR7b1RdoCRZo/lplGjlntL8P5/GLlqFc+lw3gislLrts0fpNv3TpUkoc3gklXUwlmIkDo7riWoTV8YeSl15DeThzD3SfYdc41KoOpMUxqKL32IYeASzmKX8B01LgBfXkoN1rlXnRNvkQQJGRkV7jhdJFs4t5utaBFwmR7gdcT6Xsy9mPNGbMGDKymKecgaa5aCcvEiof5FLyNrIzfvx4kj66VUnkp/9+XYBVazGOadOmkfTXpyrb1wleEJHZuQY5U5zkixuSXzi4nibp94+eeuop1eJhqSLJA07Hi5vdd999zj/p/9S5dV0YUrqDUC3gKA3lhhbzlIZHGj16tHvxXo/trAMLptV20lBOU6dO9Sq3ctHTYp7yE0eqWbOmEs3rVhqB6IMPPkgVR2sxT74XatSokSoeH3Tu3JleeeUV1XkrJypXruyxTzO6eFEoyK21YJ4ZffXGlBdc44WspH96WrNmDR05csRb9FTX1q5dS/KBOdU51wM5U4s6dOiQcqp58+aqhZJTLvppx9NinnJ2D/EChVYD5yFfMqiy+d///ke8qLF70Fqgke8d+RLBParXY/7N5sVGXYM0uobNYp5G9Naue+/bb791LmTrypj3PbWtezz3Y/lCV7Ugprc2s0tXzCziaLVvsquN3dvI/TiQ/aF7WVaOAyGnGT1wrYOczOG8f7QWbJb+yokXj3R/HnRNr7UPPdGion3O6DNOOI9ftBbzlC9pnOM3bTqez7Zv3161CCiPjePi4kj6Kk9JGKq6mCKggR2juuKatdXxh5KXdNVFcsKTcujcai3meadw93efbec41KoOpMUxaCpFx0FoEQg92z0kCiQBnmkrNdDrnzRwBVKEgORtdUa5IhQvFqLFh12AsC9SIzPK5QBaMy92RWI2aC2MyfK6+8szm7+STuuN8KBBg5TLhrZaTD0t3Ofts1z2g8zXf/31V8FfR/gKWn7N2Y+yp2B1FpySr511YBm02i5UZ5Sz+x2t+61Hjx4KzqBsjc6gCQW5/aWvRgAfOHBAyJd1onHjxkIaZzXbTmlPXqzNW3Cf3d2xY0dv0f1yzb1MRVb+DNYfgeug5Om6ZX+vWkFrlrC3r1608uCF8VzLUva9zU7mfIzqvFbZZs5Z1Vu77r2tW7dqch4xYoQZDKJOnTqq/Ly1mV26YmYmcbi2sdGG9Gd/aLRsI/H9IacZPVBk5Hs2e/bsKn3nvqpcuXLi4sWLSlRDW7v6AkNCysj+4G+0TPf4Rvv7cB6/aM0ol5N13JHoOtbS+5w5c6rShosuqgTXOGFUV1yzsDr+UPLSO6P8TuKu1J23VvsMO8ehVnUgmDPK71T9cdUl7FsjANcr1viFZWoeiPOq3cqA2nXLP07uq3mHQyX9ZShng7MnH72lSpVy+s125cX7/FChFeSbbk3GQ4cO1Yqu65yWL3U24vNn//4MWj90vPq7mfDwww+rOMiZ4KqsWO/YGO7Ol48feeQRcfLkSVUaTyf4kzatfPhFg6dgdXDP+dpdB5ZBq+1C1VDOiwZrtZOckcBVCVowOjAIBbn9oa9WALM7qs8//1xwv6jVhnLWlZCzrjwWIWfopkqnx12Lx8x0Xgi0oVzOZEtVJ4ULuxzQCnKWsCq+EV/OnKecfaPKg8v1ZnTldEZ1ntP4I1jVW7vuPS5X67nJ7AseOWtP1W7e2swuXdEyFPFCpN5CuLaxtzr5uma1P/SVv7+um5XTjB6wzCdOnBDFihVT6Tr3UTxh4vDhw6arZldfYFpgmdAsfytlclqj/X04j1+0DOW8JoqZwC9ylN9xZVutWjVVVuGoi6pKJJ8wqiuu+Vgdfyh56TWU30nclbq7b432GXaPQ63qQDAN5WlBf9z1CcfGCMBQbozXHRP7u+++E88++6zz4alQoUKC/cOyX9pwDf4ylHP9pQsW1YOR8oCkteWHCq3Axtro6GhVXvwQZybIT7NE7ty5VfnxIMTfQeuHjh8YExMTDRXFP3gxMTEqmd9++21VPtJ9jCoe82b91DOD3DVDTyuhe/PhbHVwz+XbXQeWQavtQtVQzvLefffdqnbPkSOH4JmyZgJ/scHGRvaNv3jxYqd/6AsXLnjNyszAwG65/aGv/IKNZ64sX77cuQgnL7jz7rvvemXlfpHXd+B1HLT6xkOHDrlHTznmF1+TJk1K+eM+PNAhkIbymzdvavZ1zGXdunWaVZMuo1TcXn/9dc24nk7yQs5a7L0ZXTkvMzrvSQYj5/2ht3bde1pGE35RZHRyAeu+1sLq3trMLl0xYyAN1za2sz80cg/ZIacZPWAfudLlmWb/lD59erFlyxYj1daMa0dfYAd/zcobOGm0vw/n8YuWoZxfTBoN/Gyk1U97GkfYoYtG66QnvlFdcc3T6vhDyUuvoZzjhwP3YPYZdo9DrepAMA3l4aI/yn2BbfAJwFAefOYoMQAE/GkoZ/GkP1nNh3stgwQ/VHgKVatW1cxnxYoVnpJ4PO/pU6pOnTp5TGP2gtYPHdfd6MrxLJsWM+n3WCUaL7ajFbd169aquL5O8FcTWnlJ/+4ek/pjcG93HbhyWm0XyoZy/lJBq60++ugjj23l6cLBgwc1BzbSd72nJM7zWgMDb0YrTmS33P7Q1759+6rY84stNnAYCdxWWm3I7ipCKQTSUO7tBaunBZy1Fi3m+9dI8OTuxZf+mtF5I3J5iusPvbXr3uPfIi09/+KLLzxVV/M8v8jTysdbm9mlK2YMpOHaxuHSH9ohp1E94JdHjRo10tRz/jJDrheheW8YPWlHX2AHf6Nc3OOb6e/DdfyiZSjn/tbowsv80lqrn16wYIE7XuexHbqoKYjFk2Z0RSnS6vhDyceIoTwcuAezz7B7HGpVB4JtKA8H/VHuC2yDTwCG8uAzR4kBIOBvQzm7YOHPQrUektzP8UOFpyAXZdPM4/777zc0O/v8+fMiW7Zsmnlt3LjRU/Gmz2v90HG92WWK3lnl/Mktzxpy58WzhbVcMngyNA0bNsxQPdhYmjlzZlW5LEfbtm095uWPwb3ddeDKabVdKBvKPc2IZR/Y//zzj8f20rrA9XTXNz725fdZy60Bv5jyFuyW2x/6Onv2bE1eRl+Iffjhh5r5eDIQe+MayGuBMpTzANyTz3Z2G+Up8Jdc7vqaMWNG4esLCCW/o0ePiixZsqjy4Dy9GV05vRmdV8q1svWH3tp178kFCTVZlyxZUvM3TYsTu8rR+l301WZ26YpRAynXOVzbOFz6QzvkNKoHchFEzXuF9dyK+0H3e8qOvsAO/u71Nnpspr8P1/GLJ0O5ka+19u/fL9h9nPvvc9asWcWVK1c08duhi5qCWDxpRleUIq2OP5R8jBjKw4F7MPsMu8ehVnUg2IbycNAf5b7ANvgEYCgPPnOUGAAC/jaUs4g8a8D9IUnr2Juh/MyZM0JrUUnOR+8iYOyCgn2CapVdoEABv/sn57pr/dAp5U+ePJmjeA1sCG/WrJmmzJ5miO/atUsz/jPPPOO1LNeL7MuNDVOKrO7bFi1auEZPte+Pwb3ddeAKabVdKBvKeeaZlr9ebjuekabXBQsvPsX++t3bnAc7vgzulSpVUqXjgb63YLfc/tBXduekZbQrWrSo4L5LT+D2eeihh1T82HDsLfALN/c/b/H9cc3fhnLu59htTa5cuVT1V/RwwoQJHkVnF1RKPNetHkMSu3rRMl4p+fgylJvReY8VMXDBH3pr5733wAMPaLaZnsWu+fNr/g1S2sh9663N7NIVLR0LtI9yVic72tjO/tDALSTskNOIHvCzrbtuK8dt2rQxUlWfcaEnPhE5I5jp78N1/OLJUM46qOdLBh5H1K9fX1OHva0hYocu6mt9Y7HM6IpSgtXxh5KPEUN5OHAPZp9t9zjUqg4E21AeCvrjPhbSOyFRuV+wDRwBGMoDxxY5B5FAIAzlLH7Tpk01H5aUh37eejOUcx4dOnTwmAcbkz3NTuC0PGPQm+F3/PjxHM3vQeuHzrXO7MeYB/1agR+ua9eurVlnnk3OPo21AhudtIx2XC4bQX0FngHCM95d5XTff/rppz1m4w8Djt114MpptV0oG8pZ5s8++8xju7Fhilcm9xaWLFki0qVLp5kHL4DrK9SoUUOVNmfOnGLv3r1ek9optz/0lSvHa1W43yd8zPcwf1njLfADpqdZ/C+++KLHpOybXKvMQLiRchXCk6F84MCB4q+//vL6xzrIvzM8e5z1jWX19dUR+69mX6+eAvsu1+LAL3zmzJnjKZn4999/hafP4pX8vBldOWOzOu9RKJ0X/KW3dt173l6gswGZX2BoBf5KQMvYqLQXb721mV26oiVzMAzlzNCONrajP9TSF1/ngi2nXj3gZzWtRW9Zv3nSA/9m+DtAT3wTNdvfh+P4xZuhnCcu8XOAp8BjLm9+9b2tu8J52qGLnupi9rxZXeHyrI4/FJmNGMo5TThwD1afbfc41KoOBNtQbrf+ePraINDjIeVew9Y7ARjKvfPB1TAhEChDORt9fRlDfBnKL126JNhg4jogdt0vU6aMGDdunNi8ebPgmQwcf+3atWL48OGai3cqaZs0aRKw1tH6oVPKVbaPP/6405hz+PBh52fnv/76q7MevLioEsd962s2uifjD/tN7t69u+AVqt0Dl8suVTy5PnCVgfP3FPxlwLGzDlw3rbYLdUM5v3RhfXJtK9d9foHSr18/sXr16pQXLWfPnhXs675u3boe07Ebi507d3pq8pTznh5g2fjOhno2GlevXl21+JidcvtLX5ctW+aRH7swYu7cv/KMGA48g5zv+enTp3vt13bs2JHC131n9OjRmmXyYqKBDJ4M5a665s99XjTbVyhbtqwmC5ajXr16zgVp2UjPCzQtXbpUvPLKK5qLRLvL7c3oyjKZ1Xlf9fF13V96a+e9521WONdv6tSpzpcubBTkduPfPU8L3rq2m682s0NX9BpIXds9nNvYjv7QlZ3e/WDLqUcPeLKCp8kOrOddu3YVnTt3FvxVYfPmzQUbw9h4buTv+eefV7mmsqMvCDZ/vXrhKZ7Z/j4cxy/eDOVKf8vrUG3atMn5PMPPNLyeCj+X5MuXz+Pv8aeffuoJb8p5O3QxpXA/7ZjVFS7e6vhDqYJRQ3k4cA9mn2HnONSqDthhKLdTf6ZMmaLZ5wR6PKTca9h6JwBDuXc+uBomBAJlKOfqs79e5eFKa+vLUM55sLHOkwsWrTx9nStUqJBu1whcvtGg9UPnSyZf19no4+tzog0bNmj6BVTyZjcaxYsXF/wgzLPHs2fP7rVtlHTKlg2nnhYq9Nfg3s46cDtrtV2oG8pZbv7SgPVaaStv2+joaJ/x2MjNi9roCezqwlt5yrUxY8aosrNLbn/pK1eoZ8+euurPhnMt9zYKH2Xry23NnW4o5xmVer/24cG3ws2fW19GVys6r7oJDJzwp97ade/xSyNvRmuz7eirzezQFT0GUvfmD/c2DnZ/6M5P73Ew5dSjB/zsY1b3jaQ7cOCACpEdfUEw+asqbPCElf4+3MYvegzlir7x84yWL3LlurI14gLSDl00qA5eo1vRFavjD0Uwo4ZyThcO3IPVZ9g5DrWqA3YYyu3UHxjKlbs+NLcwlIdmu0AqgwQCaShnUV5++WWPAwA9hnLOgz/Z9zZbQXkg87Xlz+ICvUie1g8dy+Xpk1pfMvOn2np9TbMbBF/5+brO8vPsS614X331FTeHKvhzcG9XHbhSWm0XDoZylp1nKpcvX16z3bTa0tM5Hvx4+7yWy3IN27dv12UA9uRf3w65/amvPJuCv1DxxNPIeR7gcH7ewp1sKGeXPV9++aW36qe6xq63KlasaJp9lSpVnF/yuLeRL6OrVZ1PVQkDB/7UWy7WjnuPy2W3RJ4+0XdvC/djT26ifLWZHbqix0DKPFxDuLdxsPtDV3ZG9oMppx49sNNQztyC3RcEk78RvdCKa7W/D6fxi5ahXOu52L1f9nTMbuRu3bqlhdXjuWDrokdBTFywoitanI2MPxRxzRjKOW2ocw9mn2HXONSqDthlKLdLf2AoV+760NzCUB6a7QKpDBIItKGc3Tx4MnLrNZRzlXhRQW+uIjw9qPF5Nv717t3b6ebEIB7D0T390PHsej0uTpR6REVFicGDBxsqnz9XZ7+InFbJR++WjVRsbOCHEf7TWmSPF+nRCv4c3NtVB66Xp7bTqrPWOTsfUlge/tSXXRvombmspRf8pQEvsGg09O3b16e+8QDMUwi23P7UV64Tz5Llhdb0zNbX4s5fzAwZMkTXgPJONJTnz5/f6R6KfyuMBk5Ts2ZNn/rnzv311193ttvnn3+uSuvL6MoyWtV5o/Xk+P7WW84z2Pcel8mB7xl2IeHeLt6O+TeKfdwXLlxYlU5PmwVbV/QYSJNo3P5/J7RxMPvD2+SM7wVLTj16YLehnOkFuy8IFn/jmqFOYbW/D5fxi5ahfOPGjaJPnz6Gniv5hSYz47GEmRBsXTQjo6c0ZnXF6vhDkcesoZzThzr3YPUZdo1DrepAWhuDwlCu3PWhuYWhPDTbBVIZJLBv3z7N2c56fMTqLWrRokWqgS0PiCtUqKA3i5R4a9ascfpk1mOUYncUAwYMEEeOHElJH+gdbz90v//+u6hWrZomC8VAkCVLFqfRiBedMxt4cb2GDRt6LUcpr2TJkk4jHT8guQatxVjz5MnjGiVlX2sBUuZuJQS7Diyr1szgLl266K4GG2K0ZjyyL3i9YdiwYap2Y0OgkcC+fXmx22zZsqnyUtrddcsG8oULF/p07+NNhpkzZ4py5cp5LK9IkSLekjuvBUvuQOgrV4AXs3rnnXd0u4oqWLCgYFcrPJNHb/C0mCf7rw1k8OYj0lWXPO1zf82GzqJFi4r777/fqZ8ffPCB4IUWzQ6mXes7b948Z76eylfOsyGAdV0JWr7XeXErPcEfOq+nHCVOoPSW8w/WvafURdmuX7/e+aLD28s9fpHELzZOnjzpTGbWUK6UGSxd4cWQFb1Ttr5cK91JbRyM/lBpUyvbQMupRw/4GUHRkUBt2U2Gni8qg90XBJq/Fd1wTeuP/j7Uxy/s5tFd/5Q1U/i3mr/Ccr/uesxrIrGf7j179riiM70fbF00LahbQjO6YnX8oYigtQ5Iy5Ytlcu6tqHOPVh9RrDHoVZ1IK2NQefMmaPZHwV6PKTrJkIk4WAG8gcCAQRAwAYC0l82yUE2SUM/yYVDSf5AkDRSkjTEkFwUk0qUKEHyoY7k4CCo0slZ7yQfKFOVKT+fI7lIWco5llkupkjyx56kbziSBiSSC5Y5/1jmrFmzpsS1ssP5S5+Uzr+DBw+SNDSQNMSTXGSV5EsEkoNyJycrZQQ67Z1Qh0Az8pS/nBVBcqElkgMd5z3C98nNmzdJGpqc7c73CP/xsXQN5CkbQ+f//vtvp15L9wrOPDlvvielUVj3vWiH3IYq6SMy902HDh0i+bIr5Y/vPemnnOTXNSRnUJM0FpOcPeo37j5ESjOX5UsHZ98qDUJ04sQJZ725r2M9rFWrlrOP9TcMf+i8v2Uym59d9x63lVxwmOTMS2e7yZcnzjbj38XGjRuTfOmXUiX50o24fV2DnFFOPXr0cD3lc98OXfEpVBAiBLuNw6U/DBc5g6AiziKgJ9qk/dHfh+r4RbvGqc9KI7hzjKOMX+T6Rc7nu1KlSpH8esJv4xfXUoOti65lW9n3h65YKd9q2lDnHqw+G+NQc5oU6vpjrlZIpZcADOV6SSEeCKQhAnoM5WkIB6oKAiAAAiAAAn4j4C9Dud8EQkYgAAIgAAIgAAIgAAIgAAJOAjCUQxFAAARUBGAoVyHBCRAAARAAARDwCwEYyv2CEZmAAAiAAAiAAAiAAAiAgN8JwFDud6TIEATCnwAM5eHfhqgBCIAACIBAaBKAoTw02wVSgQAIgAAIgAAIgAAIgAAM5dABEAABFQEYylVIcAIEQAAEQAAE/EIAhnK/YEQmIAACIAACIAACIAACIOB3AjCU+x0pMgSB8CcAQ3n4tyFqAAIgAAIgEJoEYCgPzXaBVCAAAiAAAiAAAiAAAiAAQzl0AARAQEUAhnIVEpwAARAAARAAAb8QgKHcLxiRCQiAAAiAAAiAAAiAAAj4nQAM5X5HigxBIPwJwFAe/m2IGoAACIAACIQmARjKQ7NdIBUIgAAIgAAIgAAIgAAIwFAOHQABEFARgKFchQQnQAAEQAAEQMAvBGAo9wtGZAICIAACIAACIAACIAACficAQ7nfkSJDEAh/AjCUh38bogYgAAIgAAKhSQCG8tBsF0gFAiAAAiAAAiAAAiAAAjCUQwdAAARUBN5//3368ccfU51/6aWXqHXr1qnO4QAEQAAEQAAEQMAYAf4tPXLkSKpE3bp1owYNGqQ6hwMQAAEQAAEQAAEQAAEQAIHgEoChPLi8URoIgAAIgAAIgAAIgAAIgAAIgAAIgAAIgAAIgAAIgECIEYChPMQaBOKAAAiAAAiAAAiAAAiAAAiAAAiAAAiAAAiAAAiAAAgElwAM5cHljdJAAARAAARAAARAAARAAARAAARAAARAAARAAARAAARCjAAM5SHWIBAHBEAABEAABEAABEAABEAABEAABEAABEAABEAABEAguARgKA8ub5QGAiAAAiAAAiAAAiAAAiAAAiAAAiAAAiAAAiAAAiAQYgRgKA+xBoE4IAACIAACIAACIAACIAACIAACIAACIAACIAACIAACwSUAQ3lweaM0EAABEAABEAABEAABEAABEAABEAABEAABEAABEACBECMAQ3mINQjEAQEQAAEQAAEQAAEQAAEQAAEQAAEQAAEQAAEQAAEQCC4BGMqDyxulgQAIgAAIgAAIgAAIgAAIgAAIgAAIgAAIgAAIgAAIhBgBGMpDrEEgDgiAAAiAAAiAAAiAAAiAAAiAAAiAAAiAAAiAAAiAQHAJwFAeXN4oDQRAAARAAARAAARAAARAAARAAARAAARAAARAAARAIMQIwFAeYg0CcUAABEAABEAABEAABEAABEAABEAABEAABEAABEAABIJLAIby4PJGaSAAAiAAAiAAAiAAAiAAAiAAAiAAAiAAAiAAAiAAAiFGAIbyEGsQiAMCIAACIAACIAACIAACIAACIAACIAACIAACIAACIBBcAjCUB5c3SgMBEAABEAABEAABEAABEAABEAABEAABEAABEAABEAgxAjCUh1iDQBwQAAEQAAEQAAEQAAEQAAEQAAEQAAEQAAEQAAEQAIHgEoChPLi8URoIgAAIgAAIgAAIgAAIgAAIgAAIgAAIgAAIgAAIgECIEYChPMQaBOKAAAiAAAiAAAiAAAiAAAiAAAiAAAiAAAiAAAiAAAgElwAM5cHljdJAAARAAARAAARAAARAAARAAARAAARAAARAAARAAARCjAAM5SHWIBAHBEAABEAABEAABEAABEAABEAABEAABEAABEAABEAguARgKA8ub5QGAiAAAiAAAiAAAiAAAiAAAiAAAiAAAiAAAiAAAiAQYgRgKA+xBoE4IAACIAACIAACIAACIAACIAACIAACIAACIAACIAACwSUAQ3lweaM0EAABEAABEAABEAABEAABEAABEAABEAABEAABEACBECMAQ3mINQjEAQEQAAEQAAEQAAEQAAEQAAEQAAEQAAEQAAEQAAEQCC4BGMqDyxulgQAIgAAIgAAIgAAIgAAIgAAIgAAIgAAIgAAIgAAIhBgBGMpDrEEgDgiAAAiAAAiAAAiAAAiAAAiAAAiAAAiAAAiAAAiAQHAJwFAeXN4oDQRAAARAAARAAARAAARAAARAAARAAARAAARAAARAIMQIwFAeYg0CcUAABEAABEAABEAABEAABEAABEAABEAABEAABEAABIJLAIby4PJGaSAAAiAAAiAAAiAAAiAAAiAAAiAAAiAAAiAAAiAAAiFGAIbyEGsQiAMCIAACIAACIAACIAACIAACIAACIAACIAACIAACIBBcAjCUB5c3SgMBEAABEAABEAABEAABEAABEAABEAABEAABEAABEAgxAjCUh1iDQBwQAAEQAAEQCFUCIlQFg1wgAAIgAAIgAAIgkAYIONJAHVFFEAABELCTAAzldtJH2SAAAiAAAiAQRgRgKA+jxoKoIAACIAACIAACdxwBGMrvuCZFhUAABEKMAAzlIdYgEAcEQAAEQAAEQpUADOWh2jKQCwRAAARAAARAIC0QgKE8LbQy6ggCIGAnARjK7aSPskEABEAABEAgjAhoGcr5nNlBm5KflfRm0zJ2q7LbVXY4y26FudV6W01vp+y4V7j1zAUr7WYlLUtrJb2VtFbLtpreTtm5bA5m+2e7ZTcrN9c5rcpuZ72tcjcjuxUdYXkRQAAEQAAEvBOAodw7H1wFARAAARAAARBIJsADOgQQAAEQAAEQAAEQAAF7CMBQbg93lAoCIJB2CMBQnnbaGjUFARAAARAAAUsEYCi3hA+JQQAEQAAEQAAEQMASARjKLeFDYhAAARDwSQCGcp+IEAEEQAAEQAAEQIAJwFAOPQABEAABEAABEAAB+wjAUG4fe5QMAiCQNgjAUJ422hm1BAEQAAEQAAHLBGAot4wQGYAACIAACIAACICAaQIwlJtGh4QgAAIgoIsADOW6MCESCIAACIAACIAADOXQARAAARAAARAAARCwjwAM5faxR8kgAAJpgwAM5WmjnVFLEAABEAABELBMAIZyywiRAQiAAAiAAAiAAAiYJgBDuWl0SAgCIAACugjAUK4LEyKBAAiAAAiAAAjAUA4dAAEQAAEQAAEQAAH7CMBQbh97lAwCIJA2CMBQnjbaGbUEARAAARAAAcsEYCi3jBAZgAAIgAAIgAAIgIBpAjCUm0aHhCAAAiCgiwAM5bowIRIIgAAIgAAIgAAM5dABEAABEAABEAABELCPAAzl9rFHySAAAmmDAAzlaaOdUUsQAAEQAAEQsEwAhnLLCJEBCIAACIAACIAACJgmAEO5aXRICAIgAAK6CMBQrgsTIoEACIAACIAACMBQDh0AARAAARAAARAAAfsIwFBuH3uUDAIgkDYIwFCeNtoZtQQBEAABEAABywRgKLeMEBmAAAiAAAiAAAiAgGkCMJSbRoeEIAACIKCLAAzlujAhEgiAAAiAAAiAAAzl0AEQAAEQAAEQAAEQsI8ADOX2sUfJIAACaYMADOVpo51RSxAAARAAARCwTACGcssIkQEIgAAIgAAIgAAImCYAQ7lpdEgIAiAAAroIwFCuCxMigQAIgAAIgAAIaBnK+ZxdgzY7y7aqDeEsu9W6W0kfztzslN3Osq20N9KaJxDObW6n7HaWbb61kdIKgXBrc7ueuawwRloQAAEQCCcCMJSHU2tBVhAAARAAARCwkQAPJt2DnQNMO8t252D02E7ZrZZtNb1RVq7x7SzbVQ4z+3bKbmfZZli5prFTdqtlW03vysHovp1lG5XVPb6dsttZtjsHo8d2ym61bKvpjbJyjW9n2a5y6N2HoVwvKcQDARAAAXMEYCg3xw2pQAAEQAAEQCDNEeDBJAIIgAAIgAAIgAAIgIA9BGAot4c7SgUBEEg7BGAoTzttjZqCAAiAAAiAgCUCMJRbwofEIAACIAACIAACIGCJAAzllvAhMQiAAAj4JABDuU9EiAACIAACIAACIMAEYCiHHoAACIAACIAACICAfQRgKLePPUoGARBIGwRgKE8b7YxaggAIgAAIgIBlAjCUW0aIDEAABEAABEAABEDANAEYyk2jQ0IQAAEQ0EUAhnJdmBAJBEAABEAABEAAhnLoAAiAAAiAAAiAAAjYRwCGcvvYo2QQAIG0QQCG8rTRzqglCIAACIAACFgmAEO5ZYTIAARAAARAAARAAARME4Ch3DQ6JAQBEAABXQRgKNeFCZFAAARAAARAAARgKIcOgAAIgAAIgAAIgIB9BGAot489SgYBEEgbBGAoTxvtjFqCAAiAAAiAgGUCMJRbRogMTBJwNQxAD01CDJlkQi4M7KAIF3nQpi4wsAsCIAACXgi4/h56iYZLIAACIAACJgnAUG4SHJKBAAiAAAiAQFojAGNWWmtx++vLOhdBN2nP/A9owNjz9ML8MdS0SIz9gkECSwTEjY30frOJdLJaS+rf80kqEpFk+kEfYwkrEoMACKQBAjCUp4FGRhVBAARsJQBDua34UTgIgAAIgAAIhA8BGLHCp63uBEmTjOTHaXGft6j/1B/oRJFetHTdAKqeI92dUL00XQcHHaE5rz5D7b85TkXr96MZUzvRg9mS5pijn0nTqmG58oE0IkI3LTcPMvADgUDquB/EQxYgAAIgEPYEYCgP+yZEBUAABEAABEAgOARgJAgOZ5RC0jUHkSN+D83o1pHen7yert3XnSZ92Yua3JOHomElMKUiZrAlcjuYKs17Is4z7vwvNK3D69Rh/lEqUb8bjfvsXWpQLIOz7b2nxlUQ0CbAenXt+FZaMXM6fbFqBx29FEsR8msFszoshIMyFq5ETzTrQr1frUAZtYvVddaMDPjN1YU2zUUyo0tpDhIqDAIgAAIWCMBQbgEekoIACIAACIBAWiKAQXtaam376sp6FkH/0cLur1DnzzbShYJtaPryIfRsWWkkl9egh+ba5vr+jfT9tj9p//HLlCgkRXGVju8/SpfYGi4S6NrJvbT7n6vSsJiOshWtS50njKJXSkUFjDcbexIub6fJbzWlDov+paJ1BtOixb2ocpaIgJVpjhxShQ2B+AO0eFhf6jn4azqU4KeewhFNmXJUpncWLafhtXKa0s3Ea6fo720/0Mbdx+jstTiKjIyny6dP0anTFykuMooSr5ygg4eP0bmrtyhBFKJ6PYdRn+bVqHBGh6nywqa9IKgpAjCUm8KGRCAAAiCgmwAM5bpRISIIgAAIgAAIpG0CfjI7pG2IqL1PAg46R6t6vUhvT9pA/8bXo5FrplD7RwpTBpkSOugTn2aEhFP/o5a1e9O3Jy/QzXi2jHNIpLhbcfJ/UkiMj5NGuqT9yBz3UrOZG+irJrkCypwNPvGnVlPPp1vQx79cpZKNxtDyxe3onkgYCJObBRsDBBLP/0SfdO9E3b/YYSCVnqiZ6fGJO+n7dqUM3w+OhOP0w9TB9E73WXQkKlLednyTCUpMiKd4eS8Kh7wLEuMoLv5273Zv6+n0+dDXqGreSMPl6akN4oQ3ARjKw7v9ID0IgEDoE4ChPPTbCBKCAAiAAAiAQEgQuD2MDwlxIMQdSMBBCbRnUgt6vv982nOuIDWfvpTGvXo/5UwHw6mV5r65pTeVqDmSTroY4zznF0mZ8z1Og9Yvp+5lAzejXCmfjT43do+lpx/rQ9+fzUiVO8+i1WMbUi5YgxRE2Ook4KCTtGZ0N3q71zz622mQ1pnQZ7Tq9NHu76hXeeOugRIv/k5zBrel18Zu9VlKUoTsVH/oPBrX5UkqnQn9nk5oaSoausY01dyoLAiAgA0EYCi3ATqKBAEQAAEQAIFwJKBlKOdzZgdtSn5W0ptNy/ytym5X2eEsuzfmzPPGT0Op0Wuj6IdDV6jsW7No8egXqHS224t3ekvPXHwFK+mtpGW5rKTntBzM6py4to0m9Z9Mm09dpUv/HaB/LlynC4f/pmNXEpIyTvU/AxW4tzst3DWYqkn/zly2Vdl9ye2gG7R38utUo+NCOptYgpp+sYJmt7hbuuCxVjZXK9CycxmeQriWzfUJR9lZz+Kv/Ud7t26iH7bup9M34ymCZ2wrwRFF6aV7lmVfraBt/5yleOf59HRPo9eoyQMFKVOknOkt3RI5lDTSR3l0zpL0UN0nqUa5vBSTtN6skpvm1p2bgy7S3vULaMrU7+jI1ct07tR/9N+J03TyxBm6qvniqir1WTyVejxdnnJK0Tk/vcG9bL3plHhW0ltJy+VbSW8lrdWyraY3I7uLRnPxCCAAAiAAAn4mAEO5n4EiOxAAARAAARC4UwnwgA4BBAJFQFxdQ30atqPxmw5SfIE36csNI+i50rkoKlAFpql8EyjuZizF8Sxb+SfoR+pb6nn69NQ1FQVHTDaq3HIWbZjU2Ll4YbDue0fCbvq4SUPqsfoYOXI+RxO3zqFWJWMMGQpVlcGJNElAJLJbk4QkLycuBByRMRR1dSV1a9yFpvz0N910XstKT33yLU1o+QDlTZ/sGcUlDTkiKV10FEmnKSZ1kd2sSNcqt+Kla6MIisl0mr4fPpD6DPyKfk9xg3S7wMxl2tDUOYPppUr5Ul4U3b6KPRAw/8IU7EAABEAABPQRgKFcHyfEAgEQAAEQAIE0TyBYBrM0DzoNAnDQBfqu73P01rgNdOxaIWo2bRl9+mpFyhUN1wOBUIfYfaPo0fK9abuGoS4ya0lqNP4HWtqisEnDoHmJb20fQtWqD6HfbyZSscYTaO3SNlQieVa7+VyREgRuExA31lCPeh1o4qb9KYbyZyaspylvPUB5YoLQ39zaRTN6d6Uu49bRFY0f1VJNP6FJI9tS3SJ4SXS71bDnSgAzyl1pYB8EQAAE/E8AhnL/M0WOIAACIAACIHBHEtAY09+R9USlgkuAB/03tnxAjVuMonUHL1LuKoNo8ZLu9EiBzKZdjQS3BuFX2pm5L1GRVxZQrEp06Z88zxM09Kdl1Ll04P2TuxfvoEv0XadHqOGEv+Ts28LUaPp6Wt7S+AKK7vniGAQUAp4M5ZPf5BnlgTWUc18Xd2QZDe7ahYYuOaSI5LLNSY2GzKKx3etT6QyBlcWlUOyGGQEYysOswSAuCIBA2BGAoTzsmgwCgwAIgAAIgIA9BGAot4f7nV6qQ+ykEU+/TsOX76aLojx1/WYxvdeoFGWT/oChc/5vfQedpcVvVKXnvjiokXkM5S/XmxbvHkRVbZrJHX/kM6pfvhutv3aLogu2pq93TaLGuSKgCxqthVPGCdhtKD+6djj16DCU5u+7riH8I9Tn64nU87n7KIe0hqL/00CEU3iBDB0AARAAgQATgKE8wICRPQiAAAiAAAjcKQQwaL9TWjJ06sEz444vaEdNus6gncdjKU/VQbTw6270aKEsMAYEqJkctJX6lqxPww9dVJXgiM5Cld6cTz9OrE/SXbMthjpe/HBlu4ep8ZT9svws9Mj7a2jTgCrQB1Vr4YQZAvYayi/SlikDqEvHibQtTr2QbpaybWjil4Op+YP5nFXDb66ZFr7z02BG+Z3fxqghCICAvQRgKLeXP0oHARAAARAAgbAhgEF72DRV2AjqSNxKQ+q3otFr/qBLohC9In2Tf/zq/ZQHvskD1oaxe0ZQ1fv70m+xakNdRKai1HD8j7SsZRFbjORKpW/9OogqPzKU/pLGxOgcLWjW/hn0Yu5IW2VSZMM2vAnYaSgXN3bRl/27Uccxa0m9jC5RiedH02ejOlC94vBPHt5aFljpYSgPLF/kDgIgAAIwlEMHQAAEQAAEQAAEdBGAoVwXJkTSSYAH++dXdKOGHSfR1iM3KH2x9jRvzVBqVConRclr0DedIA1Guzi/ORVuNpeuJ7oTjqCM2evQkM2rqVvZ4Psnd62Gg/bRxzVqU9cfTxJFZKXqQ3+gTX0egE64QsK+KQJ2Gsrj//2WRvbsRP3m79eQPQfVGzCDxr77FJXNCP/kGoBwKpkADOVQBRAAARAILAEYygPLF7mDAAiAAAiAwB1DwN2sdsdUDBWxhYCD/qYpL7eggfO30SkRSZV7LaK5fRtRaemcHLoWmCZxLpb5TlVqMGEvqezklI6yF3mHlhwZRbVs8k9+u9YJdGTKM1S27XK6RRGUuWgHWrL3Y6qbAbpxmxH2zBCwy1DOxs2Tm8dSn/bv0Re7rmiI/gB1mjmF+rd4kPLIyOgDNRDhlJMADOVQBBAAARAILAEYygPLF7mDAAiAAAiAwB1DAAP3O6Ypba8ID/Rv7R5PL7cYQkt+Py2PKtO7y2ZT70ZlKDuMRAFrHwf9SgPL1aehe86pDHGOqIx032vzafO0RpRRSmD3/Z5w8kt6plQrWnEtniLTlaI3F22hKY1z2S5XwBoHGQeFgLj+PfWo35EmbtpPN50lZqVnJqynyW8+QHnTB24mN7+k2ib9j3dt/Qlt1nB7lPnuljRuxjB645ECTqnsvv+C0hgoxBQBGMpNYUMiEAABENBNAIZy3agQEQRAAARAAATSNgEM3NN2+/uz9g6KpW1jmtKbQ5fRnxcSKPPdnWjO8veoYemcFCkLgq75k/btvOIOj6fHy3enH6/Hqhg70hemBuM20YrWxVXXbucQvD0HHaTJT9akdt//J92vRFHp576kn+c3o5x4kRK8RrgDS7JrRjnF7qOvB3endsNW0HmNDq7YU8No/Niu1LhE+pC4/+7Apr9jqgRD+R3TlKgICIBAiBKAoTxEGwZigQAIgAAIgECoEdAY24eaiJAnTAg4aCsNa9iORqz+TS7iSVTura9ozvCmVDFPuqAbifQYHTzpvntaT/FCoVlY1vNzX6aictb4tXh3SSMofZY6NHz7aupSWp9/cve6K3V0z1k5b3wbR3vGPEH3dt8gk0ZSTOYX6Ytjs+lluOYxjjJEUnjSGVfxvOmPa3pv8Vzzc9+3w1DOcsdJ/+Sje3akPvMPuIskj3NSvX6f05h+z1C5DPpmtbuycM3QLBfXPLAf2gQ8tX1oSw3pQAAEQCB8CMBQHj5tBUlBAARAAARAwFYCGIDbij/ghXsbfPuz7bmcW7sn0KtvDKGvt5+SR0Wo5bTFNLxFJcqfTp+RyCqMpLomUuyN63Tj5i26dUv+xcZRfLLjboecwRwdk57SZ8hImTJnpJiIpBIVDpxexN+ka9eu0ZUrV+mWyER5C+aiDJHeKFqV2lp6dv2w+u2HqcnkfbKe7nlFUbaiXWn54Y+oug//5M4aJsbStatX6dr1G3TzFnNzSPcoMZQpWzbKnjkDRclICiv3kowc39r+PlWo8j4dkO0SEXMXvTpnC818Lp9f8jYiB+KaJ5ByRyTE0o0bN5z3W2zsLbop3Y8oOhIhdSc9328ZM1HmjNGpvipJSi8o7uY1uip17ur1OIrIkJ3y5MlC0VIsJQ+9EtplKD+xZTz1bduXvtit5Z+8Er0zbSINeKOKT//k3EPG3pAcrl2nmzdv0i3nS69IipbssmXPTpmj4cdfry6Ea7yUeypcKwC5QQAEQCDECcBQHuINBPFAAARAAARAIFQIGDVIhIrckMM7AeegO/EWXbl0WRpfpDHq2k2Kk0bjhOgMlDlzVsqeIwdlz5iOOJ6iA+4DdeW895KSrnLafV+8QS36zqJfTsTLo8do2Nop1PGxkpRFHhnJKylH/f+ddUiQdb14ho4f+pN+3biRNm35lXbt+YN+++s/uXCkEjJQgXsqUZXqj1OjZxpRnYfKUrE8mUna8UnEXqPz547Snz+tpW9XLaeFC76j/Tcb0bS/5tBrpTLLpSdDMzjoNxpyfz16f9dpSnCD7IhKTxVaLqKtUxtQeim+22VnhZxtLuLo6tmjtG/HD7Rs4Te0cu1G2n7oArHdPSJzGar7Wltq37op1atYkDIyK4soEq+tpLbFXqBp524Qy3hfq6W0beKTpgykFkVBchMEnEbd61fo4sUTdHDHZtq4/if6+bddtG/fH7Tn+I2UHCOzFqXyFStT1ccb0bNPPU4P3l2Qcsk+hzUo9oq8V4/uo1+/W05LvvmGlqz/mwo8OZzmr+pBlXy81EkpwGXHHkP5FfptwXDq/NoI2ngzwUWapN3MZV6nMZ8Pp9bVPfsn5/sv/sbtHuC9AABAAElEQVQlOnt8N234ZjEtXrGONm7+nU7c5LssHRV48Clq8XYnavP8I1Qyq76vQlSC4ERYEHD2xWEhKYQEARAAgfAkAEN5eLYbpAYBEAABEACBoBOwavQKusAo0CsB52A78QadP3WM9v+ylr5ZspLWbthI2w5dki6ho6RVJobylK1GDZq/Re1aNKDKRbORPEtCGkuvXzhPF2MdFJMxC+XImsGQcdhBR2le+zep95S19K+cKZytQjeaNb8vNbonVypjvFfhDV5MMizE07XTh2nX5pU0Z+o0mrVqN110UerIjFkpB8+Glsa3xNjrdPH8ZelJnUMmuvfpTtS7b2t68q5E2rdyOo3+cDx9s/eyixQVqM+PP9DgR6SP9RC1YiScnE6N7+lI31+64TRsuwhPjuhC1HjST/TNG8U0jdtcpcSbp2nvzytoxqhRNHHFX3RNnovMlI1yZs4k9eIWXZU6cSVWUNZ7X6NBn0mjYM2CTr1wQexapM79f2jmU9XpjWXHiBzpKPc9/Wj1HwOpsgkDqc4CEc0PBJz6cusqnT32G61ZMIdmTJtJaw5cd8k5HWXKkTT7mRyC4q9dpHNXku42R+Q99NyAQdSrVV0qev1PWjF1DI0cv5z23VA+g0hPRSu3orGrP6bnckdq6qtLQapdWwzlCYdp+Yie1LrfIjop1HdE8aeH0seje9LTJaM16+OgOLp84k9aM2scffjhV/TLefmC0RFDWXNko4wxsle+dZ5Onb8p08bQA10W0aqRDSif/KxDXZIKB06EIYEQ/YkJQ5IQGQRAAAS0CcBQrs0FZ0EABEAABEAABNwIYNDtBiSMD3mgHXflP9q7aQGNHzWWpqz/R87YzU6FS1ei2s/Vp5rlClDCf3to8/KFtHLrfkq4pxNNmz+Eni0dTSd+W0bTP5tNPxyLoGIPPk1vdnqVHsmt/3N/cX0DvfdiJxq9chfxnNJSTT+l2aNbUZVCgVnEjusq4s/TwV9W0Zejx9KERdtdFtNzUFSmXFSs7ENU/fEnqE7lEpRbToW+cfYgbVm1gr7f9Cvt/e8SxUnlz1a+EdXNtYdWbjhEN93aPip3B1p5YDTVzRbjNPa7XQ6JwysLW1DRV+bSJenyInWIoOgMj9GoP1bROyXUM1HlawO6cfpPWvfVGOr/wVf0m1x8NUOuElS6wkNUu9ETVL10Hoo/soH+9+VcWrbjhIwdTQ+88TF9OqItPWpAL1LLpBxdo60Da1K1ITvkiUjKkLkRjdu7iFoVMm4gVXLENrAE+H67eXE/bV4oXygNn0ArD151KTAdZStYjEpXfIwaNqlBDxTMShGOWDp/cCutmL+cNu85QP9d4q9MIil/7RepzqWVNHen6wspecmRn6o2G0XzZr1CxRzGjcF2GMrjj/9AE95tR11n7XNhoezmpnrvTqQxg56ncjHq+jgSrtDxbYtoZP8B9Mm6o/KlVnYqUKgUVajXkJ6uWYkKRF6iw5um07DPNtJZp+uostRp3Sb6pE4uGMoVxHfYFobyO6xBUR0QAIHQIyAQQAAEQAAEQAAEQEAHgUQZx/0vQeOce5xAHVst20p6K2mZh53puamvntwu/teviSiWTk7nlHbkqNyVxAvvfy12X2bJXMM58dMnr4gymSJE/lqDxfd/rxcjauR1pnGmy3mfaDb3mDOB3na+uXuieKlKvuQ8YsSjfb4Rey4mlesrD6PcWLD4K4fFhpk9xBN3xSSX6RDS0CD3HSJ9nodEswHzxG/J5bvWXIhb4sDqEaL5g4VEsv0qpd5cd9e/Uk1nixM341T3h2t9jMrumtbqvmxxsa5rRRGdZAdPJbs0SorMhXuITQlcSup7XNITFw9+J8a88bDIzHWOyC3K1Goh3pv7szjhbLIr4uCmOWL420+JB4rkENJZhjPv7BVbic+3nFblZ7we8eK/2S8l5+sQUZnuFq1XXDCUrxXuVtJyXa2kt5LWatlm07O+XDq8TnzSqqrIlWTzddG1jKLw/S3EiJV7pTaqQ2LcYbH8g5dEheyRLmlS32fOPidXWfHCuN0pGRjVqYTr34uuNe4W0sVQcjlZxTMTtotTNzgna22mxY3zPL19hmhfOZuHelUSb0/aIk4nFZ/Sh3C6xLiTYvv/eomauaOcaTPlrygadZkgVu9PIhh3dpdYNfFd0axueZErMqkvp4h04r4Oa0QcZyCDET5WdM5KWi1uwZLbatlW05vhltSy+A8CIAACIBAoAvLzWQQQAAEQAAEQAAEQ8E3AyMAVcY0ZKILFi1v52tE1YsQL5URMsqEoXd5q4q0v/pBm4aTgLosQZ8SG92pJQ2k2Ue6ZBqJCZISQ06adhpvo/A+Ill8dcSZ0T6d1zBFPLOsu6pRSjNb5RdNxG8U/Nzm2f5lxfrHn/hBLhjYVZTNLmbm+Lsa79PlriS7Tt4kLSUVrGpQ4jws/DBGN7s4hpO9xD4auLOLx8bvEtbhEzTy0OAT7nBDbxXv35RPSSYO6DhExoswrC1QchLgpTu5cIN5/vowzTWS2MuLJduPF+v/iGYu0iZ4Qm7/oKKolG/FcXxxE5WwkPly+z6NOGan/1Z/7ieIRSUZAR/rcotaHu5zFG8nDalxngWH0z2p9zaSXd5s0CM8R3Z8snvLC5LZORItitd4Vy47eTKGoVYYQV8S2EfVETpf79HYeSbqbsUQ90fOn66Z1wJehXEsuK+eEuCR2LuwnakZrvwDIULypGPPdEedLFa4Ul8Uh4cohseGzluJe+ZKSKFoUqPCiGPzNPnlXJoW4k9+K9xrclfzSz+W+dkSKQrU+E/8kJuVkRXak9e9vkr94JqsANiAAAiAAAgEiANcr8ukLAQRAAARAAARAwDcBtpYhhC8B/lz72tHvaXynDtRvyd/EDjgisjxIb3w6nT57vYLHBRLZZnXz9Erq+lBTmvSv9Ewt3R3ImRacmrKXbkK9FiygPhXTOS01vug4KJ52THqD2vSfR9vPsYuF+6nr/JnU94X7KHfSNG9fWei6znVNuHqAVo/rSW37L6XjUl4+p+hwRKaK1GzgWBrVsw7l91Gug87R0o7PUcepm+iY9MGtDg/RB7+sph6VczoX+1Rft/9MwskZ1LjcO/T9hWvSNUrq4IjKRw0nbqblrUqk8HFIn+PHts6mj7r0ovE/n6OYQtXo5bf70nvvNqK7pH9w6cCeTvw0lXq/1ZO+2sfeylOHqNxNaNjM0dS5YWmPepU6heej2KNTqGHpDrTuVrx0D5SB7msxj36a/pT0HH+7PT2ntn6Fdfbyf0fppPSh7c7Oeu5+zIF1PH0eKlYsJ8XwPRrEwKVd+XM2vdumN03efNzZt7gWn6l0W5q6chQ1k4vdctC6i5T44sYWGvBgQxr210XllMs2AxV/sD1NXD+S6mfW7+7JJQMKtusVR8I/9O3YXvR6rwV0SsM/eZGGA2jMmL70Qpkk11PMMvHqPlo2oht1HLaKjiVkpbvrtqH3P+5DL5fPkVyVM7S6fX1qOGmHmqUjkorUmUCb17SlwjIzb6xduWA/fAgE9+4OHy6QFARAAAT8RQCGcn+RRD4gAAIgAAIgcIcTwIA7fBuYB9YJ53+kT9q0pncX7pVLw3HISbX6f01LBteh7D4MKom3ztBPHzahWoO2OlMm/ctMJat1pqk/DKE60UlTQF0uau6y0XlVn1bUdeRS2pfAGlWfRq4bT+3qlCQ2oflNx+LP0c65A6lVh8m080pCKiM5UQ56oPlA+uSzTlQja4TT+OnN8MDX9kx6mp4fsIL2nHX3702ULm9HWrFnBD2W09iippqAAnCS5b+2og2VbjqDTlzjlxOuQfpoj36Uhu5cR73LJb3scMglTI9vnUXDu/SmCT+fpfTFHqPWA0fS0DcrUVaZlI3FEdL4t2pkT3qr79d0QsP4F53/Wfpw5ijq9GQJ6W3aWrsmxq6jroWfok/P8EuaGCpSbQR9/+M7VMaEf2rXmuvddyTupintB9H8vWdI8z0J14+N1EE2Tivyp5Qt4klkqUcDpvWiugWCp4usX/En19Gozp3ogwV/0lW3m9gR9QB1XLSARjQuSellZLfLSjVStolxx2jhmzWo6awjKedSdiLy0kMvjqav5zanoibbP9iG8oTTW2jGgLbUZsrulGrc3slOtTqPo7HDXqUH5NoIHBKv7qFv5MKfXUespCO3slHFZgNp3JgOVDN/tPM680s4M4ueK9OOVmi8+CKHXDuiwXTauvx1yqeDtzNT/AsrAkmaElYiQ1gQAAEQCC8CAZqpjmxBAARAAARAAATuMAL++mwY+QT/c26RcFgs7l5X5E32SS6fVkXuKgPFhjOxutyFiITr4th33UQhR7IfXJneka6gqN5qiTjDDSqDnnYVYq/4vEVtUSA5n6jcL4tpW4/6xUWHUj77Fj/x86fixbsysE1J5ZogY4kmYtCq/5KE1iG3EKfEonY1RGEXdpyv8lf8mRnin2v6OCoyBnPLLlQ2vVtZZNCU3yEyFe6W4p+c2R3fMlW8/XBuZ/3SF6srOk/fkeJTWpE7/sIOMaNL1RQGCgtlm6daZzFn50UnYyWN2W183C9i8H05k8tKJ7IX6CS+1/CnbjZ/X+kSriwSzQol6ZJSv9DdVhMjfjsvYmWlfNXLX9dF/EGxsE89UTj97b7Blc89zWeKvZdjdepCorh1eZPoWza7pm5FZi8lmozYqfve1apjMF2vsKDnds0WXarm0KyP/KJGtBv/ozjFgsqQcPkPsbB/I1E8hlnmEA+8Mlb8eEJxtnK7Ta9vflcUyRLtIc+M4tEBP1vyj6/FDedu87ebRZK24D8IgAAIgECgCGBGuXySQwABEAABEAABEPBNgEflCOFHgF1HHJrfjV5qN5m2X4hNrkBF6vztMhr5RBGnuxBfbetIvEHHN8mZ4499SH8nJsWOylOemn60lGa9UcKZp688nJHif6GRzTvKmafb6LJMkKlUW5r+9fv0QsV80pFLkvU5WUBTmyQ3MVtpapvm1GnpIY08ctPDrwyiz758mypF6psFT3E/UK9a7eizLfvouirHjFR75Ab6pnNlypJOZ36qPAJ7wkG76aNqDei9rcfplnsjOdJRmVfn0bYvn5OzxaW7lS1f0gdd+tKkbTyT/HFqP2gkDWl5v8rNibi6m+YO6UgtRmxMNUOYZzoKyk9P9ptAY/s+S+XkLFn3Io3WNjFhP02pX5veXnNCJo2irLmb0pS/v6Sm2c253jBavoOO03djx9DCP87RrUSH8+sEo3kEJX6inOtf4Anq3Oclui9bdFDkdMhvUw4t6E8tu46jTcdvalTzYRqw9n/Uq04xyqxndrNIoGt7P6G6FXvRtjj11xvpi9Sm9jOX0Zg6mU3rVTBnlDvoGu1ZNZa6vPQ+fXfV/WsOoowlXqT3J42hHk8UpoTLf9Likb2p16iVdPhmDqrUfAB9MrIdVS8glx2VwfU+it09lCpVHUJ/XVf689voo3I3ohEbvqau5ZJcudy+gr07hQBmlN8pLYl6gAAIhCyBQFngkS8IgAAIgAAIgMCdRcDuWVQo3/iMNtbA2GP/E+2rFhTyw322tTj/8tceI3ZeuqV/1mHsRfHn9BeFNNkk5xEhspd4Sny4O86p5HrbJv7C96LPU+VTFvvLU62PWL33gqE8vJYVd0789tVrqWa+K3Xmbbq8D4uWk/9wlsf/vOaVHOvGjlGiXrlcKexc8+MZoQM3nxK8FqmvvOy6HndiumiQK4v2YqQR+cTTXxyVNb0o/lg+QrxWJXkmedG6ousXO1UzyZU6yHmyYue83qJGtig3LplFqQb9xMJdZ1ItTqikM7NNiD8pFr5RIrmcSJEpV0Mx/pAxvTNTrpImIVkPwmmjyB7ILfOIO7VC9G1cJmVh4NT3Bom8jwwVP524qv/eSLghDk5/LqV/SJ1fjChY7m2x5HJSi5itW8K1b0Wn6qVdZM4snvr0V3HqBufo5/s47l+x9uOXRV6XL3Fc61S00XtiyZE4EXdys/i8ez1RzDkrP5eo/OpYseHYDac8WjIlXN8shtYpobqno3LfL14atkGcT6qKfu7+rjfyCyj7FMXADgiAAAiAQEAIsE89BBAAARAAARAAARDwScCsYQLp/Gx8kS2ll6kQZ8V3veqKAqncIuQTT03fJS6yfwadecVdPSwWvFXaxSiaSZSo0k9sjNefB8eMPfI/0apu8ZR88tcaKNbuv6RbDm/1lo4LxLWT68TASoqbDsWor2wjRd4H3xSf7NFvZGXBDsxoLirkczcIJ+UZlbOtWC4NgZyjN9nsusbyX1ryhiiYRVv+yOjHxegdf4n1k7uIx4vHONslyz2NRc+Zno3kXBcO8Rf2ilWfviOeqv2IqFqlqni0diPxUrdPxJJdJ/3qSich/pRY/FbJZJ1xiJjsD4p+W/S68gjNdrFLH/xZrhDXxI6JbcSDOSNT7mdXIzBRZlHrg7Xin6tJGqOn7IS4E2JZa9d+Rrl35TYip6j49DRxKFF/flplCrFVvP9YWZEx5aVfAdFy9h/iXJy1fLXKijv5s/i89b0e+OQXT3aZLFb8tEQMb15ZyHUihCOyoKj65jix4ej1pJtM/tfKly+e/2Wa6Nasoaj5SDVRrWoNUffpt0SPz9eLYwGoh5YMOKfdNsHgkqIc2AEBEAABEAgIARjKA4IVmYIACIAACIDAnUcgGANAlOG/wTdrYOyR6eLl8vmFXFAxxVgTkellMXvfeacxUw9vaRIVV8+sET1KZk3JwxGdT1RrtVRc4Axk0JMPx4n9d4Fo8/hdKfnkqzFArNnnH0N5YtxlsXdBK4+zyYmkzM0miT8NGNr4RcOyTnVEsWht/8slXvhCHLkSyv7JY8WW/lVEFqfP49s6oBg0I9I9IF5o87QonzVCtkk6kf/B18QHK/cJxUznrV2TGv66OHVol/h12w7x+77/RPJk36RLBvTCWzlsKF/0pjKjnA3lD4sBW2Eo98YsGNfiz30vBj1TwWVmtrt+1RIfbjjs8asEtYyJIvbGz2JQeW1/3pHZSohGo3Y5dYv/qdPrOyfEFbFtbCtRLU/Sy6Nspd8W8/ec9evLHZaNw4W/vha9HvX0NUpeUbFmA/FEjZIig+yfIzKWFQ16zxQ/n1L7JNeqK+cff+Gw2L1zh9i+fbfYf/IWn3IGrfg4p08/woGT0s7YggAIgAAIBIYAfJTLkQICCIAACIAACICAbwJs3UQIHwIO6VH756HNqfmIb+jQFem/ODnc9dw0Wjn9VbpH+jHW06YOEUfndo6lhlX7pvgNjspdjl4atYJmv15cVx5K2fFHv6aOb/aiKWsOO08VenIIfTWxC9UpYd7ncFLeguKu/EUzX21Abb45qhSXahuV8z56ccAMmtWlkn5/6PGbaVD9NjR23Z90RQUrhmp9uJ4Wd3mYcsQEx192qgrpOHDQPvq4Vj3qs+kfuqmS3zWD7HR3w3fog1G96YWymVwv+Gxfd3+5XotJlbO+A5FwllZ1fIQaT/pbJnBQTPYq1OvbTTS4SjqfsukrAbGMEuA2/3dJP2rTbTR9e/iWZvKclfrSgkW9qE6xbJrX1ScF3TzwGdUv35k23lL7J48p8Ci1+2oVfVw3i+V2T7y4h9avXENbZVdRtGoDeuaRkn5fY8BBN+jA2vHU9bl+tPxynKq6DvbZnnyzRBesTS37vEeDOtSmAm43lLf7yS2qswxv8VVC4ERYEtBq97CsCIQGARAAgRAlAEN5iDYMxAIBEAABEACBUCOAAXiotYh3ecSNH6hPw7Y0/of9LotQZqcGE9bQl29VotwxOhdajLtCe794jSq0WUJJ5qtIylasPvVbuYR6losyZLRyN5SXavopTR/VmmoUjjGUj3vNecHS83unU4uHOtLKq2qjFMfPVvZp6jFtNvWvlklXWWyMuPXHBGr66mBa+vtp9yLl8b3U8/tVNOixIpRRrkQaivdH4vm59Hy5t2n5qYvJbadRDXnKEZmNitd8gV59sjwVKFCQChcrTiXuKkkliuUiOds1JdhRR5F4mba+V5ceGforS+o0lPf+bhO9/xAM5SkNE+QdBx2h+e++Qz1HrqB/kxf3TS2Cgyp3+ZrmDnyKSufQ2UfIF3LH571GpV+ZR+plQaMpT6nmNP7nz+mlXP55KeVubPS3bjsST9CPn/ehpu2+pP8Ui3hqSMlHDkpfpCo1bFSXqpUvTvkLFqZixUtQqVIlqUAWXuI4KfhbPiVfbMOPgLvuhl8NIDEIgAAIhDYBGMpDu30gHQiAAAiAAAiEDAEM1EOmKXwKwgPp65sGUONWn9D6/Vdc4teh0b/MpnYPFiDpo1eXcTf+xhFa+vYT9OIXB5LzyUTFK3elWdsG06MROo3tySndDeVFG31IMz/tSLXv0me8dqlI6t34q3RwXmuq0ELLyMZRM1Hpmp3p05VDqF4mfYY2Zvjv/1rTCz1n0i9H1cb3yGwtaf7vn1CTYlkpKrU0IXHE8l9Z9Tbd98p0OnJRe9avWlAHZcxVkAoULEiFChWhonfdTeUffZya1K1O5fLHOKMHux8QCRdofa8a9PiYP2X5mFGubrPgn0k4sZLea9+dhi3d66HwktR69kIa+tJ9lDdKXx8hEs/T2q416Mlxf6nzdGSjsvWG09KV7ai0nIodbB1UC+T7TMLZnTR30Bv02oTffUdOjuGIzEJ5ihSkgtJYXrhgESpWsRrVffxJqle1uLO/5mjhUHfdFUZEUwRgKDeFDYlAAARAQDcBGMp1o0JEEAABEAABEEjbBDBAD5/2d8g5mZuHN6U3PlxO+y/fdruS/b4B9M3qXvRogczS5KgnJNLN8+uof6XnaMw/SQZ3R0weqvLadPpuSmPKKrMwohfuhvJ8NfrT7M97Ut27sxrKx13yhBvH6Lt3n6RG4/a4X0o6dhSkmq+PpC+nN6NiOg1tDrpE37/7Mr398Xd04NZthkoBRRtPpO++eoPuzp5kQFbOh8rWQXH088Ba1GDkz3RRw++KI31BKlcmI5384yCdS/DcitH5ylGVR+pSo5atqV2TCiQXHSSmoU9/rNMQCadpSetq9PyMQ85S4XrFOlMrOXC7X9o8ktq/M4Tm7nB9CXc7V0f0UzR+0wRqWaWw7hdyiYm/08jKdanPb+duZ5S8F5GlCNXptYjW9H/QecaztqqS2nKCGV3cv5RGvvUWDftRXR+KyET5i+SnzAln6MCxyx5ldKTLScXLPUAPPfUade3wMlXNF+2MG+r191ghXPALgWD1vX4RFpmAAAiAQBgSgKE8DBsNIoMACIAACICAHQQwOLeDurky2Tf15Jda0sCvt9Jpl8/+7+uwiJZ+0ISKZ9PnDoH9k5/fMYqeqNqfdsQnGYujct5NTUZ/S4taFjds3I7/dwF1eLM3TV172FmxfDUHSkN5d6pb2oqhXFDsld9ofOP61GOjlosUoqjc99EL782iuR0rOMvVo8uOxG007Jl2NGL5TrqkSpCeag9fQwu6VKPc6fXNUDfXkuZTOf2T12hA/X487OJ653Z+dz37MX3VpxJd/ucg7f1jO21Zv5K+2XiIeO45G2JSVzmCMpd6nFp1G0j92j1KuWWE1Ndv5+vvPTaUf9P2EXp22kGnZDHZH6Seq3+iIQ/D9Yq/WevJj90c7ZnXk97p9hmtPRGrmSTvIwNo7qwe9Nhd+u/r2H+nUKO7O9DaW/FuecqvCPI9TO1mf+cX/+RumQfkkP2TH9owkbo0fJeWXVd/jZK+6GP0Vs+u9PoDUfT3H7vo923raNnSdbTnnDouC+iIyU/3N+pMY8Z1ohqFMpJcnDlo919AACFTSwRgKLeED4lBAARAwDeBwKwRilxBAARAAARAAATuNAKJskL4Cw8GCdfXit6PlRXSvzTbM5P/8ooXpu4Qp29yK+qsR/wNcfjLF4U0zCTnESEyF3pCDP49Tn8eLmXFnVomutYvI5JdeosCdQaJdX9fNpXXbV2MF9fOLhft8mR0qasib9I2U6knRe91xsq5tX+qeOmhgh7yrCh6r/lHXElwih6S90X8+fnixcK5hXQLo1GH7KLRlMNJwsv/iTfPiyN/rBdzR7QSD+eMcsZPtoWnSpvlnufFB+vP3k7HaQP8lxB/RixtXTJZjgiRIWdt8dEf5vTPrKwpFQ6THbP11JNOiHNi3Uctxf1REal043Y/Q6J829li1xkjbZQgTi9+XUh3UBp5Rovcd70lFlxMutn0yGh3HJFwSmyd0UoUjnBo1IdEwce6iln7kvgIkSCunj4ofl01SbzzREmRKcmzjEa6bKL6uyvFsWtGuAb+/rSbdVosP0y6IYgJAiAAAmFLADPKfb9LQAwQAAEQAAEQAAFJgEfu7oHP2TW7yWrZVtJbScsMraZ3bwf34/h/Z1PLpn1ozs9HXS5VpcEb51GXGsUoS7IMLhc1dxNuHacVnerQM1P+Tr6egQrd24Fm/T6Cakem9hXsqgdcP60grm2kIS0600eLf5NzLqXn8NLtacaCQfR8xbzEy9Z5SqfkpcWNZ7heO7WQWpd+neZe0fLFHU2FK79JH34znpoXjPRZBpfFdflvcQdq2v1z+vGwetZsRIZmNGv3BHq+ZA5iZwi+5OY8tWTn84EILP/1dT2octMJtPesemlEoso08JeN9P6DGVPJJWKP0+Z5H1CH1pPp91i1uxmi/PSIdGEzc0ZzKqXhwsZVB5R6WXXTkpBwkGY8VYvarDwus4yizLma0Ce7FtCbOttSkcPMltssQmrq4R9W0+Z/L1Gc0Kqhl5z5aw7JyVRQvgTRmz4xgSJyVpKLQt5HOaOSFoE0WbJTXE/66qCTtHJAV+o2/H+0T9NlT1569uOv6eO21alo+tR9hGcOl2ljr0ep9sg/1FEcmalUjSG09IfOVE5D59QJrJ3xVG8juSZe3EOLP2hJL47appEsCz346jAaO+Ftqp416WsUpZ0u/72ABrXvS5+vO0BXWBC3EJGxKc3YMZFeLpOD0rld40MlH+WSRhbKJc2tlbpbScvCWE2vWSGdJ62WbSW9mbTu7ayzmogGAiAAAiCgkwAM5TpBIRoIgAAIgAAIpHUCPKBDCA8CcQdn0Cuv9KeF2/5LETg6f1uat2kYNS6V02lk8d2eiRR7/WcaXLEhDTtwyZmPI10OqviC9M09uynlkaN1JQ8HJdCNq1fo8vUoypPXs/9zB+2hyS3a0XuzN9EpaQiMKdySpi0ZRk0rF3AuiKnklyK0jh3FUN6q9Os0T9NQnp3K1X6XZqztRVV0Lj7qoCu07r3m1GHUCtp7XW0wLvTkx7RydluqkDu9DgmDH4WZ7Bj2BNUftoHOXFNTjcrdjpYfmaBa2JQNMIlX/5Iuap6nV2dqLdSYjopVbUsjFn1MLxVI/dKB/eIf/mkZfbNiMx1JV4EaN21MNcrl1f0iwROlxIQ/6ZOaj1H3zexWJx1lL9CW5h8dR0+4vajxlN7qeXF1NXV+ogctPXKO4qSh1oiRSk6lknZyIyluS2s4rYinuITqNGTDF/TWPXKBWXPF3hbAw56DTtAKaSjvPny+B0N5Jeq19Cvq3aQc5ZQyqLVPK+PdNPqhx6jnr2dVFyMy5qca3RfRD4OrOa/py0+VTdBOMPYrR76lsW+9Ru+t03IFVYaaDhpLowY2oMJufDjt0QVd6MUeU2jrv/wq0T0UpDfnb6CPny1FWZI/FVFiOOgYrR41kdafc1CmovWoXbsalNctfyUutuFNgPUEAQRAAARAIIAEwnYuPAQHARAAARAAARAIKoG0+IlzuNb51oHp4oUqqd2G5K/9kfh/e3cCKGO5x3H8P2fl2LNnl7VEyNYuN5LlWrIVInuWkLKUpdykjRYhJGS5lJ2kbBXJ1WLLUiglZN8PZ/vf950542xzjtnOmXNmvu+9HDPzvs/yeZ6ZzG8ez/x47LJ1zjjVr7gYvbD7La0dGmxmU9ZfwblLaaOJe2/MO7Mc84j6Z7vOHtxUG3adotsibfc6qkP1L13Ut7GWvrElQWN9c8MhtbXKvW0CVKP18on/artc4TfaaW+v+dMSUkwf6rlET8Q31lG7kt+n+rNObFtbjaDPQZnBes/Idfp3/L4rya/NDLdVf9NJDcprLoftFy3ZZJb+YzTUYVujzuv+OR3U+AjAQd+DtFjtbjrzt5TbP8Re3KaTej+o+ayLZGton6lb9JhZgXE4rMfJ+6OvrdMBhXPEtyVMC1V6RX+ItRXsSblOXxu1UQfdkceBhSMfH99naaYzjK2MzNFxun8unqt6TFe92E4rBjveViQ4bzudse0vvWaUax7OtCP6+GxtmjPUoXFo/mraa9U5p8typr70PEc1Uo9snaStcoU57E9Ykfo6dP5+a38c+UT9PkefqF3c4bUiebXNR3v1QpTZg6S2kT+N0xr5IjRb9px6S/Fn9PPIrLNVTXqOhz+WbR18fkMAAQQQSDcBVpSn44cQFI0AAggggIA/CZjv3DmyhkD0wZnSwVhRvmT78RsNvqPHAlk8vrVUvMXJL0GMvS5HF3SUMp0+M9aLm0eQ5Ch8vzy38kt5uVaYNRE07zVXt53ZM09GteknX5YYJQu+GCh3p7Jy2yJX5Lu3ukufsZ/KrotmqbVk2LKP5fnmd7iw+tSsNeGwrShfIj3Ld5b5DlaUB+erIC1HLJBPh9SwXuTMPI4+PFd6dR4hs7Yk3rrGXuftMnDVchnTuJzkid9s3f6IKz9NN2fa4kqZ9nNjTy+UJ+sMkCWHTxpry5Mf2Y0tLr6X9UOqOl4dHX1JDi8dIFXbzXLwJaBBcmutLjJ2/ofydLmEL4Q1+3J993Tp33e4TP/2jFiyPSQvzn5Phra9U3Iaj3nSz+gzC+SJUl1k8ZUosQRnl4otZsjXnz6RYatlLYbCsX175c/zUWLuNJJ5V3MajcteVCpVKS15Q4PSrZ3m1itrRhlbr4xbKPsdbL2S/+6hMm/uUGlkbA/i7LhfXN1TSjebLudTXBAq+W5tL5N2Gf9CJn/Sf8GQfFZnmtsxp+TH+SOkRZeP5G/79jmJGlewbncZNeld6VfTtu1Rooesf4w9tlCebj1U5n5/xIFfHmkzY6tM71xJ8oQm3tYmVn59r4FUevZraxkF7npNNv44VKqk8jqcvE5uZy2BzPsalLUcaS0CCCCQqkC6RfAUjAACCCCAAAJ+JeCPK7P8tU/RJ5doj/vKJvoSTtEaz63QX134QryYmKO6uFNZM7qK/xWuBUr11c+TrWZUPa+7lg3TmiFFtfELa/SUiWocjmzN+w/+t5veW8K+erS0dp3+vR6Ltl3k6Jqb3xerkee/0RGV8yZqq73NoiEFKmmHyUlXwadVptnG46ue1frlHK9QD8rRQefuP6nXzRONI62ykj9mu8L2e6S9ABfLSF6mo9tXt4zQKkXsq7ATLGxjWVkHbzpjbYSja2OuHNdNY+o5tBSJ0PIPDtfVyeaRuYr251kD9YG8ti8CLXTvIJ318/lU63BUb2r3Xd4zXqvHf3GkJSyn1hu2xQaYDm6pteFGhVnkD6n1wxv3q17R/03ro/Xy2MY64fXBNs8KPzBaNx505YtzL+nm4VUdzzdLDi17/0T9Jc5suWvPNW/01Z0yYi8e1M9H3ue4P5Jdq7Qap2tPO17tbfbxyrdjtUEqr2UilXTwF3/q5WRfIqy6X9+9p4itzqAcWmfU/1x6XXKnn1zju/lozhMOBBBAAIH0E5D0K5qSEUAAAQQQQMCfBHhj7Ls3xq7aq27XcQ3v0ryJtt6oMWSF/pYs4Eyr3Oh/5muLPAnbB1hCc2vVDv9NEYTHXj6oa15+RIPz1tWei/66MeUdlW0+eHXreG12lz3UjtD6o1brgYvm2e77Rl35XRc8VcZhOBVW9G7tsuBPp8tXvagbX3lcb88W5LC8Yo+8rT+fuOJ0eXYH84Jrp7bq5AH/1jqVKmqFKnW0Sf8PdOPRKJfLspfp6KepuOPNBnprLsftD87dXVdeiEo1SLt2fp/O6lDKYd9Fiup9HWfrr8mDy+u7debAf8XPt4LaYMgC3ZXGFjyO2u34vji9+HkvNValW9sTFFFKW8811ukah+PzuT+9XUz7E+vGass7IhzOkdItJujmP6+apzk1Rqp79c2aBRyWFZQ9v9434jtrWc6Wl979T6t8s42X/tyg4xvFh9Y3PmS0f1hVTlsMXaZ/JH/+GNeZ5ZrHobmdtGYxxx9CWELa6pxDZ60f0iVux/VDk7RedtsWWUGW+jp+v23jm8Tn8Gfn5mNWcLLNFH5HAAEEEEgvAYLy9JKlXAQQQAABBPxMICu8gaSN9sDlvH45/BEtG5EQllYftNzpoFz1gE5vfVuSFelBOYsb+5Pvts5qu7N54+qf6/SNJsU0f7XeOvfPmCSP289L/DP62BJ95uFyGr9riVbqPEO3HfcwLI6+rL8t6HgjUE28yjW0UBXt+NHBm7bL3saYs2v1xaaVNTxFyGWGXUFae+gaPXLB8YpQexkpf5qr3rfphKalNVtIwt7OlpDCWrXhaF1zztXyUg99VI/ozGZ3xO8Vbg/oEn4WrT9Zj8TEphpiXjv/i85sV9JxcBlRXluM3KiXrJr2uaZ67ofJ2qOu7cOPsFub66srDlr3yTZPS2nhyn2Ruuv1++PbEqThOR/SN/am3B/dszpcaQ/nmtbR/6zRl1rcrsYWECnmSbGGr+q3h537LgRzfkRuH6lVwhJepxI/d0PyVtauy06bp3k4jzLmejUi7GO7ZuoTtzj+1yghBe7RATN2qu1VMmWbzH4eNL4fILWgPGfF4frNiUtqvlrY57zx8Ztuf6W2hsaPRckmH+vf5oOJzrGfy88Et6xsYRtdfkcAAQQQSC8BgvL0kqVcBBBAAAEE/EwgK7+xDLS2m1Pv6nf/0QYV7Cu3RYs3mqA/H7/5SmjVf3TtoHqaO9FqdDO8Cs5TTlvOO2ad1XZPcxuG39a9pvXDc2vN9jN0XyorJe3nmz9V9+ik1vdoQYstMC5QZ7iu/dWzbTrUiJ4uHl2uz5TJmSK4s4SX1IaDvtDztspvBEyJ2xT/kMZe+lGn96mvxRKF2YmDO5Fy2mvRPj3t4lYxGntNj60drCVufIlpQsAYnLuitnrte7V9VOB5kBNz9jPtdHvRG8FZ0vaHat3RW/W60eHk/bffjrl8VNcPq57C0SwntNBdxlY5B6yjaP5mczuqq8d10LLWvkVojafe129PeSv4P6FLniob35ZQzVPiWd2QkV/kGd9Huw0/7WN+Vje+1UHvzJ4y4A4r0kXn7zx+0/lszp9r+2boExVuufGhWdK5GqK5CrbWj/6++YdvmWVcNOaM7lzUR0s6eJ6bfctX/Qkd823qX0xqmlzZMEIfqJDydcy8vlSzD/Xg2aSrxWMvLtcni9q2WbJIFR204ZRZTKrP78xiRTvcHyPrAPMbAggggEC6CRCUpxstBSOAAAIIIOBfAryxdf+NrS/sVH/VD5+sqQXiQ5ugXG119p6TxvpD2+GoTeZ+49vfbaUlQsK0ZJPe+nTN3DcCUzMob7XguPVi+7WxF3/VFUPraVDO6tpp5q83Jrz9cUc/zXD9m3EttUpuW8gWlP1xnfq/v4xdrlNvl6NyUtwXdVb3zn1Ki5gBfJKQP5uWqvusfnYq9cDNrPnygaXGKtnqmi/JtQmBthlUWbI9rh/tPu56W6Ov6pEFTzhcgSuSWys88B/dEmP2yLM5Zl5/5Zvhelcxx0GbSAUdsO60mlWl8IuvW2Mu6qHVA7SUg7AvtFB17TojYZzN+k7/7wPtVt02TyLKttYxqw97aTW50cbYrTqibB7rHLQEh2ul9ov0nI0p1fan1i/uT33MXbUxxz36xBod9VhlDTOeF0kD7uLafupWPZ7suwzsdZjXmqugD3w2RB8oljeVD3SMMi3ZtHjtN3RXFvpgJPbiIf1i5D3JPOw+2bRyszG66mTaHyLFnFul/evd5vBftJRqPk0PJQrKjVct/fqFGprd+poVquU7zNe/spCXfU7w07Xnpu05xO8IIIAAAuklQFCeXrKUiwACCCCAgJ8J8GbWtTezvvYyp1/kjxO0ablb4gPafPrwG9/qP9fMliXti/WOmEO6cMA9mjc0XIs//Lp+e+a07nqn0Y3VnsF5bjNWlCcE5WqsGT3+04fatlC43nr387rCye1DzLourB+lDSrlig+Uymj3WT/oCRdXaaf0jdOoC/t06ZB6KQJpS3gJfbD3HD0Qv+Ld2t/432Iu7NWVb3bT+8vfkmSrmaThny3sKlp/vH5/1LltJRK3T2Mi9e9VvfUWhyF8sBa8va1O8sKWImaXDn/USsvkT7nS19af1jrv5PUkWzckbqd9Zlz5Z5tObFw0ReBnCSmljQau1JO2E/Xa4VU6pll5DbGGpeX08TGr9HcvBnVRv0/Wh8Jt+zVbwotrk5m/m10kJM8EBuY4nNn6nravlnJ/8dCCTfWNDUdufOGtea79OLtzsY7tUEsL5w6/8dri6LlmCc+jdZ//xjpXzWuTz9PMdttsY+Q/2/XD9o63LRIppg26f3LTf3VjfAShuz7ooJXz2/YcT2wTWri3rj5h2//dPG//tCe0XC7b8yO0cBdd+Kft48bMZkN7vDt/zbnGgQACCCCQfgIE5elnS8kIIIAAAgj4lQBvdr37ZjcjPM09c/fP7qHV8odaQ09Ltto68NO9xtdVJj6u6IG172inmoWN1Z3ZtHzbqbrD+LLHWON/V429iAfeHr+iNyyvVu+6WM+YDTeOq0e/0rENbtXgfNX1ydm2PcDN+53pV8y5z3Xww5XiV02GaO0Xlut+J4P2tMuP02tn9+myEfYvlrSv5jRWg4fl07K1W+uAVyfrx3Nm6oeTxulzTz6iVYvl0bDQ4DRDO1tYFaJ1hq7WQy7vT26axOqVk+t1xJ0JW+EkDsCyl6mvz3zp2fYz8cOie95toCXyOg7Kizeapn9cj7npGJkrfo/v+Eg7l7dt6ZDQ1hDNV/Zh7f7GNJ3x+gD9d/Ui8W55tE6XSbrldNqrZdMeu5Rz5/SiJzWbNYQP0rDsDfWdg+xP7qphep6vxrw+tW2Kdqlza7IPpywakqe8PtRxqL45ZbrOnDVd33l1sD55b3m9JXeEhgUnPC8T5lbi+4zrc1XSp5efMV9Sbjpf07OPzpZttvPK8c06sdmtKT5gMvto7k/ee8YeQ8x2pFWuxv2m8/o/oIVCE77PwOZ0i9bq+rJO/miSju1URwvkCLW6W4Lr6qhvTlj3Pk+rXB7LGnPpZuMUP4X4gQACCCCQTgIE5ekES7EIIIAAAgj4m8DN3rzxeOZ8E27+8/yDy0fqv0rHb6MSVFSr/7ubDn/jTR07uJs2rnarhhvBVXCeWtrj/W/072vR1jDHOp5xUXpm90favmyENfwJiiiuNdo8p6+OfkYfrZRHgyLKacOX1+sp82TjcHYOqJ7SFc831LLh9n3KX9QNhy+4VEZadcVcPal7Vo7TNtULJQutgjQ4NEzDwoxfoSEanGiFd/YyjbRn/y76r+qOgy6RMtpt7k496e7K97jrenb/Yn3x39Vs+79bimitDs/puDee0ZqFamiPtZ4H5abJ9QOTtEnJlIF8cN7mOnXnOTWbn5ad/THzQ5Yzhz7X19pU1eyJt9ewxBuGBNlCupBi+kDfabrV0y9kTTF/TurSp26zjZ8lRIvd986NfxFgbyM/nRvL9HQyn7TXjm/TOSNaaPn47ZTs4bclOERDzeea8Ss0fr7YHgvV0g0H6ptDGmpE/HcV2K+x/QzWHPma64dOfDlwevbN5bIjj+qW91pqnkSvK7b+FNL7us/QXZFmic6NmcYd083T+2jd/NmSvIZZgkMN09Abr13ZSjXXcV/9odeMBN7l9jrZFsrNXLbWScRvCCCAAALpJmAxSzb+A86BAAIIIIAAAgikKcBfGNLkyfQPxpz7RdbMmymfzFksK344IlHWAc0mRavVl2btu0qPzo9KtcI5JcRIj5McGi1XTvwkS6d+INM+WSqbf78sEhQhxWu0lj5DB0nP1tWlgHGJK/PDrOHc2mHSot8k+ebgFePWA/LqxlnS/6Eyksu45UpZSdqa+IbGSfTVM/LHz+tlxcoNsnXbdvlp33754+Q161lBEYWlQrVaUqvufVK/cWN59ME7Jejr0dJ94Nuyau/VxCVZ/2wJaSGTv58kT9UsJkZw7F4bjTbFxsYYv9RY4h4soUEXZN/q8dLm6XVy/4JNMq1hHvfKTdRai8TIsW+nybjRE2TGxkMSnbO03NOkuwx95RlpVC6fhAQlOvmmf1SJuXZeju7cKEsXLpFVmzbLjzuOyEVjgIKMcus0bS/duneWFg9WkvwhtnTwpkU6eYJeWSO9yraWGScjxRKSX+q//a2sH1DZYx8nq+c0lwSM+Wy8pbx+Yo98s+5L+WrdZvlp98+ydeefci3OVlCu4lWlRvUaUuOBBtK0SUO5p2Iu2fnKA3LvKz+I8XRIeljCpHCV0fLFjuFyV5B351XSirx7y3xdu37+N9k4/WUZ+dZC+eGkSIHKjaRz32elb9d/SdkIV/sSJ5H//CJfL1sqS79aJ5s2fC+/nYs2agmVwnc+LE3bdZf+PZvIHfmzS7BLz2vv9pvSMlbAnGccCCCAAALpJ0BQnn62lIwAAggggIBfCSTPMvyqcwHSGWNdnDXQSrJMwmIRi/1Xqg62IMxYspgQVBrXBFmCjGtTvSjNB/TKOhnRrL+8v3G/XDXi8YavLZPp/etLyRyuhklpVmMk2vFtN05Lvj7E7LcY3/xp/gyyXJCv3+wvA0fPkx2R8eleoqIL1h0pn84fIg+WyZ1gkOhxd/5oiTsjOxa9JE2e+UGaLFgn0xp5HpRb22H0Oc461uat+PE1Akc3hyqRoWmZ0FOLdfzN8hPu89afLn3RR257bKqcNtath2ZvKdN/XyRPFbbt2eGtOijH+wLW55j5nDP/l2iu2OahUZ8xWazPN9krb9ZtIMO2nZDkzzZLaIRU77FMvv/gESMSdvNDKe93zekSra+z9tdKe389eJKYpgmu8c2IL9f62u10yzjRHwTS4eXWH1joAwIIIOA1AYJyr1FSEAIIIIAAAv4tkCTz8O+u0rsMEDBXPu94r410HLtSfjkdK/lrvSRLPn1e7i+VOwNqT1mFxQjupvfsJy/N2CQnkyZ8xslBUvO5xTLvpWZSMa/3wlqNPCpbJveT5u/Eyug1S2VglRCvhfApe5h17rHICVnc6V55fO5hgz5cqvVaIVsnN3R/JX/W6XrAtDTu3EJpW/ZpWXr+aoo5Hxxxm7Sfu1XmtiyY4rGAAaKjCKQiQFCeCgx3I4AAAl4SICj3EiTFIIAAAggg4O8CBOX+PsIZ37+YI59I19YjZMGPR41VpdVkyMpF8uJjFSSvsY1ARs+36EML5bk+w2TSV384gCgpXWYultc61pQiod5Z8W6GHdGnd8q8IU/IkO2PyKytE6Rp7qAM77eDzvr8rpi/ZshjFZ+RdZHREhz+oPxn+xoZdmd2bHw+Mt5rwJVVPaRkq5lyLjr5evIgyZa7kUzYuUL6lOaDI++JU5K/CBCU+8tI0g8EEMisAgTlmXVkaBcCCCCAAAKZTMBRcGne5+6bNnt5nlzv7rUmradt91XdWbntyc0tckHWv9hGer67Xg5fiZOKnWbL4gnt5I4C4Q5D0eTXmxauHKldb47lkVUvSJ9B78uag7Y9zBOXawlrKZO+eVe61inh9qrm5HVbJFbOHlwuL7fqJRvLT5AVn3WU0sZ2CuZ5yQ/7fe7OueR1Jy//Zrc9ud7Vay1yXXa82kDuHrnF2Ls6VCp1WiDfzW4t+YzO2x1u1t7Ej7tav7euNcvJqnWnd9stclnWD6ojj763V2KS5+SWUClY5RVZt2OoVHVjf3L7HAmE50riuerpmHl6vSdz3Rt1m2UEypi720/TiAMBBBBA4OYCBOU3N+IMBBBAAAEEEDAE7AEEGAh4UyDuzDLp+9gg+fh/f0h08KPy9nczpFftYhKRgXPOIqdl/fhBMuil+bI7NnlyJ8a2MMNk/ryh0rB8Xq89Dyx6XvatHCstH18sVSetlUU9K1pZA/15ppfXyDO3t5Npf10SCX9IXv/xc3n+DlaTe/M55+uyLPKzvFL1UXl598mU+5OHZJOqXRfL99Mek2wZ+BrgaxPqR8BZAYJyZ6U4DwEEEHBPgKDcPTeuQgABBBBAIOAEAj3AC7gBz6AOm3uV7/mgnbQdtVz2nY2VO3oukiWvt5QKeTNw24VrP8gH/QbKizO3yEUHE71Kr7kya2w7qVnQO20yg47os3tk4XMdpM+3d8kHG2dJ5xLe2/s8g4bO69VYJFr2TWgq1Z7/UqLjsku13p/KpslNJK8B5mBYvF4/BWaMQMyfU6TRnc/JpouRKcbVEl5Cmk7fKis6FUvxWMa0jloQyNwCBOWZe3xoHQIIZH0BgvKsP4b0AAEEEEAAgQwRIKjKEOaArMQS94O8+lhXeePLPUZQfZ+8suETGfRQacmZAQGpGTpc3z9XhvQbLpPWH3XgX0w6TvlUXu9WV2712v7kV+T3rydK58YTxdJznqyc+KjkyYC+Ouhcpror9vgcaX1Hb1l5LlLCivSSz/ZNlqbGhvW89mSqYfKoMebz7fwiY5uhTv+VC1GxycoKkvAcD8tbO9dIv9u886FUsgq4iUCWFzCfQxwIIIAAAuknQFCefraUjAACCCCAgF8JEFb51XBmqs6Yb/yv/fy2tOowTtYeOCtFG06QxXN6Sa3CEW7vO5t2B1Xi4owZbfw/KDhKflkwTAY9P0XW/R2V8jJLQ3n9qw+kd4NykisuTjQoSIzvGnU7vDV3IY88sVWm9ewgw/fUk/Gr58qAyoSCFjkpq/s1lJZTdkpMcGXptOhLmd2iuNvOKQeSe3whYM73OFXrOKqxrVFQyCn5rNMD0nHBQYlOnpNLsOQt+4J8/turUs+ixi7+FrEY+/Z78nzzRZ+pE4H0FCAoT09dykYAAQSM77xQ4wACAQQQQAABBBC4mQB/YbiZEI97ImBuwbLrvfbS7uVlsv9sAWnx3nKZ1qu2FAxz/AWX7tRlMXZEjjx7VH7bf0j+iYyTuGtX5NKFA7JpwUL5dPVPctLBX4tDCz0s/UZ0l0ZVi0hIbKwE5SolVe4sLfkjQt0K8fXqX7Jl2rPSYvAPcv/rS2Tx83cb8aD7wbs7DpntGnOEz65/Qe5/bKLsjcou1XvPky8nN5f8JEKZbahcao9FouTkgd2y79gF49mtcvXUCTl38Wf5ZOgU2XD2aor9ycUSLIVq9pE3/tNSSoYaAbvxxZ45i1SUqpULu/0lui41mJMRyAICvCxmgUGiiQggkKUFCMqz9PDReAQQQAABBDJOgKA846wDtSaL/CGfdH9Chsz6Xk5nbyYTN0yVXrWKSpiXQCyxR2Tt289Jx2GL5bRTE9pY0WoEfElPvV2GfL5SRjUqK7mMpa5JH0u7oRp1Wvauek06dpgsUQ3Hy/zlA+SuIO99EJB27ZnzUTP0iTm+VPo+0lWm/XJJitYdLYu/eknq5WTLlcw5Ys63Ku7iculevavMOnzO+YuSnRle5CmZu3emPJ6P+ZCMhpsBKkBQHqADT7cRQCDDBAjKM4yaihBAAAEEEMjaAq4Eglm7p7TeVwLWOXblaxnTtq+8v+YXCan1osxeOFQeLZ3LrdXbyfsRe3KbzBrZU3pM25X8IRduV5T+S1fJ2GblJI+xFNzZ54VFo+X0rhnydOPB8lOpPjJx2ZvSpnCwdVVtoAYfZr/1+j6Z3a2V9Jj3q+Qs96RM/GKadLktm9OuLgwcp2aggDm2VzePlHvbvCU7Tlxzs2aL5CndQd7fPEc6FePLbt1E5DI/EwjU/1742TDSHQQQyMQCBOWZeHBoGgIIIIAAAplJwNlAMDO1mbZkTYG4s6vkhebPypQth6VExxky960nlBbbYwAACUNJREFUjf3KvRCeRh+X7Yvel5ffWi3HQ7OJ8d2cLhzGnsnRURJcoatMeKeb1C2S07p3srMFWGKvybHN70rPceel89Qx0rZMOGGwMR6bXntKWo75SiILtZTXvvhYBt+VBxdnJ1UmPy/u3CZ5vd/rsurX0xJj7O3vytPN3B1UQ3LJbY2GyaRRj0gB42L+G5TJB5zmZYiAK8+jDGkQlSCAAAJ+JkBQ7mcDSncQQAABBBBILwFCivSSpdzkAmYQcH3fTOnb8zX57+a/pVKfqTJ1TBupWSh78lNdum3OYfOLAb1xuPN8SBxwuHO9N9qdWcqwyGnZNqmfPP7sUrlUrL70/nCavNq4ZMDv155ZxsfzdphbFtm+iNPjsszQ3PhSTw4EEDC+ZA4EBBBAAIF0FSAoT1deCkcAAQQQQMB/BAI92POfkcwaPTHDgOi/jS1O+o6SKSv2S4meH8uiCY/LbRHmV19yZGUBi1yQ3XNHylPPzpVTJZrL81PGS/96RawBEK8zWXlkaTsCCKS3AEF5egtTPgIIBLoAQXmgzwD6jwACCCCAgJMCBFhOQnGa1wTMQCDu8o8yZ9RombS+uAz74l1pXTTca+VTkI8EYr6Tsc2HyfocDeTZcYOlVflc1obwGuOj8aBaBBDIMgIE5VlmqGgoAghkUQGC8iw6cDQbAQQQQACBjBYgxMpoceqzC1jkuhw7fEqylyoueVlQbmfJsj8tclmO/3FJcpQuKrnje8HrS5YdThqOAAIZKEBQnoHYVIUAAgEpQFAekMNOpxFAAAEEEHBdgCDLdTOu8J6APRxgHnrP1JclMZ6+1KduBBDIqgL2186s2n7ajQACCGR2AYLyzD5CtA8BBBBAAIFMIkBAmUkGgmYggAACCCCAQEAKEJQH5LDTaQQQyEABgvIMxKYqBBBAAAEEsrIAQbn3Rs+05M2u9zwpCQEEEEAAgUAQ4O8OgTDK9BEBBHwpQFDuS33qRgABBBBAIAsJOArKfRn4elq3p9d7MnRZue6s3HZfjllWdsvKbWfMPRFw71pP54un17vXattVntbt6fW+bLsv6w5UN3fMCcrdUeMaBBBAwHkBgnLnrTgTAQQQQACBgBYw38hyIIAAAggggAACCPhGgKDcN+7UigACgSNAUB44Y01PEUAAAQQQ8EiAoNwjPi5GAAEEEEAAAQQ8EiAo94iPixFAAIGbChCU35SIExBAAAEEEEDAFCAoZx4ggAACCCCAAAK+EyAo9509NSOAQGAIEJQHxjjTSwQQQAABBDwWICj3mJACEEAAAQQQQAABtwUIyt2m40IEEEDAKQGCcqeYOAkBBBBAAAEECMqZAwgggAACCCCAgO8ECMp9Z0/NCCAQGAIE5YExzvQSAQQQQAABjwUIyj0mpAAEEEAAAQQQQMBtAYJyt+m4EAEEEHBKgKDcKSZOQgABBBBAAAGCcuYAAggggAACCCDgOwGCct/ZUzMCCASGAEF5YIwzvUQAAQQQQMBjAYJyjwkpAAEEEEAAAQQQcFuAoNxtOi5EAAEEnBIgKHeKiZMQQAABBBBAgKCcOYAAAggggAACCPhOgKDcd/bUjAACgSFAUB4Y40wvEUAAAQQQ8FiAoNxjQgpAAAEEEEAAAQTcFiAod5uOCxFAAAGnBAjKnWLiJAQQQAABBBAgKGcOIIAAAggggAACvhMgKPedPTUjgEBgCBCUB8Y400sEEEAAAQQ8FiAo95iQAhBAAAEEEEAAAbcFCMrdpuNCBBBAwCkBgnKnmDgJAQQQQAABBAjKmQMIIIAAAggggIDvBAjKfWdPzQggEBgCBOWBMc70EgEEEEAAAY8FCMo9JqQABBBAAAEEEEDAbQGCcrfpuBABBBBwSoCg3CkmTkIAAQQQQAABR0G5eZ+7b9rs5XlyvbvXmqPpadt9VXdWbrsn5p7229Prfdl2nivm6Ll3eDJunlxrttaT6z251tO6Pb3el2036zYPd1+ffd12d9tt9jlQ2+7Lfnvq7k7bPZkjZns5EEAAAQTSFiAoT9uHRxFAAAEEEEAgXsB8Q8eBAAIIIIAAAggg4BsBgnLfuFMrAggEjgBBeeCMNT1FAAEEEEDAIwGCco/4uBgBBBBAAAEEEPBIgKDcIz4uRgABBG4qQFB+UyJOQAABBBBAAAFTgKCceYAAAggggAACCPhOgKDcd/bUjAACgSFAUB4Y40wvEUAAAQQQ8FiAoNxjQgpAAAEEEEAAAQTcFiAod5uOCxFAAAGnBAjKnWLiJAQQQAABBBAgKGcOIIAAAggggAACvhMgKPedPTUjgEBgCBCUB8Y400sEEEAAAQQ8FiAo95iQAhBAAAEEEEAAAbcFCMrdpuNCBBBAwCkBgnKnmDgJAQQQQAABBBBAAAEEEEAAAQQQQAABBBBAwF8FCMr9dWTpFwIIIIAAAggggAACCCCAAAIIIIAAAggggIBTAgTlTjFxEgIIIIAAAggggAACCCCAAAIIIIAAAggggIC/ChCU++vI0i8EEEAAAQQQQAABBBBAAAEEEEAAAQQQQAABpwQIyp1i4iQEEEAAAQQQQAABBBBAAAEEEEAAAQQQQAABfxUgKPfXkaVfCCCAAAIIIIAAAggggAACCCCAAAIIIIAAAk4JEJQ7xcRJCCCAAAIIIIAAAggggAACCCCAAAIIIIAAAv4qQFDuryNLvxBAAAEEEEAAAQQQQAABBBBAAAEEEEAAAQScEiAod4qJkxBAAAEEEEAAAQQQQAABBBBAAAEEEEAAAQT8VYCg3F9Hln4hgAACCCCAAAIIIIAAAggggAACCCCAAAIIOCVAUO4UEychgAACCCCAAAIIIIAAAggggAACCCCAAAII+KsAQbm/jiz9QgABBBBAAAEEEEAAAQQQQAABBBBAAAEEEHBKgKDcKSZOQgABBBBAAAEEEEAAAQQQQAABBBBAAAEEEPBXAYJyfx1Z+oUAAggggAACCCCAAAIIIIAAAggggAACCCDglABBuVNMnIQAAggggAACCCCAAAIIIIAAAggggAACCCDgrwIE5f46svQLAQQQQAABBBBAAAEEEEAAAQQQQAABBBBAwCkBgnKnmDgJAQQQQAABBBBAAAEEEEAAAQQQQAABBBBAwF8FCMr9dWTpFwIIIIAAAggggAACCCCAAAIIIIAAAggggIBTAv8H/ubaxNEz6HAAAAAASUVORK5CYII=)"
      ],
      "metadata": {
        "id": "tIXsb35i6ikY"
      }
    },
    {
      "cell_type": "code",
      "source": [
        "# 1.\n",
        "from tensorflow.keras import layers\n",
        "\n",
        "# A integer input for vocab indices.\n",
        "inputs = tf.keras.Input(shape=(None,), dtype=\"int64\")\n",
        "\n",
        "# Next, we add a layer to map those vocab indices into a space of dimensionality\n",
        "# 'embedding_dim'.\n",
        "x = layers.Embedding(max_features, embedding_dim)(inputs)\n",
        "x = layers.Dropout(0.5)(x)\n",
        "\n",
        "# Conv1D + global max pooling\n",
        "x = layers.Conv1D(128, 7, padding=\"valid\", activation=\"relu\", strides=3)(x)\n",
        "cnn_output = layers.Conv1D(128, 7, padding=\"valid\", activation=\"relu\", strides=3)(x)\n",
        "\n",
        "# Question 1: Feed cnn_output to the attention layer by calling tf.keras.layers.Attention()\n",
        "attn_layer = tf.keras.layers.Attention(\n",
        "    use_scale=False, score_mode=\"dot\", dropout=0.0, seed=None\n",
        ")\n",
        "output_attn = attn_layer([cnn_output, cnn_output])\n",
        "\n",
        "# Question 2: Add the output of the last CNN, `cnn_output' to the output of attention. This layer is called residual connection.\n",
        "residual_connection = cnn_output + output_attn\n",
        "\n",
        "# output_layer = layers.GlobalMaxPooling1D()(cnn_output)\n",
        "output_layer = layers.GlobalMaxPooling1D()(residual_connection)\n",
        "\n",
        "# We add a vanilla hidden layer:\n",
        "final_output = layers.Dense(128, activation=\"relu\")(output_layer)\n",
        "final_output = layers.Dropout(0.5)(final_output)\n",
        "\n",
        "# We project onto a single unit output layer, and squash it with a sigmoid:\n",
        "predictions = layers.Dense(1, activation=\"sigmoid\", name=\"predictions\")(final_output)\n",
        "\n",
        "model = tf.keras.Model(inputs, predictions)\n",
        "\n",
        "# Compile the model with binary crossentropy loss and an adam optimizer.\n",
        "model.compile(loss=\"binary_crossentropy\", optimizer=\"adam\", metrics=[\"accuracy\"])\n"
      ],
      "metadata": {
        "id": "12fCqc4Yksa4"
      },
      "execution_count": 29,
      "outputs": []
    },
    {
      "cell_type": "code",
      "source": [
        "\n",
        "model.summary()"
      ],
      "metadata": {
        "colab": {
          "base_uri": "https://localhost:8080/"
        },
        "id": "8vWHX8Rw0EKl",
        "outputId": "989a778d-2fc0-4fd5-913d-93a100849e3d"
      },
      "execution_count": 30,
      "outputs": [
        {
          "output_type": "stream",
          "name": "stdout",
          "text": [
            "Model: \"model_1\"\n",
            "__________________________________________________________________________________________________\n",
            " Layer (type)                Output Shape                 Param #   Connected to                  \n",
            "==================================================================================================\n",
            " input_13 (InputLayer)       [(None, None)]               0         []                            \n",
            "                                                                                                  \n",
            " embedding_12 (Embedding)    (None, None, 128)            2560000   ['input_13[0][0]']            \n",
            "                                                                                                  \n",
            " dropout_13 (Dropout)        (None, None, 128)            0         ['embedding_12[0][0]']        \n",
            "                                                                                                  \n",
            " conv1d_24 (Conv1D)          (None, None, 128)            114816    ['dropout_13[0][0]']          \n",
            "                                                                                                  \n",
            " conv1d_25 (Conv1D)          (None, None, 128)            114816    ['conv1d_24[0][0]']           \n",
            "                                                                                                  \n",
            " attention_9 (Attention)     (None, None, 128)            0         ['conv1d_25[0][0]',           \n",
            "                                                                     'conv1d_25[0][0]']           \n",
            "                                                                                                  \n",
            " tf.__operators__.add_1 (TF  (None, None, 128)            0         ['conv1d_25[0][0]',           \n",
            " OpLambda)                                                           'attention_9[0][0]']         \n",
            "                                                                                                  \n",
            " global_max_pooling1d_1 (Gl  (None, 128)                  0         ['tf.__operators__.add_1[0][0]\n",
            " obalMaxPooling1D)                                                  ']                            \n",
            "                                                                                                  \n",
            " dense_1 (Dense)             (None, 128)                  16512     ['global_max_pooling1d_1[0][0]\n",
            "                                                                    ']                            \n",
            "                                                                                                  \n",
            " dropout_14 (Dropout)        (None, 128)                  0         ['dense_1[0][0]']             \n",
            "                                                                                                  \n",
            " predictions (Dense)         (None, 1)                    129       ['dropout_14[0][0]']          \n",
            "                                                                                                  \n",
            "==================================================================================================\n",
            "Total params: 2806273 (10.71 MB)\n",
            "Trainable params: 2806273 (10.71 MB)\n",
            "Non-trainable params: 0 (0.00 Byte)\n",
            "__________________________________________________________________________________________________\n"
          ]
        }
      ]
    },
    {
      "cell_type": "code",
      "source": [
        "epochs = 3\n",
        "\n",
        "# Fit the model using the train and test datasets.\n",
        "model.fit(train_ds, validation_data=val_ds, epochs=epochs)"
      ],
      "metadata": {
        "colab": {
          "base_uri": "https://localhost:8080/"
        },
        "id": "tLaYjnYAvaFi",
        "outputId": "fa261ee4-cc10-46e4-b596-b5e9d9c1e4b9"
      },
      "execution_count": 31,
      "outputs": [
        {
          "output_type": "stream",
          "name": "stdout",
          "text": [
            "Epoch 1/3\n",
            "625/625 [==============================] - 46s 71ms/step - loss: 0.4931 - accuracy: 0.7237 - val_loss: 0.3140 - val_accuracy: 0.8642\n",
            "Epoch 2/3\n",
            "625/625 [==============================] - 4s 7ms/step - loss: 0.2273 - accuracy: 0.9129 - val_loss: 0.3190 - val_accuracy: 0.8708\n",
            "Epoch 3/3\n",
            "625/625 [==============================] - 5s 8ms/step - loss: 0.1199 - accuracy: 0.9564 - val_loss: 0.3753 - val_accuracy: 0.8686\n"
          ]
        },
        {
          "output_type": "execute_result",
          "data": {
            "text/plain": [
              "<keras.src.callbacks.History at 0x7edb5aa61c90>"
            ]
          },
          "metadata": {},
          "execution_count": 31
        }
      ]
    },
    {
      "cell_type": "code",
      "source": [
        "model.evaluate(test_ds)"
      ],
      "metadata": {
        "colab": {
          "base_uri": "https://localhost:8080/"
        },
        "id": "nXHy4z0O0IE_",
        "outputId": "6d9ff0ad-78ab-4671-b060-6e624018e4fb"
      },
      "execution_count": 32,
      "outputs": [
        {
          "output_type": "stream",
          "name": "stdout",
          "text": [
            "782/782 [==============================] - 2s 3ms/step - loss: 0.4026 - accuracy: 0.8605\n"
          ]
        },
        {
          "output_type": "execute_result",
          "data": {
            "text/plain": [
              "[0.402567982673645, 0.8605200052261353]"
            ]
          },
          "metadata": {},
          "execution_count": 32
        }
      ]
    }
  ],
  "metadata": {
    "accelerator": "GPU",
    "colab": {
      "provenance": [],
      "toc_visible": true
    },
    "kernelspec": {
      "display_name": "Python 3",
      "language": "python",
      "name": "python3"
    },
    "language_info": {
      "codemirror_mode": {
        "name": "ipython",
        "version": 3
      },
      "file_extension": ".py",
      "mimetype": "text/x-python",
      "name": "python",
      "nbconvert_exporter": "python",
      "pygments_lexer": "ipython3",
      "version": "3.7.0"
    }
  },
  "nbformat": 4,
  "nbformat_minor": 0
}