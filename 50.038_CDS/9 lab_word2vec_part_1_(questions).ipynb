{
  "nbformat": 4,
  "nbformat_minor": 0,
  "metadata": {
    "colab": {
      "provenance": [],
      "toc_visible": true
    },
    "kernelspec": {
      "name": "python3",
      "display_name": "Python 3"
    },
    "accelerator": "GPU"
  },
  "cells": [
    {
      "cell_type": "markdown",
      "metadata": {
        "id": "KDMeojC4XA9R"
      },
      "source": [
        "## Training a word2vec model from scratch\n",
        "\n",
        "-- Prof. Dorien Herremans\n",
        "\n",
        "This lab consists of 2 parts, training a word2vec model from scratch, and leveraging pretrained models (different notebook).\n",
        "\n",
        "In this notebook, will start by training a word2vec model from scratch using the gensim library. You will need to ensure that you have gensim installed, and a file decompressor to load our dataset.\n",
        "\n",
        "Note: these models may take a while to train. Be sure to switch the runtime of  Google Colab to us a GPU hardware accellerator (in the menu at the top).\n",
        "\n",
        "Let's start by installing some libraries that we will use, you may not need this when using Colab."
      ]
    },
    {
      "cell_type": "code",
      "metadata": {
        "id": "mDkvVQRXu8rj",
        "colab": {
          "base_uri": "https://localhost:8080/"
        },
        "outputId": "3dd93b82-6ff7-48f5-e1d5-b0db4e026606"
      },
      "source": [
        "# !pip install gensim\n",
        "!pip install wget"
      ],
      "execution_count": 1,
      "outputs": [
        {
          "output_type": "stream",
          "name": "stdout",
          "text": [
            "Collecting wget\n",
            "  Downloading wget-3.2.zip (10 kB)\n",
            "  Preparing metadata (setup.py) ... \u001b[?25l\u001b[?25hdone\n",
            "Building wheels for collected packages: wget\n",
            "  Building wheel for wget (setup.py) ... \u001b[?25l\u001b[?25hdone\n",
            "  Created wheel for wget: filename=wget-3.2-py3-none-any.whl size=9656 sha256=14a18e88c00bce70c32caab53e02c5d0948cade08d4354824d5a31b5e57209de\n",
            "  Stored in directory: /root/.cache/pip/wheels/8b/f1/7f/5c94f0a7a505ca1c81cd1d9208ae2064675d97582078e6c769\n",
            "Successfully built wget\n",
            "Installing collected packages: wget\n",
            "Successfully installed wget-3.2\n"
          ]
        }
      ]
    },
    {
      "cell_type": "markdown",
      "metadata": {
        "id": "0qiQjAboxcBN"
      },
      "source": [
        "Now we can import libraries that we will use today. `wget` for downloading our dataset and `gensim` for our embedding models:"
      ]
    },
    {
      "cell_type": "code",
      "metadata": {
        "id": "f5wZmGH0XHYP"
      },
      "source": [
        "# imports\n",
        "import gensim\n",
        "import wget"
      ],
      "execution_count": 2,
      "outputs": []
    },
    {
      "cell_type": "markdown",
      "metadata": {
        "id": "02-XoaTBYuY1"
      },
      "source": [
        "We will train our model using a very small dataset for demonstrative purposes. Note that for a real data science project you should train on a much larger dataset, and ensure that the language used in the training dataset matches the language of your task, e.g. financial lingo, social networking lingo, etc.\n",
        "\n",
        "We will use the complete works of Shakespeare to train our word2vec network. You can find the dataset file at https://dorienherremans.com/drop/CDS/CNNs/shakespeare.txt"
      ]
    },
    {
      "cell_type": "code",
      "metadata": {
        "id": "1Tg9GZzYt4nf",
        "colab": {
          "base_uri": "https://localhost:8080/",
          "height": 35
        },
        "outputId": "83bccb0f-bb47-4fd7-cf38-7dfbb24e2c85"
      },
      "source": [
        "# download the dataset\n",
        "wget.download(\"https://dorienherremans.com/drop/CDS/CNNs/shakespeare.txt\")"
      ],
      "execution_count": 3,
      "outputs": [
        {
          "output_type": "execute_result",
          "data": {
            "text/plain": [
              "'shakespeare.txt'"
            ],
            "application/vnd.google.colaboratory.intrinsic+json": {
              "type": "string"
            }
          },
          "metadata": {},
          "execution_count": 3
        }
      ]
    },
    {
      "cell_type": "markdown",
      "metadata": {
        "id": "qum8VyFdLX4M"
      },
      "source": [
        "How does this file look?"
      ]
    },
    {
      "cell_type": "code",
      "metadata": {
        "id": "f2qsWBD6LYAL",
        "colab": {
          "base_uri": "https://localhost:8080/"
        },
        "outputId": "00bf606a-385b-440b-85b0-86ade9223b70"
      },
      "source": [
        "!head -50 shakespeare.txt"
      ],
      "execution_count": 4,
      "outputs": [
        {
          "output_type": "stream",
          "name": "stdout",
          "text": [
            "1609\n",
            "\n",
            "THE SONNETS\n",
            "\n",
            "by William Shakespeare\n",
            "\n",
            "\n",
            "\n",
            "                     1\n",
            "  From fairest creatures we desire increase,\n",
            "  That thereby beauty's rose might never die,\n",
            "  But as the riper should by time decease,\n",
            "  His tender heir might bear his memory:\n",
            "  But thou contracted to thine own bright eyes,\n",
            "  Feed'st thy light's flame with self-substantial fuel,\n",
            "  Making a famine where abundance lies,\n",
            "  Thy self thy foe, to thy sweet self too cruel:\n",
            "  Thou that art now the world's fresh ornament,\n",
            "  And only herald to the gaudy spring,\n",
            "  Within thine own bud buriest thy content,\n",
            "  And tender churl mak'st waste in niggarding:\n",
            "    Pity the world, or else this glutton be,\n",
            "    To eat the world's due, by the grave and thee.\n",
            "\n",
            "\n",
            "                     2\n",
            "  When forty winters shall besiege thy brow,\n",
            "  And dig deep trenches in thy beauty's field,\n",
            "  Thy youth's proud livery so gazed on now,\n",
            "  Will be a tattered weed of small worth held:  \n",
            "  Then being asked, where all thy beauty lies,\n",
            "  Where all the treasure of thy lusty days;\n",
            "  To say within thine own deep sunken eyes,\n",
            "  Were an all-eating shame, and thriftless praise.\n",
            "  How much more praise deserved thy beauty's use,\n",
            "  If thou couldst answer 'This fair child of mine\n",
            "  Shall sum my count, and make my old excuse'\n",
            "  Proving his beauty by succession thine.\n",
            "    This were to be new made when thou art old,\n",
            "    And see thy blood warm when thou feel'st it cold.\n",
            "\n",
            "\n",
            "                     3\n",
            "  Look in thy glass and tell the face thou viewest,\n",
            "  Now is the time that face should form another,\n",
            "  Whose fresh repair if now thou not renewest,\n",
            "  Thou dost beguile the world, unbless some mother.\n",
            "  For where is she so fair whose uneared womb\n",
            "  Disdains the tillage of thy husbandry?\n",
            "  Or who is he so fond will be the tomb,\n"
          ]
        }
      ]
    },
    {
      "cell_type": "markdown",
      "metadata": {
        "id": "nKHwTYP3YpJZ"
      },
      "source": [
        "Let's read the input file and convert each line into a list of words (tokenizing). Do do this, we create a function read_input which is called in the penultimate line below:"
      ]
    },
    {
      "cell_type": "code",
      "metadata": {
        "id": "F8J2jQ1JYpJd",
        "colab": {
          "base_uri": "https://localhost:8080/"
        },
        "outputId": "dd9b0072-13d9-4af2-d87c-5df7f81b2d14"
      },
      "source": [
        "def read_input(input_file):\n",
        "\n",
        "    print(\"reading file...\")\n",
        "\n",
        "    with open (input_file, 'r') as f:\n",
        "        lines = f.readlines()\n",
        "        for line in lines:\n",
        "            # do some pre-processing and return a (tokenized) list\n",
        "            # of words for each review text\n",
        "            # you can print the output here to understand\n",
        "            # the preprocessing (tokenizing)\n",
        "            yield gensim.utils.simple_preprocess (line)\n",
        "\n",
        "# each review item new becomes a series of words\n",
        "# this is a list of lists\n",
        "\n",
        "# point to the location on your filesystem\n",
        "data_file = 'shakespeare.txt'\n",
        "\n",
        "documents = list (read_input (data_file))\n",
        "print(\"Done reading data file\")"
      ],
      "execution_count": 5,
      "outputs": [
        {
          "output_type": "stream",
          "name": "stdout",
          "text": [
            "reading file...\n",
            "Done reading data file\n"
          ]
        }
      ]
    },
    {
      "cell_type": "markdown",
      "metadata": {
        "id": "kLKr0WaOiC8e"
      },
      "source": [
        "These are the resulting tokenlists:"
      ]
    },
    {
      "cell_type": "code",
      "metadata": {
        "id": "A5XfQ2XUNOuQ",
        "colab": {
          "base_uri": "https://localhost:8080/"
        },
        "outputId": "3db0cf86-fd52-43ee-899a-6ee2b8666e26"
      },
      "source": [
        "documents"
      ],
      "execution_count": 6,
      "outputs": [
        {
          "output_type": "execute_result",
          "data": {
            "text/plain": [
              "[[],\n",
              " [],\n",
              " ['the', 'sonnets'],\n",
              " [],\n",
              " ['by', 'william', 'shakespeare'],\n",
              " [],\n",
              " [],\n",
              " [],\n",
              " [],\n",
              " ['from', 'fairest', 'creatures', 'we', 'desire', 'increase'],\n",
              " ['that', 'thereby', 'beauty', 'rose', 'might', 'never', 'die'],\n",
              " ['but', 'as', 'the', 'riper', 'should', 'by', 'time', 'decease'],\n",
              " ['his', 'tender', 'heir', 'might', 'bear', 'his', 'memory'],\n",
              " ['but', 'thou', 'contracted', 'to', 'thine', 'own', 'bright', 'eyes'],\n",
              " ['feed',\n",
              "  'st',\n",
              "  'thy',\n",
              "  'light',\n",
              "  'flame',\n",
              "  'with',\n",
              "  'self',\n",
              "  'substantial',\n",
              "  'fuel'],\n",
              " ['making', 'famine', 'where', 'abundance', 'lies'],\n",
              " ['thy', 'self', 'thy', 'foe', 'to', 'thy', 'sweet', 'self', 'too', 'cruel'],\n",
              " ['thou', 'that', 'art', 'now', 'the', 'world', 'fresh', 'ornament'],\n",
              " ['and', 'only', 'herald', 'to', 'the', 'gaudy', 'spring'],\n",
              " ['within', 'thine', 'own', 'bud', 'buriest', 'thy', 'content'],\n",
              " ['and', 'tender', 'churl', 'mak', 'st', 'waste', 'in', 'niggarding'],\n",
              " ['pity', 'the', 'world', 'or', 'else', 'this', 'glutton', 'be'],\n",
              " ['to', 'eat', 'the', 'world', 'due', 'by', 'the', 'grave', 'and', 'thee'],\n",
              " [],\n",
              " [],\n",
              " [],\n",
              " ['when', 'forty', 'winters', 'shall', 'besiege', 'thy', 'brow'],\n",
              " ['and', 'dig', 'deep', 'trenches', 'in', 'thy', 'beauty', 'field'],\n",
              " ['thy', 'youth', 'proud', 'livery', 'so', 'gazed', 'on', 'now'],\n",
              " ['will', 'be', 'tattered', 'weed', 'of', 'small', 'worth', 'held'],\n",
              " ['then', 'being', 'asked', 'where', 'all', 'thy', 'beauty', 'lies'],\n",
              " ['where', 'all', 'the', 'treasure', 'of', 'thy', 'lusty', 'days'],\n",
              " ['to', 'say', 'within', 'thine', 'own', 'deep', 'sunken', 'eyes'],\n",
              " ['were', 'an', 'all', 'eating', 'shame', 'and', 'thriftless', 'praise'],\n",
              " ['how', 'much', 'more', 'praise', 'deserved', 'thy', 'beauty', 'use'],\n",
              " ['if', 'thou', 'couldst', 'answer', 'this', 'fair', 'child', 'of', 'mine'],\n",
              " ['shall', 'sum', 'my', 'count', 'and', 'make', 'my', 'old', 'excuse'],\n",
              " ['proving', 'his', 'beauty', 'by', 'succession', 'thine'],\n",
              " ['this', 'were', 'to', 'be', 'new', 'made', 'when', 'thou', 'art', 'old'],\n",
              " ['and',\n",
              "  'see',\n",
              "  'thy',\n",
              "  'blood',\n",
              "  'warm',\n",
              "  'when',\n",
              "  'thou',\n",
              "  'feel',\n",
              "  'st',\n",
              "  'it',\n",
              "  'cold'],\n",
              " [],\n",
              " [],\n",
              " [],\n",
              " ['look',\n",
              "  'in',\n",
              "  'thy',\n",
              "  'glass',\n",
              "  'and',\n",
              "  'tell',\n",
              "  'the',\n",
              "  'face',\n",
              "  'thou',\n",
              "  'viewest'],\n",
              " ['now', 'is', 'the', 'time', 'that', 'face', 'should', 'form', 'another'],\n",
              " ['whose', 'fresh', 'repair', 'if', 'now', 'thou', 'not', 'renewest'],\n",
              " ['thou', 'dost', 'beguile', 'the', 'world', 'unbless', 'some', 'mother'],\n",
              " ['for', 'where', 'is', 'she', 'so', 'fair', 'whose', 'uneared', 'womb'],\n",
              " ['disdains', 'the', 'tillage', 'of', 'thy', 'husbandry'],\n",
              " ['or', 'who', 'is', 'he', 'so', 'fond', 'will', 'be', 'the', 'tomb'],\n",
              " ['of', 'his', 'self', 'love', 'to', 'stop', 'posterity'],\n",
              " ['thou', 'art', 'thy', 'mother', 'glass', 'and', 'she', 'in', 'thee'],\n",
              " ['calls', 'back', 'the', 'lovely', 'april', 'of', 'her', 'prime'],\n",
              " ['so', 'thou', 'through', 'windows', 'of', 'thine', 'age', 'shalt', 'see'],\n",
              " ['despite', 'of', 'wrinkles', 'this', 'thy', 'golden', 'time'],\n",
              " ['but', 'if', 'thou', 'live', 'remembered', 'not', 'to', 'be'],\n",
              " ['die', 'single', 'and', 'thine', 'image', 'dies', 'with', 'thee'],\n",
              " [],\n",
              " [],\n",
              " [],\n",
              " ['unthrifty', 'loveliness', 'why', 'dost', 'thou', 'spend'],\n",
              " ['upon', 'thy', 'self', 'thy', 'beauty', 'legacy'],\n",
              " ['nature', 'bequest', 'gives', 'nothing', 'but', 'doth', 'lend'],\n",
              " ['and', 'being', 'frank', 'she', 'lends', 'to', 'those', 'are', 'free'],\n",
              " ['then', 'beauteous', 'niggard', 'why', 'dost', 'thou', 'abuse'],\n",
              " ['the', 'bounteous', 'largess', 'given', 'thee', 'to', 'give'],\n",
              " ['profitless', 'usurer', 'why', 'dost', 'thou', 'use'],\n",
              " ['so', 'great', 'sum', 'of', 'sums', 'yet', 'canst', 'not', 'live'],\n",
              " ['for', 'having', 'traffic', 'with', 'thy', 'self', 'alone'],\n",
              " ['thou', 'of', 'thy', 'self', 'thy', 'sweet', 'self', 'dost', 'deceive'],\n",
              " ['then', 'how', 'when', 'nature', 'calls', 'thee', 'to', 'be', 'gone'],\n",
              " ['what', 'acceptable', 'audit', 'canst', 'thou', 'leave'],\n",
              " ['thy', 'unused', 'beauty', 'must', 'be', 'tombed', 'with', 'thee'],\n",
              " ['which', 'used', 'lives', 'th', 'executor', 'to', 'be'],\n",
              " [],\n",
              " [],\n",
              " [],\n",
              " ['those', 'hours', 'that', 'with', 'gentle', 'work', 'did', 'frame'],\n",
              " ['the', 'lovely', 'gaze', 'where', 'every', 'eye', 'doth', 'dwell'],\n",
              " ['will', 'play', 'the', 'tyrants', 'to', 'the', 'very', 'same'],\n",
              " ['and', 'that', 'unfair', 'which', 'fairly', 'doth', 'excel'],\n",
              " ['for', 'never', 'resting', 'time', 'leads', 'summer', 'on'],\n",
              " ['to', 'hideous', 'winter', 'and', 'confounds', 'him', 'there'],\n",
              " ['sap',\n",
              "  'checked',\n",
              "  'with',\n",
              "  'frost',\n",
              "  'and',\n",
              "  'lusty',\n",
              "  'leaves',\n",
              "  'quite',\n",
              "  'gone'],\n",
              " ['beauty', 'er', 'snowed', 'and', 'bareness', 'every', 'where'],\n",
              " ['then', 'were', 'not', 'summer', 'distillation', 'left'],\n",
              " ['liquid', 'prisoner', 'pent', 'in', 'walls', 'of', 'glass'],\n",
              " ['beauty', 'effect', 'with', 'beauty', 'were', 'bereft'],\n",
              " ['nor', 'it', 'nor', 'no', 'remembrance', 'what', 'it', 'was'],\n",
              " ['but', 'flowers', 'distilled', 'though', 'they', 'with', 'winter', 'meet'],\n",
              " ['leese',\n",
              "  'but',\n",
              "  'their',\n",
              "  'show',\n",
              "  'their',\n",
              "  'substance',\n",
              "  'still',\n",
              "  'lives',\n",
              "  'sweet'],\n",
              " [],\n",
              " [],\n",
              " [],\n",
              " ['then', 'let', 'not', 'winter', 'ragged', 'hand', 'deface'],\n",
              " ['in', 'thee', 'thy', 'summer', 'ere', 'thou', 'be', 'distilled'],\n",
              " ['make', 'sweet', 'some', 'vial', 'treasure', 'thou', 'some', 'place'],\n",
              " ['with', 'beauty', 'treasure', 'ere', 'it', 'be', 'self', 'killed'],\n",
              " ['that', 'use', 'is', 'not', 'forbidden', 'usury'],\n",
              " ['which', 'happies', 'those', 'that', 'pay', 'the', 'willing', 'loan'],\n",
              " ['that', 'for', 'thy', 'self', 'to', 'breed', 'another', 'thee'],\n",
              " ['or', 'ten', 'times', 'happier', 'be', 'it', 'ten', 'for', 'one'],\n",
              " ['ten', 'times', 'thy', 'self', 'were', 'happier', 'than', 'thou', 'art'],\n",
              " ['if', 'ten', 'of', 'thine', 'ten', 'times', 'refigured', 'thee'],\n",
              " ['then', 'what', 'could', 'death', 'do', 'if', 'thou', 'shouldst', 'depart'],\n",
              " ['leaving', 'thee', 'living', 'in', 'posterity'],\n",
              " ['be', 'not', 'self', 'willed', 'for', 'thou', 'art', 'much', 'too', 'fair'],\n",
              " ['to', 'be', 'death', 'conquest', 'and', 'make', 'worms', 'thine', 'heir'],\n",
              " [],\n",
              " [],\n",
              " [],\n",
              " ['lo', 'in', 'the', 'orient', 'when', 'the', 'gracious', 'light'],\n",
              " ['lifts', 'up', 'his', 'burning', 'head', 'each', 'under', 'eye'],\n",
              " ['doth', 'homage', 'to', 'his', 'new', 'appearing', 'sight'],\n",
              " ['serving', 'with', 'looks', 'his', 'sacred', 'majesty'],\n",
              " ['and', 'having', 'climbed', 'the', 'steep', 'up', 'heavenly', 'hill'],\n",
              " ['resembling', 'strong', 'youth', 'in', 'his', 'middle', 'age'],\n",
              " ['yet', 'mortal', 'looks', 'adore', 'his', 'beauty', 'still'],\n",
              " ['attending', 'on', 'his', 'golden', 'pilgrimage'],\n",
              " ['but', 'when', 'from', 'highmost', 'pitch', 'with', 'weary', 'car'],\n",
              " ['like', 'feeble', 'age', 'he', 'reeleth', 'from', 'the', 'day'],\n",
              " ['the', 'eyes', 'fore', 'duteous', 'now', 'converted', 'are'],\n",
              " ['from', 'his', 'low', 'tract', 'and', 'look', 'another', 'way'],\n",
              " ['so', 'thou', 'thy', 'self', 'out', 'going', 'in', 'thy', 'noon'],\n",
              " ['unlooked', 'on', 'diest', 'unless', 'thou', 'get', 'son'],\n",
              " [],\n",
              " [],\n",
              " [],\n",
              " ['music', 'to', 'hear', 'why', 'hear', 'st', 'thou', 'music', 'sadly'],\n",
              " ['sweets', 'with', 'sweets', 'war', 'not', 'joy', 'delights', 'in', 'joy'],\n",
              " ['why',\n",
              "  'lov',\n",
              "  'st',\n",
              "  'thou',\n",
              "  'that',\n",
              "  'which',\n",
              "  'thou',\n",
              "  'receiv',\n",
              "  'st',\n",
              "  'not',\n",
              "  'gladly'],\n",
              " ['or', 'else', 'receiv', 'st', 'with', 'pleasure', 'thine', 'annoy'],\n",
              " ['if', 'the', 'true', 'concord', 'of', 'well', 'tuned', 'sounds'],\n",
              " ['by', 'unions', 'married', 'do', 'offend', 'thine', 'ear'],\n",
              " ['they', 'do', 'but', 'sweetly', 'chide', 'thee', 'who', 'confounds'],\n",
              " ['in', 'singleness', 'the', 'parts', 'that', 'thou', 'shouldst', 'bear'],\n",
              " ['mark', 'how', 'one', 'string', 'sweet', 'husband', 'to', 'another'],\n",
              " ['strikes', 'each', 'in', 'each', 'by', 'mutual', 'ordering'],\n",
              " ['resembling', 'sire', 'and', 'child', 'and', 'happy', 'mother'],\n",
              " ['who', 'all', 'in', 'one', 'one', 'pleasing', 'note', 'do', 'sing'],\n",
              " ['whose', 'speechless', 'song', 'being', 'many', 'seeming', 'one'],\n",
              " ['sings', 'this', 'to', 'thee', 'thou', 'single', 'wilt', 'prove', 'none'],\n",
              " [],\n",
              " [],\n",
              " [],\n",
              " ['is', 'it', 'for', 'fear', 'to', 'wet', 'widow', 'eye'],\n",
              " ['that', 'thou', 'consum', 'st', 'thy', 'self', 'in', 'single', 'life'],\n",
              " ['ah', 'if', 'thou', 'issueless', 'shalt', 'hap', 'to', 'die'],\n",
              " ['the', 'world', 'will', 'wail', 'thee', 'like', 'makeless', 'wife'],\n",
              " ['the', 'world', 'will', 'be', 'thy', 'widow', 'and', 'still', 'weep'],\n",
              " ['that', 'thou', 'no', 'form', 'of', 'thee', 'hast', 'left', 'behind'],\n",
              " ['when', 'every', 'private', 'widow', 'well', 'may', 'keep'],\n",
              " ['by', 'children', 'eyes', 'her', 'husband', 'shape', 'in', 'mind'],\n",
              " ['look', 'what', 'an', 'unthrift', 'in', 'the', 'world', 'doth', 'spend'],\n",
              " ['shifts',\n",
              "  'but',\n",
              "  'his',\n",
              "  'place',\n",
              "  'for',\n",
              "  'still',\n",
              "  'the',\n",
              "  'world',\n",
              "  'enjoys',\n",
              "  'it'],\n",
              " ['but', 'beauty', 'waste', 'hath', 'in', 'the', 'world', 'an', 'end'],\n",
              " ['and', 'kept', 'unused', 'the', 'user', 'so', 'destroys', 'it'],\n",
              " ['no', 'love', 'toward', 'others', 'in', 'that', 'bosom', 'sits'],\n",
              " ['that', 'on', 'himself', 'such', 'murd', 'rous', 'shame', 'commits'],\n",
              " [],\n",
              " [],\n",
              " [],\n",
              " ['for', 'shame', 'deny', 'that', 'thou', 'bear', 'st', 'love', 'to', 'any'],\n",
              " ['who', 'for', 'thy', 'self', 'art', 'so', 'unprovident'],\n",
              " ['grant', 'if', 'thou', 'wilt', 'thou', 'art', 'beloved', 'of', 'many'],\n",
              " ['but', 'that', 'thou', 'none', 'lov', 'st', 'is', 'most', 'evident'],\n",
              " ['for', 'thou', 'art', 'so', 'possessed', 'with', 'murd', 'rous', 'hate'],\n",
              " ['that',\n",
              "  'gainst',\n",
              "  'thy',\n",
              "  'self',\n",
              "  'thou',\n",
              "  'stick',\n",
              "  'st',\n",
              "  'not',\n",
              "  'to',\n",
              "  'conspire'],\n",
              " ['seeking', 'that', 'beauteous', 'roof', 'to', 'ruinate'],\n",
              " ['which', 'to', 'repair', 'should', 'be', 'thy', 'chief', 'desire'],\n",
              " ['change', 'thy', 'thought', 'that', 'may', 'change', 'my', 'mind'],\n",
              " ['shall', 'hate', 'be', 'fairer', 'lodged', 'than', 'gentle', 'love'],\n",
              " ['be', 'as', 'thy', 'presence', 'is', 'gracious', 'and', 'kind'],\n",
              " ['or', 'to', 'thy', 'self', 'at', 'least', 'kind', 'hearted', 'prove'],\n",
              " ['make', 'thee', 'another', 'self', 'for', 'love', 'of', 'me'],\n",
              " ['that', 'beauty', 'still', 'may', 'live', 'in', 'thine', 'or', 'thee'],\n",
              " [],\n",
              " [],\n",
              " [],\n",
              " ['as',\n",
              "  'fast',\n",
              "  'as',\n",
              "  'thou',\n",
              "  'shalt',\n",
              "  'wane',\n",
              "  'so',\n",
              "  'fast',\n",
              "  'thou',\n",
              "  'grow',\n",
              "  'st'],\n",
              " ['in', 'one', 'of', 'thine', 'from', 'that', 'which', 'thou', 'departest'],\n",
              " ['and', 'that', 'fresh', 'blood', 'which', 'youngly', 'thou', 'bestow', 'st'],\n",
              " ['thou',\n",
              "  'mayst',\n",
              "  'call',\n",
              "  'thine',\n",
              "  'when',\n",
              "  'thou',\n",
              "  'from',\n",
              "  'youth',\n",
              "  'convertest'],\n",
              " ['herein', 'lives', 'wisdom', 'beauty', 'and', 'increase'],\n",
              " ['without', 'this', 'folly', 'age', 'and', 'cold', 'decay'],\n",
              " ['if', 'all', 'were', 'minded', 'so', 'the', 'times', 'should', 'cease'],\n",
              " ['and', 'threescore', 'year', 'would', 'make', 'the', 'world', 'away'],\n",
              " ['let', 'those', 'whom', 'nature', 'hath', 'not', 'made', 'for', 'store'],\n",
              " ['harsh', 'featureless', 'and', 'rude', 'barrenly', 'perish'],\n",
              " ['look', 'whom', 'she', 'best', 'endowed', 'she', 'gave', 'thee', 'more'],\n",
              " ['which', 'bounteous', 'gift', 'thou', 'shouldst', 'in', 'bounty', 'cherish'],\n",
              " ['she', 'carved', 'thee', 'for', 'her', 'seal', 'and', 'meant', 'thereby'],\n",
              " ['thou', 'shouldst', 'print', 'more', 'not', 'let', 'that', 'copy', 'die'],\n",
              " [],\n",
              " [],\n",
              " [],\n",
              " ['when', 'do', 'count', 'the', 'clock', 'that', 'tells', 'the', 'time'],\n",
              " ['and', 'see', 'the', 'brave', 'day', 'sunk', 'in', 'hideous', 'night'],\n",
              " ['when', 'behold', 'the', 'violet', 'past', 'prime'],\n",
              " ['and', 'sable', 'curls', 'all', 'silvered', 'er', 'with', 'white'],\n",
              " ['when', 'lofty', 'trees', 'see', 'barren', 'of', 'leaves'],\n",
              " ['which', 'erst', 'from', 'heat', 'did', 'canopy', 'the', 'herd'],\n",
              " ['and', 'summer', 'green', 'all', 'girded', 'up', 'in', 'sheaves'],\n",
              " ['borne', 'on', 'the', 'bier', 'with', 'white', 'and', 'bristly', 'beard'],\n",
              " ['then', 'of', 'thy', 'beauty', 'do', 'question', 'make'],\n",
              " ['that', 'thou', 'among', 'the', 'wastes', 'of', 'time', 'must', 'go'],\n",
              " ['since', 'sweets', 'and', 'beauties', 'do', 'themselves', 'forsake'],\n",
              " ['and', 'die', 'as', 'fast', 'as', 'they', 'see', 'others', 'grow'],\n",
              " ['and', 'nothing', 'gainst', 'time', 'scythe', 'can', 'make', 'defence'],\n",
              " ['save',\n",
              "  'breed',\n",
              "  'to',\n",
              "  'brave',\n",
              "  'him',\n",
              "  'when',\n",
              "  'he',\n",
              "  'takes',\n",
              "  'thee',\n",
              "  'hence'],\n",
              " [],\n",
              " [],\n",
              " [],\n",
              " ['that', 'you', 'were', 'your', 'self', 'but', 'love', 'you', 'are'],\n",
              " ['no', 'longer', 'yours', 'than', 'you', 'your', 'self', 'here', 'live'],\n",
              " ['against', 'this', 'coming', 'end', 'you', 'should', 'prepare'],\n",
              " ['and', 'your', 'sweet', 'semblance', 'to', 'some', 'other', 'give'],\n",
              " ['so', 'should', 'that', 'beauty', 'which', 'you', 'hold', 'in', 'lease'],\n",
              " ['find', 'no', 'determination', 'then', 'you', 'were'],\n",
              " ['your', 'self', 'again', 'after', 'your', 'self', 'decease'],\n",
              " ['when', 'your', 'sweet', 'issue', 'your', 'sweet', 'form', 'should', 'bear'],\n",
              " ['who', 'lets', 'so', 'fair', 'house', 'fall', 'to', 'decay'],\n",
              " ['which', 'husbandry', 'in', 'honour', 'might', 'uphold'],\n",
              " ['against', 'the', 'stormy', 'gusts', 'of', 'winter', 'day'],\n",
              " ['and', 'barren', 'rage', 'of', 'death', 'eternal', 'cold'],\n",
              " ['none', 'but', 'unthrifts', 'dear', 'my', 'love', 'you', 'know'],\n",
              " ['you', 'had', 'father', 'let', 'your', 'son', 'say', 'so'],\n",
              " [],\n",
              " [],\n",
              " [],\n",
              " ['not', 'from', 'the', 'stars', 'do', 'my', 'judgement', 'pluck'],\n",
              " ['and', 'yet', 'methinks', 'have', 'astronomy'],\n",
              " ['but', 'not', 'to', 'tell', 'of', 'good', 'or', 'evil', 'luck'],\n",
              " ['of', 'plagues', 'of', 'dearths', 'or', 'seasons', 'quality'],\n",
              " ['nor', 'can', 'fortune', 'to', 'brief', 'minutes', 'tell'],\n",
              " ['pointing', 'to', 'each', 'his', 'thunder', 'rain', 'and', 'wind'],\n",
              " ['or', 'say', 'with', 'princes', 'if', 'it', 'shall', 'go', 'well'],\n",
              " ['by', 'oft', 'predict', 'that', 'in', 'heaven', 'find'],\n",
              " ['but', 'from', 'thine', 'eyes', 'my', 'knowledge', 'derive'],\n",
              " ['and', 'constant', 'stars', 'in', 'them', 'read', 'such', 'art'],\n",
              " ['as', 'truth', 'and', 'beauty', 'shall', 'together', 'thrive'],\n",
              " ['if', 'from', 'thy', 'self', 'to', 'store', 'thou', 'wouldst', 'convert'],\n",
              " ['or', 'else', 'of', 'thee', 'this', 'prognosticate'],\n",
              " ['thy', 'end', 'is', 'truth', 'and', 'beauty', 'doom', 'and', 'date'],\n",
              " [],\n",
              " [],\n",
              " [],\n",
              " ['when', 'consider', 'every', 'thing', 'that', 'grows'],\n",
              " ['holds', 'in', 'perfection', 'but', 'little', 'moment'],\n",
              " ['that', 'this', 'huge', 'stage', 'presenteth', 'nought', 'but', 'shows'],\n",
              " ['whereon', 'the', 'stars', 'in', 'secret', 'influence', 'comment'],\n",
              " ['when', 'perceive', 'that', 'men', 'as', 'plants', 'increase'],\n",
              " ['cheered', 'and', 'checked', 'even', 'by', 'the', 'self', 'same', 'sky'],\n",
              " ['vaunt', 'in', 'their', 'youthful', 'sap', 'at', 'height', 'decrease'],\n",
              " ['and', 'wear', 'their', 'brave', 'state', 'out', 'of', 'memory'],\n",
              " ['then', 'the', 'conceit', 'of', 'this', 'inconstant', 'stay'],\n",
              " ['sets', 'you', 'most', 'rich', 'in', 'youth', 'before', 'my', 'sight'],\n",
              " ['where', 'wasteful', 'time', 'debateth', 'with', 'decay'],\n",
              " ['to', 'change', 'your', 'day', 'of', 'youth', 'to', 'sullied', 'night'],\n",
              " ['and', 'all', 'in', 'war', 'with', 'time', 'for', 'love', 'of', 'you'],\n",
              " ['as', 'he', 'takes', 'from', 'you', 'engraft', 'you', 'new'],\n",
              " [],\n",
              " [],\n",
              " [],\n",
              " ['but', 'wherefore', 'do', 'not', 'you', 'mightier', 'way'],\n",
              " ['make', 'war', 'upon', 'this', 'bloody', 'tyrant', 'time'],\n",
              " ['and', 'fortify', 'your', 'self', 'in', 'your', 'decay'],\n",
              " ['with', 'means', 'more', 'blessed', 'than', 'my', 'barren', 'rhyme'],\n",
              " ['now', 'stand', 'you', 'on', 'the', 'top', 'of', 'happy', 'hours'],\n",
              " ['and', 'many', 'maiden', 'gardens', 'yet', 'unset'],\n",
              " ['with', 'virtuous', 'wish', 'would', 'bear', 'you', 'living', 'flowers'],\n",
              " ['much', 'liker', 'than', 'your', 'painted', 'counterfeit'],\n",
              " ['so', 'should', 'the', 'lines', 'of', 'life', 'that', 'life', 'repair'],\n",
              " ['which', 'this', 'time', 'pencil', 'or', 'my', 'pupil', 'pen'],\n",
              " ['neither', 'in', 'inward', 'worth', 'nor', 'outward', 'fair'],\n",
              " ['can', 'make', 'you', 'live', 'your', 'self', 'in', 'eyes', 'of', 'men'],\n",
              " ['to', 'give', 'away', 'your', 'self', 'keeps', 'your', 'self', 'still'],\n",
              " ['and',\n",
              "  'you',\n",
              "  'must',\n",
              "  'live',\n",
              "  'drawn',\n",
              "  'by',\n",
              "  'your',\n",
              "  'own',\n",
              "  'sweet',\n",
              "  'skill'],\n",
              " [],\n",
              " [],\n",
              " [],\n",
              " ['who', 'will', 'believe', 'my', 'verse', 'in', 'time', 'to', 'come'],\n",
              " ['if', 'it', 'were', 'filled', 'with', 'your', 'most', 'high', 'deserts'],\n",
              " ['though', 'yet', 'heaven', 'knows', 'it', 'is', 'but', 'as', 'tomb'],\n",
              " ['which',\n",
              "  'hides',\n",
              "  'your',\n",
              "  'life',\n",
              "  'and',\n",
              "  'shows',\n",
              "  'not',\n",
              "  'half',\n",
              "  'your',\n",
              "  'parts'],\n",
              " ['if', 'could', 'write', 'the', 'beauty', 'of', 'your', 'eyes'],\n",
              " ['and', 'in', 'fresh', 'numbers', 'number', 'all', 'your', 'graces'],\n",
              " ['the', 'age', 'to', 'come', 'would', 'say', 'this', 'poet', 'lies'],\n",
              " ['such', 'heavenly', 'touches', 'ne', 'er', 'touched', 'earthly', 'faces'],\n",
              " ['so', 'should', 'my', 'papers', 'yellowed', 'with', 'their', 'age'],\n",
              " ['be',\n",
              "  'scorned',\n",
              "  'like',\n",
              "  'old',\n",
              "  'men',\n",
              "  'of',\n",
              "  'less',\n",
              "  'truth',\n",
              "  'than',\n",
              "  'tongue'],\n",
              " ['and', 'your', 'true', 'rights', 'be', 'termed', 'poet', 'rage'],\n",
              " ['and', 'stretched', 'metre', 'of', 'an', 'antique', 'song'],\n",
              " ['but', 'were', 'some', 'child', 'of', 'yours', 'alive', 'that', 'time'],\n",
              " ['you', 'should', 'live', 'twice', 'in', 'it', 'and', 'in', 'my', 'rhyme'],\n",
              " [],\n",
              " [],\n",
              " [],\n",
              " ['shall', 'compare', 'thee', 'to', 'summer', 'day'],\n",
              " ['thou', 'art', 'more', 'lovely', 'and', 'more', 'temperate'],\n",
              " ['rough', 'winds', 'do', 'shake', 'the', 'darling', 'buds', 'of', 'may'],\n",
              " ['and', 'summer', 'lease', 'hath', 'all', 'too', 'short', 'date'],\n",
              " ['sometime', 'too', 'hot', 'the', 'eye', 'of', 'heaven', 'shines'],\n",
              " ['and', 'often', 'is', 'his', 'gold', 'complexion', 'dimmed'],\n",
              " ['and', 'every', 'fair', 'from', 'fair', 'sometime', 'declines'],\n",
              " ['by', 'chance', 'or', 'nature', 'changing', 'course', 'untrimmed'],\n",
              " ['but', 'thy', 'eternal', 'summer', 'shall', 'not', 'fade'],\n",
              " ['nor', 'lose', 'possession', 'of', 'that', 'fair', 'thou', 'ow', 'st'],\n",
              " ['nor',\n",
              "  'shall',\n",
              "  'death',\n",
              "  'brag',\n",
              "  'thou',\n",
              "  'wand',\n",
              "  'rest',\n",
              "  'in',\n",
              "  'his',\n",
              "  'shade'],\n",
              " ['when', 'in', 'eternal', 'lines', 'to', 'time', 'thou', 'grow', 'st'],\n",
              " ['so', 'long', 'as', 'men', 'can', 'breathe', 'or', 'eyes', 'can', 'see'],\n",
              " ['so', 'long', 'lives', 'this', 'and', 'this', 'gives', 'life', 'to', 'thee'],\n",
              " [],\n",
              " [],\n",
              " [],\n",
              " ['devouring', 'time', 'blunt', 'thou', 'the', 'lion', 'paws'],\n",
              " ['and', 'make', 'the', 'earth', 'devour', 'her', 'own', 'sweet', 'brood'],\n",
              " ['pluck', 'the', 'keen', 'teeth', 'from', 'the', 'fierce', 'tiger', 'jaws'],\n",
              " ['and', 'burn', 'the', 'long', 'lived', 'phoenix', 'in', 'her', 'blood'],\n",
              " ['make', 'glad', 'and', 'sorry', 'seasons', 'as', 'thou', 'fleet', 'st'],\n",
              " ['and', 'do', 'whate', 'er', 'thou', 'wilt', 'swift', 'footed', 'time'],\n",
              " ['to', 'the', 'wide', 'world', 'and', 'all', 'her', 'fading', 'sweets'],\n",
              " ['but', 'forbid', 'thee', 'one', 'most', 'heinous', 'crime'],\n",
              " ['carve', 'not', 'with', 'thy', 'hours', 'my', 'love', 'fair', 'brow'],\n",
              " ['nor', 'draw', 'no', 'lines', 'there', 'with', 'thine', 'antique', 'pen'],\n",
              " ['him', 'in', 'thy', 'course', 'untainted', 'do', 'allow'],\n",
              " ['for', 'beauty', 'pattern', 'to', 'succeeding', 'men'],\n",
              " ['yet', 'do', 'thy', 'worst', 'old', 'time', 'despite', 'thy', 'wrong'],\n",
              " ['my', 'love', 'shall', 'in', 'my', 'verse', 'ever', 'live', 'young'],\n",
              " [],\n",
              " [],\n",
              " [],\n",
              " ['woman', 'face', 'with', 'nature', 'own', 'hand', 'painted'],\n",
              " ['hast', 'thou', 'the', 'master', 'mistress', 'of', 'my', 'passion'],\n",
              " ['woman', 'gentle', 'heart', 'but', 'not', 'acquainted'],\n",
              " ['with', 'shifting', 'change', 'as', 'is', 'false', 'women', 'fashion'],\n",
              " ['an',\n",
              "  'eye',\n",
              "  'more',\n",
              "  'bright',\n",
              "  'than',\n",
              "  'theirs',\n",
              "  'less',\n",
              "  'false',\n",
              "  'in',\n",
              "  'rolling'],\n",
              " ['gilding', 'the', 'object', 'whereupon', 'it', 'gazeth'],\n",
              " ['man', 'in', 'hue', 'all', 'hues', 'in', 'his', 'controlling'],\n",
              " ['which', 'steals', 'men', 'eyes', 'and', 'women', 'souls', 'amazeth'],\n",
              " ['and', 'for', 'woman', 'wert', 'thou', 'first', 'created'],\n",
              " ['till', 'nature', 'as', 'she', 'wrought', 'thee', 'fell', 'doting'],\n",
              " ['and', 'by', 'addition', 'me', 'of', 'thee', 'defeated'],\n",
              " ['by', 'adding', 'one', 'thing', 'to', 'my', 'purpose', 'nothing'],\n",
              " ['but', 'since', 'she', 'pricked', 'thee', 'out', 'for', 'women', 'pleasure'],\n",
              " ['mine',\n",
              "  'be',\n",
              "  'thy',\n",
              "  'love',\n",
              "  'and',\n",
              "  'thy',\n",
              "  'love',\n",
              "  'use',\n",
              "  'their',\n",
              "  'treasure'],\n",
              " [],\n",
              " [],\n",
              " [],\n",
              " ['so', 'is', 'it', 'not', 'with', 'me', 'as', 'with', 'that', 'muse'],\n",
              " ['stirred', 'by', 'painted', 'beauty', 'to', 'his', 'verse'],\n",
              " ['who', 'heaven', 'it', 'self', 'for', 'ornament', 'doth', 'use'],\n",
              " ['and', 'every', 'fair', 'with', 'his', 'fair', 'doth', 'rehearse'],\n",
              " ['making', 'couplement', 'of', 'proud', 'compare'],\n",
              " ['with', 'sun', 'and', 'moon', 'with', 'earth', 'and', 'sea', 'rich', 'gems'],\n",
              " ['with', 'april', 'first', 'born', 'flowers', 'and', 'all', 'things', 'rare'],\n",
              " ['that', 'heaven', 'air', 'in', 'this', 'huge', 'rondure', 'hems'],\n",
              " ['let', 'me', 'true', 'in', 'love', 'but', 'truly', 'write'],\n",
              " ['and', 'then', 'believe', 'me', 'my', 'love', 'is', 'as', 'fair'],\n",
              " ['as', 'any', 'mother', 'child', 'though', 'not', 'so', 'bright'],\n",
              " ['as', 'those', 'gold', 'candles', 'fixed', 'in', 'heaven', 'air'],\n",
              " ['let', 'them', 'say', 'more', 'that', 'like', 'of', 'hearsay', 'well'],\n",
              " ['will', 'not', 'praise', 'that', 'purpose', 'not', 'to', 'sell'],\n",
              " [],\n",
              " [],\n",
              " [],\n",
              " ['my', 'glass', 'shall', 'not', 'persuade', 'me', 'am', 'old'],\n",
              " ['so', 'long', 'as', 'youth', 'and', 'thou', 'are', 'of', 'one', 'date'],\n",
              " ['but', 'when', 'in', 'thee', 'time', 'furrows', 'behold'],\n",
              " ['then', 'look', 'death', 'my', 'days', 'should', 'expiate'],\n",
              " ['for', 'all', 'that', 'beauty', 'that', 'doth', 'cover', 'thee'],\n",
              " ['is', 'but', 'the', 'seemly', 'raiment', 'of', 'my', 'heart'],\n",
              " ['which', 'in', 'thy', 'breast', 'doth', 'live', 'as', 'thine', 'in', 'me'],\n",
              " ['how', 'can', 'then', 'be', 'elder', 'than', 'thou', 'art'],\n",
              " ['therefore', 'love', 'be', 'of', 'thyself', 'so', 'wary'],\n",
              " ['as', 'not', 'for', 'my', 'self', 'but', 'for', 'thee', 'will'],\n",
              " ['bearing', 'thy', 'heart', 'which', 'will', 'keep', 'so', 'chary'],\n",
              " ['as', 'tender', 'nurse', 'her', 'babe', 'from', 'faring', 'ill'],\n",
              " ['presume', 'not', 'on', 'thy', 'heart', 'when', 'mine', 'is', 'slain'],\n",
              " ['thou', 'gav', 'st', 'me', 'thine', 'not', 'to', 'give', 'back', 'again'],\n",
              " [],\n",
              " [],\n",
              " [],\n",
              " ['as', 'an', 'unperfect', 'actor', 'on', 'the', 'stage'],\n",
              " ['who', 'with', 'his', 'fear', 'is', 'put', 'beside', 'his', 'part'],\n",
              " ['or', 'some', 'fierce', 'thing', 'replete', 'with', 'too', 'much', 'rage'],\n",
              " ['whose', 'strength', 'abundance', 'weakens', 'his', 'own', 'heart'],\n",
              " ['so', 'for', 'fear', 'of', 'trust', 'forget', 'to', 'say'],\n",
              " ['the', 'perfect', 'ceremony', 'of', 'love', 'rite'],\n",
              " ['and', 'in', 'mine', 'own', 'love', 'strength', 'seem', 'to', 'decay'],\n",
              " ['ercharged', 'with', 'burthen', 'of', 'mine', 'own', 'love', 'might'],\n",
              " ['let', 'my', 'looks', 'be', 'then', 'the', 'eloquence'],\n",
              " ['and', 'dumb', 'presagers', 'of', 'my', 'speaking', 'breast'],\n",
              " ['who', 'plead', 'for', 'love', 'and', 'look', 'for', 'recompense'],\n",
              " ['more',\n",
              "  'than',\n",
              "  'that',\n",
              "  'tongue',\n",
              "  'that',\n",
              "  'more',\n",
              "  'hath',\n",
              "  'more',\n",
              "  'expressed'],\n",
              " ['learn', 'to', 'read', 'what', 'silent', 'love', 'hath', 'writ'],\n",
              " ['to', 'hear', 'with', 'eyes', 'belongs', 'to', 'love', 'fine', 'wit'],\n",
              " [],\n",
              " [],\n",
              " [],\n",
              " ['mine', 'eye', 'hath', 'played', 'the', 'painter', 'and', 'hath', 'stelled'],\n",
              " ['thy', 'beauty', 'form', 'in', 'table', 'of', 'my', 'heart'],\n",
              " ['my', 'body', 'is', 'the', 'frame', 'wherein', 'tis', 'held'],\n",
              " ['and', 'perspective', 'it', 'is', 'best', 'painter', 'art'],\n",
              " ['for', 'through', 'the', 'painter', 'must', 'you', 'see', 'his', 'skill'],\n",
              " ['to', 'find', 'where', 'your', 'true', 'image', 'pictured', 'lies'],\n",
              " ['which', 'in', 'my', 'bosom', 'shop', 'is', 'hanging', 'still'],\n",
              " ['that', 'hath', 'his', 'windows', 'glazed', 'with', 'thine', 'eyes'],\n",
              " ['now',\n",
              "  'see',\n",
              "  'what',\n",
              "  'good',\n",
              "  'turns',\n",
              "  'eyes',\n",
              "  'for',\n",
              "  'eyes',\n",
              "  'have',\n",
              "  'done'],\n",
              " ['mine',\n",
              "  'eyes',\n",
              "  'have',\n",
              "  'drawn',\n",
              "  'thy',\n",
              "  'shape',\n",
              "  'and',\n",
              "  'thine',\n",
              "  'for',\n",
              "  'me'],\n",
              " ['are', 'windows', 'to', 'my', 'breast', 'where', 'through', 'the', 'sun'],\n",
              " ['delights', 'to', 'peep', 'to', 'gaze', 'therein', 'on', 'thee'],\n",
              " ['yet', 'eyes', 'this', 'cunning', 'want', 'to', 'grace', 'their', 'art'],\n",
              " ['they', 'draw', 'but', 'what', 'they', 'see', 'know', 'not', 'the', 'heart'],\n",
              " [],\n",
              " [],\n",
              " [],\n",
              " ['let', 'those', 'who', 'are', 'in', 'favour', 'with', 'their', 'stars'],\n",
              " ['of', 'public', 'honour', 'and', 'proud', 'titles', 'boast'],\n",
              " ['whilst', 'whom', 'fortune', 'of', 'such', 'triumph', 'bars'],\n",
              " ['unlooked', 'for', 'joy', 'in', 'that', 'honour', 'most'],\n",
              " ['great', 'princes', 'favourites', 'their', 'fair', 'leaves', 'spread'],\n",
              " ['but', 'as', 'the', 'marigold', 'at', 'the', 'sun', 'eye'],\n",
              " ['and', 'in', 'themselves', 'their', 'pride', 'lies', 'buried'],\n",
              " ['for', 'at', 'frown', 'they', 'in', 'their', 'glory', 'die'],\n",
              " ['the', 'painful', 'warrior', 'famoused', 'for', 'fight'],\n",
              " ['after', 'thousand', 'victories', 'once', 'foiled'],\n",
              " ['is', 'from', 'the', 'book', 'of', 'honour', 'razed', 'quite'],\n",
              " ['and', 'all', 'the', 'rest', 'forgot', 'for', 'which', 'he', 'toiled'],\n",
              " ['then', 'happy', 'that', 'love', 'and', 'am', 'beloved'],\n",
              " ['where', 'may', 'not', 'remove', 'nor', 'be', 'removed'],\n",
              " [],\n",
              " [],\n",
              " [],\n",
              " ['lord', 'of', 'my', 'love', 'to', 'whom', 'in', 'vassalage'],\n",
              " ['thy', 'merit', 'hath', 'my', 'duty', 'strongly', 'knit'],\n",
              " ['to', 'thee', 'send', 'this', 'written', 'embassage'],\n",
              " ['to', 'witness', 'duty', 'not', 'to', 'show', 'my', 'wit'],\n",
              " ['duty', 'so', 'great', 'which', 'wit', 'so', 'poor', 'as', 'mine'],\n",
              " ['may', 'make', 'seem', 'bare', 'in', 'wanting', 'words', 'to', 'show', 'it'],\n",
              " ['but', 'that', 'hope', 'some', 'good', 'conceit', 'of', 'thine'],\n",
              " ['in', 'thy', 'soul', 'thought', 'all', 'naked', 'will', 'bestow', 'it'],\n",
              " ['till', 'whatsoever', 'star', 'that', 'guides', 'my', 'moving'],\n",
              " ['points', 'on', 'me', 'graciously', 'with', 'fair', 'aspect'],\n",
              " ['and', 'puts', 'apparel', 'on', 'my', 'tattered', 'loving'],\n",
              " ['to', 'show', 'me', 'worthy', 'of', 'thy', 'sweet', 'respect'],\n",
              " ['then', 'may', 'dare', 'to', 'boast', 'how', 'do', 'love', 'thee'],\n",
              " ['till',\n",
              "  'then',\n",
              "  'not',\n",
              "  'show',\n",
              "  'my',\n",
              "  'head',\n",
              "  'where',\n",
              "  'thou',\n",
              "  'mayst',\n",
              "  'prove',\n",
              "  'me'],\n",
              " [],\n",
              " [],\n",
              " [],\n",
              " ['weary', 'with', 'toil', 'haste', 'me', 'to', 'my', 'bed'],\n",
              " ['the', 'dear', 'respose', 'for', 'limbs', 'with', 'travel', 'tired'],\n",
              " ['but', 'then', 'begins', 'journey', 'in', 'my', 'head'],\n",
              " ['to', 'work', 'my', 'mind', 'when', 'body', 'work', 'expired'],\n",
              " ['for', 'then', 'my', 'thoughts', 'from', 'far', 'where', 'abide'],\n",
              " ['intend', 'zealous', 'pilgrimage', 'to', 'thee'],\n",
              " ['and', 'keep', 'my', 'drooping', 'eyelids', 'open', 'wide'],\n",
              " ['looking', 'on', 'darkness', 'which', 'the', 'blind', 'do', 'see'],\n",
              " ['save', 'that', 'my', 'soul', 'imaginary', 'sight'],\n",
              " ['presents', 'thy', 'shadow', 'to', 'my', 'sightless', 'view'],\n",
              " ['which', 'like', 'jewel', 'hung', 'in', 'ghastly', 'night'],\n",
              " ['makes', 'black', 'night', 'beauteous', 'and', 'her', 'old', 'face', 'new'],\n",
              " ['lo', 'thus', 'by', 'day', 'my', 'limbs', 'by', 'night', 'my', 'mind'],\n",
              " ['for', 'thee', 'and', 'for', 'my', 'self', 'no', 'quiet', 'find'],\n",
              " [],\n",
              " [],\n",
              " [],\n",
              " ['how', 'can', 'then', 'return', 'in', 'happy', 'plight'],\n",
              " ['that', 'am', 'debarred', 'the', 'benefit', 'of', 'rest'],\n",
              " ['when', 'day', 'oppression', 'is', 'not', 'eased', 'by', 'night'],\n",
              " ['but', 'day', 'by', 'night', 'and', 'night', 'by', 'day', 'oppressed'],\n",
              " ['and', 'each', 'though', 'enemies', 'to', 'either', 'reign'],\n",
              " ['do', 'in', 'consent', 'shake', 'hands', 'to', 'torture', 'me'],\n",
              " ['the', 'one', 'by', 'toil', 'the', 'other', 'to', 'complain'],\n",
              " ['how', 'far', 'toil', 'still', 'farther', 'off', 'from', 'thee'],\n",
              " ['tell', 'the', 'day', 'to', 'please', 'him', 'thou', 'art', 'bright'],\n",
              " ['and',\n",
              "  'dost',\n",
              "  'him',\n",
              "  'grace',\n",
              "  'when',\n",
              "  'clouds',\n",
              "  'do',\n",
              "  'blot',\n",
              "  'the',\n",
              "  'heaven'],\n",
              " ['so', 'flatter', 'the', 'swart', 'complexioned', 'night'],\n",
              " ['when',\n",
              "  'sparkling',\n",
              "  'stars',\n",
              "  'twire',\n",
              "  'not',\n",
              "  'thou',\n",
              "  'gild',\n",
              "  'st',\n",
              "  'the',\n",
              "  'even'],\n",
              " ['but', 'day', 'doth', 'daily', 'draw', 'my', 'sorrows', 'longer'],\n",
              " ['and',\n",
              "  'night',\n",
              "  'doth',\n",
              "  'nightly',\n",
              "  'make',\n",
              "  'grief',\n",
              "  'length',\n",
              "  'seem',\n",
              "  'stronger'],\n",
              " [],\n",
              " [],\n",
              " [],\n",
              " ['when', 'in', 'disgrace', 'with', 'fortune', 'and', 'men', 'eyes'],\n",
              " ['all', 'alone', 'beweep', 'my', 'outcast', 'state'],\n",
              " ['and', 'trouble', 'deaf', 'heaven', 'with', 'my', 'bootless', 'cries'],\n",
              " ['and', 'look', 'upon', 'my', 'self', 'and', 'curse', 'my', 'fate'],\n",
              " ['wishing', 'me', 'like', 'to', 'one', 'more', 'rich', 'in', 'hope'],\n",
              " ['featured', 'like', 'him', 'like', 'him', 'with', 'friends', 'possessed'],\n",
              " ['desiring', 'this', 'man', 'art', 'and', 'that', 'man', 'scope'],\n",
              " ['with', 'what', 'most', 'enjoy', 'contented', 'least'],\n",
              " ['yet', 'in', 'these', 'thoughts', 'my', 'self', 'almost', 'despising'],\n",
              " ['haply', 'think', 'on', 'thee', 'and', 'then', 'my', 'state'],\n",
              " ['like', 'to', 'the', 'lark', 'at', 'break', 'of', 'day', 'arising'],\n",
              " ['from', 'sullen', 'earth', 'sings', 'hymns', 'at', 'heaven', 'gate'],\n",
              " ['for', 'thy', 'sweet', 'love', 'remembered', 'such', 'wealth', 'brings'],\n",
              " ['that', 'then', 'scorn', 'to', 'change', 'my', 'state', 'with', 'kings'],\n",
              " [],\n",
              " [],\n",
              " [],\n",
              " ['when', 'to', 'the', 'sessions', 'of', 'sweet', 'silent', 'thought'],\n",
              " ['summon', 'up', 'remembrance', 'of', 'things', 'past'],\n",
              " ['sigh', 'the', 'lack', 'of', 'many', 'thing', 'sought'],\n",
              " ['and', 'with', 'old', 'woes', 'new', 'wail', 'my', 'dear', 'time', 'waste'],\n",
              " ['then', 'can', 'drown', 'an', 'eye', 'unused', 'to', 'flow'],\n",
              " ['for', 'precious', 'friends', 'hid', 'in', 'death', 'dateless', 'night'],\n",
              " ['and', 'weep', 'afresh', 'love', 'long', 'since', 'cancelled', 'woe'],\n",
              " ['and', 'moan', 'th', 'expense', 'of', 'many', 'vanished', 'sight'],\n",
              " ['then', 'can', 'grieve', 'at', 'grievances', 'foregone'],\n",
              " ['and', 'heavily', 'from', 'woe', 'to', 'woe', 'tell', 'er'],\n",
              " ['the', 'sad', 'account', 'of', 'fore', 'bemoaned', 'moan'],\n",
              " ['which', 'new', 'pay', 'as', 'if', 'not', 'paid', 'before'],\n",
              " ['but', 'if', 'the', 'while', 'think', 'on', 'thee', 'dear', 'friend'],\n",
              " ['all', 'losses', 'are', 'restored', 'and', 'sorrows', 'end'],\n",
              " [],\n",
              " [],\n",
              " [],\n",
              " ['thy', 'bosom', 'is', 'endeared', 'with', 'all', 'hearts'],\n",
              " ['which', 'by', 'lacking', 'have', 'supposed', 'dead'],\n",
              " ['and', 'there', 'reigns', 'love', 'and', 'all', 'love', 'loving', 'parts'],\n",
              " ['and', 'all', 'those', 'friends', 'which', 'thought', 'buried'],\n",
              " ['how', 'many', 'holy', 'and', 'obsequious', 'tear'],\n",
              " ['hath', 'dear', 'religious', 'love', 'stol', 'from', 'mine', 'eye'],\n",
              " ['as', 'interest', 'of', 'the', 'dead', 'which', 'now', 'appear'],\n",
              " ['but', 'things', 'removed', 'that', 'hidden', 'in', 'thee', 'lie'],\n",
              " ['thou', 'art', 'the', 'grave', 'where', 'buried', 'love', 'doth', 'live'],\n",
              " ['hung', 'with', 'the', 'trophies', 'of', 'my', 'lovers', 'gone'],\n",
              " ['who', 'all', 'their', 'parts', 'of', 'me', 'to', 'thee', 'did', 'give'],\n",
              " ['that', 'due', 'of', 'many', 'now', 'is', 'thine', 'alone'],\n",
              " ['their', 'images', 'loved', 'view', 'in', 'thee'],\n",
              " ['and', 'thou', 'all', 'they', 'hast', 'all', 'the', 'all', 'of', 'me'],\n",
              " [],\n",
              " [],\n",
              " [],\n",
              " ['if', 'thou', 'survive', 'my', 'well', 'contented', 'day'],\n",
              " ['when',\n",
              "  'that',\n",
              "  'churl',\n",
              "  'death',\n",
              "  'my',\n",
              "  'bones',\n",
              "  'with',\n",
              "  'dust',\n",
              "  'shall',\n",
              "  'cover'],\n",
              " ['and', 'shalt', 'by', 'fortune', 'once', 'more', 're', 'survey'],\n",
              " ['these', 'poor', 'rude', 'lines', 'of', 'thy', 'deceased', 'lover'],\n",
              " ['compare', 'them', 'with', 'the', 'bett', 'ring', 'of', 'the', 'time'],\n",
              " ['and', 'though', 'they', 'be', 'outstripped', 'by', 'every', 'pen'],\n",
              " ['reserve', 'them', 'for', 'my', 'love', 'not', 'for', 'their', 'rhyme'],\n",
              " ['exceeded', 'by', 'the', 'height', 'of', 'happier', 'men'],\n",
              " ['then', 'vouchsafe', 'me', 'but', 'this', 'loving', 'thought'],\n",
              " ['had', 'my', 'friend', 'muse', 'grown', 'with', 'this', 'growing', 'age'],\n",
              " ['dearer', 'birth', 'than', 'this', 'his', 'love', 'had', 'brought'],\n",
              " ['to', 'march', 'in', 'ranks', 'of', 'better', 'equipage'],\n",
              " ['but', 'since', 'he', 'died', 'and', 'poets', 'better', 'prove'],\n",
              " ['theirs',\n",
              "  'for',\n",
              "  'their',\n",
              "  'style',\n",
              "  'll',\n",
              "  'read',\n",
              "  'his',\n",
              "  'for',\n",
              "  'his',\n",
              "  'love'],\n",
              " [],\n",
              " [],\n",
              " [],\n",
              " ['full', 'many', 'glorious', 'morning', 'have', 'seen'],\n",
              " ['flatter', 'the', 'mountain', 'tops', 'with', 'sovereign', 'eye'],\n",
              " ['kissing', 'with', 'golden', 'face', 'the', 'meadows', 'green'],\n",
              " ['gilding', 'pale', 'streams', 'with', 'heavenly', 'alchemy'],\n",
              " ['anon', 'permit', 'the', 'basest', 'clouds', 'to', 'ride'],\n",
              " ['with', 'ugly', 'rack', 'on', 'his', 'celestial', 'face'],\n",
              " ['and', 'from', 'the', 'forlorn', 'world', 'his', 'visage', 'hide'],\n",
              " ['stealing', 'unseen', 'to', 'west', 'with', 'this', 'disgrace'],\n",
              " ['even', 'so', 'my', 'sun', 'one', 'early', 'morn', 'did', 'shine'],\n",
              " ['with', 'all', 'triumphant', 'splendour', 'on', 'my', 'brow'],\n",
              " ['but', 'out', 'alack', 'he', 'was', 'but', 'one', 'hour', 'mine'],\n",
              " ['the', 'region', 'cloud', 'hath', 'masked', 'him', 'from', 'me', 'now'],\n",
              " ['yet', 'him', 'for', 'this', 'my', 'love', 'no', 'whit', 'disdaineth'],\n",
              " ['suns',\n",
              "  'of',\n",
              "  'the',\n",
              "  'world',\n",
              "  'may',\n",
              "  'stain',\n",
              "  'when',\n",
              "  'heaven',\n",
              "  'sun',\n",
              "  'staineth'],\n",
              " [],\n",
              " [],\n",
              " [],\n",
              " ['why', 'didst', 'thou', 'promise', 'such', 'beauteous', 'day'],\n",
              " ['and', 'make', 'me', 'travel', 'forth', 'without', 'my', 'cloak'],\n",
              " ['to', 'let', 'base', 'clouds', 'ertake', 'me', 'in', 'my', 'way'],\n",
              " ['hiding', 'thy', 'brav', 'ry', 'in', 'their', 'rotten', 'smoke'],\n",
              " ['tis', 'not', 'enough', 'that', 'through', 'the', 'cloud', 'thou', 'break'],\n",
              " ['to', 'dry', 'the', 'rain', 'on', 'my', 'storm', 'beaten', 'face'],\n",
              " ['for', 'no', 'man', 'well', 'of', 'such', 'salve', 'can', 'speak'],\n",
              " ['that', 'heals', 'the', 'wound', 'and', 'cures', 'not', 'the', 'disgrace'],\n",
              " ['nor', 'can', 'thy', 'shame', 'give', 'physic', 'to', 'my', 'grief'],\n",
              " ['though', 'thou', 'repent', 'yet', 'have', 'still', 'the', 'loss'],\n",
              " ['th', 'offender', 'sorrow', 'lends', 'but', 'weak', 'relief'],\n",
              " ['to', 'him', 'that', 'bears', 'the', 'strong', 'offence', 'cross'],\n",
              " ['ah',\n",
              "  'but',\n",
              "  'those',\n",
              "  'tears',\n",
              "  'are',\n",
              "  'pearl',\n",
              "  'which',\n",
              "  'thy',\n",
              "  'love',\n",
              "  'sheds'],\n",
              " ['and', 'they', 'are', 'rich', 'and', 'ransom', 'all', 'ill', 'deeds'],\n",
              " [],\n",
              " [],\n",
              " [],\n",
              " ['no',\n",
              "  'more',\n",
              "  'be',\n",
              "  'grieved',\n",
              "  'at',\n",
              "  'that',\n",
              "  'which',\n",
              "  'thou',\n",
              "  'hast',\n",
              "  'done'],\n",
              " ['roses', 'have', 'thorns', 'and', 'silver', 'fountains', 'mud'],\n",
              " ['clouds', 'and', 'eclipses', 'stain', 'both', 'moon', 'and', 'sun'],\n",
              " ['and', 'loathsome', 'canker', 'lives', 'in', 'sweetest', 'bud'],\n",
              " ['all', 'men', 'make', 'faults', 'and', 'even', 'in', 'this'],\n",
              " ['authorizing', 'thy', 'trespass', 'with', 'compare'],\n",
              " ['my', 'self', 'corrupting', 'salving', 'thy', 'amiss'],\n",
              " ['excusing', 'thy', 'sins', 'more', 'than', 'thy', 'sins', 'are'],\n",
              " ['for', 'to', 'thy', 'sensual', 'fault', 'bring', 'in', 'sense'],\n",
              " ['thy', 'adverse', 'party', 'is', 'thy', 'advocate'],\n",
              " ['and', 'gainst', 'my', 'self', 'lawful', 'plea', 'commence'],\n",
              " ['such', 'civil', 'war', 'is', 'in', 'my', 'love', 'and', 'hate'],\n",
              " ['that', 'an', 'accessary', 'needs', 'must', 'be'],\n",
              " ['to', 'that', 'sweet', 'thief', 'which', 'sourly', 'robs', 'from', 'me'],\n",
              " [],\n",
              " [],\n",
              " [],\n",
              " ['let', 'me', 'confess', 'that', 'we', 'two', 'must', 'be', 'twain'],\n",
              " ['although', 'our', 'undivided', 'loves', 'are', 'one'],\n",
              " ['so', 'shall', 'those', 'blots', 'that', 'do', 'with', 'me', 'remain'],\n",
              " ['without', 'thy', 'help', 'by', 'me', 'be', 'borne', 'alone'],\n",
              " ['in', 'our', 'two', 'loves', 'there', 'is', 'but', 'one', 'respect'],\n",
              " ['though', 'in', 'our', 'lives', 'separable', 'spite'],\n",
              " ['which', 'though', 'it', 'alter', 'not', 'love', 'sole', 'effect'],\n",
              " ['yet', 'doth', 'it', 'steal', 'sweet', 'hours', 'from', 'love', 'delight'],\n",
              " ['may', 'not', 'evermore', 'acknowledge', 'thee'],\n",
              " ['lest', 'my', 'bewailed', 'guilt', 'should', 'do', 'thee', 'shame'],\n",
              " ['nor', 'thou', 'with', 'public', 'kindness', 'honour', 'me'],\n",
              " ['unless', 'thou', 'take', 'that', 'honour', 'from', 'thy', 'name'],\n",
              " ['but', 'do', 'not', 'so', 'love', 'thee', 'in', 'such', 'sort'],\n",
              " ['as', 'thou', 'being', 'mine', 'mine', 'is', 'thy', 'good', 'report'],\n",
              " [],\n",
              " [],\n",
              " [],\n",
              " ['as', 'decrepit', 'father', 'takes', 'delight'],\n",
              " ['to', 'see', 'his', 'active', 'child', 'do', 'deeds', 'of', 'youth'],\n",
              " ['so', 'made', 'lame', 'by', 'fortune', 'dearest', 'spite'],\n",
              " ['take', 'all', 'my', 'comfort', 'of', 'thy', 'worth', 'and', 'truth'],\n",
              " ['for', 'whether', 'beauty', 'birth', 'or', 'wealth', 'or', 'wit'],\n",
              " ['or', 'any', 'of', 'these', 'all', 'or', 'all', 'or', 'more'],\n",
              " ['entitled', 'in', 'thy', 'parts', 'do', 'crowned', 'sit'],\n",
              " ['make', 'my', 'love', 'engrafted', 'to', 'this', 'store'],\n",
              " ['so', 'then', 'am', 'not', 'lame', 'poor', 'nor', 'despised'],\n",
              " ['whilst', 'that', 'this', 'shadow', 'doth', 'such', 'substance', 'give'],\n",
              " ['that', 'in', 'thy', 'abundance', 'am', 'sufficed'],\n",
              " ['and', 'by', 'part', 'of', 'all', 'thy', 'glory', 'live'],\n",
              " ['look', 'what', 'is', 'best', 'that', 'best', 'wish', 'in', 'thee'],\n",
              " ['this', 'wish', 'have', 'then', 'ten', 'times', 'happy', 'me'],\n",
              " [],\n",
              " [],\n",
              " [],\n",
              " ['how', 'can', 'my', 'muse', 'want', 'subject', 'to', 'invent'],\n",
              " ['while',\n",
              "  'thou',\n",
              "  'dost',\n",
              "  'breathe',\n",
              "  'that',\n",
              "  'pour',\n",
              "  'st',\n",
              "  'into',\n",
              "  'my',\n",
              "  'verse'],\n",
              " ['thine', 'own', 'sweet', 'argument', 'too', 'excellent'],\n",
              " ['for', 'every', 'vulgar', 'paper', 'to', 'rehearse'],\n",
              " ['give', 'thy', 'self', 'the', 'thanks', 'if', 'aught', 'in', 'me'],\n",
              " ['worthy', 'perusal', 'stand', 'against', 'thy', 'sight'],\n",
              " ['for', 'who', 'so', 'dumb', 'that', 'cannot', 'write', 'to', 'thee'],\n",
              " ['when', 'thou', 'thy', 'self', 'dost', 'give', 'invention', 'light'],\n",
              " ['be', 'thou', 'the', 'tenth', 'muse', 'ten', 'times', 'more', 'in', 'worth'],\n",
              " ['than', 'those', 'old', 'nine', 'which', 'rhymers', 'invocate'],\n",
              " ['and', 'he', 'that', 'calls', 'on', 'thee', 'let', 'him', 'bring', 'forth'],\n",
              " ['eternal', 'numbers', 'to', 'outlive', 'long', 'date'],\n",
              " ['if', 'my', 'slight', 'muse', 'do', 'please', 'these', 'curious', 'days'],\n",
              " ['the', 'pain', 'be', 'mine', 'but', 'thine', 'shall', 'be', 'the', 'praise'],\n",
              " [],\n",
              " [],\n",
              " [],\n",
              " ['how', 'thy', 'worth', 'with', 'manners', 'may', 'sing'],\n",
              " ['when', 'thou', 'art', 'all', 'the', 'better', 'part', 'of', 'me'],\n",
              " ['what',\n",
              "  'can',\n",
              "  'mine',\n",
              "  'own',\n",
              "  'praise',\n",
              "  'to',\n",
              "  'mine',\n",
              "  'own',\n",
              "  'self',\n",
              "  'bring'],\n",
              " ['and', 'what', 'is', 'but', 'mine', 'own', 'when', 'praise', 'thee'],\n",
              " ['even', 'for', 'this', 'let', 'us', 'divided', 'live'],\n",
              " ['and', 'our', 'dear', 'love', 'lose', 'name', 'of', 'single', 'one'],\n",
              " ['that', 'by', 'this', 'separation', 'may', 'give'],\n",
              " ['that', 'due', 'to', 'thee', 'which', 'thou', 'deserv', 'st', 'alone'],\n",
              " ['absence', 'what', 'torment', 'wouldst', 'thou', 'prove'],\n",
              " ['were', 'it', 'not', 'thy', 'sour', 'leisure', 'gave', 'sweet', 'leave'],\n",
              " ['to', 'entertain', 'the', 'time', 'with', 'thoughts', 'of', 'love'],\n",
              " ['which', 'time', 'and', 'thoughts', 'so', 'sweetly', 'doth', 'deceive'],\n",
              " ['and', 'that', 'thou', 'teachest', 'how', 'to', 'make', 'one', 'twain'],\n",
              " ['by', 'praising', 'him', 'here', 'who', 'doth', 'hence', 'remain'],\n",
              " [],\n",
              " [],\n",
              " [],\n",
              " ['take', 'all', 'my', 'loves', 'my', 'love', 'yea', 'take', 'them', 'all'],\n",
              " ['what', 'hast', 'thou', 'then', 'more', 'than', 'thou', 'hadst', 'before'],\n",
              " ['no', 'love', 'my', 'love', 'that', 'thou', 'mayst', 'true', 'love', 'call'],\n",
              " ['all', 'mine', 'was', 'thine', 'before', 'thou', 'hadst', 'this', 'more'],\n",
              " ['then', 'if', 'for', 'my', 'love', 'thou', 'my', 'love', 'receivest'],\n",
              " ['cannot', 'blame', 'thee', 'for', 'my', 'love', 'thou', 'usest'],\n",
              " ['but', 'yet', 'be', 'blamed', 'if', 'thou', 'thy', 'self', 'deceivest'],\n",
              " ['by', 'wilful', 'taste', 'of', 'what', 'thy', 'self', 'refusest'],\n",
              " ['do', 'forgive', 'thy', 'robbery', 'gentle', 'thief'],\n",
              " ['although', 'thou', 'steal', 'thee', 'all', 'my', 'poverty'],\n",
              " ['and', 'yet', 'love', 'knows', 'it', 'is', 'greater', 'grief'],\n",
              " ['to', 'bear', 'greater', 'wrong', 'than', 'hate', 'known', 'injury'],\n",
              " ['lascivious', 'grace', 'in', 'whom', 'all', 'ill', 'well', 'shows'],\n",
              " ['kill', 'me', 'with', 'spites', 'yet', 'we', 'must', 'not', 'be', 'foes'],\n",
              " [],\n",
              " [],\n",
              " [],\n",
              " ['those', 'pretty', 'wrongs', 'that', 'liberty', 'commits'],\n",
              " ['when', 'am', 'sometime', 'absent', 'from', 'thy', 'heart'],\n",
              " ['thy', 'beauty', 'and', 'thy', 'years', 'full', 'well', 'befits'],\n",
              " ['for', 'still', 'temptation', 'follows', 'where', 'thou', 'art'],\n",
              " ['gentle', 'thou', 'art', 'and', 'therefore', 'to', 'be', 'won'],\n",
              " ['beauteous', 'thou', 'art', 'therefore', 'to', 'be', 'assailed'],\n",
              " ['and', 'when', 'woman', 'woos', 'what', 'woman', 'son'],\n",
              " ['will', 'sourly', 'leave', 'her', 'till', 'he', 'have', 'prevailed'],\n",
              " ['ay', 'me', 'but', 'yet', 'thou', 'mightst', 'my', 'seat', 'forbear'],\n",
              " ['and', 'chide', 'thy', 'beauty', 'and', 'thy', 'straying', 'youth'],\n",
              " ['who', 'lead', 'thee', 'in', 'their', 'riot', 'even', 'there'],\n",
              " ['where', 'thou', 'art', 'forced', 'to', 'break', 'twofold', 'truth'],\n",
              " ['hers', 'by', 'thy', 'beauty', 'tempting', 'her', 'to', 'thee'],\n",
              " ['thine', 'by', 'thy', 'beauty', 'being', 'false', 'to', 'me'],\n",
              " [],\n",
              " [],\n",
              " [],\n",
              " ['that', 'thou', 'hast', 'her', 'it', 'is', 'not', 'all', 'my', 'grief'],\n",
              " ['and', 'yet', 'it', 'may', 'be', 'said', 'loved', 'her', 'dearly'],\n",
              " ['that', 'she', 'hath', 'thee', 'is', 'of', 'my', 'wailing', 'chief'],\n",
              " ['loss', 'in', 'love', 'that', 'touches', 'me', 'more', 'nearly'],\n",
              " ['loving', 'offenders', 'thus', 'will', 'excuse', 'ye'],\n",
              " ['thou',\n",
              "  'dost',\n",
              "  'love',\n",
              "  'her',\n",
              "  'because',\n",
              "  'thou',\n",
              "  'know',\n",
              "  'st',\n",
              "  'love',\n",
              "  'her'],\n",
              " ['and', 'for', 'my', 'sake', 'even', 'so', 'doth', 'she', 'abuse', 'me'],\n",
              " ['suff', 'ring', 'my', 'friend', 'for', 'my', 'sake', 'to', 'approve', 'her'],\n",
              " ['if', 'lose', 'thee', 'my', 'loss', 'is', 'my', 'love', 'gain'],\n",
              " ['and', 'losing', 'her', 'my', 'friend', 'hath', 'found', 'that', 'loss'],\n",
              " ['both', 'find', 'each', 'other', 'and', 'lose', 'both', 'twain'],\n",
              " ['and', 'both', 'for', 'my', 'sake', 'lay', 'on', 'me', 'this', 'cross'],\n",
              " ['but', 'here', 'the', 'joy', 'my', 'friend', 'and', 'are', 'one'],\n",
              " ['sweet', 'flattery', 'then', 'she', 'loves', 'but', 'me', 'alone'],\n",
              " [],\n",
              " [],\n",
              " [],\n",
              " ['when', 'most', 'wink', 'then', 'do', 'mine', 'eyes', 'best', 'see'],\n",
              " ['for', 'all', 'the', 'day', 'they', 'view', 'things', 'unrespected'],\n",
              " ['but', 'when', 'sleep', 'in', 'dreams', 'they', 'look', 'on', 'thee'],\n",
              " ['and', 'darkly', 'bright', 'are', 'bright', 'in', 'dark', 'directed'],\n",
              " ['then', 'thou', 'whose', 'shadow', 'shadows', 'doth', 'make', 'bright'],\n",
              " ['how', 'would', 'thy', 'shadow', 'form', 'form', 'happy', 'show'],\n",
              " ['to', 'the', 'clear', 'day', 'with', 'thy', 'much', 'clearer', 'light'],\n",
              " ['when', 'to', 'unseeing', 'eyes', 'thy', 'shade', 'shines', 'so'],\n",
              " ['how', 'would', 'say', 'mine', 'eyes', 'be', 'blessed', 'made'],\n",
              " ['by', 'looking', 'on', 'thee', 'in', 'the', 'living', 'day'],\n",
              " ['when', 'in', 'dead', 'night', 'thy', 'fair', 'imperfect', 'shade'],\n",
              " ['through', 'heavy', 'sleep', 'on', 'sightless', 'eyes', 'doth', 'stay'],\n",
              " ['all', 'days', 'are', 'nights', 'to', 'see', 'till', 'see', 'thee'],\n",
              " ['and',\n",
              "  'nights',\n",
              "  'bright',\n",
              "  'days',\n",
              "  'when',\n",
              "  'dreams',\n",
              "  'do',\n",
              "  'show',\n",
              "  'thee',\n",
              "  'me'],\n",
              " [],\n",
              " [],\n",
              " [],\n",
              " ['if', 'the', 'dull', 'substance', 'of', 'my', 'flesh', 'were', 'thought'],\n",
              " ['injurious', 'distance', 'should', 'not', 'stop', 'my', 'way'],\n",
              " ['for', 'then', 'despite', 'of', 'space', 'would', 'be', 'brought'],\n",
              " ['from', 'limits', 'far', 'remote', 'where', 'thou', 'dost', 'stay'],\n",
              " ['no', 'matter', 'then', 'although', 'my', 'foot', 'did', 'stand'],\n",
              " ['upon', 'the', 'farthest', 'earth', 'removed', 'from', 'thee'],\n",
              " ['for', 'nimble', 'thought', 'can', 'jump', 'both', 'sea', 'and', 'land'],\n",
              " ['as', 'soon', 'as', 'think', 'the', 'place', 'where', 'he', 'would', 'be'],\n",
              " ['but', 'ah', 'thought', 'kills', 'me', 'that', 'am', 'not', 'thought'],\n",
              " ['to',\n",
              "  'leap',\n",
              "  'large',\n",
              "  'lengths',\n",
              "  'of',\n",
              "  'miles',\n",
              "  'when',\n",
              "  'thou',\n",
              "  'art',\n",
              "  'gone'],\n",
              " ['but', 'that', 'so', 'much', 'of', 'earth', 'and', 'water', 'wrought'],\n",
              " ['must', 'attend', 'time', 'leisure', 'with', 'my', 'moan'],\n",
              " ['receiving', 'nought', 'by', 'elements', 'so', 'slow'],\n",
              " ['but', 'heavy', 'tears', 'badges', 'of', 'either', 'woe'],\n",
              " [],\n",
              " [],\n",
              " [],\n",
              " ['the', 'other', 'two', 'slight', 'air', 'and', 'purging', 'fire'],\n",
              " ['are', 'both', 'with', 'thee', 'wherever', 'abide'],\n",
              " ['the', 'first', 'my', 'thought', 'the', 'other', 'my', 'desire'],\n",
              " ['these', 'present', 'absent', 'with', 'swift', 'motion', 'slide'],\n",
              " ['for', 'when', 'these', 'quicker', 'elements', 'are', 'gone'],\n",
              " ['in', 'tender', 'embassy', 'of', 'love', 'to', 'thee'],\n",
              " ['my', 'life', 'being', 'made', 'of', 'four', 'with', 'two', 'alone'],\n",
              " ['sinks', 'down', 'to', 'death', 'oppressed', 'with', 'melancholy'],\n",
              " ['until', 'life', 'composition', 'be', 'recured'],\n",
              " ['by', 'those', 'swift', 'messengers', 'returned', 'from', 'thee'],\n",
              " ['who', 'even', 'but', 'now', 'come', 'back', 'again', 'assured'],\n",
              " ['of', 'thy', 'fair', 'health', 'recounting', 'it', 'to', 'me'],\n",
              " ['this', 'told', 'joy', 'but', 'then', 'no', 'longer', 'glad'],\n",
              " ['send', 'them', 'back', 'again', 'and', 'straight', 'grow', 'sad'],\n",
              " [],\n",
              " [],\n",
              " [],\n",
              " ['mine', 'eye', 'and', 'heart', 'are', 'at', 'mortal', 'war'],\n",
              " ['how', 'to', 'divide', 'the', 'conquest', 'of', 'thy', 'sight'],\n",
              " ['mine', 'eye', 'my', 'heart', 'thy', 'picture', 'sight', 'would', 'bar'],\n",
              " ['my', 'heart', 'mine', 'eye', 'the', 'freedom', 'of', 'that', 'right'],\n",
              " ['my', 'heart', 'doth', 'plead', 'that', 'thou', 'in', 'him', 'dost', 'lie'],\n",
              " ['closet', 'never', 'pierced', 'with', 'crystal', 'eyes'],\n",
              " ['but', 'the', 'defendant', 'doth', 'that', 'plea', 'deny'],\n",
              " ['and', 'says', 'in', 'him', 'thy', 'fair', 'appearance', 'lies'],\n",
              " ['to', 'side', 'this', 'title', 'is', 'impanelled'],\n",
              " ['quest', 'of', 'thoughts', 'all', 'tenants', 'to', 'the', 'heart'],\n",
              " ['and', 'by', 'their', 'verdict', 'is', 'determined'],\n",
              " ['the', 'clear', 'eye', 'moiety', 'and', 'the', 'dear', 'heart', 'part'],\n",
              " ['as', 'thus', 'mine', 'eye', 'due', 'is', 'thy', 'outward', 'part'],\n",
              " ['and', 'my', 'heart', 'right', 'thy', 'inward', 'love', 'of', 'heart'],\n",
              " [],\n",
              " [],\n",
              " [],\n",
              " ['betwixt', 'mine', 'eye', 'and', 'heart', 'league', 'is', 'took'],\n",
              " ['and', 'each', 'doth', 'good', 'turns', 'now', 'unto', 'the', 'other'],\n",
              " ['when', 'that', 'mine', 'eye', 'is', 'famished', 'for', 'look'],\n",
              " ['or', 'heart', 'in', 'love', 'with', 'sighs', 'himself', 'doth', 'smother'],\n",
              " ['with', 'my', 'love', 'picture', 'then', 'my', 'eye', 'doth', 'feast'],\n",
              " ['and', 'to', 'the', 'painted', 'banquet', 'bids', 'my', 'heart'],\n",
              " ['another', 'time', 'mine', 'eye', 'is', 'my', 'heart', 'guest'],\n",
              " ['and', 'in', 'his', 'thoughts', 'of', 'love', 'doth', 'share', 'part'],\n",
              " ['so', 'either', 'by', 'thy', 'picture', 'or', 'my', 'love'],\n",
              " ['thy', 'self', 'away', 'art', 'present', 'still', 'with', 'me'],\n",
              " ['for', 'thou', 'not', 'farther', 'than', 'my', 'thoughts', 'canst', 'move'],\n",
              " ['and', 'am', 'still', 'with', 'them', 'and', 'they', 'with', 'thee'],\n",
              " ['or', 'if', 'they', 'sleep', 'thy', 'picture', 'in', 'my', 'sight'],\n",
              " ['awakes', 'my', 'heart', 'to', 'heart', 'and', 'eye', 'delight'],\n",
              " [],\n",
              " [],\n",
              " [],\n",
              " ['how', 'careful', 'was', 'when', 'took', 'my', 'way'],\n",
              " ['each', 'trifle', 'under', 'truest', 'bars', 'to', 'thrust'],\n",
              " ['that', 'to', 'my', 'use', 'it', 'might', 'unused', 'stay'],\n",
              " ['from', 'hands', 'of', 'falsehood', 'in', 'sure', 'wards', 'of', 'trust'],\n",
              " ['but', 'thou', 'to', 'whom', 'my', 'jewels', 'trifles', 'are'],\n",
              " ['most', 'worthy', 'comfort', 'now', 'my', 'greatest', 'grief'],\n",
              " ['thou', 'best', 'of', 'dearest', 'and', 'mine', 'only', 'care'],\n",
              " ['art', 'left', 'the', 'prey', 'of', 'every', 'vulgar', 'thief'],\n",
              " ['thee', 'have', 'not', 'locked', 'up', 'in', 'any', 'chest'],\n",
              " ['save', 'where', 'thou', 'art', 'not', 'though', 'feel', 'thou', 'art'],\n",
              " ['within', 'the', 'gentle', 'closure', 'of', 'my', 'breast'],\n",
              " ['from', 'whence', 'at', 'pleasure', 'thou', 'mayst', 'come', 'and', 'part'],\n",
              " ['and', 'even', 'thence', 'thou', 'wilt', 'be', 'stol', 'fear'],\n",
              " ['for', 'truth', 'proves', 'thievish', 'for', 'prize', 'so', 'dear'],\n",
              " [],\n",
              " [],\n",
              " [],\n",
              " ['against', 'that', 'time', 'if', 'ever', 'that', 'time', 'come'],\n",
              " ['when', 'shall', 'see', 'thee', 'frown', 'on', 'my', 'defects'],\n",
              " ['when', 'as', 'thy', 'love', 'hath', 'cast', 'his', 'utmost', 'sum'],\n",
              " ['called', 'to', 'that', 'audit', 'by', 'advised', 'respects'],\n",
              " ['against', 'that', 'time', 'when', 'thou', 'shalt', 'strangely', 'pass'],\n",
              " ['and', 'scarcely', 'greet', 'me', 'with', 'that', 'sun', 'thine', 'eye'],\n",
              " ['when', 'love', 'converted', 'from', 'the', 'thing', 'it', 'was'],\n",
              " ['shall', 'reasons', 'find', 'of', 'settled', 'gravity'],\n",
              " ['against', 'that', 'time', 'do', 'ensconce', 'me', 'here'],\n",
              " ['within', 'the', 'knowledge', 'of', 'mine', 'own', 'desert'],\n",
              " ['and', 'this', 'my', 'hand', 'against', 'my', 'self', 'uprear'],\n",
              " ['to', 'guard', 'the', 'lawful', 'reasons', 'on', 'thy', 'part'],\n",
              " ['to',\n",
              "  'leave',\n",
              "  'poor',\n",
              "  'me',\n",
              "  'thou',\n",
              "  'hast',\n",
              "  'the',\n",
              "  'strength',\n",
              "  'of',\n",
              "  'laws'],\n",
              " ['since', 'why', 'to', 'love', 'can', 'allege', 'no', 'cause'],\n",
              " [],\n",
              " [],\n",
              " [],\n",
              " ['how', 'heavy', 'do', 'journey', 'on', 'the', 'way'],\n",
              " ['when', 'what', 'seek', 'my', 'weary', 'travel', 'end'],\n",
              " ['doth', 'teach', 'that', 'case', 'and', 'that', 'repose', 'to', 'say'],\n",
              " ['thus', 'far', 'the', 'miles', 'are', 'measured', 'from', 'thy', 'friend'],\n",
              " ['the', 'beast', 'that', 'bears', 'me', 'tired', 'with', 'my', 'woe'],\n",
              " ['plods', 'dully', 'on', 'to', 'bear', 'that', 'weight', 'in', 'me'],\n",
              " ['as', 'if', 'by', 'some', 'instinct', 'the', 'wretch', 'did', 'know'],\n",
              " ['his', 'rider', 'loved', 'not', 'speed', 'being', 'made', 'from', 'thee'],\n",
              " ['the', 'bloody', 'spur', 'cannot', 'provoke', 'him', 'on'],\n",
              " ['that', 'sometimes', 'anger', 'thrusts', 'into', 'his', 'hide'],\n",
              " ['which', 'heavily', 'he', 'answers', 'with', 'groan'],\n",
              " ['more', 'sharp', 'to', 'me', 'than', 'spurring', 'to', 'his', 'side'],\n",
              " ['for', 'that', 'same', 'groan', 'doth', 'put', 'this', 'in', 'my', 'mind'],\n",
              " ['my', 'grief', 'lies', 'onward', 'and', 'my', 'joy', 'behind'],\n",
              " [],\n",
              " [],\n",
              " [],\n",
              " ['thus', 'can', 'my', 'love', 'excuse', 'the', 'slow', 'offence'],\n",
              " ['of', 'my', 'dull', 'bearer', 'when', 'from', 'thee', 'speed'],\n",
              " ['from', 'where', 'thou', 'art', 'why', 'should', 'haste', 'me', 'thence'],\n",
              " ['till', 'return', 'of', 'posting', 'is', 'no', 'need'],\n",
              " ['what', 'excuse', 'will', 'my', 'poor', 'beast', 'then', 'find'],\n",
              " ['when', 'swift', 'extremity', 'can', 'seem', 'but', 'slow'],\n",
              " ['then', 'should', 'spur', 'though', 'mounted', 'on', 'the', 'wind'],\n",
              " ['in', 'winged', 'speed', 'no', 'motion', 'shall', 'know'],\n",
              " ['then', 'can', 'no', 'horse', 'with', 'my', 'desire', 'keep', 'pace'],\n",
              " ['therefore', 'desire', 'of', 'perfect', 'st', 'love', 'being', 'made'],\n",
              " ['shall', 'neigh', 'no', 'dull', 'flesh', 'in', 'his', 'fiery', 'race'],\n",
              " ['but', 'love', 'for', 'love', 'thus', 'shall', 'excuse', 'my', 'jade'],\n",
              " ['since', 'from', 'thee', 'going', 'he', 'went', 'wilful', 'slow'],\n",
              " ['towards', 'thee', 'll', 'run', 'and', 'give', 'him', 'leave', 'to', 'go'],\n",
              " [],\n",
              " [],\n",
              " [],\n",
              " ['so', 'am', 'as', 'the', 'rich', 'whose', 'blessed', 'key'],\n",
              " ['can', 'bring', 'him', 'to', 'his', 'sweet', 'up', 'locked', 'treasure'],\n",
              " ['the', 'which', 'he', 'will', 'not', 'every', 'hour', 'survey'],\n",
              " ['for', 'blunting', 'the', 'fine', 'point', 'of', 'seldom', 'pleasure'],\n",
              " ['therefore', 'are', 'feasts', 'so', 'solemn', 'and', 'so', 'rare'],\n",
              " ['since', 'seldom', 'coming', 'in', 'that', 'long', 'year', 'set'],\n",
              " ['like', 'stones', 'of', 'worth', 'they', 'thinly', 'placed', 'are'],\n",
              " ['or', 'captain', 'jewels', 'in', 'the', 'carcanet'],\n",
              " ['so', 'is', 'the', 'time', 'that', 'keeps', 'you', 'as', 'my', 'chest'],\n",
              " ['or', 'as', 'the', 'wardrobe', 'which', 'the', 'robe', 'doth', 'hide'],\n",
              " ['to', 'make', 'some', 'special', 'instant', 'special', 'blest'],\n",
              " ['by', 'new', 'unfolding', 'his', 'imprisoned', 'pride'],\n",
              " ['blessed', 'are', 'you', 'whose', 'worthiness', 'gives', 'scope'],\n",
              " ['being', 'had', 'to', 'triumph', 'being', 'lacked', 'to', 'hope'],\n",
              " [],\n",
              " [],\n",
              " [],\n",
              " ['what', 'is', 'your', 'substance', 'whereof', 'are', 'you', 'made'],\n",
              " ['that', 'millions', 'of', 'strange', 'shadows', 'on', 'you', 'tend'],\n",
              " ['since', 'every', 'one', 'hath', 'every', 'one', 'one', 'shade'],\n",
              " ['and', 'you', 'but', 'one', 'can', 'every', 'shadow', 'lend'],\n",
              " ['describe', 'adonis', 'and', 'the', 'counterfeit'],\n",
              " ['is', 'poorly', 'imitated', 'after', 'you'],\n",
              " ['on', 'helen', 'cheek', 'all', 'art', 'of', 'beauty', 'set'],\n",
              " ['and', 'you', 'in', 'grecian', 'tires', 'are', 'painted', 'new'],\n",
              " ['speak', 'of', 'the', 'spring', 'and', 'foison', 'of', 'the', 'year'],\n",
              " ['the', 'one', 'doth', 'shadow', 'of', 'your', 'beauty', 'show'],\n",
              " ['the', 'other', 'as', 'your', 'bounty', 'doth', 'appear'],\n",
              " ['and', 'you', 'in', 'every', 'blessed', 'shape', 'we', 'know'],\n",
              " ['in', 'all', 'external', 'grace', 'you', 'have', 'some', 'part'],\n",
              " ['but', 'you', 'like', 'none', 'none', 'you', 'for', 'constant', 'heart'],\n",
              " [],\n",
              " [],\n",
              " [],\n",
              " ['how', 'much', 'more', 'doth', 'beauty', 'beauteous', 'seem'],\n",
              " ['by', 'that', 'sweet', 'ornament', 'which', 'truth', 'doth', 'give'],\n",
              " ['the', 'rose', 'looks', 'fair', 'but', 'fairer', 'we', 'it', 'deem'],\n",
              " ['for', 'that', 'sweet', 'odour', 'which', 'doth', 'in', 'it', 'live'],\n",
              " ['the', 'canker', 'blooms', 'have', 'full', 'as', 'deep', 'dye'],\n",
              " ['as', 'the', 'perfumed', 'tincture', 'of', 'the', 'roses'],\n",
              " ['hang', 'on', 'such', 'thorns', 'and', 'play', 'as', 'wantonly'],\n",
              " ['when', 'summer', 'breath', 'their', 'masked', 'buds', 'discloses'],\n",
              " ['but', 'for', 'their', 'virtue', 'only', 'is', 'their', 'show'],\n",
              " ['they', 'live', 'unwooed', 'and', 'unrespected', 'fade'],\n",
              " ['die', 'to', 'themselves', 'sweet', 'roses', 'do', 'not', 'so'],\n",
              " ['of', 'their', 'sweet', 'deaths', 'are', 'sweetest', 'odours', 'made'],\n",
              " ['and', 'so', 'of', 'you', 'beauteous', 'and', 'lovely', 'youth'],\n",
              " ['when', 'that', 'shall', 'vade', 'by', 'verse', 'distills', 'your', 'truth'],\n",
              " [],\n",
              " [],\n",
              " [],\n",
              " ['not', 'marble', 'nor', 'the', 'gilded', 'monuments'],\n",
              " ['of', 'princes', 'shall', 'outlive', 'this', 'powerful', 'rhyme'],\n",
              " ['but', 'you', 'shall', 'shine', 'more', 'bright', 'in', 'these', 'contents'],\n",
              " ['than', 'unswept', 'stone', 'besmeared', 'with', 'sluttish', 'time'],\n",
              " ['when', 'wasteful', 'war', 'shall', 'statues', 'overturn'],\n",
              " ['and', 'broils', 'root', 'out', 'the', 'work', 'of', 'masonry'],\n",
              " ['nor',\n",
              "  'mars',\n",
              "  'his',\n",
              "  'sword',\n",
              "  'nor',\n",
              "  'war',\n",
              "  'quick',\n",
              "  'fire',\n",
              "  'shall',\n",
              "  'burn'],\n",
              " ['the', 'living', 'record', 'of', 'your', 'memory'],\n",
              " ['gainst', 'death', 'and', 'all', 'oblivious', 'enmity'],\n",
              " ['shall',\n",
              "  'you',\n",
              "  'pace',\n",
              "  'forth',\n",
              "  'your',\n",
              "  'praise',\n",
              "  'shall',\n",
              "  'still',\n",
              "  'find',\n",
              "  'room'],\n",
              " ['even', 'in', 'the', 'eyes', 'of', 'all', 'posterity'],\n",
              " ['that', 'wear', 'this', 'world', 'out', 'to', 'the', 'ending', 'doom'],\n",
              " ['so', 'till', 'the', 'judgment', 'that', 'your', 'self', 'arise'],\n",
              " ['you', 'live', 'in', 'this', 'and', 'dwell', 'in', 'lovers', 'eyes'],\n",
              " [],\n",
              " [],\n",
              " [],\n",
              " ['sweet', 'love', 'renew', 'thy', 'force', 'be', 'it', 'not', 'said'],\n",
              " ['thy', 'edge', 'should', 'blunter', 'be', 'than', 'appetite'],\n",
              " ['which', 'but', 'to', 'day', 'by', 'feeding', 'is', 'allayed'],\n",
              " ['to', 'morrow', 'sharpened', 'in', 'his', 'former', 'might'],\n",
              " ['so', 'love', 'be', 'thou', 'although', 'to', 'day', 'thou', 'fill'],\n",
              " ['thy', 'hungry', 'eyes', 'even', 'till', 'they', 'wink', 'with', 'fulness'],\n",
              " ['to', 'morrow', 'see', 'again', 'and', 'do', 'not', 'kill'],\n",
              " ['the', 'spirit', 'of', 'love', 'with', 'perpetual', 'dulness'],\n",
              " ['let', 'this', 'sad', 'interim', 'like', 'the', 'ocean', 'be'],\n",
              " ['which', 'parts', 'the', 'shore', 'where', 'two', 'contracted', 'new'],\n",
              " ['come', 'daily', 'to', 'the', 'banks', 'that', 'when', 'they', 'see'],\n",
              " ['return', 'of', 'love', 'more', 'blest', 'may', 'be', 'the', 'view'],\n",
              " ['or', 'call', 'it', 'winter', 'which', 'being', 'full', 'of', 'care'],\n",
              " ['makes', 'summer', 'welcome', 'thrice', 'more', 'wished', 'more', 'rare'],\n",
              " [],\n",
              " [],\n",
              " [],\n",
              " ['being', 'your', 'slave', 'what', 'should', 'do', 'but', 'tend'],\n",
              " ['upon', 'the', 'hours', 'and', 'times', 'of', 'your', 'desire'],\n",
              " ['have', 'no', 'precious', 'time', 'at', 'all', 'to', 'spend'],\n",
              " ['nor', 'services', 'to', 'do', 'till', 'you', 'require'],\n",
              " ['nor', 'dare', 'chide', 'the', 'world', 'without', 'end', 'hour'],\n",
              " ['whilst', 'my', 'sovereign', 'watch', 'the', 'clock', 'for', 'you'],\n",
              " ['nor', 'think', 'the', 'bitterness', 'of', 'absence', 'sour'],\n",
              " ['when', 'you', 'have', 'bid', 'your', 'servant', 'once', 'adieu'],\n",
              " ['nor', 'dare', 'question', 'with', 'my', 'jealous', 'thought'],\n",
              " ['where', 'you', 'may', 'be', 'or', 'your', 'affairs', 'suppose'],\n",
              " ['but', 'like', 'sad', 'slave', 'stay', 'and', 'think', 'of', 'nought'],\n",
              " ['save', 'where', 'you', 'are', 'how', 'happy', 'you', 'make', 'those'],\n",
              " ['so', 'true', 'fool', 'is', 'love', 'that', 'in', 'your', 'will'],\n",
              " ['though', 'you', 'do', 'any', 'thing', 'he', 'thinks', 'no', 'ill'],\n",
              " [],\n",
              " [],\n",
              " [],\n",
              " ['that', 'god', 'forbid', 'that', 'made', 'me', 'first', 'your', 'slave'],\n",
              " ['should', 'in', 'thought', 'control', 'your', 'times', 'of', 'pleasure'],\n",
              " ['or', 'at', 'your', 'hand', 'th', 'account', 'of', 'hours', 'to', 'crave'],\n",
              " ['being', 'your', 'vassal', 'bound', 'to', 'stay', 'your', 'leisure'],\n",
              " ['let', 'me', 'suffer', 'being', 'at', 'your', 'beck'],\n",
              " ['th', 'imprisoned', 'absence', 'of', 'your', 'liberty'],\n",
              " ['and', 'patience', 'tame', 'to', 'sufferance', 'bide', 'each', 'check'],\n",
              " ['without', 'accusing', 'you', 'of', 'injury'],\n",
              " ['be', 'where', 'you', 'list', 'your', 'charter', 'is', 'so', 'strong'],\n",
              " ['that', 'you', 'your', 'self', 'may', 'privilage', 'your', 'time'],\n",
              " ['to', 'what', 'you', 'will', 'to', 'you', 'it', 'doth', 'belong'],\n",
              " ['your', 'self', 'to', 'pardon', 'of', 'self', 'doing', 'crime'],\n",
              " ['am', 'to', 'wait', 'though', 'waiting', 'so', 'be', 'hell'],\n",
              " ['not', 'blame', 'your', 'pleasure', 'be', 'it', 'ill', 'or', 'well'],\n",
              " [],\n",
              " [],\n",
              " [],\n",
              " ['if', 'there', 'be', 'nothing', 'new', 'but', 'that', 'which', 'is'],\n",
              " ['hath', 'been', 'before', 'how', 'are', 'our', 'brains', 'beguiled'],\n",
              " ['which', 'labouring', 'for', 'invention', 'bear', 'amis'],\n",
              " ['the', 'second', 'burthen', 'of', 'former', 'child'],\n",
              " ['that', 'record', 'could', 'with', 'backward', 'look'],\n",
              " ...]"
            ]
          },
          "metadata": {},
          "execution_count": 6
        }
      ]
    },
    {
      "cell_type": "markdown",
      "metadata": {
        "id": "ZnDX2S9eX1Ub"
      },
      "source": [
        "Now let's train the word2vec model using our `document` variable (which is a list of word lists). Note that you can specify a number of hyperparameters below:\n",
        "* `min_count` removes all words that occur less then `min_count`.\n",
        "* `window`: window size in the skip-gram.\n",
        "* `workers`: how many threads to use when building the model.\n",
        "* `size`: number of dimension of your new word embedding vector (typically 100-200). Smaller datasets require a smaller number.\n",
        "\n"
      ]
    },
    {
      "cell_type": "code",
      "metadata": {
        "id": "VJWmrzCRZm9Z",
        "colab": {
          "base_uri": "https://localhost:8080/"
        },
        "outputId": "0107d8fb-7370-4112-f7b1-3be5507df218"
      },
      "source": [
        "model = gensim.models.Word2Vec (documents, vector_size=150, window=5, min_count=2, workers=4)\n",
        "model.train(documents,total_examples=len(documents),epochs=10)"
      ],
      "execution_count": 7,
      "outputs": [
        {
          "output_type": "stream",
          "name": "stderr",
          "text": [
            "WARNING:gensim.models.word2vec:Effective 'alpha' higher than previous training cycles\n"
          ]
        },
        {
          "output_type": "execute_result",
          "data": {
            "text/plain": [
              "(6705594, 8675160)"
            ]
          },
          "metadata": {},
          "execution_count": 7
        }
      ]
    },
    {
      "cell_type": "markdown",
      "metadata": {
        "id": "0hKwagKCYpJ7"
      },
      "source": [
        "That's it! Now you've trained the model!\n",
        "\n",
        "Now let's explore some properties of our new word space. You can get the words most close (read:  most similar) to a given word. Remember, the only texts the model has seen are from shakespeare!\n",
        "\n",
        "Which word is most similar to king? (closest distance)?"
      ]
    },
    {
      "cell_type": "code",
      "metadata": {
        "id": "MTGeHhiaZzIU",
        "colab": {
          "base_uri": "https://localhost:8080/"
        },
        "outputId": "9f99ebd4-b437-4859-baf4-e17a16b2fd77"
      },
      "source": [
        "w1 = \"king\"\n",
        "model.wv.most_similar (positive=w1)"
      ],
      "execution_count": 8,
      "outputs": [
        {
          "output_type": "execute_result",
          "data": {
            "text/plain": [
              "[('prince', 0.6159543395042419),\n",
              " ('plantagenets', 0.5616725087165833),\n",
              " ('fifth', 0.5469066500663757),\n",
              " ('duke', 0.5377221703529358),\n",
              " ('sixth', 0.5323994159698486),\n",
              " ('warwick', 0.528756856918335),\n",
              " ('bolingbroke', 0.5284467935562134),\n",
              " ('ghost', 0.5111011266708374),\n",
              " ('crown', 0.5104619264602661),\n",
              " ('gaunt', 0.5073278546333313)]"
            ]
          },
          "metadata": {},
          "execution_count": 8
        }
      ]
    },
    {
      "cell_type": "markdown",
      "metadata": {
        "id": "Cs9KVFfLj5qD"
      },
      "source": [
        "## Exercises (checkoff part 1)"
      ]
    },
    {
      "cell_type": "markdown",
      "metadata": {
        "id": "SVoli_oGO1IH"
      },
      "source": [
        "Look up the top 6 words similar to 'smile', you can use the parameter: `topn=6`\n"
      ]
    },
    {
      "cell_type": "code",
      "metadata": {
        "id": "GuJhHUOve1km",
        "colab": {
          "base_uri": "https://localhost:8080/"
        },
        "outputId": "517337de-5693-4008-8cdd-2cbf458fc866"
      },
      "source": [
        "# look up top 6 words similar to 'smile'\n",
        "w2 = \"smile\"\n",
        "model.wv.most_similar (positive=w2, topn=6)"
      ],
      "execution_count": 9,
      "outputs": [
        {
          "output_type": "execute_result",
          "data": {
            "text/plain": [
              "[('laugh', 0.7472516298294067),\n",
              " ('tremble', 0.7126231789588928),\n",
              " ('grieve', 0.6883397102355957),\n",
              " ('weep', 0.6800337433815002),\n",
              " ('blush', 0.6715364456176758),\n",
              " ('shine', 0.6710556149482727)]"
            ]
          },
          "metadata": {},
          "execution_count": 9
        }
      ]
    },
    {
      "cell_type": "markdown",
      "metadata": {
        "id": "q-BgrAgWO6AN"
      },
      "source": [
        "Look up the top 6 words similar to 'france':"
      ]
    },
    {
      "cell_type": "code",
      "metadata": {
        "id": "iZu3GGf9e41V",
        "colab": {
          "base_uri": "https://localhost:8080/"
        },
        "outputId": "ce7f34f3-452e-40e9-ed82-2e44f8d976f6"
      },
      "source": [
        "# look up top 6 words similar to 'france'\n",
        "w3 = \"france\"\n",
        "model.wv.most_similar (positive=w3, topn=6)"
      ],
      "execution_count": 10,
      "outputs": [
        {
          "output_type": "execute_result",
          "data": {
            "text/plain": [
              "[('england', 0.6680614948272705),\n",
              " ('ireland', 0.5759122967720032),\n",
              " ('princess', 0.5629796981811523),\n",
              " ('wales', 0.5559646487236023),\n",
              " ('orleans', 0.5402554869651794),\n",
              " ('egypt', 0.5311649441719055)]"
            ]
          },
          "metadata": {},
          "execution_count": 10
        }
      ]
    },
    {
      "cell_type": "markdown",
      "metadata": {
        "id": "eR-jfIXQO88G"
      },
      "source": [
        "Look up the top 6 words similar to 'sword':"
      ]
    },
    {
      "cell_type": "code",
      "metadata": {
        "id": "VlDIzGHZe9yN",
        "colab": {
          "base_uri": "https://localhost:8080/"
        },
        "outputId": "b4732eb7-0ad0-466b-ee89-98f0b9be2361"
      },
      "source": [
        "# look up top 6 words similar to 'sword'\n",
        "w4 = \"sword\"\n",
        "model.wv.most_similar (positive=w4, topn=6)"
      ],
      "execution_count": 11,
      "outputs": [
        {
          "output_type": "execute_result",
          "data": {
            "text/plain": [
              "[('head', 0.7283440232276917),\n",
              " ('knife', 0.7151044011116028),\n",
              " ('weapon', 0.706588089466095),\n",
              " ('throat', 0.6795842051506042),\n",
              " ('neck', 0.6757146120071411),\n",
              " ('pocket', 0.6670281291007996)]"
            ]
          },
          "metadata": {},
          "execution_count": 11
        }
      ]
    },
    {
      "cell_type": "markdown",
      "metadata": {
        "id": "0SOhoEAwPA93"
      },
      "source": [
        "Get everything related to royalty and not to 'farmer', you can use the parameter `negative`"
      ]
    },
    {
      "cell_type": "code",
      "metadata": {
        "id": "wvKKzFHbfAnr",
        "colab": {
          "base_uri": "https://localhost:8080/"
        },
        "outputId": "599cc5b5-458c-47d6-e57b-2c25a627c496"
      },
      "source": [
        "w1 = [\"king\",'queen','prince']\n",
        "w2 = ['farmer']\n",
        "#TODO\n",
        "model.wv.most_similar (positive=w1, negative=w2)"
      ],
      "execution_count": 12,
      "outputs": [
        {
          "output_type": "execute_result",
          "data": {
            "text/plain": [
              "[('princess', 0.6226895451545715),\n",
              " ('duke', 0.5930450558662415),\n",
              " ('warwick', 0.5711979866027832),\n",
              " ('bolingbroke', 0.5364015698432922),\n",
              " ('ghost', 0.5307941436767578),\n",
              " ('emperor', 0.5305323600769043),\n",
              " ('duchess', 0.5295979380607605),\n",
              " ('cause', 0.5272501707077026),\n",
              " ('comfort', 0.49475759267807007),\n",
              " ('uncle', 0.4823751449584961)]"
            ]
          },
          "metadata": {},
          "execution_count": 12
        }
      ]
    },
    {
      "cell_type": "markdown",
      "metadata": {
        "id": "TkQZ1KkiYpK_"
      },
      "source": [
        "Explore the similarity (e.g. distance) between two words. Does the result make sense to you?"
      ]
    },
    {
      "cell_type": "code",
      "metadata": {
        "id": "3nFv31TxfBMX",
        "colab": {
          "base_uri": "https://localhost:8080/"
        },
        "outputId": "d1c2e522-790e-45f0-cad3-3c4b32e4e56d"
      },
      "source": [
        "# similarity between two similar words\n",
        "model.wv.similarity(w1=\"pretty\",w2=\"beautiful\")"
      ],
      "execution_count": 13,
      "outputs": [
        {
          "output_type": "execute_result",
          "data": {
            "text/plain": [
              "0.55501175"
            ]
          },
          "metadata": {},
          "execution_count": 13
        }
      ]
    },
    {
      "cell_type": "code",
      "metadata": {
        "id": "0PXLoSftYpLO",
        "colab": {
          "base_uri": "https://localhost:8080/"
        },
        "outputId": "54d39ecd-0eac-4977-9ab9-c3339f9fe00c"
      },
      "source": [
        "# similarity between two opposing words: king and farmer. Does it make sense?\n",
        "model.wv.similarity(w1=\"king\",w2=\"farmer\")"
      ],
      "execution_count": 21,
      "outputs": [
        {
          "output_type": "execute_result",
          "data": {
            "text/plain": [
              "-0.0066786865"
            ]
          },
          "metadata": {},
          "execution_count": 21
        }
      ]
    },
    {
      "cell_type": "markdown",
      "metadata": {
        "id": "hpftKgByYpLT"
      },
      "source": [
        "Try some other combinations :)"
      ]
    },
    {
      "cell_type": "code",
      "source": [
        "model.wv.similarity(w1=\"strong\",w2=\"beautiful\")"
      ],
      "metadata": {
        "colab": {
          "base_uri": "https://localhost:8080/"
        },
        "id": "Z_snXOOZILZf",
        "outputId": "77f88233-6139-4333-b3f3-d15bb090b09e"
      },
      "execution_count": 15,
      "outputs": [
        {
          "output_type": "execute_result",
          "data": {
            "text/plain": [
              "0.31755605"
            ]
          },
          "metadata": {},
          "execution_count": 15
        }
      ]
    },
    {
      "cell_type": "code",
      "source": [
        "model.wv.similarity(w1=\"prince\",w2=\"duchess\")"
      ],
      "metadata": {
        "colab": {
          "base_uri": "https://localhost:8080/"
        },
        "id": "GN6ioUglIPqN",
        "outputId": "2509202e-59fc-4586-8f46-8527bff4636a"
      },
      "execution_count": 16,
      "outputs": [
        {
          "output_type": "execute_result",
          "data": {
            "text/plain": [
              "0.6004799"
            ]
          },
          "metadata": {},
          "execution_count": 16
        }
      ]
    },
    {
      "cell_type": "code",
      "source": [
        "model.wv.similarity(w1=\"poor\",w2=\"happy\")"
      ],
      "metadata": {
        "colab": {
          "base_uri": "https://localhost:8080/"
        },
        "id": "udqcvidKIT5I",
        "outputId": "b10d4a9d-e242-4b13-c8d9-b4110a62dd21"
      },
      "execution_count": 17,
      "outputs": [
        {
          "output_type": "execute_result",
          "data": {
            "text/plain": [
              "0.27408573"
            ]
          },
          "metadata": {},
          "execution_count": 17
        }
      ]
    },
    {
      "cell_type": "code",
      "source": [
        "model.wv.similarity(w1=\"frog\",w2=\"princess\")"
      ],
      "metadata": {
        "colab": {
          "base_uri": "https://localhost:8080/"
        },
        "id": "mwrbDb06IXCg",
        "outputId": "95ca8c03-dc60-453d-fc8f-fcd6179d0f53"
      },
      "execution_count": 18,
      "outputs": [
        {
          "output_type": "execute_result",
          "data": {
            "text/plain": [
              "0.16121589"
            ]
          },
          "metadata": {},
          "execution_count": 18
        }
      ]
    },
    {
      "cell_type": "code",
      "source": [
        "model.wv.similarity(w1=\"king\",w2=\"peasant\")"
      ],
      "metadata": {
        "colab": {
          "base_uri": "https://localhost:8080/"
        },
        "id": "Vr5x-mP7IaFH",
        "outputId": "78b165a2-bb1c-4adc-909f-f0df2d1430be"
      },
      "execution_count": 20,
      "outputs": [
        {
          "output_type": "execute_result",
          "data": {
            "text/plain": [
              "0.18980089"
            ]
          },
          "metadata": {},
          "execution_count": 20
        }
      ]
    },
    {
      "cell_type": "markdown",
      "metadata": {
        "id": "Nw7Aabx4YpLU"
      },
      "source": [
        "We can even use it to perform more 'smart'/ IQ test type assigments. Which word in this list does not belong?"
      ]
    },
    {
      "cell_type": "code",
      "metadata": {
        "id": "8eO7ra-efKYq",
        "colab": {
          "base_uri": "https://localhost:8080/",
          "height": 35
        },
        "outputId": "b3fec4da-8099-4e63-9e53-80675a96d288"
      },
      "source": [
        "# Which one is the odd one out in this list?\n",
        "model.wv.doesnt_match([\"cat\",\"dog\",\"france\"])"
      ],
      "execution_count": 22,
      "outputs": [
        {
          "output_type": "execute_result",
          "data": {
            "text/plain": [
              "'france'"
            ],
            "application/vnd.google.colaboratory.intrinsic+json": {
              "type": "string"
            }
          },
          "metadata": {},
          "execution_count": 22
        }
      ]
    },
    {
      "cell_type": "markdown",
      "metadata": {
        "id": "ll3RsRN2YpL3"
      },
      "source": [
        "If you are interested in plotting the words in a multidimensional space, you can actually get the vector coordinates (word embeddings) of each word:"
      ]
    },
    {
      "cell_type": "code",
      "metadata": {
        "id": "rEOzUfKcYpL4",
        "colab": {
          "base_uri": "https://localhost:8080/"
        },
        "outputId": "a90dcbfd-4a02-4001-e1f0-51158dfbf7c8"
      },
      "source": [
        "model.wv['france']"
      ],
      "execution_count": 23,
      "outputs": [
        {
          "output_type": "execute_result",
          "data": {
            "text/plain": [
              "array([ 5.93266547e-01,  3.48175168e-01, -1.90583482e-01,  9.73541856e-01,\n",
              "       -1.04941535e+00,  5.16297996e-01,  1.25925556e-01,  1.49047160e+00,\n",
              "        6.30357087e-01, -4.38310683e-01,  4.90958482e-01,  5.65458894e-01,\n",
              "       -8.33802462e-01,  9.82362330e-02,  4.35711354e-01, -5.77855825e-01,\n",
              "        2.23743945e-01, -3.58529180e-01,  1.34251738e+00, -1.33264184e-01,\n",
              "       -1.26481843e+00, -5.18573046e-01,  6.78359330e-01, -4.70066965e-01,\n",
              "        1.09818554e+00, -6.42336607e-01, -4.19602901e-01, -1.01654589e+00,\n",
              "        6.10465944e-01,  1.13108134e+00, -4.51506048e-01, -6.50596559e-01,\n",
              "        1.22757268e+00,  4.85509694e-01,  4.66255397e-01,  7.44316280e-01,\n",
              "        6.26878560e-01, -9.47841942e-01,  1.86965239e+00,  4.46479201e-01,\n",
              "        1.72829702e-01, -6.91439509e-01,  1.05445765e-01, -1.07568586e+00,\n",
              "        7.32371092e-01, -2.78338850e-01, -7.58233964e-01,  5.00101805e-01,\n",
              "        6.58909142e-01,  1.25087059e+00, -1.84575343e+00,  3.04642379e-01,\n",
              "       -1.44311622e-01,  1.10624468e+00,  8.22005570e-01, -2.81762749e-01,\n",
              "        1.91180691e-01,  5.04947543e-01, -1.07571518e+00, -1.06581971e-01,\n",
              "        4.35595542e-01, -1.98393121e-01,  1.82811111e-01,  3.64373237e-01,\n",
              "        8.16014767e-01, -3.14766914e-01,  9.95856524e-02, -3.20542008e-01,\n",
              "        1.18084168e+00,  5.90451539e-01, -1.35748088e+00,  9.99936238e-02,\n",
              "        4.50489193e-01, -1.34786773e+00, -2.82266319e-01,  1.07494714e-02,\n",
              "       -7.10002720e-01,  2.90290236e-01,  2.62689412e-01,  4.10076320e-01,\n",
              "       -1.47533506e-01,  1.07135737e+00, -9.04562995e-02, -6.75978065e-02,\n",
              "        9.10554528e-01,  6.65298223e-01, -2.00878000e+00, -1.11476374e+00,\n",
              "       -5.51490188e-01, -4.16587144e-01,  7.74052620e-01, -7.47543633e-01,\n",
              "       -8.33496749e-01, -8.58892500e-01,  6.21515453e-01, -2.70813376e-01,\n",
              "        4.17819530e-01, -1.66747999e+00, -1.88341248e+00,  5.68517148e-01,\n",
              "       -8.23976398e-02, -1.87784910e-01,  2.80402839e-01,  3.13406944e-01,\n",
              "        2.82350302e-01,  3.24478239e-01,  7.98484385e-02, -6.72275305e-01,\n",
              "       -1.30381036e+00, -1.95092514e-01, -2.06553236e-01,  1.98908839e-02,\n",
              "        1.27286124e+00,  7.05036461e-01,  2.70800740e-01,  1.28383681e-01,\n",
              "       -4.12970155e-01, -8.02018940e-01, -2.02347726e-01,  1.69973969e+00,\n",
              "       -8.86620641e-01, -9.00801539e-01,  1.24496973e+00, -4.45086747e-01,\n",
              "        6.64369762e-01, -1.56103671e+00, -2.43170351e-01, -1.45974338e-01,\n",
              "       -7.01876521e-01,  3.35411727e-01, -1.03205240e+00, -1.42962992e-01,\n",
              "       -8.39148581e-01, -8.07397127e-01, -3.76849264e-01, -5.47243178e-01,\n",
              "       -5.14192700e-01, -1.59325893e-03,  1.21650541e+00,  5.02643049e-01,\n",
              "       -7.42156267e-01,  7.84746468e-01,  1.34826148e+00,  2.11119696e-01,\n",
              "       -8.61190379e-01,  1.81233215e+00,  1.17645778e-01,  1.04230249e+00,\n",
              "       -1.08064902e+00, -1.44840285e-01], dtype=float32)"
            ]
          },
          "metadata": {},
          "execution_count": 23
        }
      ]
    },
    {
      "cell_type": "markdown",
      "metadata": {
        "id": "1_U5DgEPYpMI"
      },
      "source": [
        "## Visualising our trained word2vec model using t-SNE:\n",
        "\n",
        "Below we visualise the first 100 words of our vocabulary in a 2D t-SNE projection."
      ]
    },
    {
      "cell_type": "code",
      "metadata": {
        "id": "0g6g7s-MYpMK",
        "colab": {
          "base_uri": "https://localhost:8080/",
          "height": 1000
        },
        "outputId": "b0e6771d-d74f-43ee-e295-8ca32b9f7fd6"
      },
      "source": [
        "from sklearn.manifold import TSNE\n",
        "import matplotlib.pyplot as plt\n",
        "import numpy as np\n",
        "%matplotlib inline\n",
        "\n",
        "def tsne_plot(model):\n",
        "    \"Creates and TSNE model and plots it\"\n",
        "\n",
        "#     fyi: to test specific labels instead of all the words in the vocab:\n",
        "    # labels = ['king', 'queen', 'prince', 'farmer', 'blue', 'red']\n",
        "    # tokens = []\n",
        "    # for label in labels:\n",
        "    #     tokens.append(model.wv[label])\n",
        "\n",
        "    labels = []\n",
        "    tokens = []\n",
        "\n",
        "\n",
        "    # to speed up the process, let's limit to the first 100 elements\n",
        "    count = 0\n",
        "    for word in list(model.wv.index_to_key):\n",
        "        if count < 100:\n",
        "            # store the word embeddings of the words\n",
        "            tokens.append(model.wv[word])\n",
        "            # keep track of the labels too so that we can plot it in the graph below\n",
        "            labels.append(word)\n",
        "            count = count+1\n",
        "    tokens = np.array(tokens)\n",
        "    # define the parameters of the tsne model\n",
        "    tsne_model = TSNE(perplexity=40, n_components=2, init='pca', n_iter=2500, random_state=23)\n",
        "\n",
        "    # for the embeddings of our tokes to the tsne model\n",
        "    new_values = tsne_model.fit_transform(tokens)\n",
        "\n",
        "\n",
        "    # Now let's plot the tsne projects for each of the tokens in 2D\n",
        "    x = []\n",
        "    y = []\n",
        "    for value in new_values:\n",
        "        x.append(value[0])\n",
        "        y.append(value[1])\n",
        "\n",
        "    plt.figure(figsize=(16, 16))\n",
        "    for i in range(len(x)):\n",
        "        plt.scatter(x[i],y[i])\n",
        "        plt.annotate(labels[i],\n",
        "                     xy=(x[i], y[i]),\n",
        "                     xytext=(5, 2),\n",
        "                     textcoords='offset points',\n",
        "                     ha='right',\n",
        "                     va='bottom')\n",
        "    plt.show()\n",
        "\n",
        "tsne_plot(model)"
      ],
      "execution_count": 28,
      "outputs": [
        {
          "output_type": "display_data",
          "data": {
            "text/plain": [
              "<Figure size 1600x1600 with 1 Axes>"
            ],
            "image/png": "[encoded data removed]"
          },
          "metadata": {}
        }
      ]
    },
    {
      "cell_type": "markdown",
      "metadata": {
        "id": "UsRf6k4wYpMd"
      },
      "source": [
        "## References\n",
        "\n",
        "* https://radimrehurek.com/gensim/models/word2vec.html\n",
        "* https://towardsdatascience.com/multi-class-text-classification-model-comparison-and-selection-5eb066197568\n",
        "* https://github.com/kavgan/nlp-text-mining-working-examples/tree/master/word2vec\n",
        "* https://medium.com/@mishra.thedeepak/doc2vec-simple-implementation-example-df2afbbfbad5"
      ]
    }
  ]
}