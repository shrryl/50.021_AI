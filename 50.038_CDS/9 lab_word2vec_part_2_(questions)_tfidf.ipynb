{
  "cells": [
    {
      "cell_type": "markdown",
      "metadata": {
        "id": "HAA2XCLSQInJ"
      },
      "source": [
        "## Classification with word2vec\n",
        "\n",
        "-- Prof. Dorien Herremans\n",
        "\n",
        "In this second part of the lab, we will be tackling a classification problem by first loading word embeddings and feeding those in a simple classifier. We compare this to naive alternative approaches.\n",
        "\n",
        "During this tutorial, you will need some of the following libraries, let's install them first if you don't have them:"
      ]
    },
    {
      "cell_type": "code",
      "execution_count": 1,
      "metadata": {
        "id": "O0AHw5vB1yOT",
        "colab": {
          "base_uri": "https://localhost:8080/"
        },
        "outputId": "4147db07-f310-4272-82d2-b5270f7da0fd"
      },
      "outputs": [
        {
          "output_type": "stream",
          "name": "stdout",
          "text": [
            "Collecting bs4\n",
            "  Downloading bs4-0.0.2-py2.py3-none-any.whl (1.2 kB)\n",
            "Requirement already satisfied: beautifulsoup4 in /usr/local/lib/python3.10/dist-packages (from bs4) (4.12.3)\n",
            "Requirement already satisfied: soupsieve>1.2 in /usr/local/lib/python3.10/dist-packages (from beautifulsoup4->bs4) (2.5)\n",
            "Installing collected packages: bs4\n",
            "Successfully installed bs4-0.0.2\n",
            "Collecting sklearn\n",
            "  Downloading sklearn-0.0.post12.tar.gz (2.6 kB)\n",
            "  \u001b[1;31merror\u001b[0m: \u001b[1msubprocess-exited-with-error\u001b[0m\n",
            "  \n",
            "  \u001b[31m×\u001b[0m \u001b[32mpython setup.py egg_info\u001b[0m did not run successfully.\n",
            "  \u001b[31m│\u001b[0m exit code: \u001b[1;36m1\u001b[0m\n",
            "  \u001b[31m╰─>\u001b[0m See above for output.\n",
            "  \n",
            "  \u001b[1;35mnote\u001b[0m: This error originates from a subprocess, and is likely not a problem with pip.\n",
            "  Preparing metadata (setup.py) ... \u001b[?25l\u001b[?25herror\n",
            "\u001b[1;31merror\u001b[0m: \u001b[1mmetadata-generation-failed\u001b[0m\n",
            "\n",
            "\u001b[31m×\u001b[0m Encountered error while generating package metadata.\n",
            "\u001b[31m╰─>\u001b[0m See above for output.\n",
            "\n",
            "\u001b[1;35mnote\u001b[0m: This is an issue with the package mentioned above, not pip.\n",
            "\u001b[1;36mhint\u001b[0m: See above for details.\n",
            "Requirement already satisfied: nltk in /usr/local/lib/python3.10/dist-packages (3.8.1)\n",
            "Requirement already satisfied: click in /usr/local/lib/python3.10/dist-packages (from nltk) (8.1.7)\n",
            "Requirement already satisfied: joblib in /usr/local/lib/python3.10/dist-packages (from nltk) (1.3.2)\n",
            "Requirement already satisfied: regex>=2021.8.3 in /usr/local/lib/python3.10/dist-packages (from nltk) (2023.12.25)\n",
            "Requirement already satisfied: tqdm in /usr/local/lib/python3.10/dist-packages (from nltk) (4.66.2)\n",
            "Requirement already satisfied: gensim in /usr/local/lib/python3.10/dist-packages (4.3.2)\n",
            "Requirement already satisfied: numpy>=1.18.5 in /usr/local/lib/python3.10/dist-packages (from gensim) (1.25.2)\n",
            "Requirement already satisfied: scipy>=1.7.0 in /usr/local/lib/python3.10/dist-packages (from gensim) (1.11.4)\n",
            "Requirement already satisfied: smart-open>=1.8.1 in /usr/local/lib/python3.10/dist-packages (from gensim) (6.4.0)\n",
            "Requirement already satisfied: lxml in /usr/local/lib/python3.10/dist-packages (4.9.4)\n"
          ]
        }
      ],
      "source": [
        "# Use this to install libraries if you find them missing on your system:\n",
        "!pip install bs4\n",
        "!pip install sklearn\n",
        "!pip install nltk\n",
        "!pip install gensim\n",
        "!pip install lxml"
      ]
    },
    {
      "cell_type": "markdown",
      "metadata": {
        "id": "L2yp5xfI15HJ"
      },
      "source": [
        "Now we can import some libraries that we will use:"
      ]
    },
    {
      "cell_type": "code",
      "execution_count": 2,
      "metadata": {
        "id": "aCtMQEnRQjhV"
      },
      "outputs": [],
      "source": [
        "import logging\n",
        "import pandas as pd\n",
        "import numpy as np\n",
        "from numpy import random\n",
        "import gensim\n",
        "import nltk\n",
        "import lxml\n",
        "from sklearn.model_selection import train_test_split\n",
        "from sklearn.feature_extraction.text import CountVectorizer, TfidfVectorizer\n",
        "from sklearn.metrics import accuracy_score, confusion_matrix, classification_report\n",
        "import matplotlib.pyplot as plt\n",
        "\n",
        "%matplotlib inline"
      ]
    },
    {
      "cell_type": "markdown",
      "metadata": {
        "id": "368EVM3_QInK"
      },
      "source": [
        "### TFIDF with logistic regression\n",
        "\n",
        "#### Preparing the dataset\n",
        "\n",
        "The classification problem at hand is to predict the tag that belongs to a Stack Overflow post. By the way, if you are not familiar with Stack Overflow, do check it out, it is a tremendous help when facing any coding issues. The data from Google BigQuery is available at the github below. If the link does not work you may have to download it manually from github then upload to Colab:\n",
        "\n",
        "https://github.com/dorienh/class_materials/blob/main/datasets/stack-overflow-data.csv\n",
        "\n",
        " We can read it directly into a pandas dataframe.\n"
      ]
    },
    {
      "cell_type": "code",
      "execution_count": 3,
      "metadata": {
        "id": "dBLM0vEjyarI"
      },
      "outputs": [],
      "source": [
        "url = \"https://github.com/dorienh/class_materials/blob/main/datasets/stack-overflow-data.csv?raw=true\"\n",
        "\n",
        "df = pd.read_csv(url, encoding = 'latin-1')"
      ]
    },
    {
      "cell_type": "markdown",
      "metadata": {
        "id": "JMzTr6hCQInM"
      },
      "source": [
        "Let's start by having a look at our data:"
      ]
    },
    {
      "cell_type": "code",
      "execution_count": 4,
      "metadata": {
        "id": "3758TYmIQInQ",
        "colab": {
          "base_uri": "https://localhost:8080/",
          "height": 359
        },
        "outputId": "e6b5293b-2f32-42b6-920c-f4c4d28b15f2"
      },
      "outputs": [
        {
          "output_type": "execute_result",
          "data": {
            "text/plain": [
              "                                                post           tags\n",
              "0  what is causing this behavior  in our c# datet...             c#\n",
              "1  have dynamic html load as if it was in an ifra...        asp.net\n",
              "2  how to convert a float value in to min:sec  i ...    objective-c\n",
              "3  .net framework 4 redistributable  just wonderi...           .net\n",
              "4  trying to calculate and print the mean and its...         python\n",
              "5  how to give alias name for my website  i have ...        asp.net\n",
              "6  window.open() returns null in angularjs  it wo...      angularjs\n",
              "7  identifying server timeout quickly in iphone  ...         iphone\n",
              "8  unknown method key  error in rails 2.3.8 unit ...  ruby-on-rails\n",
              "9  from the include  how to show and hide the con...      angularjs"
            ],
            "text/html": [
              "\n",
              "  <div id=\"df-c3dcacce-73b5-4732-a427-b34ed62a990d\" class=\"colab-df-container\">\n",
              "    <div>\n",
              "<style scoped>\n",
              "    .dataframe tbody tr th:only-of-type {\n",
              "        vertical-align: middle;\n",
              "    }\n",
              "\n",
              "    .dataframe tbody tr th {\n",
              "        vertical-align: top;\n",
              "    }\n",
              "\n",
              "    .dataframe thead th {\n",
              "        text-align: right;\n",
              "    }\n",
              "</style>\n",
              "<table border=\"1\" class=\"dataframe\">\n",
              "  <thead>\n",
              "    <tr style=\"text-align: right;\">\n",
              "      <th></th>\n",
              "      <th>post</th>\n",
              "      <th>tags</th>\n",
              "    </tr>\n",
              "  </thead>\n",
              "  <tbody>\n",
              "    <tr>\n",
              "      <th>0</th>\n",
              "      <td>what is causing this behavior  in our c# datet...</td>\n",
              "      <td>c#</td>\n",
              "    </tr>\n",
              "    <tr>\n",
              "      <th>1</th>\n",
              "      <td>have dynamic html load as if it was in an ifra...</td>\n",
              "      <td>asp.net</td>\n",
              "    </tr>\n",
              "    <tr>\n",
              "      <th>2</th>\n",
              "      <td>how to convert a float value in to min:sec  i ...</td>\n",
              "      <td>objective-c</td>\n",
              "    </tr>\n",
              "    <tr>\n",
              "      <th>3</th>\n",
              "      <td>.net framework 4 redistributable  just wonderi...</td>\n",
              "      <td>.net</td>\n",
              "    </tr>\n",
              "    <tr>\n",
              "      <th>4</th>\n",
              "      <td>trying to calculate and print the mean and its...</td>\n",
              "      <td>python</td>\n",
              "    </tr>\n",
              "    <tr>\n",
              "      <th>5</th>\n",
              "      <td>how to give alias name for my website  i have ...</td>\n",
              "      <td>asp.net</td>\n",
              "    </tr>\n",
              "    <tr>\n",
              "      <th>6</th>\n",
              "      <td>window.open() returns null in angularjs  it wo...</td>\n",
              "      <td>angularjs</td>\n",
              "    </tr>\n",
              "    <tr>\n",
              "      <th>7</th>\n",
              "      <td>identifying server timeout quickly in iphone  ...</td>\n",
              "      <td>iphone</td>\n",
              "    </tr>\n",
              "    <tr>\n",
              "      <th>8</th>\n",
              "      <td>unknown method key  error in rails 2.3.8 unit ...</td>\n",
              "      <td>ruby-on-rails</td>\n",
              "    </tr>\n",
              "    <tr>\n",
              "      <th>9</th>\n",
              "      <td>from the include  how to show and hide the con...</td>\n",
              "      <td>angularjs</td>\n",
              "    </tr>\n",
              "  </tbody>\n",
              "</table>\n",
              "</div>\n",
              "    <div class=\"colab-df-buttons\">\n",
              "\n",
              "  <div class=\"colab-df-container\">\n",
              "    <button class=\"colab-df-convert\" onclick=\"convertToInteractive('df-c3dcacce-73b5-4732-a427-b34ed62a990d')\"\n",
              "            title=\"Convert this dataframe to an interactive table.\"\n",
              "            style=\"display:none;\">\n",
              "\n",
              "  <svg xmlns=\"http://www.w3.org/2000/svg\" height=\"24px\" viewBox=\"0 -960 960 960\">\n",
              "    <path d=\"M120-120v-720h720v720H120Zm60-500h600v-160H180v160Zm220 220h160v-160H400v160Zm0 220h160v-160H400v160ZM180-400h160v-160H180v160Zm440 0h160v-160H620v160ZM180-180h160v-160H180v160Zm440 0h160v-160H620v160Z\"/>\n",
              "  </svg>\n",
              "    </button>\n",
              "\n",
              "  <style>\n",
              "    .colab-df-container {\n",
              "      display:flex;\n",
              "      gap: 12px;\n",
              "    }\n",
              "\n",
              "    .colab-df-convert {\n",
              "      background-color: #E8F0FE;\n",
              "      border: none;\n",
              "      border-radius: 50%;\n",
              "      cursor: pointer;\n",
              "      display: none;\n",
              "      fill: #1967D2;\n",
              "      height: 32px;\n",
              "      padding: 0 0 0 0;\n",
              "      width: 32px;\n",
              "    }\n",
              "\n",
              "    .colab-df-convert:hover {\n",
              "      background-color: #E2EBFA;\n",
              "      box-shadow: 0px 1px 2px rgba(60, 64, 67, 0.3), 0px 1px 3px 1px rgba(60, 64, 67, 0.15);\n",
              "      fill: #174EA6;\n",
              "    }\n",
              "\n",
              "    .colab-df-buttons div {\n",
              "      margin-bottom: 4px;\n",
              "    }\n",
              "\n",
              "    [theme=dark] .colab-df-convert {\n",
              "      background-color: #3B4455;\n",
              "      fill: #D2E3FC;\n",
              "    }\n",
              "\n",
              "    [theme=dark] .colab-df-convert:hover {\n",
              "      background-color: #434B5C;\n",
              "      box-shadow: 0px 1px 3px 1px rgba(0, 0, 0, 0.15);\n",
              "      filter: drop-shadow(0px 1px 2px rgba(0, 0, 0, 0.3));\n",
              "      fill: #FFFFFF;\n",
              "    }\n",
              "  </style>\n",
              "\n",
              "    <script>\n",
              "      const buttonEl =\n",
              "        document.querySelector('#df-c3dcacce-73b5-4732-a427-b34ed62a990d button.colab-df-convert');\n",
              "      buttonEl.style.display =\n",
              "        google.colab.kernel.accessAllowed ? 'block' : 'none';\n",
              "\n",
              "      async function convertToInteractive(key) {\n",
              "        const element = document.querySelector('#df-c3dcacce-73b5-4732-a427-b34ed62a990d');\n",
              "        const dataTable =\n",
              "          await google.colab.kernel.invokeFunction('convertToInteractive',\n",
              "                                                    [key], {});\n",
              "        if (!dataTable) return;\n",
              "\n",
              "        const docLinkHtml = 'Like what you see? Visit the ' +\n",
              "          '<a target=\"_blank\" href=https://colab.research.google.com/notebooks/data_table.ipynb>data table notebook</a>'\n",
              "          + ' to learn more about interactive tables.';\n",
              "        element.innerHTML = '';\n",
              "        dataTable['output_type'] = 'display_data';\n",
              "        await google.colab.output.renderOutput(dataTable, element);\n",
              "        const docLink = document.createElement('div');\n",
              "        docLink.innerHTML = docLinkHtml;\n",
              "        element.appendChild(docLink);\n",
              "      }\n",
              "    </script>\n",
              "  </div>\n",
              "\n",
              "\n",
              "<div id=\"df-f0bdad47-8bf1-439b-9059-fd1398879e87\">\n",
              "  <button class=\"colab-df-quickchart\" onclick=\"quickchart('df-f0bdad47-8bf1-439b-9059-fd1398879e87')\"\n",
              "            title=\"Suggest charts\"\n",
              "            style=\"display:none;\">\n",
              "\n",
              "<svg xmlns=\"http://www.w3.org/2000/svg\" height=\"24px\"viewBox=\"0 0 24 24\"\n",
              "     width=\"24px\">\n",
              "    <g>\n",
              "        <path d=\"M19 3H5c-1.1 0-2 .9-2 2v14c0 1.1.9 2 2 2h14c1.1 0 2-.9 2-2V5c0-1.1-.9-2-2-2zM9 17H7v-7h2v7zm4 0h-2V7h2v10zm4 0h-2v-4h2v4z\"/>\n",
              "    </g>\n",
              "</svg>\n",
              "  </button>\n",
              "\n",
              "<style>\n",
              "  .colab-df-quickchart {\n",
              "      --bg-color: #E8F0FE;\n",
              "      --fill-color: #1967D2;\n",
              "      --hover-bg-color: #E2EBFA;\n",
              "      --hover-fill-color: #174EA6;\n",
              "      --disabled-fill-color: #AAA;\n",
              "      --disabled-bg-color: #DDD;\n",
              "  }\n",
              "\n",
              "  [theme=dark] .colab-df-quickchart {\n",
              "      --bg-color: #3B4455;\n",
              "      --fill-color: #D2E3FC;\n",
              "      --hover-bg-color: #434B5C;\n",
              "      --hover-fill-color: #FFFFFF;\n",
              "      --disabled-bg-color: #3B4455;\n",
              "      --disabled-fill-color: #666;\n",
              "  }\n",
              "\n",
              "  .colab-df-quickchart {\n",
              "    background-color: var(--bg-color);\n",
              "    border: none;\n",
              "    border-radius: 50%;\n",
              "    cursor: pointer;\n",
              "    display: none;\n",
              "    fill: var(--fill-color);\n",
              "    height: 32px;\n",
              "    padding: 0;\n",
              "    width: 32px;\n",
              "  }\n",
              "\n",
              "  .colab-df-quickchart:hover {\n",
              "    background-color: var(--hover-bg-color);\n",
              "    box-shadow: 0 1px 2px rgba(60, 64, 67, 0.3), 0 1px 3px 1px rgba(60, 64, 67, 0.15);\n",
              "    fill: var(--button-hover-fill-color);\n",
              "  }\n",
              "\n",
              "  .colab-df-quickchart-complete:disabled,\n",
              "  .colab-df-quickchart-complete:disabled:hover {\n",
              "    background-color: var(--disabled-bg-color);\n",
              "    fill: var(--disabled-fill-color);\n",
              "    box-shadow: none;\n",
              "  }\n",
              "\n",
              "  .colab-df-spinner {\n",
              "    border: 2px solid var(--fill-color);\n",
              "    border-color: transparent;\n",
              "    border-bottom-color: var(--fill-color);\n",
              "    animation:\n",
              "      spin 1s steps(1) infinite;\n",
              "  }\n",
              "\n",
              "  @keyframes spin {\n",
              "    0% {\n",
              "      border-color: transparent;\n",
              "      border-bottom-color: var(--fill-color);\n",
              "      border-left-color: var(--fill-color);\n",
              "    }\n",
              "    20% {\n",
              "      border-color: transparent;\n",
              "      border-left-color: var(--fill-color);\n",
              "      border-top-color: var(--fill-color);\n",
              "    }\n",
              "    30% {\n",
              "      border-color: transparent;\n",
              "      border-left-color: var(--fill-color);\n",
              "      border-top-color: var(--fill-color);\n",
              "      border-right-color: var(--fill-color);\n",
              "    }\n",
              "    40% {\n",
              "      border-color: transparent;\n",
              "      border-right-color: var(--fill-color);\n",
              "      border-top-color: var(--fill-color);\n",
              "    }\n",
              "    60% {\n",
              "      border-color: transparent;\n",
              "      border-right-color: var(--fill-color);\n",
              "    }\n",
              "    80% {\n",
              "      border-color: transparent;\n",
              "      border-right-color: var(--fill-color);\n",
              "      border-bottom-color: var(--fill-color);\n",
              "    }\n",
              "    90% {\n",
              "      border-color: transparent;\n",
              "      border-bottom-color: var(--fill-color);\n",
              "    }\n",
              "  }\n",
              "</style>\n",
              "\n",
              "  <script>\n",
              "    async function quickchart(key) {\n",
              "      const quickchartButtonEl =\n",
              "        document.querySelector('#' + key + ' button');\n",
              "      quickchartButtonEl.disabled = true;  // To prevent multiple clicks.\n",
              "      quickchartButtonEl.classList.add('colab-df-spinner');\n",
              "      try {\n",
              "        const charts = await google.colab.kernel.invokeFunction(\n",
              "            'suggestCharts', [key], {});\n",
              "      } catch (error) {\n",
              "        console.error('Error during call to suggestCharts:', error);\n",
              "      }\n",
              "      quickchartButtonEl.classList.remove('colab-df-spinner');\n",
              "      quickchartButtonEl.classList.add('colab-df-quickchart-complete');\n",
              "    }\n",
              "    (() => {\n",
              "      let quickchartButtonEl =\n",
              "        document.querySelector('#df-f0bdad47-8bf1-439b-9059-fd1398879e87 button');\n",
              "      quickchartButtonEl.style.display =\n",
              "        google.colab.kernel.accessAllowed ? 'block' : 'none';\n",
              "    })();\n",
              "  </script>\n",
              "</div>\n",
              "\n",
              "    </div>\n",
              "  </div>\n"
            ],
            "application/vnd.google.colaboratory.intrinsic+json": {
              "type": "dataframe",
              "variable_name": "df",
              "summary": "{\n  \"name\": \"df\",\n  \"rows\": 40000,\n  \"fields\": [\n    {\n      \"column\": \"post\",\n      \"properties\": {\n        \"dtype\": \"string\",\n        \"num_unique_values\": 40000,\n        \"samples\": [\n          \"template object property of a class  i have implemented working template <code>class llist&lt; t&gt;</code> and now i want object of this template class to be a property of a new class called factory2. here is how my factory2 class looks like    <pre><code>#include  llist.h  template&lt;typename t&gt; class factory2 { public:     factory2();    ~factory2(); private:     llist&lt;t&gt; arr;  }; </code></pre>   i have defined the  constructor and destructor of factory2 but how should i implement them for the <code>llist&lt; t&gt; arr</code> object  the <code>llist&lt; t&gt;</code> class has it s own constructor and destructor. i get the error:undefined reference to the constructor of <code>llist&lt;int&gt;::llist()</code> and <code>llist&lt;int&gt;::~llist()</code>\",\n          \"how do i copy the lines of file in between two patterns and store in an array in php  my current php code iss:   <pre><code>$searchfor= sum ; $handle=@fopen( assets/lib/basic.lib ); //this if my file consisting of sum structure if($handle){ while(!feof($handle)){     $buffer=fgets($handle);     if(strpos($buffer $searchfor)!==false)       $matches[]=$buffer;     }     fclose($handle); } </code></pre>   this is <code>basic.lib</code> file:     <pre><code>sum: start sum: op1 = sum: op2 + sum: op * sum: end  sub: start sub: op1 = sub: op2 - sub: end </code></pre>   the above php code helps to retrieve all the lines having substring <code>sum</code>    <strong>but i want to redesign the <code>basic.lib</code> file as:</strong>   <pre><code>sum:start output 1: hello output 2: world sum:end  sub:start output 1: hello output 2: again sub:end </code></pre>   so how can i the lines between <strong>sum:start</strong> and <strong>sum:end</strong> in the <code>$matches</code> array now .     thanks in advance\",\n          \"can a function be used instead of event for ng model option  say i have some input tag with the following angular associated:   <pre><code>&lt;input type= text  data-ng-model-options= { updateon:  submit  }  data-ng-model= value.name &gt; </code></pre>   when a form with this tag gets submitted  it will update the value s name.     is there a way to trigger <code>updateon</code> when a function defined by the controller is invoked rather than an event  or is the api only able to handle browser events     for example:    if i have something like this:   <pre><code>angular.module( somemodule )   .controller( somectrl   [ $scope   callback])  function callback($scope){   $scope.updatevalue = updatevalue    function updatevalue(){     console.log( will now update value )   } } </code></pre>   is there a way to only update a model if the <code>updatevalue</code> function gets invoked     this won t work  but something like this :   <pre><code>&lt;input type= text  data-ng-model-options= { updateon:  updatevalue  }  data-ng-model= value.name &gt; </code></pre>\"\n        ],\n        \"semantic_type\": \"\",\n        \"description\": \"\"\n      }\n    },\n    {\n      \"column\": \"tags\",\n      \"properties\": {\n        \"dtype\": \"category\",\n        \"num_unique_values\": 20,\n        \"samples\": [\n          \"c#\",\n          \"mysql\",\n          \"php\"\n        ],\n        \"semantic_type\": \"\",\n        \"description\": \"\"\n      }\n    }\n  ]\n}"
            }
          },
          "metadata": {},
          "execution_count": 4
        }
      ],
      "source": [
        "# only keep data that has a tag (is labeled):\n",
        "df = df[pd.notnull(df['tags'])]\n",
        "\n",
        "# display first ten rows:\n",
        "df.head(10)"
      ]
    },
    {
      "cell_type": "markdown",
      "metadata": {
        "id": "13ECXgs-xn9p"
      },
      "source": [
        "Our task: predict the tag based on the post content.\n",
        "\n",
        "The size of our word embedding will be chosen based on how many unique words are in the dataset (meaning in the article text or posts):"
      ]
    },
    {
      "cell_type": "code",
      "execution_count": 5,
      "metadata": {
        "id": "BvAXbtE5QInW",
        "colab": {
          "base_uri": "https://localhost:8080/"
        },
        "outputId": "29858d48-bbf5-4ab1-acc2-38ca28965567"
      },
      "outputs": [
        {
          "output_type": "execute_result",
          "data": {
            "text/plain": [
              "10286120"
            ]
          },
          "metadata": {},
          "execution_count": 5
        }
      ],
      "source": [
        "# Count the number of words:\n",
        "df['post'].apply(lambda x: len(x.split(' '))).sum()"
      ]
    },
    {
      "cell_type": "markdown",
      "metadata": {
        "id": "LSifacVqQIna"
      },
      "source": [
        "We have over 10 million words in the data. That's a lot!\n",
        "\n",
        "\n",
        "Let's visualise our dataset:\n",
        "\n"
      ]
    },
    {
      "cell_type": "code",
      "execution_count": 6,
      "metadata": {
        "id": "O-DdZVX9QInb",
        "colab": {
          "base_uri": "https://localhost:8080/",
          "height": 442
        },
        "outputId": "97af3d99-b0fb-4eb4-803d-67617c045d9d"
      },
      "outputs": [
        {
          "output_type": "display_data",
          "data": {
            "text/plain": [
              "<Figure size 1000x400 with 1 Axes>"
            ],
            "image/png": "[encoded data removed]"
          },
          "metadata": {}
        }
      ],
      "source": [
        "# visualising dataset\n",
        "plt.figure(figsize=(10,4))\n",
        "df.tags.value_counts().plot(kind='bar');"
      ]
    },
    {
      "cell_type": "markdown",
      "metadata": {
        "id": "5UwHhJXMQIng"
      },
      "source": [
        "As you can see, the classes are very well balanced.\n",
        "\n",
        "Now let's have a look at the data of the posts ('post' columns) in more detail:"
      ]
    },
    {
      "cell_type": "code",
      "execution_count": 7,
      "metadata": {
        "id": "2Q3m4GxxQInh",
        "colab": {
          "base_uri": "https://localhost:8080/"
        },
        "outputId": "569d6598-0ce5-470d-ebbc-0e42978f2542"
      },
      "outputs": [
        {
          "output_type": "stream",
          "name": "stdout",
          "text": [
            "when we need interface c# <blockquote>    <strong>possible duplicate:</strong><br>   <a href= https://stackoverflow.com/questions/240152/why-would-i-want-to-use-interfaces >why would i want to use interfaces </a>   <a href= https://stackoverflow.com/questions/9451868/why-i-need-interface >why i need interface </a>    </blockquote>     i want to know where and when to use it     for example    <pre><code>interface idemo {  // function prototype  public void show(); }  // first class using the interface class myclass1 : idemo {  public void show()  {   // function body comes here   response.write( i m in myclass );  }  }  // second class using the interface class myclass2 : idemo {  public void show()   {   // function body comes here   response.write( i m in myclass2 );   response.write( so  what  );  } </code></pre>   these two classes has the same function name with different body. this can be even achieved without interface. then why we need an interface where and when to use it\n"
          ]
        }
      ],
      "source": [
        "print(df['post'].values[10])"
      ]
    },
    {
      "cell_type": "markdown",
      "metadata": {
        "id": "nbSGI0FQQInu"
      },
      "source": [
        "As you can see, the text needs to be cleaned up a bit. Below we use the `nltk` toolkit to remove spaces, html tags, stopwords, symbols etc. We define a function to remove stop words, replace / \\ and other symbols."
      ]
    },
    {
      "cell_type": "code",
      "execution_count": 8,
      "metadata": {
        "id": "bydjpKCBQInv",
        "colab": {
          "base_uri": "https://localhost:8080/"
        },
        "outputId": "ee9cca1e-2269-4efd-b952-289c2d676873"
      },
      "outputs": [
        {
          "output_type": "stream",
          "name": "stderr",
          "text": [
            "[nltk_data] Downloading package stopwords to /root/nltk_data...\n",
            "[nltk_data]   Unzipping corpora/stopwords.zip.\n"
          ]
        }
      ],
      "source": [
        "# note: slower students may wish to skip this step to finish the lab in class\n",
        "from nltk.corpus import stopwords\n",
        "import re\n",
        "from bs4 import BeautifulSoup\n",
        "\n",
        "# load a list of stop words\n",
        "nltk.download('stopwords')\n",
        "\n",
        "\n",
        "REPLACE_BY_SPACE_RE = re.compile('[/(){}\\[\\]\\|@,;]')\n",
        "BAD_SYMBOLS_RE = re.compile('[^0-9a-z #+_]')\n",
        "STOPWORDS = set(stopwords.words('english'))\n",
        "\n",
        "def clean_text(text):\n",
        "    \"\"\"\n",
        "        text: a string\n",
        "        return: modified initial string\n",
        "    \"\"\"\n",
        "    text = BeautifulSoup(text, 'html.parser').text # HTML decoding\n",
        "    text = text.lower() # lowercase text\n",
        "    text = REPLACE_BY_SPACE_RE.sub(' ', text) # replace REPLACE_BY_SPACE_RE symbols by space in text\n",
        "    text = BAD_SYMBOLS_RE.sub('', text) # delete symbols which are in BAD_SYMBOLS_RE from text\n",
        "    text = ' '.join(word for word in text.split() if word not in STOPWORDS) # delete stopwors from text\n",
        "    return text"
      ]
    },
    {
      "cell_type": "markdown",
      "metadata": {
        "id": "SiiOIj3L_NDH"
      },
      "source": [
        "Now we can apply the newly defined function on the column of `df 'post'`."
      ]
    },
    {
      "cell_type": "code",
      "execution_count": 9,
      "metadata": {
        "id": "6A8nlP0hQInx",
        "colab": {
          "base_uri": "https://localhost:8080/"
        },
        "outputId": "fc7c3737-2e29-42bc-bbaa-57cec88e6ca4"
      },
      "outputs": [
        {
          "output_type": "stream",
          "name": "stderr",
          "text": [
            "<ipython-input-8-c3a664eeb619>:19: MarkupResemblesLocatorWarning: The input looks more like a filename than markup. You may want to open this file and pass the filehandle into Beautiful Soup.\n",
            "  text = BeautifulSoup(text, 'html.parser').text # HTML decoding\n"
          ]
        }
      ],
      "source": [
        "df['post'] = df['post'].apply(clean_text)"
      ]
    },
    {
      "cell_type": "markdown",
      "metadata": {
        "id": "AkBB_8za_SE5"
      },
      "source": [
        "Let's check the results:"
      ]
    },
    {
      "cell_type": "code",
      "execution_count": 10,
      "metadata": {
        "id": "MlL2uGKsQIn0",
        "colab": {
          "base_uri": "https://localhost:8080/"
        },
        "outputId": "d2066050-ac28-4723-b02b-3d06f7e81291"
      },
      "outputs": [
        {
          "output_type": "stream",
          "name": "stdout",
          "text": [
            "need interface c# possible duplicate would want use interfaces need interface want know use example interface idemo function prototype public void show first class using interface class myclass1 idemo public void show function body comes responsewrite myclass second class using interface class myclass2 idemo public void show function body comes responsewrite myclass2 responsewrite two classes function name different body even achieved without interface need interface use\n"
          ]
        }
      ],
      "source": [
        "print(df['post'].values[10])"
      ]
    },
    {
      "cell_type": "markdown",
      "metadata": {
        "id": "YTkqUfwzQIn8"
      },
      "source": [
        "This looks a lot better!\n",
        "\n",
        "Now how many unique words do we have in this cleaned up dataset?"
      ]
    },
    {
      "cell_type": "code",
      "execution_count": 11,
      "metadata": {
        "id": "4oV5baXxQIn8",
        "scrolled": true,
        "colab": {
          "base_uri": "https://localhost:8080/"
        },
        "outputId": "fd9a375e-138e-4e28-c813-67c972b21089"
      },
      "outputs": [
        {
          "output_type": "execute_result",
          "data": {
            "text/plain": [
              "3424194"
            ]
          },
          "metadata": {},
          "execution_count": 11
        }
      ],
      "source": [
        "df['post'].apply(lambda x: len(x.split(' '))).sum()"
      ]
    },
    {
      "cell_type": "markdown",
      "metadata": {
        "id": "gpllc3QyQIoA"
      },
      "source": [
        "Now we have over 3 million words to work with, that's 7 million removed tags.\n",
        "\n",
        "Before we start creating classifiers, let's split our dataset 70-30 in a test set (for evaluation) and training set:"
      ]
    },
    {
      "cell_type": "code",
      "execution_count": 12,
      "metadata": {
        "id": "ylA7e4H_QIoB"
      },
      "outputs": [],
      "source": [
        "X = df.post\n",
        "y = df.tags\n",
        "X_train, X_test, y_train, y_test = train_test_split(X, y, test_size=0.3, random_state = 42)"
      ]
    },
    {
      "cell_type": "markdown",
      "metadata": {
        "id": "cDHptCZqQIoU"
      },
      "source": [
        "#### Logistic regression\n",
        "\n",
        "Now that we have our features, we can train a classifier to try to predict the tag of a post. We will start with logistic regression and TFIDF representation which provides a nice baseline for this task.\n",
        "\n",
        "To make the vectorizer => transformer => classifier easier to work with, we will use the `Pipeline` class in Scikit-Learn that behaves like a compound classifier."
      ]
    },
    {
      "cell_type": "code",
      "execution_count": 13,
      "metadata": {
        "id": "p8IMmMZWQIoV",
        "colab": {
          "base_uri": "https://localhost:8080/",
          "height": 315
        },
        "outputId": "ef8d563d-1571-4134-a309-08c40d3b4c22"
      },
      "outputs": [
        {
          "output_type": "stream",
          "name": "stderr",
          "text": [
            "/usr/local/lib/python3.10/dist-packages/sklearn/linear_model/_logistic.py:458: ConvergenceWarning: lbfgs failed to converge (status=1):\n",
            "STOP: TOTAL NO. of ITERATIONS REACHED LIMIT.\n",
            "\n",
            "Increase the number of iterations (max_iter) or scale the data as shown in:\n",
            "    https://scikit-learn.org/stable/modules/preprocessing.html\n",
            "Please also refer to the documentation for alternative solver options:\n",
            "    https://scikit-learn.org/stable/modules/linear_model.html#logistic-regression\n",
            "  n_iter_i = _check_optimize_result(\n"
          ]
        },
        {
          "output_type": "execute_result",
          "data": {
            "text/plain": [
              "Pipeline(steps=[('vect', CountVectorizer()), ('tfidf', TfidfTransformer()),\n",
              "                ('clf', LogisticRegression(C=100000.0, n_jobs=1))])"
            ],
            "text/html": [
              "<style>#sk-container-id-1 {color: black;background-color: white;}#sk-container-id-1 pre{padding: 0;}#sk-container-id-1 div.sk-toggleable {background-color: white;}#sk-container-id-1 label.sk-toggleable__label {cursor: pointer;display: block;width: 100%;margin-bottom: 0;padding: 0.3em;box-sizing: border-box;text-align: center;}#sk-container-id-1 label.sk-toggleable__label-arrow:before {content: \"▸\";float: left;margin-right: 0.25em;color: #696969;}#sk-container-id-1 label.sk-toggleable__label-arrow:hover:before {color: black;}#sk-container-id-1 div.sk-estimator:hover label.sk-toggleable__label-arrow:before {color: black;}#sk-container-id-1 div.sk-toggleable__content {max-height: 0;max-width: 0;overflow: hidden;text-align: left;background-color: #f0f8ff;}#sk-container-id-1 div.sk-toggleable__content pre {margin: 0.2em;color: black;border-radius: 0.25em;background-color: #f0f8ff;}#sk-container-id-1 input.sk-toggleable__control:checked~div.sk-toggleable__content {max-height: 200px;max-width: 100%;overflow: auto;}#sk-container-id-1 input.sk-toggleable__control:checked~label.sk-toggleable__label-arrow:before {content: \"▾\";}#sk-container-id-1 div.sk-estimator input.sk-toggleable__control:checked~label.sk-toggleable__label {background-color: #d4ebff;}#sk-container-id-1 div.sk-label input.sk-toggleable__control:checked~label.sk-toggleable__label {background-color: #d4ebff;}#sk-container-id-1 input.sk-hidden--visually {border: 0;clip: rect(1px 1px 1px 1px);clip: rect(1px, 1px, 1px, 1px);height: 1px;margin: -1px;overflow: hidden;padding: 0;position: absolute;width: 1px;}#sk-container-id-1 div.sk-estimator {font-family: monospace;background-color: #f0f8ff;border: 1px dotted black;border-radius: 0.25em;box-sizing: border-box;margin-bottom: 0.5em;}#sk-container-id-1 div.sk-estimator:hover {background-color: #d4ebff;}#sk-container-id-1 div.sk-parallel-item::after {content: \"\";width: 100%;border-bottom: 1px solid gray;flex-grow: 1;}#sk-container-id-1 div.sk-label:hover label.sk-toggleable__label {background-color: #d4ebff;}#sk-container-id-1 div.sk-serial::before {content: \"\";position: absolute;border-left: 1px solid gray;box-sizing: border-box;top: 0;bottom: 0;left: 50%;z-index: 0;}#sk-container-id-1 div.sk-serial {display: flex;flex-direction: column;align-items: center;background-color: white;padding-right: 0.2em;padding-left: 0.2em;position: relative;}#sk-container-id-1 div.sk-item {position: relative;z-index: 1;}#sk-container-id-1 div.sk-parallel {display: flex;align-items: stretch;justify-content: center;background-color: white;position: relative;}#sk-container-id-1 div.sk-item::before, #sk-container-id-1 div.sk-parallel-item::before {content: \"\";position: absolute;border-left: 1px solid gray;box-sizing: border-box;top: 0;bottom: 0;left: 50%;z-index: -1;}#sk-container-id-1 div.sk-parallel-item {display: flex;flex-direction: column;z-index: 1;position: relative;background-color: white;}#sk-container-id-1 div.sk-parallel-item:first-child::after {align-self: flex-end;width: 50%;}#sk-container-id-1 div.sk-parallel-item:last-child::after {align-self: flex-start;width: 50%;}#sk-container-id-1 div.sk-parallel-item:only-child::after {width: 0;}#sk-container-id-1 div.sk-dashed-wrapped {border: 1px dashed gray;margin: 0 0.4em 0.5em 0.4em;box-sizing: border-box;padding-bottom: 0.4em;background-color: white;}#sk-container-id-1 div.sk-label label {font-family: monospace;font-weight: bold;display: inline-block;line-height: 1.2em;}#sk-container-id-1 div.sk-label-container {text-align: center;}#sk-container-id-1 div.sk-container {/* jupyter's `normalize.less` sets `[hidden] { display: none; }` but bootstrap.min.css set `[hidden] { display: none !important; }` so we also need the `!important` here to be able to override the default hidden behavior on the sphinx rendered scikit-learn.org. See: https://github.com/scikit-learn/scikit-learn/issues/21755 */display: inline-block !important;position: relative;}#sk-container-id-1 div.sk-text-repr-fallback {display: none;}</style><div id=\"sk-container-id-1\" class=\"sk-top-container\"><div class=\"sk-text-repr-fallback\"><pre>Pipeline(steps=[(&#x27;vect&#x27;, CountVectorizer()), (&#x27;tfidf&#x27;, TfidfTransformer()),\n",
              "                (&#x27;clf&#x27;, LogisticRegression(C=100000.0, n_jobs=1))])</pre><b>In a Jupyter environment, please rerun this cell to show the HTML representation or trust the notebook. <br />On GitHub, the HTML representation is unable to render, please try loading this page with nbviewer.org.</b></div><div class=\"sk-container\" hidden><div class=\"sk-item sk-dashed-wrapped\"><div class=\"sk-label-container\"><div class=\"sk-label sk-toggleable\"><input class=\"sk-toggleable__control sk-hidden--visually\" id=\"sk-estimator-id-1\" type=\"checkbox\" ><label for=\"sk-estimator-id-1\" class=\"sk-toggleable__label sk-toggleable__label-arrow\">Pipeline</label><div class=\"sk-toggleable__content\"><pre>Pipeline(steps=[(&#x27;vect&#x27;, CountVectorizer()), (&#x27;tfidf&#x27;, TfidfTransformer()),\n",
              "                (&#x27;clf&#x27;, LogisticRegression(C=100000.0, n_jobs=1))])</pre></div></div></div><div class=\"sk-serial\"><div class=\"sk-item\"><div class=\"sk-estimator sk-toggleable\"><input class=\"sk-toggleable__control sk-hidden--visually\" id=\"sk-estimator-id-2\" type=\"checkbox\" ><label for=\"sk-estimator-id-2\" class=\"sk-toggleable__label sk-toggleable__label-arrow\">CountVectorizer</label><div class=\"sk-toggleable__content\"><pre>CountVectorizer()</pre></div></div></div><div class=\"sk-item\"><div class=\"sk-estimator sk-toggleable\"><input class=\"sk-toggleable__control sk-hidden--visually\" id=\"sk-estimator-id-3\" type=\"checkbox\" ><label for=\"sk-estimator-id-3\" class=\"sk-toggleable__label sk-toggleable__label-arrow\">TfidfTransformer</label><div class=\"sk-toggleable__content\"><pre>TfidfTransformer()</pre></div></div></div><div class=\"sk-item\"><div class=\"sk-estimator sk-toggleable\"><input class=\"sk-toggleable__control sk-hidden--visually\" id=\"sk-estimator-id-4\" type=\"checkbox\" ><label for=\"sk-estimator-id-4\" class=\"sk-toggleable__label sk-toggleable__label-arrow\">LogisticRegression</label><div class=\"sk-toggleable__content\"><pre>LogisticRegression(C=100000.0, n_jobs=1)</pre></div></div></div></div></div></div></div>"
            ]
          },
          "metadata": {},
          "execution_count": 13
        }
      ],
      "source": [
        "from sklearn.linear_model import LogisticRegression\n",
        "from sklearn.pipeline import Pipeline\n",
        "from sklearn.feature_extraction.text import TfidfTransformer\n",
        "\n",
        "# we define a Pipeline, which first represents our features as TFID\n",
        "# Then performs logistic regression\n",
        "logreg = Pipeline([('vect', CountVectorizer()),\n",
        "                ('tfidf', TfidfTransformer()),\n",
        "                ('clf', LogisticRegression(n_jobs=1, C=1e5)),\n",
        "               ])\n",
        "logreg.fit(X_train, y_train)"
      ]
    },
    {
      "cell_type": "markdown",
      "metadata": {
        "id": "plgMq5lA27-_"
      },
      "source": [
        "How well does it work?"
      ]
    },
    {
      "cell_type": "code",
      "execution_count": 14,
      "metadata": {
        "id": "ZGSVTzWRQIoY",
        "colab": {
          "base_uri": "https://localhost:8080/"
        },
        "outputId": "275c0288-9768-4527-fed3-59b371af5ece"
      },
      "outputs": [
        {
          "output_type": "stream",
          "name": "stdout",
          "text": [
            "accuracy 0.7861666666666667\n",
            "               precision    recall  f1-score   support\n",
            "\n",
            "         .net       0.67      0.64      0.65       613\n",
            "      android       0.91      0.90      0.91       620\n",
            "    angularjs       0.97      0.93      0.95       587\n",
            "      asp.net       0.76      0.75      0.75       586\n",
            "            c       0.78      0.83      0.81       599\n",
            "           c#       0.61      0.59      0.60       589\n",
            "          c++       0.79      0.76      0.77       594\n",
            "          css       0.84      0.87      0.85       610\n",
            "         html       0.70      0.73      0.71       617\n",
            "          ios       0.61      0.59      0.60       587\n",
            "       iphone       0.65      0.63      0.64       611\n",
            "         java       0.83      0.82      0.83       594\n",
            "   javascript       0.77      0.79      0.78       619\n",
            "       jquery       0.85      0.85      0.85       574\n",
            "        mysql       0.82      0.85      0.83       584\n",
            "  objective-c       0.66      0.66      0.66       578\n",
            "          php       0.82      0.83      0.83       591\n",
            "       python       0.93      0.90      0.91       608\n",
            "ruby-on-rails       0.96      0.94      0.95       638\n",
            "          sql       0.79      0.85      0.82       601\n",
            "\n",
            "     accuracy                           0.79     12000\n",
            "    macro avg       0.79      0.79      0.79     12000\n",
            " weighted avg       0.79      0.79      0.79     12000\n",
            "\n",
            "CPU times: user 1.11 s, sys: 4.21 ms, total: 1.11 s\n",
            "Wall time: 1.12 s\n"
          ]
        }
      ],
      "source": [
        "# to show the computation time:\n",
        "%%time\n",
        "\n",
        "y_pred = logreg.predict(X_test)\n",
        "\n",
        "print('accuracy %s' % accuracy_score(y_pred, y_test))\n",
        "print(classification_report(y_test, y_pred))"
      ]
    },
    {
      "cell_type": "markdown",
      "metadata": {
        "id": "zAAVJw44xn_c"
      },
      "source": [
        "That's quite a good accuracy. Now let's see if we can combine **word2vec** with logistic regression by feeding the new embedded representation to our logistic regression instead of the bag of words representation of TFIDF."
      ]
    },
    {
      "cell_type": "markdown",
      "metadata": {
        "id": "9gSX1ysMQIoc"
      },
      "source": [
        "### Word2vec embedding and Logistic Regression"
      ]
    },
    {
      "cell_type": "markdown",
      "metadata": {
        "id": "Ubl-sOB8W2f1"
      },
      "source": [
        "Let's load a pretrained word2vec model, and use the embedding representation as input to a simple classifier (i.e. logistic regression).\n",
        "\n",
        "You can use the word2vec model you trained in the first part of the lab (on the Shakespeare text), or load this (quite big, 1.5GB) pretrained word2vec model from Google trained on Google News data.\n",
        "\n",
        "If you load an model you trained yourself, use#\n",
        "`wv = gensim.models.KeyedVectors.load_word2vec_format(\"yourweights.bin.gz\", binary=True)`. We will be loading pretrained weights available in gensim itself:\n",
        "\n",
        "(This may take a while!)\n",
        "\n",
        "\n"
      ]
    },
    {
      "cell_type": "code",
      "execution_count": 15,
      "metadata": {
        "id": "Cjipngb9QIod",
        "colab": {
          "base_uri": "https://localhost:8080/"
        },
        "outputId": "f9dc33e4-0283-49bc-f17c-fa22039dc74c"
      },
      "outputs": [
        {
          "output_type": "stream",
          "name": "stdout",
          "text": [
            "[==================================================] 100.0% 1662.8/1662.8MB downloaded\n"
          ]
        },
        {
          "output_type": "stream",
          "name": "stderr",
          "text": [
            "<timed exec>:5: DeprecationWarning: Call to deprecated `init_sims` (Use fill_norms() instead. See https://github.com/RaRe-Technologies/gensim/wiki/Migrating-from-Gensim-3.x-to-4).\n",
            "WARNING:gensim.models.keyedvectors:destructive init_sims(replace=True) deprecated & no longer required for space-efficiency\n"
          ]
        },
        {
          "output_type": "stream",
          "name": "stdout",
          "text": [
            "Model loaded\n",
            "CPU times: user 6min 19s, sys: 35.7 s, total: 6min 54s\n",
            "Wall time: 10min 26s\n"
          ]
        }
      ],
      "source": [
        "%%time\n",
        "import gensim.downloader\n",
        "from gensim.models import Word2Vec\n",
        "\n",
        "wv = gensim.downloader.load('word2vec-google-news-300')\n",
        "wv.init_sims(replace=True)\n",
        "print('Model loaded')\n"
      ]
    },
    {
      "cell_type": "markdown",
      "metadata": {
        "id": "E-W7lH8wxn_2"
      },
      "source": [
        "If you are interested how good these pretrained embeddings are, you could try some of the similarity tests we did in part 1 of the lab on the Shakespeare text. Only now we have a larger vocabulary, e.g.:  "
      ]
    },
    {
      "cell_type": "code",
      "execution_count": 17,
      "metadata": {
        "id": "Hyy5c5yC6XTx",
        "colab": {
          "base_uri": "https://localhost:8080/"
        },
        "outputId": "bf0e2054-ae6a-43c6-fc55-84d97260d468"
      },
      "outputs": [
        {
          "output_type": "execute_result",
          "data": {
            "text/plain": [
              "[('potatoes', 0.792025625705719),\n",
              " ('tomato', 0.6784172058105469),\n",
              " ('onion', 0.6774097681045532),\n",
              " ('spuds', 0.6668086051940918),\n",
              " ('sweet_potato', 0.6572370529174805),\n",
              " ('Potato', 0.6515772342681885),\n",
              " ('Potatoes', 0.6426205635070801),\n",
              " ('lentil', 0.6295645236968994),\n",
              " ('vegetable', 0.6291500926017761),\n",
              " ('beet', 0.6268625259399414)]"
            ]
          },
          "metadata": {},
          "execution_count": 17
        }
      ],
      "source": [
        "wv.most_similar('potato')"
      ]
    },
    {
      "cell_type": "markdown",
      "metadata": {
        "id": "o3UmhwMo6f4g"
      },
      "source": [
        "Gensim offers a number of pretrained models for you to choose from (convenient right!). You can check a list of available model like this:"
      ]
    },
    {
      "cell_type": "code",
      "execution_count": 18,
      "metadata": {
        "id": "_VIeyk0s6gCT",
        "colab": {
          "base_uri": "https://localhost:8080/"
        },
        "outputId": "2a55f5ce-47bb-4e30-981a-1385efd564a5"
      },
      "outputs": [
        {
          "output_type": "stream",
          "name": "stdout",
          "text": [
            "['fasttext-wiki-news-subwords-300', 'conceptnet-numberbatch-17-06-300', 'word2vec-ruscorpora-300', 'word2vec-google-news-300', 'glove-wiki-gigaword-50', 'glove-wiki-gigaword-100', 'glove-wiki-gigaword-200', 'glove-wiki-gigaword-300', 'glove-twitter-25', 'glove-twitter-50', 'glove-twitter-100', 'glove-twitter-200', '__testing_word2vec-matrix-synopsis']\n"
          ]
        }
      ],
      "source": [
        "# Show all available models in gensim-data\n",
        "print(list(gensim.downloader.info()['models'].keys()))"
      ]
    },
    {
      "cell_type": "markdown",
      "metadata": {
        "id": "mC4XwSuzQIoo"
      },
      "source": [
        "As we have multiple words for each post, we will need to somehow combine them. A common way to achieve this is by averaging the\n",
        "word vectors per document. In later classes you can feed the individual words to memory models like LSTM. For a quick solution here, we can use a summation or weighted addition. The function below takes as input a list of words and the word2vec model `wv`. Then it retrieves the vector embeddings for each of the words and averages them."
      ]
    },
    {
      "cell_type": "code",
      "execution_count": 19,
      "metadata": {
        "id": "lbSLtiwyQIoo"
      },
      "outputs": [],
      "source": [
        "def word_averaging(wv, words):\n",
        "    # averages a set of words 'words' given their wordvectors 'wv'\n",
        "\n",
        "    all_words, mean = set(), []\n",
        "\n",
        "    # for each word in the list of words\n",
        "    for word in words:\n",
        "        # if the words are alread vectors, then just append them\n",
        "        if isinstance(word, np.ndarray):\n",
        "            mean.append(word)\n",
        "        # if not: first get the vector embedding for the words\n",
        "        elif word in wv.key_to_index:\n",
        "          mean.append(wv.vectors[wv.key_to_index[word]])\n",
        "          all_words.add(wv.key_to_index[word])\n",
        "\n",
        "    if not mean:\n",
        "        # error handling in case mean cannot be calculated\n",
        "        logging.warning(\"cannot compute similarity with no input %s\", words)\n",
        "        return np.zeros(wv.vector_size,)\n",
        "\n",
        "    # use gensim's method to calculate the mean of all the words appended to mean list\n",
        "    mean = gensim.matutils.unitvec(np.array(mean).mean(axis=0)).astype(np.float32)\n",
        "    return mean\n",
        "\n",
        "def  word_averaging_list(wv, text_list):\n",
        "    return np.vstack([word_averaging(wv, post) for post in text_list ])"
      ]
    },
    {
      "cell_type": "markdown",
      "metadata": {
        "id": "Tm_febK-xoAC"
      },
      "source": [
        "Below, we explore a way (slightly different from the method used in part 1 of the lab) to create tokens out of sentences, by using the `nltk` toolkit."
      ]
    },
    {
      "cell_type": "code",
      "execution_count": 20,
      "metadata": {
        "id": "jlyXtYm1QIos",
        "colab": {
          "base_uri": "https://localhost:8080/"
        },
        "outputId": "038705ac-4d2b-4e1c-ee9a-54cdcc9b9585"
      },
      "outputs": [
        {
          "output_type": "stream",
          "name": "stderr",
          "text": [
            "[nltk_data] Downloading package punkt to /root/nltk_data...\n",
            "[nltk_data]   Unzipping tokenizers/punkt.zip.\n"
          ]
        }
      ],
      "source": [
        "import nltk.data\n",
        "nltk.download('punkt')\n",
        "\n",
        "def w2v_tokenize_text(text):\n",
        "    # create tokens, a list of words, for each post. This function will do some cleaning based on English language\n",
        "    tokens = []\n",
        "    for sent in nltk.sent_tokenize(text, language='english'):\n",
        "        for word in nltk.word_tokenize(sent, language='english'):\n",
        "            if len(word) < 2:\n",
        "                continue\n",
        "            tokens.append(word)\n",
        "    return tokens"
      ]
    },
    {
      "cell_type": "markdown",
      "metadata": {
        "id": "ZeuQn-3GxoAQ"
      },
      "source": [
        "Let's also split the dataset in training and test set like before, and tokenize each of these datasets using the method defined above."
      ]
    },
    {
      "cell_type": "code",
      "execution_count": 21,
      "metadata": {
        "id": "CA1Wrn9-QIot"
      },
      "outputs": [],
      "source": [
        "train, test = train_test_split(df, test_size=0.3, random_state = 42)\n",
        "\n",
        "test_tokenized = test.apply(lambda r: w2v_tokenize_text(r['post']), axis=1).values\n",
        "train_tokenized = train.apply(lambda r: w2v_tokenize_text(r['post']), axis=1).values"
      ]
    },
    {
      "cell_type": "markdown",
      "metadata": {
        "id": "rh11CM3ZxoAa"
      },
      "source": [
        "Since we have multiple word vectors per article, we can take multiple approaches (a powerful LSTM approach as we'll see later, or doc2vec as per below, but first we try a naive approach of averaging). We can average the word positions for each post in this new dataset using the functions we defined above and based on our word2vec model `wv`."
      ]
    },
    {
      "cell_type": "code",
      "execution_count": 22,
      "metadata": {
        "id": "pqG34rU6QIoy",
        "colab": {
          "base_uri": "https://localhost:8080/"
        },
        "outputId": "8c2290e1-e43c-43ed-b547-b2f3922b2ec7"
      },
      "outputs": [
        {
          "output_type": "stream",
          "name": "stderr",
          "text": [
            "WARNING:root:cannot compute similarity with no input []\n",
            "WARNING:root:cannot compute similarity with no input ['ngrepeat']\n"
          ]
        }
      ],
      "source": [
        "X_train_word_average = word_averaging_list(wv,train_tokenized)\n",
        "X_test_word_average = word_averaging_list(wv,test_tokenized)"
      ]
    },
    {
      "cell_type": "markdown",
      "metadata": {
        "id": "3zQa7btkxoAj"
      },
      "source": [
        "Now we have a way to represent our input! This can then be fed to any classifier, like logistic regression:"
      ]
    },
    {
      "cell_type": "code",
      "execution_count": 23,
      "metadata": {
        "id": "LSSSuFQYQIo5",
        "colab": {
          "base_uri": "https://localhost:8080/"
        },
        "outputId": "92ff4970-f118-4f96-9162-0aa6666f6937"
      },
      "outputs": [
        {
          "output_type": "stream",
          "name": "stderr",
          "text": [
            "/usr/local/lib/python3.10/dist-packages/sklearn/linear_model/_logistic.py:458: ConvergenceWarning: lbfgs failed to converge (status=1):\n",
            "STOP: TOTAL NO. of ITERATIONS REACHED LIMIT.\n",
            "\n",
            "Increase the number of iterations (max_iter) or scale the data as shown in:\n",
            "    https://scikit-learn.org/stable/modules/preprocessing.html\n",
            "Please also refer to the documentation for alternative solver options:\n",
            "    https://scikit-learn.org/stable/modules/linear_model.html#logistic-regression\n",
            "  n_iter_i = _check_optimize_result(\n"
          ]
        }
      ],
      "source": [
        "from sklearn.linear_model import LogisticRegression\n",
        "logreg = LogisticRegression(n_jobs=1, C=1e5)\n",
        "logreg = logreg.fit(X_train_word_average, train['tags'])\n",
        "y_pred = logreg.predict(X_test_word_average)"
      ]
    },
    {
      "cell_type": "markdown",
      "metadata": {
        "id": "7fy9vOz44h9p"
      },
      "source": [
        "Let's evaluate how accurate this averaged word2vec representation with logistic regression is:"
      ]
    },
    {
      "cell_type": "code",
      "execution_count": 24,
      "metadata": {
        "id": "U_WzSihIQIo9",
        "colab": {
          "base_uri": "https://localhost:8080/"
        },
        "outputId": "e637b428-315f-426b-baa4-3ce3b97b7683"
      },
      "outputs": [
        {
          "output_type": "stream",
          "name": "stdout",
          "text": [
            "accuracy 0.6323333333333333\n",
            "               precision    recall  f1-score   support\n",
            "\n",
            "         .net       0.63      0.56      0.59       613\n",
            "      android       0.76      0.76      0.76       620\n",
            "    angularjs       0.64      0.66      0.65       587\n",
            "      asp.net       0.54      0.50      0.52       586\n",
            "            c       0.70      0.73      0.71       599\n",
            "           c#       0.39      0.43      0.41       589\n",
            "          c++       0.63      0.63      0.63       594\n",
            "          css       0.73      0.78      0.75       610\n",
            "         html       0.57      0.62      0.60       617\n",
            "          ios       0.55      0.53      0.54       587\n",
            "       iphone       0.57      0.52      0.54       611\n",
            "         java       0.63      0.59      0.61       594\n",
            "   javascript       0.64      0.61      0.62       619\n",
            "       jquery       0.59      0.57      0.58       574\n",
            "        mysql       0.68      0.73      0.71       584\n",
            "  objective-c       0.41      0.40      0.41       578\n",
            "          php       0.67      0.70      0.68       591\n",
            "       python       0.80      0.76      0.78       608\n",
            "ruby-on-rails       0.83      0.81      0.82       638\n",
            "          sql       0.67      0.71      0.69       601\n",
            "\n",
            "     accuracy                           0.63     12000\n",
            "    macro avg       0.63      0.63      0.63     12000\n",
            " weighted avg       0.63      0.63      0.63     12000\n",
            "\n"
          ]
        }
      ],
      "source": [
        "print('accuracy %s' % accuracy_score(y_pred, test.tags))\n",
        "print(classification_report(test.tags, y_pred))"
      ]
    },
    {
      "cell_type": "markdown",
      "metadata": {
        "id": "cNXuL03bxoAy"
      },
      "source": [
        "Now you can see that the accuracy went down! Oh no! Why is that? Because we used a very naive approach: averaging our vectors. A better way to approach this would be doc2vec, which learns relationships between documents (posts in this case), instead of words. The accuracy could also improve by using a different classifier instead of logistic regression, or by changing the aggregation strategy and feed it to an LSTM/RNN model."
      ]
    },
    {
      "cell_type": "markdown",
      "metadata": {
        "id": "qtujiFgzQIpA"
      },
      "source": [
        "## Doc2vec and Logistic Regression\n",
        "\n",
        "The idea of word2vec can be extended to documents whereby instead of learning feature representations for words, we learn it for sentences or documents. Doc2Vec extends the idea of word2vec, however words can only capture so much, there are times when we need relationships between documents and not just words.\n",
        "\n",
        "The way to train doc2vec model for our Stack Overflow questions and tags data is very similar to when we trained multi-class text classification with word2vec and logistic regression above.\n",
        "\n",
        "First, we label the sentences. Gensim’s Doc2Vec implementation requires each document/paragraph to have a label associated with it that indicates if it's part of the test or training set. We do this by using the TaggedDocument method. The format will be `TRAIN_i` or `TEST_i` where `i` is a dummy index of the post.\n",
        "\n",
        "First let's import the necessary libraries.\n"
      ]
    },
    {
      "cell_type": "code",
      "execution_count": 25,
      "metadata": {
        "id": "qkXdv0A6QIpB"
      },
      "outputs": [],
      "source": [
        "from tqdm import tqdm\n",
        "from gensim.models import doc2vec\n",
        "from sklearn import utils\n",
        "import gensim\n",
        "from gensim.models.doc2vec import TaggedDocument\n",
        "import re"
      ]
    },
    {
      "cell_type": "markdown",
      "metadata": {
        "id": "cBov76MXxoA8"
      },
      "source": [
        "Let's start by defining a function that labels our documents in the corpus. We just give them dummy labels TRAIN_i or TEST_i for post i. Given a corpus and labels, we return a variable that includes a label indicating if it's test or training data."
      ]
    },
    {
      "cell_type": "code",
      "execution_count": 26,
      "metadata": {
        "id": "TtVzwM8RQIpD"
      },
      "outputs": [],
      "source": [
        "def label_sentences(corpus, label_type):\n",
        "    \"\"\"\n",
        "    Gensim's Doc2Vec implementation requires each document/paragraph to have a label associated with it.\n",
        "    We do this by using the TaggedDocument method. The format will be \"TRAIN_i\" or \"TEST_i\" where \"i\" is\n",
        "    a dummy index of the post.\n",
        "    \"\"\"\n",
        "    labeled = []\n",
        "    for i, v in enumerate(corpus):\n",
        "        label = label_type + '_' + str(i)\n",
        "        labeled.append(doc2vec.TaggedDocument(v.split(), [label]))\n",
        "    return labeled"
      ]
    },
    {
      "cell_type": "markdown",
      "metadata": {
        "id": "5lsDfgBnxoBC"
      },
      "source": [
        "Just like above we split our dataset up in test and training data."
      ]
    },
    {
      "cell_type": "code",
      "execution_count": 27,
      "metadata": {
        "id": "GfXghWoJQIpF"
      },
      "outputs": [],
      "source": [
        "X_train, X_test, y_train, y_test = train_test_split(df.post, df.tags, random_state=0,\n",
        "                                                    test_size=0.3)\n",
        "X_train = label_sentences(X_train, 'Train')\n",
        "X_test = label_sentences(X_test, 'Test')\n",
        "all_data = X_train + X_test"
      ]
    },
    {
      "cell_type": "markdown",
      "metadata": {
        "id": "A_KYhbHmxoBI"
      },
      "source": [
        "Let's have a look how our data looks at this moment:"
      ]
    },
    {
      "cell_type": "code",
      "execution_count": 28,
      "metadata": {
        "id": "321apZFWQIpI",
        "colab": {
          "base_uri": "https://localhost:8080/"
        },
        "outputId": "d52f1a7c-7555-4ea7-de45-a519d4ed3a33"
      },
      "outputs": [
        {
          "output_type": "execute_result",
          "data": {
            "text/plain": [
              "[TaggedDocument(words=['fulltext', 'search', 'php', 'pdo', 'returning', 'result', 'searched', 'lot', 'matter', 'find', 'wrong', 'setup', 'trying', 'fulltext', 'search', 'using', 'pdo', 'php', 'get', 'results', 'error', 'messages', 'table', 'contains', 'customer', 'details', 'id', 'int', '11', 'auto_increment', 'name', 'varchar', '150', 'lastname', 'varchar', '150', 'company', 'varchar', '250', 'adress', 'varchar', '150', 'postcode', 'int', '5', 'city', 'varchar', '150', 'email', 'varchar', '250', 'phone', 'varchar', '20', 'orgnr', 'varchar', '15', 'timestamp', 'timestamp', 'current_timestamp', 'run', 'sqlquery', 'alter', 'table', 'system_customer', 'add', 'fulltext', 'name', 'lastname', 'except', 'columns', 'id', 'postcode', 'timestamp', 'signs', 'trouble', 'far', 'idea', 'problem', 'lies', 'db', 'configuration', 'php', 'code', 'goes', 'php', 'sth', 'dbhprepare', 'select', 'name', 'lastname', 'company', 'adress', 'city', 'phone', 'email', 'orgnr', 'db_pre', 'customer', 'match', 'name', 'lastname', 'company', 'adress', 'city', 'phone', 'email', 'orgnr', 'search', 'boolean', 'mode', 'bind', 'placeholders', 'sthbindparam', 'search', 'data', 'sthexecute', 'rows', 'sthfetchall', 'testing', 'print_r', 'dbherrorinfo', 'empty', 'rows', 'echo', 'else', 'echo', 'foreach', 'rows', 'row', 'echo', 'tr', 'datahref', 'new_orderphp', 'cid', 'row', 'id', 'echo', 'td', 'row', 'name', 'td', 'echo', 'td', 'row', 'lastname', 'td', 'echo', 'td', 'row', 'company', 'td', 'echo', 'td', 'row', 'phone', 'td', 'echo', 'td', 'row', 'email', 'td', 'echo', 'td', 'date', 'ymd', 'strtotime', 'row', 'timestamp', 'td', 'echo', 'tr', 'echo', 'tried', 'change', 'parameter', 'searchquery', 'string', 'like', 'testcompany', 'somename', 'boolean', 'mode', 'also', 'read', 'word', 'found', '50', 'rows', 'counts', 'common', 'word', 'pretty', 'sure', 'case', 'uses', 'specific', 'words', 'table', 'uses', 'myisam', 'engine', 'get', 'results', 'error', 'messages', 'please', 'help', 'point', 'wrong', 'thank'], tags=['Train_0']),\n",
              " TaggedDocument(words=['select', 'everything', '1', 'table', 'x', 'rows', 'another', 'im', 'making', 'join', 'query', 'like', 'select', 'clothes', 'c', 'join', 'style', 'cstyleid', 'ssylelid', 'clothesid', '19', 'dont', 'want', 'select', 'everything', 'style', 'want', 'select', 'everything', 'clothes', '20', 'rows', 'select', '1', 'row', '10', 'style', 'easyest', 'way', 'without', 'select', 'every', 'row', 'clothes', '20', 'things', 'select', 'like', 'select', 'cid', 'cdescription', 'cname', 'csize', 'cbrand', 'sname', 'clothes', 'c', 'join', 'style', 'cstyleid', 'stsylelid', 'clothesid', '19', 'would', 'fastest', 'way', 'possibillity'], tags=['Train_1']),\n",
              " TaggedDocument(words=['r', 'cannot', 'resolved', 'variable', 'importing', 'project', 'pasting', 'problems', 'details', 'r', 'cannot', 'resolved', 'variable', 'common', 'problem', 'checked', 'res', 'folder', 'done', 'refreshing', 'project', 'cleaning', 'project', 'validate', 'still', 'error', 'resolved', 'help', 'guys', '20121214', '021238', 'comexampleandroidlivecubescube2cubewallpaper2settings', 'resdrawableic_launcher_wallpaperpng0', 'error', 'resource', 'entry', 'ic_launcher_wallpaper', 'already', 'defined', '20121214', '021238', 'comexampleandroidlivecubescube2cubewallpaper2settings', 'resdrawableic_launcher_wallpaperhtml0', 'originally', 'defined', '20121214', '021238', 'comexampleandroidlivecubescube2cubewallpaper2settings', 'resxmlcube1xml0', 'error', 'resource', 'entry', 'cube1', 'already', 'defined', '20121214', '021238', 'comexampleandroidlivecubescube2cubewallpaper2settings', 'resxmlcube1html0', 'originally', 'defined', '20121214', '021238', 'comexampleandroidlivecubescube2cubewallpaper2settings', 'resxmlcube2xml0', 'error', 'resource', 'entry', 'cube2', 'already', 'defined', '20121214', '021238', 'comexampleandroidlivecubescube2cubewallpaper2settings', 'resxmlcube2html0', 'originally', 'defined', '20121214', '021238', 'comexampleandroidlivecubescube2cubewallpaper2settings', 'resxmlcube2_settingsxml0', 'error', 'resource', 'entry', 'cube2_settings', 'already', 'defined', '20121214', '021238', 'comexampleandroidlivecubescube2cubewallpaper2settings', 'resxmlcube2_settingshtml0', 'originally', 'defined', '20121214', '021238', 'comexampleandroidlivecubescube2cubewallpaper2settings', 'fsample', 'projectscuberesvaluesindexhtml112', 'error', 'error', 'parsing', 'xml', 'mismatched', 'tag', '20121214', '021238', 'comexampleandroidlivecubescube2cubewallpaper2settings', 'fsample', 'projectscuberesvaluesshapeshtml112', 'error', 'error', 'parsing', 'xml', 'mismatched', 'tag', '20121214', '021238', 'comexampleandroidlivecubescube2cubewallpaper2settings', 'fsample', 'projectscuberesvaluesstringshtml112', 'error', 'error', 'parsing', 'xml', 'mismatched', 'tag', '20121214', '021238', 'comexampleandroidlivecubescube2cubewallpaper2settings', 'fsample', 'projectscuberesxmlcube1html112', 'error', 'error', 'parsing', 'xml', 'mismatched', 'tag', '20121214', '021238', 'comexampleandroidlivecubescube2cubewallpaper2settings', 'fsample', 'projectscuberesxmlcube2html112', 'error', 'error', 'parsing', 'xml', 'mismatched', 'tag', '20121214', '021238', 'comexampleandroidlivecubescube2cubewallpaper2settings', 'fsample', 'projectscuberesxmlcube2_settingshtml112', 'error', 'error', 'parsing', 'xml', 'mismatched', 'tag', '20121214', '021238', 'comexampleandroidlivecubescube2cubewallpaper2settings', 'fsample', 'projectscuberesxmlindexhtml112', 'error', 'error', 'parsing', 'xml', 'mismatched', 'tag', 'copyright', 'c', '2009', 'google', 'inc', 'licensed', 'apache', 'license', 'version', '20', 'license', 'may', 'use', 'file', 'except', 'compliance', 'license', 'may', 'obtain', 'copy', 'license', 'http', 'wwwapacheorg', 'licenses', 'license20', 'unless', 'required', 'applicable', 'law', 'agreed', 'writing', 'software', 'distributed', 'license', 'distributed', 'basis', 'without', 'warranties', 'conditions', 'kind', 'either', 'express', 'implied', 'see', 'license', 'specific', 'language', 'governing', 'permissions', 'limitations', 'license', 'package', 'comexampleandroidlivecubescube2', 'import', 'comexampleandroidlivecubescube2', 'import', 'androidcontentsharedpreferences', 'import', 'androidosbundle', 'import', 'androidpreferencepreferenceactivity', 'public', 'class', 'cubewallpaper2settings', 'extends', 'preferenceactivity', 'implements', 'sharedpreferencesonsharedpreferencechangelistener', 'override', 'protected', 'void', 'oncreate', 'bundle', 'icicle', 'superoncreate', 'icicle', 'getpreferencemanager', 'setsharedpreferencesname', 'cubewallpaper2shared_prefs_name', 'addpreferencesfromresource', 'rxmlcube2_settings', 'getpreferencemanager', 'getsharedpreferences', 'registeronsharedpreferencechangelistener', 'override', 'protected', 'void', 'onresume', 'superonresume', 'override', 'protected', 'void', 'ondestroy', 'getpreferencemanager', 'getsharedpreferences', 'unregisteronsharedpreferencechangelistener', 'superondestroy', 'public', 'void', 'onsharedpreferencechanged', 'sharedpreferences', 'sharedpreferences', 'string', 'key'], tags=['Train_2']),\n",
              " TaggedDocument(words=['efficient', 'way', 'get', 'values', 'object', 'based', 'id', 'list', 'list', 'users', 'users', 'arrayany', 'id1', 'name', 'id2', 'name', 'b', 'id3', 'name', 'c', 'thisselectedusers', '1', '2', 'get', 'objects', 'users', 'array', 'id', 'found', 'selectusers', 'array'], tags=['Train_3']),\n",
              " TaggedDocument(words=['aspnet', 'limit', 'parameter', 'length', 'querystring', 'problem', 'passing', 'parameters', 'querystring', 'found', 'values', 'null', 'code', 'snippet', 'page1', 'passing', 'parameters', 'responseredirect', 'stringformat', 'requestreservationpageaspx', 'plcname', '0', 'plcindex', '1', 'email', '2', 'form', '3', '4', 'sr', '5', 'comment', '6', 'lblplcnamevaltext', 'index', 'lblemailvaltext', 'datetimeparse', 'lblreqfromvaltext', 'toshortdatestring', 'datetimeparse', 'lblreqtovaltext', 'toshortdatestring', 'lblservreqnumtext', 'lblyourcommentvaltext', 'page2', 'requesting', 'values', 'cmbplcrequestselectedindex', 'converttoint32', 'requestquerystring', 'plcindex', 'txtemailtext', 'converttostring', 'requestquerystring', 'email', 'txtsrtext', 'converttostring', 'requestquerystring', 'sr', 'txtcommenttext', 'converttostring', 'requestquerystring', 'comment', 'txtreqfromdatetext', 'requestquerystring', 'txtreqtodatetext', 'requestquerystring', 'found', 'requestquerystring', 'requestquerystring', 'return', 'null', 'idea'], tags=['Train_4']),\n",
              " TaggedDocument(words=['ruby', 'rails', 'fetch', 'display', 'descendent', 'records', 'parent', 'model', 'many', 'children', 'class', 'band', 'activerecordbase', 'has_many', 'concerts', 'end', 'class', 'concerts', 'activerecordbase', 'belongs_to', 'band', 'end', 'would', 'like', 'display', 'index', 'view', 'figure', 'syntax', 'displaying', 'children', 'records', 'bandseach', 'band', 'band', 'name', 'bandname', 'concerts', 'ul', 'bandsconcertseach', 'concert', 'concertlocation', 'end', 'ul', 'end', 'getting', 'error', 'like', 'undefined', 'method', 'concerts', '#array0x00000102c537f0', 'proper', 'way', 'fetching', 'displaying', 'descendent', 'models'], tags=['Train_5']),\n",
              " TaggedDocument(words=['canceling', 'fade', 'effect', 'tooltip', 'hover', 'need', 'tooltip', 'hyperlinks', 'inside', 'web', 'site', 'wrote', 'code', 'seems', 'working', 'fine', 'expect', 'one', 'problem', 'hover', 'tooltip', 'block', 'fades', 'fades', 'need', 'prevent', 'fadeout', 'hovet', 'somehow', 'tried', 'use', 'stop', 'method', 'work', 'probably', 'something', 'wrong', 'could', 'please', 'help', 'thanks', 'html', 'div', 'id', 'hover', 'div', 'class', 'tooltip', 'href', '#', 'href', '#', 'href', '#', 'div', 'div', 'css', 'body', 'margin', '0', 'padding', '0', 'width', '100', 'height', '100', '#hover', 'position', 'relative', 'width50px', 'height50px', 'background', 'green', 'tooltip', 'position', 'relative', 'width', '45px', 'top', '80px', 'height', '20px', 'border', '1px', 'solid', 'black', 'padding', '5px', 'display', 'inlineblock', 'margintop', '5px', 'height', '10px', 'width', '10px', 'border', '1px', 'solid', 'black', 'background', 'red', 'jquery', 'document', 'ready', 'function', 'tooltip', 'hide', '#hover', 'hover', 'function', 'find', 'tooltip', 'fadein', 'function', 'find', 'tooltip', 'delay', '1000', 'fadeout', 'demo', 'http', 'jsfiddlenet', '8gc3d', '2904'], tags=['Train_6']),\n",
              " TaggedDocument(words=['ajax', 'calender', 'working', 'ie', 'using', 'ajax', 'calender', 'readonly', 'textbox', 'control', 'select', 'date', 'click', 'date', 'calender', 'picks', 'date', 'attach', 'txtfromdate', 'working', 'correctly', 'ff', 'chrome', 'ie', 'code', 'asptextbox', 'id', 'txtfromdate', 'text', 'date', 'runat', 'server', 'onfocus', 'javascriptthisvalue', 'onblur', 'javascript', 'thisvalue', 'thisvalue', 'date', 'asptextbox', 'ajaxcalendarextender', 'id', 'txtcalendecontrolextenderfromdate', 'runat', 'server', 'format', 'ddmmmyyyy', 'targetcontrolid', 'txtfromdate', 'ajaxcalendarextender'], tags=['Train_7']),\n",
              " TaggedDocument(words=['c++', 'random', 'number', 'generator', 'hung', 'whenever', 'attempt', 'run', 'code', 'program', 'gets', 'hung', 'print', 'value', 'r2eff', 'sure', 'help', 'would', 'appreciated', 'sample', 'value', 'r2efftemp', 'would', '10', 'stddev', 'would', '05', '5', 'unsigned', 'seed', 'stdchronosystem_clocknow', 'time_since_epoch', 'count', 'stdmt19937', 'generator', 'seed', 'normal_distributiondouble', 'rand', 'r2efftemp', 'r2efftempstddev', 'r2efftemp', 'rand', 'generator', 'coutr2efftempendl', 'thank'], tags=['Train_8']),\n",
              " TaggedDocument(words=['bit', 'vector', 'looked', 'online', 'good', 'seem', 'find', 'good', 'example', 'bit', 'vector', 'actually', 'assignment', 'college', 'add', 'remove', 'union', '2', 'vectors', 'intersection', 'struggling', 'comprehend', 'actual', 'bit', 'vector', 'using', 'c', 'write', 'could', 'someone', 'please', 'help', 'would', 'massive', 'help'], tags=['Train_9'])]"
            ]
          },
          "metadata": {},
          "execution_count": 28
        }
      ],
      "source": [
        "all_data[:10]"
      ]
    },
    {
      "cell_type": "markdown",
      "metadata": {
        "id": "GvY-IsHNxoBQ"
      },
      "source": [
        "Gensim allows us to build a model very easily. We can vary the parameters to fit your data:\n",
        "\n",
        "*    `dm=0` , distributed bag of words (DBOW) is used.\n",
        "*    `vector_size=300` , 300 vector dimensional feature vectors.\n",
        "*    `negative=5` , specifies how many “noise words” should be drawn.\n",
        "*    `min_count=1`, ignores all words with total frequency lower than this.\n",
        "*    `alpha=0.065` , the initial learning rate.\n",
        "\n",
        "We initialize the model and train for 30 epochs. (Those of you on slower computers may want to train for less epochs). Be sure to set your runtime to GPU hardware acceleration! Maybe test with a lower amount of epochs first to see how high you can go during class time!\n"
      ]
    },
    {
      "cell_type": "code",
      "execution_count": 29,
      "metadata": {
        "id": "G9UoqpKnQIpM",
        "colab": {
          "base_uri": "https://localhost:8080/"
        },
        "outputId": "f82d7838-30fe-4cc3-81cc-9fe948681f61"
      },
      "outputs": [
        {
          "output_type": "stream",
          "name": "stderr",
          "text": [
            "100%|██████████| 40000/40000 [00:00<00:00, 2777133.02it/s]\n"
          ]
        }
      ],
      "source": [
        "model_dbow = doc2vec.Doc2Vec(dm=0, vector_size=300, negative=5, min_count=1, alpha=0.065,\n",
        "                     min_alpha=0.065)\n",
        "model_dbow.build_vocab([x for x in tqdm(all_data)])"
      ]
    },
    {
      "cell_type": "code",
      "execution_count": 30,
      "metadata": {
        "id": "lSDy4huyQIpP",
        "colab": {
          "base_uri": "https://localhost:8080/"
        },
        "outputId": "b1437399-b1e9-4bc8-be06-a200d5b4450d"
      },
      "outputs": [
        {
          "output_type": "stream",
          "name": "stderr",
          "text": [
            "100%|██████████| 40000/40000 [00:00<00:00, 2927807.62it/s]\n",
            "100%|██████████| 40000/40000 [00:00<00:00, 2652146.89it/s]\n",
            "100%|██████████| 40000/40000 [00:00<00:00, 2910689.80it/s]\n",
            "100%|██████████| 40000/40000 [00:00<00:00, 2901628.50it/s]\n",
            "100%|██████████| 40000/40000 [00:00<00:00, 3086316.41it/s]\n",
            "100%|██████████| 40000/40000 [00:00<00:00, 2611768.30it/s]\n",
            "100%|██████████| 40000/40000 [00:00<00:00, 1522571.56it/s]\n",
            "100%|██████████| 40000/40000 [00:00<00:00, 2933387.42it/s]\n",
            "100%|██████████| 40000/40000 [00:00<00:00, 2724724.07it/s]\n",
            "100%|██████████| 40000/40000 [00:00<00:00, 1929568.94it/s]\n",
            "100%|██████████| 40000/40000 [00:00<00:00, 1540635.82it/s]\n",
            "100%|██████████| 40000/40000 [00:00<00:00, 2979226.48it/s]\n",
            "100%|██████████| 40000/40000 [00:00<00:00, 1156499.05it/s]\n",
            "100%|██████████| 40000/40000 [00:00<00:00, 2657313.74it/s]\n",
            "100%|██████████| 40000/40000 [00:00<00:00, 2633703.18it/s]\n",
            "100%|██████████| 40000/40000 [00:00<00:00, 2514005.54it/s]\n",
            "100%|██████████| 40000/40000 [00:00<00:00, 2656472.23it/s]\n",
            "100%|██████████| 40000/40000 [00:00<00:00, 2997162.41it/s]\n",
            "100%|██████████| 40000/40000 [00:00<00:00, 2938628.18it/s]\n",
            "100%|██████████| 40000/40000 [00:00<00:00, 2509755.86it/s]\n",
            "100%|██████████| 40000/40000 [00:00<00:00, 2774882.32it/s]\n",
            "100%|██████████| 40000/40000 [00:00<00:00, 1694993.58it/s]\n",
            "100%|██████████| 40000/40000 [00:00<00:00, 2680537.47it/s]\n",
            "100%|██████████| 40000/40000 [00:00<00:00, 446178.82it/s]\n",
            "100%|██████████| 40000/40000 [00:00<00:00, 837867.93it/s]\n",
            "100%|██████████| 40000/40000 [00:00<00:00, 2445907.89it/s]\n",
            "100%|██████████| 40000/40000 [00:00<00:00, 2566226.04it/s]\n",
            "100%|██████████| 40000/40000 [00:00<00:00, 2692842.40it/s]\n",
            "100%|██████████| 40000/40000 [00:00<00:00, 2790110.92it/s]\n",
            "100%|██████████| 40000/40000 [00:00<00:00, 2635026.86it/s]\n"
          ]
        }
      ],
      "source": [
        "for epoch in range(30):\n",
        "    model_dbow.train(utils.shuffle([x for x in tqdm(all_data)]),\n",
        "                     total_examples=len(all_data),\n",
        "                     epochs=1)\n",
        "    model_dbow.alpha -= 0.002\n",
        "    model_dbow.min_alpha = model_dbow.alpha"
      ]
    },
    {
      "cell_type": "markdown",
      "metadata": {
        "id": "mNp4a3ouxoB5"
      },
      "source": [
        "Now let's define a function to get the vector of a particular word from this trained  model, so that we can feed them into the logistic regression:"
      ]
    },
    {
      "cell_type": "code",
      "execution_count": 31,
      "metadata": {
        "id": "A6cGBFuRQIpT"
      },
      "outputs": [],
      "source": [
        "def get_vectors(model, corpus_size, vectors_size, vectors_type):\n",
        "    \"\"\"\n",
        "    Get vectors from trained doc2vec model\n",
        "    :param doc2vec_model: Trained Doc2Vec model\n",
        "    :param corpus_size: Size of the data\n",
        "    :param vectors_size: Size of the embedding vectors\n",
        "    :param vectors_type: Training or Testing vectors\n",
        "    :return: list of vectors\n",
        "    \"\"\"\n",
        "    vectors = np.zeros((corpus_size, vectors_size))\n",
        "    for i in range(0, corpus_size):\n",
        "        prefix = vectors_type + '_' + str(i)\n",
        "        vectors[i] = model.docvecs[prefix]\n",
        "    return vectors"
      ]
    },
    {
      "cell_type": "markdown",
      "metadata": {
        "id": "cgOEdSpS7nTW"
      },
      "source": [
        "We can use this function to create a vectorised training and test set with 1 entry per document for the input in classification models such as logistic regression."
      ]
    },
    {
      "cell_type": "code",
      "execution_count": 32,
      "metadata": {
        "id": "57wLrRE3QIpX",
        "colab": {
          "base_uri": "https://localhost:8080/"
        },
        "outputId": "d4ff7ea4-da1b-4adc-bec0-0f25879bb1a7"
      },
      "outputs": [
        {
          "output_type": "stream",
          "name": "stderr",
          "text": [
            "<ipython-input-31-c807116ba1f2>:13: DeprecationWarning: Call to deprecated `docvecs` (The `docvecs` property has been renamed `dv`.).\n",
            "  vectors[i] = model.docvecs[prefix]\n"
          ]
        }
      ],
      "source": [
        "train_vectors_dbow = get_vectors(model_dbow, len(X_train), 300, 'Train')\n",
        "test_vectors_dbow = get_vectors(model_dbow, len(X_test), 300, 'Test')"
      ]
    },
    {
      "cell_type": "markdown",
      "metadata": {
        "id": "WJE2ZeuOxoCD"
      },
      "source": [
        "We can now feed these vectors to the classifier again:"
      ]
    },
    {
      "cell_type": "code",
      "execution_count": 33,
      "metadata": {
        "id": "NoLo0XkeQIpa",
        "colab": {
          "base_uri": "https://localhost:8080/"
        },
        "outputId": "6cdda21a-7db6-499b-8be8-98756b79e9f3"
      },
      "outputs": [
        {
          "output_type": "stream",
          "name": "stderr",
          "text": [
            "/usr/local/lib/python3.10/dist-packages/sklearn/linear_model/_logistic.py:458: ConvergenceWarning: lbfgs failed to converge (status=1):\n",
            "STOP: TOTAL NO. of ITERATIONS REACHED LIMIT.\n",
            "\n",
            "Increase the number of iterations (max_iter) or scale the data as shown in:\n",
            "    https://scikit-learn.org/stable/modules/preprocessing.html\n",
            "Please also refer to the documentation for alternative solver options:\n",
            "    https://scikit-learn.org/stable/modules/linear_model.html#logistic-regression\n",
            "  n_iter_i = _check_optimize_result(\n"
          ]
        },
        {
          "output_type": "stream",
          "name": "stdout",
          "text": [
            "accuracy 0.7984166666666667\n",
            "               precision    recall  f1-score   support\n",
            "\n",
            "         .net       0.69      0.67      0.68       589\n",
            "      android       0.88      0.90      0.89       661\n",
            "    angularjs       0.96      0.95      0.95       606\n",
            "      asp.net       0.80      0.79      0.80       613\n",
            "            c       0.85      0.87      0.86       601\n",
            "           c#       0.70      0.72      0.71       585\n",
            "          c++       0.86      0.80      0.83       621\n",
            "          css       0.82      0.83      0.83       587\n",
            "         html       0.67      0.67      0.67       560\n",
            "          ios       0.66      0.67      0.66       611\n",
            "       iphone       0.67      0.65      0.66       593\n",
            "         java       0.78      0.83      0.81       581\n",
            "   javascript       0.80      0.75      0.77       608\n",
            "       jquery       0.83      0.84      0.83       593\n",
            "        mysql       0.82      0.80      0.81       592\n",
            "  objective-c       0.66      0.66      0.66       597\n",
            "          php       0.85      0.85      0.85       604\n",
            "       python       0.93      0.91      0.92       610\n",
            "ruby-on-rails       0.92      0.95      0.94       595\n",
            "          sql       0.79      0.83      0.81       593\n",
            "\n",
            "     accuracy                           0.80     12000\n",
            "    macro avg       0.80      0.80      0.80     12000\n",
            " weighted avg       0.80      0.80      0.80     12000\n",
            "\n"
          ]
        }
      ],
      "source": [
        "logreg = LogisticRegression(n_jobs=1, C=1e5)\n",
        "# logreg.fit(train_vectors_dbow, y_train)\n",
        "\n",
        "logreg = logreg.fit(train_vectors_dbow, y_train)\n",
        "y_pred = logreg.predict(test_vectors_dbow)\n",
        "\n",
        "print('accuracy %s' % accuracy_score(y_pred, y_test))\n",
        "print(classification_report(y_test, y_pred))"
      ]
    },
    {
      "cell_type": "markdown",
      "metadata": {
        "id": "GqmumA0-xoCV"
      },
      "source": [
        "We get 80%, that is the best result so far! Remember, we can actually use any classifier with this method! So up to you to make your project as efficient as possible :)\n",
        "    \n",
        "Try using a different classifiers, e.g. Decision tree or SVM. Does that influence the results?\n",
        "\n",
        "New methods are coming out every day in the field of data science. Just at the end of August 2019, the first implementation of BERT for document classfication was published: DocBERT: https://arxiv.org/abs/1904.08398\n",
        "\n",
        "These embeddings can similarly be loaded. There are also specialised pretrainend embeddings for say, financial data, e.g. FinBERT."
      ]
    },
    {
      "cell_type": "markdown",
      "metadata": {
        "id": "jvthUI_yxoCg"
      },
      "source": [
        "## References\n",
        "\n",
        "* https://radimrehurek.com/gensim/models/word2vec.html\n",
        "* https://towardsdatascience.com/multi-class-text-classification-model-comparison-and-selection-5eb066197568\n",
        "* https://github.com/kavgan/nlp-text-mining-working-examples/tree/master/word2vec\n",
        "* https://medium.com/@mishra.thedeepak/doc2vec-simple-implementation-example-df2afbbfbad5]"
      ]
    },
    {
      "cell_type": "markdown",
      "metadata": {
        "id": "fDmjCi1QHIkV"
      },
      "source": [
        "## Exercise\n",
        "\n",
        "Now over to you!\n",
        "\n",
        "Can you develop a doc2vec with SVM classifier for the following dataset?\n",
        "\n",
        "https://dorienherremans.com/drop/CDS/word2vec/fake.zip\n",
        "\n",
        "The task is to predict if news is fake or real.\n",
        "\n",
        "As input, use only the text for simplicity (possibly concatenated with title, but not necessary).\n",
        "\n",
        "Good luck!"
      ]
    },
    {
      "cell_type": "code",
      "execution_count": 58,
      "metadata": {
        "id": "-QyRLoutHY3g"
      },
      "outputs": [],
      "source": [
        "## solution doc2vec w SVM\n",
        "from sklearn.model_selection import train_test_split\n",
        "from sklearn.feature_extraction.text import CountVectorizer, TfidfVectorizer\n",
        "from sklearn.svm import SVC\n",
        "from sklearn.metrics import accuracy_score, confusion_matrix, classification_report\n",
        "\n",
        "# url2 = \"https://dorienherremans.com/drop/CDS/word2vec/fake.zip\"\n",
        "# df_fake = pd.read_csv(url2, encoding = 'latin-1')\n",
        "\n",
        "df_fake = pd.read_csv('Fake.csv', engine='python')\n",
        "df_real = pd.read_csv('True.csv', engine='python')\n"
      ]
    },
    {
      "cell_type": "code",
      "source": [
        "# display first ten rows:\n",
        "df_fake.head(10)"
      ],
      "metadata": {
        "colab": {
          "base_uri": "https://localhost:8080/",
          "height": 359
        },
        "id": "oDJ5pWAtKqQY",
        "outputId": "183c5130-15e8-41fe-a88c-3d28b85772fe"
      },
      "execution_count": 59,
      "outputs": [
        {
          "output_type": "execute_result",
          "data": {
            "text/plain": [
              "                                               title  \\\n",
              "0   Donald Trump Sends Out Embarrassing New Year’...   \n",
              "1   Drunk Bragging Trump Staffer Started Russian ...   \n",
              "2   Sheriff David Clarke Becomes An Internet Joke...   \n",
              "3   Trump Is So Obsessed He Even Has Obama’s Name...   \n",
              "4   Pope Francis Just Called Out Donald Trump Dur...   \n",
              "5   Racist Alabama Cops Brutalize Black Boy While...   \n",
              "6   Fresh Off The Golf Course, Trump Lashes Out A...   \n",
              "7   Trump Said Some INSANELY Racist Stuff Inside ...   \n",
              "8   Former CIA Director Slams Trump Over UN Bully...   \n",
              "9   WATCH: Brand-New Pro-Trump Ad Features So Muc...   \n",
              "\n",
              "                                                text subject  \\\n",
              "0  Donald Trump just couldn t wish all Americans ...    News   \n",
              "1  House Intelligence Committee Chairman Devin Nu...    News   \n",
              "2  On Friday, it was revealed that former Milwauk...    News   \n",
              "3  On Christmas day, Donald Trump announced that ...    News   \n",
              "4  Pope Francis used his annual Christmas Day mes...    News   \n",
              "5  The number of cases of cops brutalizing and ki...    News   \n",
              "6  Donald Trump spent a good portion of his day a...    News   \n",
              "7  In the wake of yet another court decision that...    News   \n",
              "8  Many people have raised the alarm regarding th...    News   \n",
              "9  Just when you might have thought we d get a br...    News   \n",
              "\n",
              "                date  \n",
              "0  December 31, 2017  \n",
              "1  December 31, 2017  \n",
              "2  December 30, 2017  \n",
              "3  December 29, 2017  \n",
              "4  December 25, 2017  \n",
              "5  December 25, 2017  \n",
              "6  December 23, 2017  \n",
              "7  December 23, 2017  \n",
              "8  December 22, 2017  \n",
              "9  December 21, 2017  "
            ],
            "text/html": [
              "\n",
              "  <div id=\"df-8b65b12d-9693-429d-9e5a-5f4448502e33\" class=\"colab-df-container\">\n",
              "    <div>\n",
              "<style scoped>\n",
              "    .dataframe tbody tr th:only-of-type {\n",
              "        vertical-align: middle;\n",
              "    }\n",
              "\n",
              "    .dataframe tbody tr th {\n",
              "        vertical-align: top;\n",
              "    }\n",
              "\n",
              "    .dataframe thead th {\n",
              "        text-align: right;\n",
              "    }\n",
              "</style>\n",
              "<table border=\"1\" class=\"dataframe\">\n",
              "  <thead>\n",
              "    <tr style=\"text-align: right;\">\n",
              "      <th></th>\n",
              "      <th>title</th>\n",
              "      <th>text</th>\n",
              "      <th>subject</th>\n",
              "      <th>date</th>\n",
              "    </tr>\n",
              "  </thead>\n",
              "  <tbody>\n",
              "    <tr>\n",
              "      <th>0</th>\n",
              "      <td>Donald Trump Sends Out Embarrassing New Year’...</td>\n",
              "      <td>Donald Trump just couldn t wish all Americans ...</td>\n",
              "      <td>News</td>\n",
              "      <td>December 31, 2017</td>\n",
              "    </tr>\n",
              "    <tr>\n",
              "      <th>1</th>\n",
              "      <td>Drunk Bragging Trump Staffer Started Russian ...</td>\n",
              "      <td>House Intelligence Committee Chairman Devin Nu...</td>\n",
              "      <td>News</td>\n",
              "      <td>December 31, 2017</td>\n",
              "    </tr>\n",
              "    <tr>\n",
              "      <th>2</th>\n",
              "      <td>Sheriff David Clarke Becomes An Internet Joke...</td>\n",
              "      <td>On Friday, it was revealed that former Milwauk...</td>\n",
              "      <td>News</td>\n",
              "      <td>December 30, 2017</td>\n",
              "    </tr>\n",
              "    <tr>\n",
              "      <th>3</th>\n",
              "      <td>Trump Is So Obsessed He Even Has Obama’s Name...</td>\n",
              "      <td>On Christmas day, Donald Trump announced that ...</td>\n",
              "      <td>News</td>\n",
              "      <td>December 29, 2017</td>\n",
              "    </tr>\n",
              "    <tr>\n",
              "      <th>4</th>\n",
              "      <td>Pope Francis Just Called Out Donald Trump Dur...</td>\n",
              "      <td>Pope Francis used his annual Christmas Day mes...</td>\n",
              "      <td>News</td>\n",
              "      <td>December 25, 2017</td>\n",
              "    </tr>\n",
              "    <tr>\n",
              "      <th>5</th>\n",
              "      <td>Racist Alabama Cops Brutalize Black Boy While...</td>\n",
              "      <td>The number of cases of cops brutalizing and ki...</td>\n",
              "      <td>News</td>\n",
              "      <td>December 25, 2017</td>\n",
              "    </tr>\n",
              "    <tr>\n",
              "      <th>6</th>\n",
              "      <td>Fresh Off The Golf Course, Trump Lashes Out A...</td>\n",
              "      <td>Donald Trump spent a good portion of his day a...</td>\n",
              "      <td>News</td>\n",
              "      <td>December 23, 2017</td>\n",
              "    </tr>\n",
              "    <tr>\n",
              "      <th>7</th>\n",
              "      <td>Trump Said Some INSANELY Racist Stuff Inside ...</td>\n",
              "      <td>In the wake of yet another court decision that...</td>\n",
              "      <td>News</td>\n",
              "      <td>December 23, 2017</td>\n",
              "    </tr>\n",
              "    <tr>\n",
              "      <th>8</th>\n",
              "      <td>Former CIA Director Slams Trump Over UN Bully...</td>\n",
              "      <td>Many people have raised the alarm regarding th...</td>\n",
              "      <td>News</td>\n",
              "      <td>December 22, 2017</td>\n",
              "    </tr>\n",
              "    <tr>\n",
              "      <th>9</th>\n",
              "      <td>WATCH: Brand-New Pro-Trump Ad Features So Muc...</td>\n",
              "      <td>Just when you might have thought we d get a br...</td>\n",
              "      <td>News</td>\n",
              "      <td>December 21, 2017</td>\n",
              "    </tr>\n",
              "  </tbody>\n",
              "</table>\n",
              "</div>\n",
              "    <div class=\"colab-df-buttons\">\n",
              "\n",
              "  <div class=\"colab-df-container\">\n",
              "    <button class=\"colab-df-convert\" onclick=\"convertToInteractive('df-8b65b12d-9693-429d-9e5a-5f4448502e33')\"\n",
              "            title=\"Convert this dataframe to an interactive table.\"\n",
              "            style=\"display:none;\">\n",
              "\n",
              "  <svg xmlns=\"http://www.w3.org/2000/svg\" height=\"24px\" viewBox=\"0 -960 960 960\">\n",
              "    <path d=\"M120-120v-720h720v720H120Zm60-500h600v-160H180v160Zm220 220h160v-160H400v160Zm0 220h160v-160H400v160ZM180-400h160v-160H180v160Zm440 0h160v-160H620v160ZM180-180h160v-160H180v160Zm440 0h160v-160H620v160Z\"/>\n",
              "  </svg>\n",
              "    </button>\n",
              "\n",
              "  <style>\n",
              "    .colab-df-container {\n",
              "      display:flex;\n",
              "      gap: 12px;\n",
              "    }\n",
              "\n",
              "    .colab-df-convert {\n",
              "      background-color: #E8F0FE;\n",
              "      border: none;\n",
              "      border-radius: 50%;\n",
              "      cursor: pointer;\n",
              "      display: none;\n",
              "      fill: #1967D2;\n",
              "      height: 32px;\n",
              "      padding: 0 0 0 0;\n",
              "      width: 32px;\n",
              "    }\n",
              "\n",
              "    .colab-df-convert:hover {\n",
              "      background-color: #E2EBFA;\n",
              "      box-shadow: 0px 1px 2px rgba(60, 64, 67, 0.3), 0px 1px 3px 1px rgba(60, 64, 67, 0.15);\n",
              "      fill: #174EA6;\n",
              "    }\n",
              "\n",
              "    .colab-df-buttons div {\n",
              "      margin-bottom: 4px;\n",
              "    }\n",
              "\n",
              "    [theme=dark] .colab-df-convert {\n",
              "      background-color: #3B4455;\n",
              "      fill: #D2E3FC;\n",
              "    }\n",
              "\n",
              "    [theme=dark] .colab-df-convert:hover {\n",
              "      background-color: #434B5C;\n",
              "      box-shadow: 0px 1px 3px 1px rgba(0, 0, 0, 0.15);\n",
              "      filter: drop-shadow(0px 1px 2px rgba(0, 0, 0, 0.3));\n",
              "      fill: #FFFFFF;\n",
              "    }\n",
              "  </style>\n",
              "\n",
              "    <script>\n",
              "      const buttonEl =\n",
              "        document.querySelector('#df-8b65b12d-9693-429d-9e5a-5f4448502e33 button.colab-df-convert');\n",
              "      buttonEl.style.display =\n",
              "        google.colab.kernel.accessAllowed ? 'block' : 'none';\n",
              "\n",
              "      async function convertToInteractive(key) {\n",
              "        const element = document.querySelector('#df-8b65b12d-9693-429d-9e5a-5f4448502e33');\n",
              "        const dataTable =\n",
              "          await google.colab.kernel.invokeFunction('convertToInteractive',\n",
              "                                                    [key], {});\n",
              "        if (!dataTable) return;\n",
              "\n",
              "        const docLinkHtml = 'Like what you see? Visit the ' +\n",
              "          '<a target=\"_blank\" href=https://colab.research.google.com/notebooks/data_table.ipynb>data table notebook</a>'\n",
              "          + ' to learn more about interactive tables.';\n",
              "        element.innerHTML = '';\n",
              "        dataTable['output_type'] = 'display_data';\n",
              "        await google.colab.output.renderOutput(dataTable, element);\n",
              "        const docLink = document.createElement('div');\n",
              "        docLink.innerHTML = docLinkHtml;\n",
              "        element.appendChild(docLink);\n",
              "      }\n",
              "    </script>\n",
              "  </div>\n",
              "\n",
              "\n",
              "<div id=\"df-0a19890c-8775-45bd-8517-4cf18d5ad8e0\">\n",
              "  <button class=\"colab-df-quickchart\" onclick=\"quickchart('df-0a19890c-8775-45bd-8517-4cf18d5ad8e0')\"\n",
              "            title=\"Suggest charts\"\n",
              "            style=\"display:none;\">\n",
              "\n",
              "<svg xmlns=\"http://www.w3.org/2000/svg\" height=\"24px\"viewBox=\"0 0 24 24\"\n",
              "     width=\"24px\">\n",
              "    <g>\n",
              "        <path d=\"M19 3H5c-1.1 0-2 .9-2 2v14c0 1.1.9 2 2 2h14c1.1 0 2-.9 2-2V5c0-1.1-.9-2-2-2zM9 17H7v-7h2v7zm4 0h-2V7h2v10zm4 0h-2v-4h2v4z\"/>\n",
              "    </g>\n",
              "</svg>\n",
              "  </button>\n",
              "\n",
              "<style>\n",
              "  .colab-df-quickchart {\n",
              "      --bg-color: #E8F0FE;\n",
              "      --fill-color: #1967D2;\n",
              "      --hover-bg-color: #E2EBFA;\n",
              "      --hover-fill-color: #174EA6;\n",
              "      --disabled-fill-color: #AAA;\n",
              "      --disabled-bg-color: #DDD;\n",
              "  }\n",
              "\n",
              "  [theme=dark] .colab-df-quickchart {\n",
              "      --bg-color: #3B4455;\n",
              "      --fill-color: #D2E3FC;\n",
              "      --hover-bg-color: #434B5C;\n",
              "      --hover-fill-color: #FFFFFF;\n",
              "      --disabled-bg-color: #3B4455;\n",
              "      --disabled-fill-color: #666;\n",
              "  }\n",
              "\n",
              "  .colab-df-quickchart {\n",
              "    background-color: var(--bg-color);\n",
              "    border: none;\n",
              "    border-radius: 50%;\n",
              "    cursor: pointer;\n",
              "    display: none;\n",
              "    fill: var(--fill-color);\n",
              "    height: 32px;\n",
              "    padding: 0;\n",
              "    width: 32px;\n",
              "  }\n",
              "\n",
              "  .colab-df-quickchart:hover {\n",
              "    background-color: var(--hover-bg-color);\n",
              "    box-shadow: 0 1px 2px rgba(60, 64, 67, 0.3), 0 1px 3px 1px rgba(60, 64, 67, 0.15);\n",
              "    fill: var(--button-hover-fill-color);\n",
              "  }\n",
              "\n",
              "  .colab-df-quickchart-complete:disabled,\n",
              "  .colab-df-quickchart-complete:disabled:hover {\n",
              "    background-color: var(--disabled-bg-color);\n",
              "    fill: var(--disabled-fill-color);\n",
              "    box-shadow: none;\n",
              "  }\n",
              "\n",
              "  .colab-df-spinner {\n",
              "    border: 2px solid var(--fill-color);\n",
              "    border-color: transparent;\n",
              "    border-bottom-color: var(--fill-color);\n",
              "    animation:\n",
              "      spin 1s steps(1) infinite;\n",
              "  }\n",
              "\n",
              "  @keyframes spin {\n",
              "    0% {\n",
              "      border-color: transparent;\n",
              "      border-bottom-color: var(--fill-color);\n",
              "      border-left-color: var(--fill-color);\n",
              "    }\n",
              "    20% {\n",
              "      border-color: transparent;\n",
              "      border-left-color: var(--fill-color);\n",
              "      border-top-color: var(--fill-color);\n",
              "    }\n",
              "    30% {\n",
              "      border-color: transparent;\n",
              "      border-left-color: var(--fill-color);\n",
              "      border-top-color: var(--fill-color);\n",
              "      border-right-color: var(--fill-color);\n",
              "    }\n",
              "    40% {\n",
              "      border-color: transparent;\n",
              "      border-right-color: var(--fill-color);\n",
              "      border-top-color: var(--fill-color);\n",
              "    }\n",
              "    60% {\n",
              "      border-color: transparent;\n",
              "      border-right-color: var(--fill-color);\n",
              "    }\n",
              "    80% {\n",
              "      border-color: transparent;\n",
              "      border-right-color: var(--fill-color);\n",
              "      border-bottom-color: var(--fill-color);\n",
              "    }\n",
              "    90% {\n",
              "      border-color: transparent;\n",
              "      border-bottom-color: var(--fill-color);\n",
              "    }\n",
              "  }\n",
              "</style>\n",
              "\n",
              "  <script>\n",
              "    async function quickchart(key) {\n",
              "      const quickchartButtonEl =\n",
              "        document.querySelector('#' + key + ' button');\n",
              "      quickchartButtonEl.disabled = true;  // To prevent multiple clicks.\n",
              "      quickchartButtonEl.classList.add('colab-df-spinner');\n",
              "      try {\n",
              "        const charts = await google.colab.kernel.invokeFunction(\n",
              "            'suggestCharts', [key], {});\n",
              "      } catch (error) {\n",
              "        console.error('Error during call to suggestCharts:', error);\n",
              "      }\n",
              "      quickchartButtonEl.classList.remove('colab-df-spinner');\n",
              "      quickchartButtonEl.classList.add('colab-df-quickchart-complete');\n",
              "    }\n",
              "    (() => {\n",
              "      let quickchartButtonEl =\n",
              "        document.querySelector('#df-0a19890c-8775-45bd-8517-4cf18d5ad8e0 button');\n",
              "      quickchartButtonEl.style.display =\n",
              "        google.colab.kernel.accessAllowed ? 'block' : 'none';\n",
              "    })();\n",
              "  </script>\n",
              "</div>\n",
              "\n",
              "    </div>\n",
              "  </div>\n"
            ],
            "application/vnd.google.colaboratory.intrinsic+json": {
              "type": "dataframe",
              "variable_name": "df_fake",
              "summary": "{\n  \"name\": \"df_fake\",\n  \"rows\": 23481,\n  \"fields\": [\n    {\n      \"column\": \"title\",\n      \"properties\": {\n        \"dtype\": \"string\",\n        \"num_unique_values\": 17903,\n        \"samples\": [\n          \" Fox News Mocked Into Oblivion After This F*cking STUPID Attempt To Make Steve Bannon Look Sane (TWEETS)\",\n          \"BREAKING: FL GOV RICK SCOTT Calls for FBI Director to Resign\",\n          \" WATCH: Mike Pence\\u2019s Photo Op With Puerto Rico Survivors Just Went TERRIBLY Wrong (VIDEO)\"\n        ],\n        \"semantic_type\": \"\",\n        \"description\": \"\"\n      }\n    },\n    {\n      \"column\": \"text\",\n      \"properties\": {\n        \"dtype\": \"string\",\n        \"num_unique_values\": 17455,\n        \"samples\": [\n          \"The moral decay continues The Kapiolani Medical Center for Women and Children at the University of Hawaii is currently recruiting pregnant girls and women to participate in second-trimester abortions to measure their bleeding during the operation, with and without antihemorrhagic drugs. According to the Clinical Trials website, run by the National Institutes of Health, participants must be at least 14 years old and 18-24 weeks pregnant.The controversial study, led by Bliss Kaneshiro, MD and Kate Whitehouse, DO, will monitor bleeding during D&E abortions to determine the effects of the drug oxytocin, commonly used to minimize blood loss and decrease the risk of hemorrhage.The clinical trial, called  Effects of Oxytocin on Bleeding Outcomes during Dilation and Evacuation  began in October 2014 and is a collaboration between UH, Society of Family Planning and the University of Washington.The Society of Family Planning funds a number of similar research projects, such as experimenting with the dosage of Misoprostol, a uterine contracting agent, prior to surgical abortions at 13-18 weeks and exploring umbilical cord injections to produce fetal death prior to late-term abortions.In the UH study, researchers will carry out a  randomized, double-blinded, placebo-controlled trials,  to determine the effect of oxytocin s use on uterine bleeding, meaning that they will either provide or deny intravenous oxytocin to the women.Reports suggest that some doctors are concerned that withholding oxytocin during surgery may put patients, especially teen girls, at risk. This study is reminiscent of Nazi concentration camp experiments. I pity the poor women who are being treated like lab rats, especially those who are denied the drug to reduce hemorrhaging,  said Troy Newman, President of Operation Rescue.Dilation and evacuation abortions are surgical procedures that involve dismembering the pre-born baby with forceps, scraping the inside of the uterus with a curette to remove any residuals and finally suctioning out the womb to make sure the contents are completely removed.After the abortion, the corpse of the fetus is reassembled and examined to ensure everything was successfully removed and that the abortion was complete.The study is hoping to attract up to 166 test subjects and is expected to conclude in July 2015.Via: Breitbart News\",\n          \"CNN was quick to scoop up Corey Lewandowski after Donald Trump kicked him out of his role as campaign manager, but his first week on the job is going pretty much exactly how you would expect it to go   terribly.Not only has Lewandowski proven himself to be pretty much like a paid spokesman for Trump, but his defense of the disgraced GOP candidate isn t being received well. Earlier this week, Lewandowski revealed that he was under contract and couldn t criticize The Donald, even after being fired from the campaign. Today, Lewandowski got called out by Hillary Clinton surrogate Christine Quinn for hyping Trump up to be an expert on the Brexit decision   a suggestion that was clearly false.On Monday s edition of CNN s New Day, Lewandowski made another pathetic defense of Trump by trying to reframe the candidate s disgusting reaction to Brexit, where he mostly spoke about how much the decision would be good for his Scotland golf resort. Lewandowski s defense was: Obviously the U.S. dollar has become much stronger now against the British pound. If you re going to spend money in Europe, now would actually be a good time to go with the fall of the pound.What you have is a world view, so what you have is someone who is saying,  Let s look at this from the U.S. perspective. If you want to go and travel overseas   just from a monetary perspective   now is the right time to do that because what you re getting is more for your dollar. Quinn wasn t having it. She ripped into Lewandowski, firing back, Donald Trump is not running to be travel agent of the world, he s running to be president of the United States.  She continued: What he said wasn t a commentary on international markets, it was,  When the pound goes down, more people will come to my golf course. Donald Trump s main concern isn t the international markets, it isn t the impact that Brexit will have on hard working Americans  401Ks, it s himself. How can he make more money, how can he put more money in his bank account? Lewandowski compared the Brexit decision to Trump s rise in the GOP, and Quinn once again called him out and put him back in his place. She said: Trump touted that he saw this coming. That s ridiculous because when he was first asked about Brexit by the press, he didn t appear to know what it was. Lewandowski tried to counter by insisting that People are too smart, they are tired of being told what to do.  He then tried to commend Trump for being a selfish moron: You know what Donald Trump said about Brexit? What he said was, you don t have to listen to me because it s not my decision. He didn t weigh in like Hillary Clinton did, like Barack Obama did, saying that you can t do this. Quinn fought back, Because he didn t know what it was. Lewandowski was fighting a losing battle. Trump s reaction to Brexit was just as terrifying as it was humorous   it truly proved that Trump knows nothing about foreign affairs, and hasn t spent any time educating himself since the beginning of his presidential candidacy. If only some of the hours he spent getting into fights on Twitter were being used for learning about how the world works. But instead, he once again exposed himself as an unfit choice for President. And when people like Lewandowski try to make sense of his idiocy, they only make themselves look equally foolish.You can watch the embarrassing video below:Featured image via screen capture\",\n          \"A Michigan woman decided to defend against tyranny? when she and another shopper couldn t agree over who got to buy the last notebook on the shelf at the Novi Towne Center store.According to ABC 13, the brawl   yes, brawl    involved two Farmington Hills residents, ages 46 and 32, and a mother and daughter from South Lyon, ages 51 and 20. In other words, these were all grown adults who should have known better but hey   there was only one notebook on the shelf, and we ve all seen what happens in those post-apocalyptic movies when a store is down to the last gallon of milk, right?Two of the women, one of whom was the unnamed 20-year-old, reached for the notebook at the same time. The 46 and 32-year-olds apparently decided that she wasn t getting their goddamn notebook and began pulling her hair.Then, because this had almost hit peak  trailer park,  the 20-year-old s mother decided to go for bonus points by pulling out her gun. Fortunately, someone pushed her aside before she could do any harm.This is one of the NRA s  responsible gun owners  (conservatives can t dismiss this one, as it is confirmed that she is a concealed carry permit holder)   ready to leap into action at the most minor sign of danger and make things worse by turning the situation potentially deadly.Watch it happen below:Featured image via screengrab\"\n        ],\n        \"semantic_type\": \"\",\n        \"description\": \"\"\n      }\n    },\n    {\n      \"column\": \"subject\",\n      \"properties\": {\n        \"dtype\": \"category\",\n        \"num_unique_values\": 6,\n        \"samples\": [\n          \"News\",\n          \"politics\",\n          \"Middle-east\"\n        ],\n        \"semantic_type\": \"\",\n        \"description\": \"\"\n      }\n    },\n    {\n      \"column\": \"date\",\n      \"properties\": {\n        \"dtype\": \"category\",\n        \"num_unique_values\": 1681,\n        \"samples\": [\n          \"Jun 5, 2015\",\n          \"August 28, 2016\",\n          \"June 3, 2017\"\n        ],\n        \"semantic_type\": \"\",\n        \"description\": \"\"\n      }\n    }\n  ]\n}"
            }
          },
          "metadata": {},
          "execution_count": 59
        }
      ]
    },
    {
      "cell_type": "code",
      "source": [
        "# label 0 for fake, 1 for true\n",
        "df_fake['label'] = 0\n",
        "df_real['label'] = 1"
      ],
      "metadata": {
        "id": "hvI6RX98Q1Lp"
      },
      "execution_count": 71,
      "outputs": []
    },
    {
      "cell_type": "code",
      "source": [
        "# Combine into 1 DataFrame\n",
        "# Optionally concatenate title and text, but here we're using text only for simplicity\n",
        "df_fake = df_fake[['text', 'label']]\n",
        "df_real = df_real[['text','label']]\n",
        "df_news = pd.concat([df_fake, df_real], ignore_index=True)"
      ],
      "metadata": {
        "id": "CBUDR_FtLIrI"
      },
      "execution_count": 72,
      "outputs": []
    },
    {
      "cell_type": "code",
      "source": [
        "df_news.head(10)"
      ],
      "metadata": {
        "colab": {
          "base_uri": "https://localhost:8080/",
          "height": 359
        },
        "id": "yXBs9B1iLIgh",
        "outputId": "73db69d7-f5ef-42fc-b630-27c38f337897"
      },
      "execution_count": 73,
      "outputs": [
        {
          "output_type": "execute_result",
          "data": {
            "text/plain": [
              "                                                text  label\n",
              "0  Donald Trump just couldn t wish all Americans ...      0\n",
              "1  House Intelligence Committee Chairman Devin Nu...      0\n",
              "2  On Friday, it was revealed that former Milwauk...      0\n",
              "3  On Christmas day, Donald Trump announced that ...      0\n",
              "4  Pope Francis used his annual Christmas Day mes...      0\n",
              "5  The number of cases of cops brutalizing and ki...      0\n",
              "6  Donald Trump spent a good portion of his day a...      0\n",
              "7  In the wake of yet another court decision that...      0\n",
              "8  Many people have raised the alarm regarding th...      0\n",
              "9  Just when you might have thought we d get a br...      0"
            ],
            "text/html": [
              "\n",
              "  <div id=\"df-f7e8dd1e-1c5e-49e6-90fd-fec8f900a5d8\" class=\"colab-df-container\">\n",
              "    <div>\n",
              "<style scoped>\n",
              "    .dataframe tbody tr th:only-of-type {\n",
              "        vertical-align: middle;\n",
              "    }\n",
              "\n",
              "    .dataframe tbody tr th {\n",
              "        vertical-align: top;\n",
              "    }\n",
              "\n",
              "    .dataframe thead th {\n",
              "        text-align: right;\n",
              "    }\n",
              "</style>\n",
              "<table border=\"1\" class=\"dataframe\">\n",
              "  <thead>\n",
              "    <tr style=\"text-align: right;\">\n",
              "      <th></th>\n",
              "      <th>text</th>\n",
              "      <th>label</th>\n",
              "    </tr>\n",
              "  </thead>\n",
              "  <tbody>\n",
              "    <tr>\n",
              "      <th>0</th>\n",
              "      <td>Donald Trump just couldn t wish all Americans ...</td>\n",
              "      <td>0</td>\n",
              "    </tr>\n",
              "    <tr>\n",
              "      <th>1</th>\n",
              "      <td>House Intelligence Committee Chairman Devin Nu...</td>\n",
              "      <td>0</td>\n",
              "    </tr>\n",
              "    <tr>\n",
              "      <th>2</th>\n",
              "      <td>On Friday, it was revealed that former Milwauk...</td>\n",
              "      <td>0</td>\n",
              "    </tr>\n",
              "    <tr>\n",
              "      <th>3</th>\n",
              "      <td>On Christmas day, Donald Trump announced that ...</td>\n",
              "      <td>0</td>\n",
              "    </tr>\n",
              "    <tr>\n",
              "      <th>4</th>\n",
              "      <td>Pope Francis used his annual Christmas Day mes...</td>\n",
              "      <td>0</td>\n",
              "    </tr>\n",
              "    <tr>\n",
              "      <th>5</th>\n",
              "      <td>The number of cases of cops brutalizing and ki...</td>\n",
              "      <td>0</td>\n",
              "    </tr>\n",
              "    <tr>\n",
              "      <th>6</th>\n",
              "      <td>Donald Trump spent a good portion of his day a...</td>\n",
              "      <td>0</td>\n",
              "    </tr>\n",
              "    <tr>\n",
              "      <th>7</th>\n",
              "      <td>In the wake of yet another court decision that...</td>\n",
              "      <td>0</td>\n",
              "    </tr>\n",
              "    <tr>\n",
              "      <th>8</th>\n",
              "      <td>Many people have raised the alarm regarding th...</td>\n",
              "      <td>0</td>\n",
              "    </tr>\n",
              "    <tr>\n",
              "      <th>9</th>\n",
              "      <td>Just when you might have thought we d get a br...</td>\n",
              "      <td>0</td>\n",
              "    </tr>\n",
              "  </tbody>\n",
              "</table>\n",
              "</div>\n",
              "    <div class=\"colab-df-buttons\">\n",
              "\n",
              "  <div class=\"colab-df-container\">\n",
              "    <button class=\"colab-df-convert\" onclick=\"convertToInteractive('df-f7e8dd1e-1c5e-49e6-90fd-fec8f900a5d8')\"\n",
              "            title=\"Convert this dataframe to an interactive table.\"\n",
              "            style=\"display:none;\">\n",
              "\n",
              "  <svg xmlns=\"http://www.w3.org/2000/svg\" height=\"24px\" viewBox=\"0 -960 960 960\">\n",
              "    <path d=\"M120-120v-720h720v720H120Zm60-500h600v-160H180v160Zm220 220h160v-160H400v160Zm0 220h160v-160H400v160ZM180-400h160v-160H180v160Zm440 0h160v-160H620v160ZM180-180h160v-160H180v160Zm440 0h160v-160H620v160Z\"/>\n",
              "  </svg>\n",
              "    </button>\n",
              "\n",
              "  <style>\n",
              "    .colab-df-container {\n",
              "      display:flex;\n",
              "      gap: 12px;\n",
              "    }\n",
              "\n",
              "    .colab-df-convert {\n",
              "      background-color: #E8F0FE;\n",
              "      border: none;\n",
              "      border-radius: 50%;\n",
              "      cursor: pointer;\n",
              "      display: none;\n",
              "      fill: #1967D2;\n",
              "      height: 32px;\n",
              "      padding: 0 0 0 0;\n",
              "      width: 32px;\n",
              "    }\n",
              "\n",
              "    .colab-df-convert:hover {\n",
              "      background-color: #E2EBFA;\n",
              "      box-shadow: 0px 1px 2px rgba(60, 64, 67, 0.3), 0px 1px 3px 1px rgba(60, 64, 67, 0.15);\n",
              "      fill: #174EA6;\n",
              "    }\n",
              "\n",
              "    .colab-df-buttons div {\n",
              "      margin-bottom: 4px;\n",
              "    }\n",
              "\n",
              "    [theme=dark] .colab-df-convert {\n",
              "      background-color: #3B4455;\n",
              "      fill: #D2E3FC;\n",
              "    }\n",
              "\n",
              "    [theme=dark] .colab-df-convert:hover {\n",
              "      background-color: #434B5C;\n",
              "      box-shadow: 0px 1px 3px 1px rgba(0, 0, 0, 0.15);\n",
              "      filter: drop-shadow(0px 1px 2px rgba(0, 0, 0, 0.3));\n",
              "      fill: #FFFFFF;\n",
              "    }\n",
              "  </style>\n",
              "\n",
              "    <script>\n",
              "      const buttonEl =\n",
              "        document.querySelector('#df-f7e8dd1e-1c5e-49e6-90fd-fec8f900a5d8 button.colab-df-convert');\n",
              "      buttonEl.style.display =\n",
              "        google.colab.kernel.accessAllowed ? 'block' : 'none';\n",
              "\n",
              "      async function convertToInteractive(key) {\n",
              "        const element = document.querySelector('#df-f7e8dd1e-1c5e-49e6-90fd-fec8f900a5d8');\n",
              "        const dataTable =\n",
              "          await google.colab.kernel.invokeFunction('convertToInteractive',\n",
              "                                                    [key], {});\n",
              "        if (!dataTable) return;\n",
              "\n",
              "        const docLinkHtml = 'Like what you see? Visit the ' +\n",
              "          '<a target=\"_blank\" href=https://colab.research.google.com/notebooks/data_table.ipynb>data table notebook</a>'\n",
              "          + ' to learn more about interactive tables.';\n",
              "        element.innerHTML = '';\n",
              "        dataTable['output_type'] = 'display_data';\n",
              "        await google.colab.output.renderOutput(dataTable, element);\n",
              "        const docLink = document.createElement('div');\n",
              "        docLink.innerHTML = docLinkHtml;\n",
              "        element.appendChild(docLink);\n",
              "      }\n",
              "    </script>\n",
              "  </div>\n",
              "\n",
              "\n",
              "<div id=\"df-5f47363d-2168-4585-b84d-d5955d2ff330\">\n",
              "  <button class=\"colab-df-quickchart\" onclick=\"quickchart('df-5f47363d-2168-4585-b84d-d5955d2ff330')\"\n",
              "            title=\"Suggest charts\"\n",
              "            style=\"display:none;\">\n",
              "\n",
              "<svg xmlns=\"http://www.w3.org/2000/svg\" height=\"24px\"viewBox=\"0 0 24 24\"\n",
              "     width=\"24px\">\n",
              "    <g>\n",
              "        <path d=\"M19 3H5c-1.1 0-2 .9-2 2v14c0 1.1.9 2 2 2h14c1.1 0 2-.9 2-2V5c0-1.1-.9-2-2-2zM9 17H7v-7h2v7zm4 0h-2V7h2v10zm4 0h-2v-4h2v4z\"/>\n",
              "    </g>\n",
              "</svg>\n",
              "  </button>\n",
              "\n",
              "<style>\n",
              "  .colab-df-quickchart {\n",
              "      --bg-color: #E8F0FE;\n",
              "      --fill-color: #1967D2;\n",
              "      --hover-bg-color: #E2EBFA;\n",
              "      --hover-fill-color: #174EA6;\n",
              "      --disabled-fill-color: #AAA;\n",
              "      --disabled-bg-color: #DDD;\n",
              "  }\n",
              "\n",
              "  [theme=dark] .colab-df-quickchart {\n",
              "      --bg-color: #3B4455;\n",
              "      --fill-color: #D2E3FC;\n",
              "      --hover-bg-color: #434B5C;\n",
              "      --hover-fill-color: #FFFFFF;\n",
              "      --disabled-bg-color: #3B4455;\n",
              "      --disabled-fill-color: #666;\n",
              "  }\n",
              "\n",
              "  .colab-df-quickchart {\n",
              "    background-color: var(--bg-color);\n",
              "    border: none;\n",
              "    border-radius: 50%;\n",
              "    cursor: pointer;\n",
              "    display: none;\n",
              "    fill: var(--fill-color);\n",
              "    height: 32px;\n",
              "    padding: 0;\n",
              "    width: 32px;\n",
              "  }\n",
              "\n",
              "  .colab-df-quickchart:hover {\n",
              "    background-color: var(--hover-bg-color);\n",
              "    box-shadow: 0 1px 2px rgba(60, 64, 67, 0.3), 0 1px 3px 1px rgba(60, 64, 67, 0.15);\n",
              "    fill: var(--button-hover-fill-color);\n",
              "  }\n",
              "\n",
              "  .colab-df-quickchart-complete:disabled,\n",
              "  .colab-df-quickchart-complete:disabled:hover {\n",
              "    background-color: var(--disabled-bg-color);\n",
              "    fill: var(--disabled-fill-color);\n",
              "    box-shadow: none;\n",
              "  }\n",
              "\n",
              "  .colab-df-spinner {\n",
              "    border: 2px solid var(--fill-color);\n",
              "    border-color: transparent;\n",
              "    border-bottom-color: var(--fill-color);\n",
              "    animation:\n",
              "      spin 1s steps(1) infinite;\n",
              "  }\n",
              "\n",
              "  @keyframes spin {\n",
              "    0% {\n",
              "      border-color: transparent;\n",
              "      border-bottom-color: var(--fill-color);\n",
              "      border-left-color: var(--fill-color);\n",
              "    }\n",
              "    20% {\n",
              "      border-color: transparent;\n",
              "      border-left-color: var(--fill-color);\n",
              "      border-top-color: var(--fill-color);\n",
              "    }\n",
              "    30% {\n",
              "      border-color: transparent;\n",
              "      border-left-color: var(--fill-color);\n",
              "      border-top-color: var(--fill-color);\n",
              "      border-right-color: var(--fill-color);\n",
              "    }\n",
              "    40% {\n",
              "      border-color: transparent;\n",
              "      border-right-color: var(--fill-color);\n",
              "      border-top-color: var(--fill-color);\n",
              "    }\n",
              "    60% {\n",
              "      border-color: transparent;\n",
              "      border-right-color: var(--fill-color);\n",
              "    }\n",
              "    80% {\n",
              "      border-color: transparent;\n",
              "      border-right-color: var(--fill-color);\n",
              "      border-bottom-color: var(--fill-color);\n",
              "    }\n",
              "    90% {\n",
              "      border-color: transparent;\n",
              "      border-bottom-color: var(--fill-color);\n",
              "    }\n",
              "  }\n",
              "</style>\n",
              "\n",
              "  <script>\n",
              "    async function quickchart(key) {\n",
              "      const quickchartButtonEl =\n",
              "        document.querySelector('#' + key + ' button');\n",
              "      quickchartButtonEl.disabled = true;  // To prevent multiple clicks.\n",
              "      quickchartButtonEl.classList.add('colab-df-spinner');\n",
              "      try {\n",
              "        const charts = await google.colab.kernel.invokeFunction(\n",
              "            'suggestCharts', [key], {});\n",
              "      } catch (error) {\n",
              "        console.error('Error during call to suggestCharts:', error);\n",
              "      }\n",
              "      quickchartButtonEl.classList.remove('colab-df-spinner');\n",
              "      quickchartButtonEl.classList.add('colab-df-quickchart-complete');\n",
              "    }\n",
              "    (() => {\n",
              "      let quickchartButtonEl =\n",
              "        document.querySelector('#df-5f47363d-2168-4585-b84d-d5955d2ff330 button');\n",
              "      quickchartButtonEl.style.display =\n",
              "        google.colab.kernel.accessAllowed ? 'block' : 'none';\n",
              "    })();\n",
              "  </script>\n",
              "</div>\n",
              "\n",
              "    </div>\n",
              "  </div>\n"
            ],
            "application/vnd.google.colaboratory.intrinsic+json": {
              "type": "dataframe",
              "variable_name": "df_news",
              "summary": "{\n  \"name\": \"df_news\",\n  \"rows\": 44898,\n  \"fields\": [\n    {\n      \"column\": \"text\",\n      \"properties\": {\n        \"dtype\": \"string\",\n        \"num_unique_values\": 38646,\n        \"samples\": [\n          \" (This September 29 has been corrected to fix date of election in paragraph 3) NAIROBI (Reuters) - A Kenyan government watchdog said on Friday it was investigating whether police had assaulted students during protests this week at the University of Nairobi over the detention of an opposition lawmaker.   Police fired tear gas on Thursday at the protesting students. Video footage posted on social media later in the day showed uniformed officers outside dormitories and inside classrooms using batons to hit people who did not appear to be involved in the campus protests.  It was the latest crackdown by police on protests since an Aug. 8 presidential election that was later annulled by the Supreme Court. A re-run of the vote has been set for Oct. 26. The Independent Police Oversight Authority (IPOA)  this morning noted from social media reports of an incident in which members of the National Police Service allegedly stormed the University of Nairobi and assaulted students at the institution,  the authority said on its Twitter feed.  It requested that any member of the public come forward to provide information to aid the investigation.  The students had been protesting against the re-arrest of a lawmaker, Paul Ongili Owino, on Wednesday, shortly after he was released on bail on charges of subversion for calling President Uhuru Kenyatta a  son of a dog  at a campaign rally. Kenya is a key Western ally in a region often roiled by violence. Preparations for the re-run of the election are being closely monitored for signs of instability, after at least 28 people were killed in unrest following the Aug. 8 vote. The IPOA watchdog was created in 2011, after police came under severe criticism for the number of protesters killed during demonstrations against disputed elections in 2007. The violence then killed around 1,2000 people. But local and international rights groups say the institution is struggling to fulfill its mandate to investigate allegations of police brutality in a country rife with reports from civilians of extrajudicial killings by security forces.  The IPOA has secured two convictions of police officers in the four years it has been operational. The watchdog pledged last month to fast-track investigations into high-profile deaths such as that of a baby allegedly killed by police in the violence after the election. [L4N1L34FC] But people familiar with the status of these investigations say the police are not cooperating with them, and that senior officials in the police force and the interior ministry insist officers killed only thieves and thugs. \",\n          \"WASHINGTON/CAIRO (Reuters) - Five Iraqi passengers and one Yemeni were barred from boarding an EgyptAir flight from Cairo to New York on Saturday after President Donald Trump halted the entry of citizens from seven Muslim-majority countries, sources at Cairo airport said. The passengers, arriving in transit to Cairo airport, were stopped and re-directed to flights headed for their home countries despite holding valid visas, the sources said.  Trump on Friday put a four-month hold on allowing refugees into the United States and temporarily barred travelers from Syria and six other Muslim-majority countries, saying the moves would help protect Americans from terrorist attacks. He said his most sweeping use of his presidential powers since taking office a week ago, barring travelers from the seven nations for at least 90 days, would give his administration time to develop more stringent screening procedures for refugees, immigrants and visitors. \\u201cI\\u2019m establishing new vetting measures to keep radical Islamic terrorists out of the United States of America. Don\\u2019t want them here,\\u201d Trump said earlier on Friday at the Pentagon. \\u201cWe only want to admit those into our country who will support our country and love deeply our people,\\u201d he said. The bans, though temporary, took effect immediately, causing havoc and confusion for would-be travelers with passports from Iran, Iraq, Libya, Somalia, Sudan, Syria and Yemen. Besides Cairo it was not immediately clear whether other  airports of countries listed by Trump had swiftly implemented the ban. Arab officials of the listed countries would not comment on the matter. The order seeks to prioritize refugees fleeing religious persecution, a move Trump separately said was aimed at helping Christians in Syria. That led some legal experts to question whether the order was constitutional. One group said it would announce a court challenge on Monday. The Council on American-Islamic Relations said the order targets Muslims because of their faith, contravening the U.S. Constitutional right to freedom of religion. \\u201cPresident Trump has cloaked what is a discriminatory ban against nationals of Muslim countries under the banner of national security,\\u201d said Greg Chen of the American Immigration Lawyers Association.  Trump has long pledged to take this kind of action, making it a prominent feature of his campaign for the Nov. 8 election. But people who work with Muslim immigrants and refugees were scrambling to determine the scope of the order. Even legal permanent residents - people with \\u201cgreen cards\\u201d allowing them to live and work in the United States - were being advised to consult immigration lawyers before traveling outside the country, or trying to return, according to Muslim Advocates, a civil rights group in Washington.  On Friday evening, Abed Ayoub of the American-Arab Anti-Discrimination Committee said he had fielded about 100 queries from people anxious about the order, which he said he believed could affect traveling green card holders, students, people coming to the United States for medical care and others. \\u201cIt\\u2019s chaos,\\u201d Ayoub said. During his campaign, Trump tapped into American fears about Islamic State militants and the flood of migrants into Europe from Syria\\u2019s civil war, saying refugees could be a \\u201cTrojan horse\\u201d that allowed attackers to enter the United States. In December 2015, he called for a ban on all Muslims entering the United States, drawing fire for suggesting a religious test for immigrants that critics said would violate the U.S. Constitution. His idea later evolved into a proposal for \\u201cextreme vetting.\\u201d  Trump\\u2019s order also suspends the Syrian refugee program until further notice, and will eventually give priority to minority religious groups fleeing persecution.  Trump said in an interview with the Christian Broadcasting Network that the exception would help Syrian Christians fleeing the civil war there. Legal experts were divided on whether this order would be constitutional. \\u201cIf they are thinking about an exception for Christians, in almost any other legal context discriminating in favor of one religion and against another religion could violate the constitution,\\u201d said Stephen Legomsky, a former chief counsel at U.S. Citizenship and Immigration Services in the Obama administration. But Peter Spiro, a professor at Temple University Beasley School of Law, said Trump\\u2019s action would likely be constitutional because the president and Congress are allowed considerable deference when it comes to asylum decisions. \\u201cIt\\u2019s a completely plausible prioritization, to the extent this group is actually being persecuted,\\u201d Spiro said. The order may also affect special refugee programs for Iraqis who worked for the U.S. government as translators after the 2003 invasion of Iraq. It is already affecting refugees and their families, said Jen Smyers of the Church World Service, a Protestant faith-based group that works with migrants. Smyers said she spoke to an Iraqi mother whose twin daughters remain in Iraq due to processing delays. \\u201cThose two 18-year-old daughters won\\u2019t be able to join their mother in the U.S.,\\u201d she said. Democrats on Friday were quick to condemn Trump\\u2019s order as un-American, saying it would tarnish the reputation of the United States as a land that welcomes immigrants. \\u201cToday\\u2019s executive order from President Trump is more about extreme xenophobia than extreme vetting,\\u201d said Democratic Senator Edward Markey in a statement. Some Republicans praised the move. Representative Bob Goodlatte, chairman of the House of Representatives Judiciary Committee, said Islamic State has threatened to use the U.S. immigration system, making it important to do more screening. \\u201cI am pleased that President Trump is using the tools granted to him by Congress and the power granted by the Constitution to help keep America safe and ensure we know who is entering the United States,\\u201d Goodlatte said in a statement. Without naming Trump, Iranian President Hassan Rouhani said on Saturday it was no time to build walls between nations and criticized steps towards cancelling world trade agreements. Trump on Wednesday ordered the construction of a U.S.-Mexican border wall, a major promise during his election campaign, as part of a package of measures to curb illegal immigration. \\u201cToday is not the time to erect walls between nations. They have forgotten that the Berlin wall fell years ago,\\u201d Rouhani said in a speech carried live on Iranian state television. He made no direct reference to Trump\\u2019s order regarding refugees and travelers from the seven mainly Muslim states. Rouhani, a pragmatist elected in 2013, thawed Iran\\u2019s relations with world powers after years of confrontation and engineered its 2015 deal with them under which it curbed its nuclear program in exchange for relief from sanctions. Rouhani said earlier this month that Trump could not unilaterally cancel the nuclear deal and that talk of renegotiating it was \\u201cmeaningless\\u201d. France and Germany voiced disquiet on Saturday over Trump\\u2019s new restrictions on immigration. \\u201cWelcoming refugees who flee war and oppression is part of our duty,\\u201d French Foreign Minister Jean-Marc Ayrault said at a joint news conference with German counterpart Sigmar Gabriel. \\u201cThe United States is a country where Christian traditions have an important meaning. Loving your neighbor is a major Christian value, and that includes helping people,\\u201d said  Gabriel. \\u201cI think that is what unites us in the West, and I think that is what we want to make clear to the Americans.\\u201d \",\n          \"PRISTINA (Reuters) - Kosovo s center-right coalition led by the Democratic Party of Kosovo signed a deal on Monday with the small New Alliance for Kosovo party to form a government, ending nearly three months of political deadlock after an election on June 11.      Finally Kosovo has started to move ... we had some big delays and our institutions now will be formed,  said Ramush Haradinaj, from the center-right coalition of parties made up of former guerrillas who fought the 1998-99 war against Serb forces. Under the deal, the parties along with ethnic minorities will secure 63 seats in the 120-seat parliament.  President Hashim Thaci is expected to give Haradinaj a mandate to form the government within days. A source who asked not to be named told Reuters the parliament session to elect the parliament speaker would be held this week. Haradinaj, who twice stood trial before the United Nations war crimes court for war crimes and was acquitted, briefly held the post of prime minister in 2005.  The smaller New Alliance for Kosovo party is led by Behgjet Pacolli, who is dubbed by media the richest Kosovar.  Pacolli, who also holds a Swiss passport, won many contracts from the Russian government to rebuild state buildings in Moscow in the  90s but a decade ago he moved his business from Moscow to Kazakhstan.  It is unclear what post Pacolli will hold in the new government.  The new government will have to tackle unemployment running at 30 percent and improve relations with Kosovo s neighbors, especially Serbia, a precondition for both countries to move forward in the European Union accession process. It must also reform health and education and the tax administration system as well as include representatives of some 120,000 Kosovo Serbs who do not recognize independence. Kosovo declared independence from Serbia in 2008, almost a decade after NATO air strikes drove out Serbian forces accused of expelling and killing ethnic Albanian civilians in a two-year counter-insurgency.  \"\n        ],\n        \"semantic_type\": \"\",\n        \"description\": \"\"\n      }\n    },\n    {\n      \"column\": \"label\",\n      \"properties\": {\n        \"dtype\": \"number\",\n        \"std\": 0,\n        \"min\": 0,\n        \"max\": 1,\n        \"num_unique_values\": 2,\n        \"samples\": [\n          1,\n          0\n        ],\n        \"semantic_type\": \"\",\n        \"description\": \"\"\n      }\n    }\n  ]\n}"
            }
          },
          "metadata": {},
          "execution_count": 73
        }
      ]
    },
    {
      "cell_type": "code",
      "source": [
        "# split data into training and test sets\n",
        "X_train, X_test, y_train, y_test = train_test_split(df_news.text, df_news.label, random_state=0,\n",
        "                                                    test_size=0.3)\n",
        "X_train = label_sentences(X_train, 'Train')\n",
        "X_test = label_sentences(X_test, 'Test')\n",
        "all_data = X_train + X_test"
      ],
      "metadata": {
        "id": "MxILEKTUMBb3"
      },
      "execution_count": 75,
      "outputs": []
    },
    {
      "cell_type": "code",
      "source": [
        "all_data[:10]"
      ],
      "metadata": {
        "colab": {
          "base_uri": "https://localhost:8080/"
        },
        "id": "urCKgpZcMBYW",
        "outputId": "3eea89e9-53d8-4f54-e366-2327943e4f70"
      },
      "execution_count": 76,
      "outputs": [
        {
          "output_type": "execute_result",
          "data": {
            "text/plain": [
              "[TaggedDocument(words=['WASHINGTON', '(Reuters)', '-', 'Former', 'New', 'York', 'Mayor', 'Michael', 'Bloomberg', 'said', 'on', 'Monday', 'he', 'would', 'not', 'mount', 'an', 'independent', 'bid', 'for', 'the', 'U.S.', 'presidency', 'because', 'he', 'feared', 'it', 'would', 'increase', 'the', 'chances', 'that', 'Republicans', 'Donald', 'Trump', 'or', 'Ted', 'Cruz', 'could', 'end', 'up', 'in', 'the', 'White', 'House.', 'A', 'billionaire', 'media', 'mogul', 'who', 'combined', 'business-friendly', 'fiscal', 'policies', 'with', 'liberal', 'views', 'on', 'gun', 'control', 'and', 'other', 'social', 'issues,', 'Bloomberg', 'could', 'have', 'potentially', 'appealed', 'to', 'centrist', 'voters', 'in', 'a', 'year', 'when', 'candidates', 'from', 'the', 'far', 'left', 'and', 'right', 'of', 'the', 'political', 'spectrum', 'have', 'gained', 'traction.', 'But', 'Bloomberg,', '74,', 'said', 'he', 'had', 'concluded', 'that', 'any', 'candidate', 'would', 'be', 'unlikely', 'to', 'win', 'a', 'clear', 'majority', 'in', 'a', 'three-person', 'race.', 'That', 'would', 'throw', 'the', 'election', 'into', 'the', 'Republican-controlled', 'House', 'of', 'Representatives,', 'which', 'would', 'be', 'able', 'to', 'hand', 'the', 'White', 'House', 'to', 'Trump,', 'a', 'real-estate', 'billionaire,', 'or', 'Cruz,', 'a', 'conservative', 'U.S.', 'senator', 'from', 'Texas.', '“That', 'is', 'not', 'a', 'risk', 'I', 'can', 'take', 'in', 'good', 'conscience,”', 'he', 'wrote', 'on', 'Bloomberg', 'View,', 'an', 'opinion', 'website', 'that', 'is', 'part', 'of', 'his', 'media', 'empire.', 'Bloomberg', 'never', 'received', 'much', 'interest', 'from', 'American', 'voters.', 'About', '12', 'percent', 'of', 'likely', 'voters', 'said', 'they', 'would', 'support', 'him', 'in', 'a', 'three-way', 'race', 'for', 'president', 'with', 'Democrat', 'Hillary', 'Clinton', 'and', 'Trump,', 'according', 'to', 'a', 'Reuters/Ipsos', 'national', 'poll', 'conducted', 'from', 'Wednesday', 'to', 'Monday.', 'Among', 'respondents,', '41', 'percent', 'said', 'they', 'would', 'support', 'Clinton', 'and', '31', 'percent', 'would', 'support', 'Trump.', 'The', 'poll', 'of', '1,695', 'likely', 'voters', 'had', 'a', 'credibility', 'interval', 'of', '3', 'percentage', 'points.', 'Bloomberg', 'said', 'Trump,', 'who', 'is', 'leading', 'the', 'battle', 'to', 'win', 'the', 'Republican', 'nomination', 'for', 'the', 'Nov.', '8', 'election,', 'had', 'backed', 'policies', 'that', 'would', 'undermine', 'religious', 'tolerance', 'and', 'threaten', 'national', 'security.', 'Trump', 'has', 'called', 'for', 'building', 'a', 'wall', 'on', 'the', 'U.S.', 'border', 'with', 'Mexico,', 'deporting', 'the', 'country’s', 'illegal', 'immigrants', 'and', 'temporarily', 'barring', 'Muslims', 'from', 'entering', 'the', 'country.', '“He', 'has', 'run', 'the', 'most', 'divisive', 'and', 'demagogic', 'presidential', 'campaign', 'I', 'can', 'remember,', 'preying', 'on', 'people’s', 'prejudices', 'and', 'fears,”', 'Bloomberg', 'wrote', 'of', 'Trump.', 'He', 'said', 'Cruz,', 'a', 'favorite', 'of', 'evangelicals', 'and', 'the', 'conservative', 'Tea', 'Party', 'movement,', 'was', 'divisive', 'as', 'well.', 'Bloomberg', 'also', 'hit', 'out', 'at', 'Clinton', 'and', 'her', 'rival', 'for', 'the', 'Democratic', 'nomination,', 'U.S.', 'Senator', 'Bernie', 'Sanders', 'from', 'Vermont,', 'for', 'criticizing', 'free', 'trade', 'and', 'the', 'financial', 'industry.', '“Extremism', 'is', 'on', 'the', 'march,', 'and', 'unless', 'we', 'stop', 'it,', 'our', 'problems', 'at', 'home', 'and', 'abroad', 'will', 'grow', 'worse,”', 'he', 'wrote.', 'Spokespeople', 'for', 'Trump', 'and', 'Cruz', 'did', 'not', 'immediately', 'respond', 'to', 'requests', 'for', 'comment', 'about', 'Bloomberg’s', 'criticism.', 'Bloomberg', 'founded', 'and', 'is', 'majority', 'owner', 'of', 'Bloomberg', 'L.P.,', 'a', 'news', 'and', 'financial', 'information', 'provider', 'that', 'competes', 'with', 'Thomson', 'Reuters', 'Corp', 'TRI.TO.', 'The', 'fear', 'of', 'a', 'general', 'election', 'contest', 'between', 'Trump', 'and', 'Sanders,', 'a', 'democratic', 'socialist,', 'had', 'driven', 'Bloomberg', 'to', 'begin', 'seriously', 'exploring', 'an', 'independent', 'run,', 'a', 'senior', 'adviser', 'said', 'on', 'condition', 'of', 'anonymity.', 'But', 'with', 'Clinton', 'pulling', 'away', 'from', 'Sanders', 'in', 'the', 'Democratic', 'race,', 'Bloomberg', 'concluded', 'the', 'path', 'to', 'victory', 'and', 'the', 'rationale', 'for', 'running', 'were', 'gone,', 'the', 'aide', 'said.', 'Clinton', 'reacted', 'to', 'the', 'news', 'with', 'polite', 'praise,', 'saying', 'she', 'had', 'the', '“greatest', 'respect”', 'for', 'Bloomberg.', '“He', 'has', 'to', 'make', 'his', 'own', 'decisions,', 'but', 'I', 'look', 'forward', 'to', 'continuing', 'to', 'work', 'with', 'him,”', 'she', 'said', 'on', 'Fox', 'News.', 'Sanders,', 'when', 'asked', 'about', 'Bloomberg’s', 'decision', 'not', 'to', 'run,', 'said', 'election', 'laws', 'should', 'be', 'changed', 'to', 'make', 'it', 'easier', 'for', 'people', 'who', 'are', 'not', 'rich,', 'or', 'not', 'friendly', 'with', 'rich', 'people,', 'to', 'run', 'for', 'office.', '“I', 'think', 'it’s', 'a', 'bad', 'idea', 'for', 'American', 'democracy', 'that', 'the', 'only', 'people', 'who', 'feel', 'in', 'many', 'ways', 'they', 'can', 'run', 'for', 'president', 'are', 'people', 'who', 'have', 'so', 'much', 'money,”', 'he', 'said', 'on', 'Fox', 'News.'], tags=['Train_0']),\n",
              " TaggedDocument(words=['In', 'another', 'Wikileaks', 'email', 'dump,', 'the', 'Hillary', 'camp', 'is', 'caught', 'bashing', 'the', 'Catholic', 'Church', 'yet', 'again.', 'In', 'the', 'email,', 'Catholic', 'John', 'Podesta,', 'Hillary', 's', 'Catholic', 'Campaign', 'Manager', 'talks', 'about', 'how', 'he', 'has', 'been', 'planting', 'the', 'seeds', 'of', 'progressivism', 'in', 'the', 'Catholic', 'church,', 'while', 'calling', 'Catholic', 'conservatives', 'an', 'amazing', 'bastardization', 'of', 'the', 'church.', 'Hillary', 'Clinton', 'At', 'War', 'With', 'Christ,', 'Christianity', '&', 'People', 'of', 'God', '#PodestaEmails5', 'Admits', 'Scheming', 'To', 'Destroy', 'An', 'Entire', 'Religion!', 'Donald', 'Trump', 'pic.twitter.com/7hP1WSsRfW', 'STOCK', 'MONSTER', '(@StockMonsterUSA)', 'October', '13,', '2016'], tags=['Train_1']),\n",
              " TaggedDocument(words=['WASHINGTON/NEW', 'YORK', '(Reuters)', '-', 'After', 'a', 'crackdown', 'on', 'illegal', 'immigration', 'that', 'has', 'sharply', 'reduced', 'the', 'number', 'of', 'unauthorized', 'border', 'crossings', 'from', 'Mexico,', 'U.S.', 'President', 'Donald', 'Trump', 'is', 'now', 'turning', 'his', 'attention', 'to', 'reducing', 'the', 'number', 'of', 'legal', 'immigrants', 'in', 'the', 'country.', 'The', 'White', 'House', 'is', 'throwing', 'its', 'support', 'behind', 'a', 'bill', 'developed', 'by', 'Republican', 'senators', 'Tom', 'Cotton', 'of', 'Arkansas', 'and', 'David', 'Perdue', 'of', 'Georgia', 'that', 'would', 'cut', 'legal', 'immigration', 'by', '50', 'percent', 'over', '10', 'years', 'by', 'reducing', 'the', 'kinds', 'of', 'relatives', 'immigrants', 'can', 'bring', 'into', 'the', 'country.', 'But', 'the', 'legislation', 'faces', 'an', 'uphill', 'climb', 'to', 'get', 'through', 'Congress', 'where', 'some', 'senior', 'Republicans', 'back', 'comprehensive', 'immigration', 'reform,', 'not', 'a', 'tough', 'crackdown.', 'Under', 'the', 'new', 'bill,', 'known', 'as', 'the', 'RAISE', 'Act,', 'the', 'United', 'States', 'would', 'prioritize', 'high-skilled', 'immigrants', 'by', 'setting', 'up', 'a', 'merits-based', 'system', 'similar', 'to', 'those', 'used', 'by', 'Canada', 'and', 'Australia.', 'Trump', 'and', 'the', 'Republican', 'lawmakers', 'blasted', 'the', 'current', 'immigration', 'system', 'as', 'out', 'of', 'date', 'and', 'argued', 'that', 'it', 'hurts', 'American', 'workers', 'by', 'driving', 'down', 'wages.', '“This', 'competitive', 'application', 'process', 'will', 'favor', 'applicants', 'who', 'can', 'speak', 'English,', 'financially', 'support', 'themselves', 'and', 'their', 'families', 'and', 'demonstrate', 'skills', 'that', 'will', 'contribute', 'to', 'our', 'economy,”', 'Trump', 'said.', 'The', 'Senators', 'said', 'they', 'worked', 'closely', 'with', 'the', 'White', 'House', 'on', 'this', 'latest', 'version', 'of', 'their', 'bill.', '“This', 'is', 'probably', 'our', 'third', 'or', 'fourth', 'visit', 'to', 'the', 'Oval', 'Office', 'to', 'work', 'with', 'President', 'Trump,”', 'Cotton', 'told', 'reporters.', 'Slashing', 'legal', 'immigration', 'has', 'long', 'been', 'pushed', 'by', 'low-immigration', 'advocacy', 'groups', 'in', 'Washington', 'like', 'NumbersUSA', 'and', 'the', 'ideas', 'have', 'been', 'backed', 'by', 'now-Attorney', 'General', 'Jeff', 'Sessions,', 'who', 'is', 'now', 'facing', 'public', 'criticism', 'from', 'Trump.', 'NumbersUSA', 'President', 'Roy', 'Beck', 'hailed', 'the', 'bill', 'and', 'said', 'that', 'it', '“will', 'do', 'more', 'than', 'any', 'other', 'action', 'to', 'fulfill', 'President', 'Trump’s', 'promises', 'as', 'a', 'candidate.”', 'Trump', 'vowed', 'to', 'crack', 'down', 'on', 'illegal', 'immigration', 'during', 'his', 'campaign', 'and', 'signed', 'two', 'executive', 'orders', 'soon', 'after', 'taking', 'office', 'to', 'increase', 'border', 'security', 'and', 'interior', 'enforcement.', 'Cotton', 'and', 'Perdue', 'said', 'their', 'bill', 'does', 'not', 'affect', 'temporary', 'visas', 'for', 'workers', 'in', 'certain', 'tech', 'sectors', 'and', 'seasonal', 'jobs', 'that', 'are', 'popular', 'with', 'many', 'businesses.', 'They', 'stressed', 'that', 'the', 'legislation', 'was', 'narrowly', 'focused,', 'an', 'approach', 'they', 'hoped', 'would', 'be', 'able', 'to', 'get', 'bipartisan', 'support.', '“We’re', 'not', 'trying', 'to', 'boil', 'the', 'ocean', 'here', 'and', 'change', 'everything', 'about', 'our', 'immigration', 'law,”', 'Cotton', 'said.', 'But', 'other', 'Republican', 'lawmakers', 'said', 'the', 'bill', 'might', 'be', 'going', 'too', 'far.', 'Senator', 'Lindsey', 'Graham,', 'from', 'South', 'Carolina,', 'said', 'his', 'state', 'is', 'dependent', 'on', 'immigrant', 'labor', 'to', 'sustain', 'the', 'two', 'biggest', 'sectors', 'of', 'the', 'economy,', 'agriculture', 'and', 'tourism.', 'Economists', 'have', 'called', 'into', 'the', 'question', 'the', 'benefits', 'of', 'cutting', 'legal', 'immigration.', 'FWD.us,', 'a', 'group', 'that', 'represents', 'the', 'tech', 'industry', 'said', 'that', 'the', 'bill', 'would', '“severely', 'harm', 'the', 'economy.”', 'The', 'bill', 'aims', 'to', 'end', 'the', 'diversity', 'visa', 'lottery,', 'which', 'allows', '50,000', 'people', 'from', 'underrepresented', 'countries', 'to', 'obtain', 'green', 'cards.', 'It', 'also', 'sets', 'a', '50,000', 'annual', 'cap', 'on', 'refugees,', 'instead', 'of', 'a', 'level', 'mandated', 'by', 'the', 'president.', 'Refugee', 'organizations', 'said', 'permanently', 'limiting', 'number', 'of', 'refugees', 'allowed', 'in', 'the', 'country', 'goes', 'against', 'an', 'American', 'value', 'of', 'offering', 'safe', 'haven', 'to', 'people', 'fleeing', 'violence', 'and', 'oppression.', 'Trump', 'suggested', 'at', 'an', 'event', 'in', 'New', 'York’s', 'Long', 'Island', 'on', 'Friday,', 'where', 'he', 'spoke', 'out', 'against', 'violence', 'committed', 'by', 'Central', 'American', 'gang', 'members,', 'that', 'immigrants', 'today', 'are', 'different', 'than', 'in', 'previous', 'generations.', '“What', 'happened', 'to', 'the', 'old', 'days', 'when', 'people', 'came', 'into', 'this', 'country', 'and', 'they', 'worked', 'and', 'they', 'worked', 'and', 'they', 'worked', 'and', 'they', 'had', 'families', 'and', 'paid', 'taxes', 'and', 'they', 'did', 'all', 'sorts', 'of', 'things', 'and', 'their', 'families', 'got', 'stronger', 'and', 'they', 'were', 'closely', 'knit?”', 'Trump', 'asked', 'the', 'audience', 'of', 'law', 'enforcement', 'officers.', '“We', 'don’t', 'see', 'that.”'], tags=['Train_2']),\n",
              " TaggedDocument(words=['Johnny', 'Carson', 'must', 'be', 'rolling', 'over', 'in', 'his', 'grave', 'to', 'see', 'what', 's', 'happened', 'to', 'late', 'night', 'comedy', 'where', 'he', 'dedicated', '30', 'years', 'of', 'his', 'life', 'to', 'actually', 'making', 'people', 'of', 'all', 'political', 'persuasions', 'laugh.', 'If', 'Johnny', 'Carson', 'had', 'a', 'particular', 'political', 'leaning,', 'his', 'viewers', 'wouldn', 't', 'have', 'known', 'what', 'it', 'was.', 'When', 'it', 'came', 'to', 'criticizing', 'President', 's', 'of', 'the', 'United', 'States,', 'he', 'was', 'always', 'funny', 'but', 'never', 'hateful', 'and', 'certainly', 'never', 'vile.', 'A', 'lot', 'has', 'changed', 'since', 'then.', 'It', 'wasn', 't', 'so', 'long', 'ago', 'that', 'comedians', 'like', 'Stephen', 'Colbert', 'only', 'dreamed', 'of', 'sitting', 'in', 'one', 'of', 'the', 'coveted', 'late', 'night', 'comedy', 'spots', 'like', 'the', 'one', 'Johnny', 'Carson', 'created.', 'David', 'Letterman', 's', 'hate', 'for', 'conservatives', 'and', 'Republicans', 'didn', 't', 'really', 'surfaced', 'until', 'he', 'was', 'nearing', 'the', 'end', 'of', 'his', 'career,', 'and', 'although', 'many', 'wish', 'he', 'would', 'keep', 'his', 'hateful', 'opinions', 'about', 'our', 'President', 'to', 'himself,', 'he', 'is', 'a', 'private', 'citizen', 'now', 'and', 'is', 'not', 'accountable', 'to', 'anyone', 'for', 'his', 'petty', 'remarks.', 'The', 'big', 'question', 'is,', 'will', 'anyone', 'at', 'CBS', 'hold', 'his', 'predecessor', 'Stephen', 'Colbert', 'responsible', 'for', 'his', 'vile', 'remarks', 'about', 'Trump', 'having', 'oral', 'sex', 'with', 'Vladimir', 'Putin?', 'Will', 'Colbert', 's', 'advertisers', 'pull', 'their', 'advertising', 'dollars', 'from', 'his', 'show', 'like', 'they', 'did', 'to', 'FOX', 'News', 'Bill', 'O', 'Reilly,', 'after', 'unproven', 'allegations', 'of', 'sexual', 'assault', 'were', 'made', 'against', 'him?As', 'sad', 'as', 'it', 'was', 'to', 'the', 'world', 'of', 'comedy', 'when', 'Johnny', 'Carson', 'passed', 'away,', 'it', 's', 'a', 'good', 'thing', 'he', 'isn', 't', 'able', 'to', 'see', 'how', 'that', 'the', 'hateful', 'and', 'spiteful', 'liberal', 'Stephen', 'Colbert', 'has', 'disgraced', 'and', 'replaced', 'what', 'once', 'was', 'considered', 'late-night', 'comedy.Last', 'night,', 'Stephen', 'Colbert', 'responded', 'to', '#FireColbert', 'backlash', 'over', 'a', 'crude', 'oral-sex', 'joke', 'he', 'made', 'about', 'President', 'Donald', 'Trump', 'and', 'Vladimir', 'Putin', 'on', 'Monday,', 'May', '1.', 'Trump', 'supporters', 'and', 'others', 'thought', 'the', 'comment', 'was', 'inappropriate', 'and', 'called', 'for', 'the', 'comedian', 'to', 'be', 'dropped', 'from', 'the', 'CBS', 'show.The', 'TV', 'host,', '52,', 'opened', 'his', 'Wednesday,', 'May', '3,', 'episode', 'by', 'addressing', 'the', 'controversy.', 'Welcome', 'to', 'The', 'Late', 'Show,', 'he', 'said.', 'I', 'm', 'your', 'host,', 'Stephen', 'Colbert.', 'Still?', 'I', 'am', 'still', 'the', 'host?', 'I', 'm', 'still', 'the', 'host!', 'Colbert', 'went', 'on', 'to', 'explain', 'that', 'his', 'scathing', 'monologue', 'was', 'spurred', 'by', 'Trump', 'abruptly', 'ending', 'an', 'Oval', 'Office', 'interview', 'with', 'fellow', 'CBS', 'correspondent', 'John', 'Dickerson.', 'Now,', 'if', 'you', 'saw', 'my', 'monologue', 'Monday,', 'you', 'know', 'that', 'I', 'was', 'a', 'little', 'upset', 'at', 'Donald', 'Trump', 'for', 'insulting', 'a', 'friend', 'of', 'mine,', 'he', 'said.', 'So', 'at', 'the', 'end', 'of', 'that', 'monologue,', 'I', 'had', 'a', 'few', 'choice', 'insults', 'for', 'the', 'president', 'in', 'return.', 'I', 'don', 't', 'regret', 'that.', 'He,', 'I', 'believe,', 'can', 'take', 'care', 'of', 'himself.', 'I', 'have', 'jokes;', 'he', 'has', 'the', 'launch', 'codes.', 'So,', 'it', 's', 'a', 'fair', 'fight.', 'US', 'MagazineWatch', 'liberal', 'bully', 'Stephen', 'Colbert', 'and', 'his', 'childish', 'I', 'don', 't', 'regret', 'what', 'I', 'said', 'response', 'to', 'his', 'viewers:For', 'anyone', 'who', 'cares', 'to', 'watch', 'Colbert', 's', 'vulgar', 'remarks,', 'they', 'can', 'be', 'seen', 'in', 'the', 'video', 'below', 'at', 'around', 'the', '11:13', 'mark:'], tags=['Train_3']),\n",
              " TaggedDocument(words=['TOKYO', '(Reuters)', '-', 'Japan', 's', 'struggling', 'opposition', 'Democratic', 'Party', 'elected', 'former', 'foreign', 'minister', 'Seiji', 'Maehara', 'to', 'lead', 'the', 'party', 'on', 'Friday', 'as', 'it', 'tries', 'to', 'raise', 'its', 'single-digit', 'ratings', 'and', 'fend', 'off', 'a', 'challenge', 'by', 'a', 'new', 'group', 'with', 'ties', 'to', 'popular', 'Tokyo', 'Governor', 'Yuriko', 'Koike.', 'Maehara,', '55,', 'a', 'conservative', 'on', 'security', 'who', 'shares', 'Prime', 'Minister', 'Shinzo', 'Abe', 's', 'desire', 'to', 'revise', 'the', 'post-war,', 'pacifist', 'constitution,', 'takes', 'over', 'amid', 'speculation', 'that', 'Abe', 'may', 'call', 'a', 'snap', 'general', 'election', 'later', 'this', 'year', 'to', 'refresh', 'his', 'mandate.', 'Maehara', 'previously', 'held', 'the', 'Democrats', 'top', 'post', 'from', '2005-2006.', 'If', 'I', 'were', 'to', 'refer', 'now', 'to', 'a', 'change', 'in', 'government,', 'the', 'people', 'would', 'say,', 'Whatever', 'are', 'you', 'talking', 'about?', 'But', 'we', 'must', 'change', 'this', 'dangerous', 'political', 'situation', 'where', 'there', 'are', 'no', 'choices', 'except', 'the', '(ruling)', 'Liberal', 'Democratic', 'Party', 'or', 'hopes', 'for', 'something', 'whose', 'form', 'is', 'not', 'yet', 'known,', 'Maehara', 'told', 'his', 'fellow', 'party', 'members.', 'The', 'party,', 'an', 'often', 'fractious', 'mix', 'of', 'conservatives', 'and', 'liberals,', 'had', 'to', 'pick', 'a', 'new', 'chief', 'after', 'its', 'first', 'female', 'head,', 'Renho,', 'who', 'goes', 'by', 'one', 'name,', 'quit', 'having', 'failed', 'to', 'capitalize', 'on', 'Abe', 's', 'sagging', 'ratings,', 'eroded', 'by', 'suspected', 'cronyism', 'scandals', 'and', 'a', 'perception', 'he', 'was', 'complacent', 'after', '4-1/2', 'years', 'in', 'office.', 'Abe', 's', 'support', 'has', 'since', 'rebounded', 'off', 'lows', 'of', 'under', '30', 'percent', 'in', 'some', 'polls,', 'touching', '46', 'percent', 'in', 'a', 'survey', 'by', 'Nikkei', 'business', 'daily', 'in', 'late', 'August.', 'The', 'novice', 'Democratic', 'Party', 'surged', 'to', 'power', 'in', '2009,', 'ousting', 'the', 'long-ruling', 'LDP', 'with', 'promises', 'to', 'put', 'individuals', 'ahead', 'of', 'companies', 'and', 'address', 'social', 'inequalities.', 'But', 'many', 'voters', 'still', 'have', 'bad', 'memories', 'of', 'its', 'rule,', 'which', 'was', 'plagued', 'by', 'infighting,', 'policy', 'flip-flops', 'and', 'unkept', 'promises.', 'Abe', 'led', 'the', 'LDP', 'to', 'a', 'huge', 'victory', 'in', 'December', '2012.', 'The', 'Democrats', 'could', 'face', 'a', 'new', 'threat', 'if', 'efforts', 'by', 'backers', 'of', 'former', 'LDP', 'lawmaker', 'Koike', 'to', 'create', 'a', 'new', 'nationwide', 'opposition', 'party', 'bear', 'fruit.', 'Her', 'Tokyo', 'Citizens', 'First', 'party', 'dealt', 'the', 'LDP', 'a', 'historic', 'defeat', 'in', 'a', 'metropolitan', 'assembly', 'election', 'last', 'month,', 'spurring', 'talk', 'it', 'could', 'evolve', 'into', 'a', 'Japan', 'First', 'party', 'to', 'field', 'candidates', 'in', 'a', 'general', 'election', 'that', 'must', 'be', 'held', 'by', 'late', '2018.', 'Speculation', 'is', 'simmering', 'that', 'Abe', 'could', 'call', 'a', 'snap', 'election', 'as', 'early', 'as', 'October,', 'to', 'take', 'advantage', 'of', 'opposition', 'disarray,', 'though', 'he', 'd', 'risk', 'losing', 'the', 'ruling', 'bloc', 's', 'super', 'majority', 'in', 'the', 'lower', 'house.', 'Maehara', 'defeated', 'liberal', 'rival', 'Yukio', 'Edano,', 'a', 'former', 'chief', 'cabinet', 'secretary', 'during', 'the', 'Democrats', 'days', 'in', 'power.'], tags=['Train_4']),\n",
              " TaggedDocument(words=['Tune', 'in', 'to', 'the', 'Alternate', 'Current', 'Radio', 'Network', '(ACR)', 'for', 'another', 'LIVE', 'broadcast', 'of', 'The', 'Boiler', 'Room', 'tonight', '6:00', 'PM', 'PST', '|', '8:00', 'PM', 'CST', '|', '9:00', 'PM', 'EST', 'for', 'this', 'special', 'broadcast.', 'Join', 'us', 'for', 'uncensored,', 'uninterruptible', 'talk', 'radio,', 'custom-made', 'for', 'bar', 'fly', 'philosophers,', 'misguided', 'moralists,', 'masochists,', 'street', 'corner', 'evangelists,', 'media-maniacs,', 'savants,', 'political', 'animals', 'and', 'otherwise', 'lovable', 'rascals.Join', 'ACR', 'hosts', 'Hesher', 'and', 'Spore', 'along', 'side', 'Jay', 'Dyer', 'of', 'Jays', 'Analysis,', 'Shawn', 'Helton', '(of', '21st', 'Century', 'Wire)', 'Andy', 'Nowicki', '(The', 'Nameless', 'One)', '&', 'Randy', 'J', '(ACR', '&', '21Wire', 'Contributor)', 'for', 'the', 'hundred', 'and', 'thirty', 'second', 'episode', 'of', 'BOILER', 'ROOM.', 'Turn', 'it', 'up,', 'tune', 'in', 'and', 'hang', 'with', 'the', 'ACR', 'Brain-Trust', 'for', 'this', 'weeks', 'boil', 'downs', 'and', 'analysis', 'and', 'the', 'usual', 'gnashing', 'of', 'the', 'teeth', 'of', 'the', 'political', 'animals', 'in', 'the', 'social', 'reject', 'club.On', 'this', 'episode', 'of', 'Boiler', 'Room', 'the', 'ACR', 'Brain-Trust', 'is', 'further', 'analyzing', 'aspects', 'of', 'the', 'Las', 'Vegas', 'Mandalay', 'Bay', 'mass', 'shooting', 'event', 'with', 'Shawn', 'Helton', 'joining', 'to', 'share', 'his', 'latest', 'discovery', 'with', 'this', 'exclusive', '21Wire/ACR', 'report.', 'Shawn', 'uncovers', 'connections', 'between', 'the', 'Phoenix', 'charity', 'foundation', 'co-founded', 'by', 'Kymberley', 'Suchomel,', 'a', 'survivor', 'of', 'the', 'Las', 'Vegas', 'shooting,', 'and', 'the', 'well', 'known', 'DHS', 'related', 'Geo', 'Group.', 'Kymberley', 'Suchomel', 'is', 'reported', 'to', 'have', 'died', 'suddenly', 'on', 'October', '9th,', 'of', 'apparent', 'known', 'health', 'conditions.', 'The', 'reason', 'why', 'the', 'Geo', 'Group', 'link', 'is', 'so', 'significant,', 'is', 'that', 'prior', 'to', 'modern', 'America', 's', 'largest', 'mass', 'shooting', 'in', 'Las', 'Vegas,', 'an', 'apparent', 'survivor', 'of', 'the', 'incident', 'was', 'operating', 'a', 'foundation', 'that', 'was', 'accepting', 'financial', 'support', 'from', 'a', 'large-scale', 'company', 'formerly', 'known', 'as', 'The', 'Wackenhut', 'Corporation,', 'a', 'subsidiary', 'of', 'G4S', 'Secure', 'Solutions,', 'one', 'of', 'the', 'world', 's', 'largest', 'security', 'firms,', 'and', 'a', 'Department', 'of', 'Homeland', 'Security', 'connected', 'conglomerate', 'tied', 'to', 'the', 'suspicious', 'Orlando', 'shooting', 'in', 'the', 'summer', 'of', '2016', 'an', 'event,', 'that', 'was', 'previously', 'the', 'country', 's', 'largest', 'mass', 'shooting.', 'Direct', 'Download', 'Episode', '#132', 'Please', 'like', 'and', 'share', 'the', 'program', 'and', 'visit', 'our', 'donate', 'page', 'to', 'get', 'involved!', 'Reference', 'Links,', 'for', 'your', 'consideration', 'and', 'research:'], tags=['Train_5']),\n",
              " TaggedDocument(words=['When', 'Trump', 's', 'White', 'House', 'released', 'a', 'list', 'of', 'terrorist', 'attacks', 'they', 'say', 'the', 'media', 'did', 'not', 'cover,', 'one', 'thing', 'was', 'clear:', 'the', 'dictionary', 'is', 'the', 'Trump', 'administration', 's', 'worst', 'enemy.', 'Attacker', 'was', 'spelled', 'attaker,', 'the', 'list', 'referenced', 'a', 'country', 'called', 'Denmakr,', 'San', 'Bernardino', 'was', 'missing', 'an', 'r,', 'and', 'so', 'on.', 'Eventually,', 'the', 'Merriam-Webster', 'dictionary', 'caught', 'wind', 'of', 'the', 'error-ridden', 'list', 'and', 'offered', 'some', 'advice.', 'Reminder', 'that', 'our', 'app', 'has', 'voice', 'search,', 'so', 'you', 'can', 'look', 'a', 'word', 'up', 'even', 'if', 'you', 're', 'not', 'sure', 'how', 'it', 's', 'spelled,', 'the', 'Dictionary', 'tweeted,', 'adding', 'a', 'link', 'to', 'their', '(', 'there', 'in', 'Trumpspeak)', 'app.Reminder', 'that', 'our', 'app', 'has', 'voice', 'search,', 'so', 'you', 'can', 'look', 'a', 'word', 'up', 'even', 'if', \"you're\", 'not', 'sure', 'how', \"it's\", 'spelled.', 'https://t.co/gAH5JjwU32', 'https://t.co/oyxk2zwpWO', 'Merriam-Webster', '(@MerriamWebster)', 'February', '7,', '2017This', 'one', 'was', 'more', 'subtle', 'than', 'the', 'more', 'recent', 'times', 'that', 'the', 'Dictionary', 'has', 'smacked', 'Trump', 'around', 'like', 'when', 'he', 'tweeted', 'about', 'unpresidented', 'acts', 'or', 'when', 'Sean', 'Spicer', 'couldn', 't', 'define', 'betrayal', 'but', 'it', 'was', 'clear', 'what', 'Merriam-Webster', 'was', 'saying,', 'and', 'people', 'couldn', 't', 'be', 'happier', 'with', 'the', 'shade', 'that', 'was', 'thrown:@MerriamWebster', '????Was', 'that', 'an', 'attak?', 'Krista', 'Ritzman', 'Reed', '(@smokelvr)', 'February', '7,', '2017.@MerriamWebster', 'pic.twitter.com/xzHNf1kLTH', 'Alt-Thin', 'Brown', '(@jteeDC)', 'February', '7,', '2017@MerriamWebster', 'you', 'guys', 'are', 'certainly', 'winning', 'at', 'internet.', 'pic.twitter.com/eesiHbOscx', 'Wendy', 'Lady', '(@NerdRage42)', 'February', '7,', '2017@MerriamWebster', 'Whatever', 'this', 'company', 'pays', 'you,', 'oh', 'Twitter', 'person,', 'it', \"isn't\", 'enough.', 'I', 'never', 'thought', 'I', 'would', 'enjoy', 'following', 'a', 'dictionary', 'so.', 'CLLynch', '(@lynchauthor)', 'February', '7,', '2017@MerriamWebster', 'oh,', 'dictionary,', \"you're\", 'so', 'salty.', 'Paging', 'Mrs.', 'Herman', '(@THerman23)', 'February', '7,', '2017@MerriamWebster', \"I've\", 'never', 'loved', 'a', 'dictionary', 'so', 'much.', 'Lee', 'Koh', '(@eunleekoh)', 'February', '7,', '2017@MerriamWebster', '@noropthony', 'Burn', 'level,', 'EPIC!', 'Epic:', '2', 'a', ':', 'extending', 'beyond', 'the', 'usual', 'or', 'ordinary', 'especially', 'in', 'size', 'or', 'scope', 'Tracy', 'JSM', '(@Trinityapp)', 'February', '7,', '2017@MerriamWebster', 'our', 'country', 'is', 'going', 'to', 'be', 'saved', 'by', 'Merriam-Webster.', 'Kendra', 'Kendall', '(@kikuandjuju)', 'February', '7,', '2017@MerriamWebster', 'on', 'that', 'low-key', 'spelling', 'shade', '??', 'goldee-loxs?', '(@goldee_loxs)', 'February', '7,', '2017Merriam-Webster', 'later', 'announced', 'they', 'added', 'shade', 'to', 'the', 'dictionary', 'We', 'added', 'shade', 'to', 'the', 'dictionary.', 'https://t.co/dbxSsggzLo', 'pic.twitter.com/4bpkoJVvAF', 'Merriam-Webster', '(@MerriamWebster)', 'February', '7,', '2017', 'followed', 'by', 'side-eye.', \"'Side-eye'\", 'is', 'now', 'in', 'the', 'dictionary.', 'Our', 'earliest', 'example', 'of', 'it', 'in', 'use', 'comes', 'from', '1797.', '(GIF', 'by', '@GIPHY', 'Studios.)', 'https://t.co/ClvewjDi0K', 'pic.twitter.com/3bhMrce7F0', 'Merriam-Webster', '(@MerriamWebster)', 'February', '8,', '2017They', 'even', 're-added', 'a', 'new', '(old),', 'fun', 'term', 'to', 'call', 'Donald', 'Trump:Yes', 'like', 'snollygoster,', '\"a', 'shrewd', '&', 'unprincipled', 'person,', 'especially', 'an', 'unprincipled', 'politician.\"', 'Just', 'added', 'it', 'back.', 'https://t.co/DsYIshSZDU', 'https://t.co/lv5HKPyNum', 'Merriam-Webster', '(@MerriamWebster)', 'February', '7,', '2017But', 'they', 'were', 'clear', 'that', 'of', 'the', '1,000', 'new', 'words', 'added', 'to', 'the', 'dictionary,', 'unpresidented', 'is', 'not', 'one', 'of', 'them:@MerriamWebster', 'Is', 'unpresidented', 'one', 'of', 'them?', 'Caitlin', 'Luce', 'Baker', '(@Cait_onthe_Luce)', 'February', '7,', '2017No.', 'https://t.co/F62W8BBmHl', 'Merriam-Webster', '(@MerriamWebster)', 'February', '7,', '2017Trump', 's', 'team', 'is', 'built', 'from', 'the', 'absolute', 'worst', 'our', 'country', 'has', 'to', 'offer:', 'white', 'supremacists,', 'warmongers,', 'corporate', 'warlords,', 'and', 'the', 'absolute', 'dumbest', 'people', 'one', 'could', 'ever', 'imagine.In', 'just', 'a', 'few', 'weeks,', 'Donald', 'Trump', 'has', 'managed', 'to', 'make', 'a', 'mockery', 'of', 'almost', 'every', 'aspect', 'of', 'our', 'government,', 'appointing', 'a', 'slew', 'of', 'unqualified', 'people', 'to', 'positions', 'they', 'should', 'never', 'be', 'near', 'and', 'even', 'getting', 'tricked', 'into', 'making', 'a', 'white', 'supremacist', 'one', 'of', 'the', 'most', 'powerful', 'men', 'in', 'the', 'country.Take', 'the', 'time', 'to', 'laugh,', 'but', 'be', 'sure', 'to', 'resist', 'the', 'snollygoster', 'in', 'the', 'White', 'House', 'in', 'every', 'way', 'you', 'can', 'for', 'the', 'next', 'four', 'years', 'or,', 'of', 'course,', 'until', 'he', 'is', 'ultimately', 'impeached', 'for', 'being', 'completely', 'and', 'utterly', 'incompetent.Featured', 'image', 'via', 'Getty', 'Images', '(Pool)/screengrab'], tags=['Train_6']),\n",
              " TaggedDocument(words=['CNN', 'published', 'a', 'hate', 'group', 'map', 'and', 'list', 'from', 'the', 'Southern', 'Poverty', 'Law', 'Center', 'that', 'targeted', 'many', 'Christian', 'Organizations.', 'The', 'organizations', 'are', 'fearful', 'for', 'their', 'safety', 'after', 'the', 'bogus', 'hate', 'map', 'with', 'the', 'headline,', 'Here', 'are', 'all', 'the', 'active', 'hate', 'groups', 'where', 'you', 'live.', 'The', 'Southern', 'Poverty', 'Law', 'Center', 'will', 'have', 'blood', 'on', 'their', 'hands', 'if', 'they', 'cause', 'the', 'injury', 'of', 'anyone', 'in', 'these', 'Christian', 'groups.', 'It', 's', 'bad', 'enough', 'that', 'they', 'labeled', 'these', 'groups', 'as', 'hate', 'groups', 'but', 'now', 'the', 'people', 'in', 'the', 'groups', 'are', 'fearful.Todd', 'Starnes', 'of', 'Townhall', 'reported:The', 'list', 'included', 'among', 'others', 'American', 'Family', 'Association,', 'Family', 'Research', 'Council,', 'Alliance', 'Defending', 'Freedom,', 'Liberty', 'Counsel', 'and', 'Pacific', 'Justice', 'Institute.American', 'Family', 'Association', 'blasted', 'the', 'CNN', 'story', 'calling', 'it', 'a', 'sham', 'news', 'article', 'that', 'could', 'easily', 'incite', 'violence', 'and', 'place', 'AFA', 'employees', 'and', 'supporters', 'in', 'harm', 's', 'way.', 'Liberty', 'Counsel', 'President', 'Mat', 'Staver', 'demanded', 'an', 'immediate', 'retraction', 'calling', 'CNN', 's', 'report', 'false,', 'defamatory', 'and', 'dangerous.', 'Liberty', 'Counsel', 'is', 'not', 'a', 'hate', 'group,', 'he', 'said.', 'The', 'false', 'hate', 'label', 'is', 'very', 'damaging', 'to', 'our', 'reputation', 'and', 'is', 'a', 'safety', 'risk', 'to', 'our', 'staff.', 'Liberty', 'Counsel', 'is', 'a', 'Christian', 'ministry,', 'and', 'hates', 'no', 'one.', 'Conservatives', 'and', 'Christians', 'have', 'good', 'reason', 'to', 'be', 'worried.In', '2012,', 'Floyd', 'Lee', 'Corkins', 'opened', 'fire', 'inside', 'Family', 'Research', 'Council', 'headquarters', 'in', 'Washington,', 'D.C.', 'A', 'security', 'guard', 'was', 'shot', 'and', 'wounded.The', 'domestic', 'terrorist', 'told', 'police', 'he', 'wanted', 'to', 'kill', 'as', 'many', 'employees', 'as', 'possible', 'to', 'intimidate', 'opponents', 'of', 'same-sex', 'marriage.', 'Corkins', 'brought', 'along', 'Chick-fil-A', 'sandwiches,', 'which', 'he', 'intended', 'to', 'smear', 'on', 'the', 'faces', 'of', 'dead', 'staffers.Corkins', 'told', 'authorities', 'that', 'he', 'picked', 'his', 'target', 'using', 'the', 'Southern', 'Poverty', 'Law', 'Center', 's', 'so-called', 'hate', 'map.', 'Family', 'Research', 'Council', 'President', 'Tony', 'Perkins', 'appeared', 'on', 'my', 'nationally', 'syndicated', 'radio', 'show', 'Thursday', 'to', 'condemn', 'CNN', 'for', 'using', 'material', 'from', 'an', 'organization', 'that', 'is', 'an', 'attack', 'dog', 'of', 'the', 'Left.', 'They', 'are', 'not', 'a', 'neutral', 'arbiter', 'that', 'is', 'calling', 'balls', 'and', 'strikes.', 'They', 'are', 'on', 'the', 'field', 'playing.', 'They', 'are', 'pushing', 'an', 'agenda', 'and', 'anyone', 'who', 'opposes', 'them', 'they', 'slap', 'a', 'label', 'on', 'them,', 'Perkins', 'told', 'me.', 'They', 'are', 'inciting', 'violence', 'and', 'it', 'needs', 'to', 'stop,', 'he', 'added.READ', 'MORE:', 'TOWNHALL'], tags=['Train_7']),\n",
              " TaggedDocument(words=['Republican', 'presidential', 'nominee', 'Donald', 'Trump', 'wants', 'to', 'pretend', 'that', 'he', 's', 'for', 'the', 'working', 'man,', 'that', 'he', 'understands', 'their', 'struggles.', 'The', 'truth', 'is,', 'though,', 'that', 'Trump', 'is', 'a', 'rich,', 'spoiled', 'brat', 'who', 'has', 'never', 'known', 'poverty', 'or', 'what', 'it', 'is', 'like', 'to', 'worry', 'where', 'his', 'next', 'meal', 'or', 'rent', 'check', 'was', 'coming', 'from.', 'That', 's', 'the', 'reality', 'for', 'many', 'average', 'Americans,', 'and', 'he', 'doesn', 't', 'have', 'a', 'clue', 'about', 'it.', 'One', 'person', 'who', 'understands', 'this', 'is', 'Cleveland', 'Cavaliers', 'basketball', 'great', 'LeBron', 'James.James', 'wrote', 'a', 'passionate', 'op-ed', 'in', 'Business', 'Insider,', 'in', 'which', 'he', 'laid', 'out', 'the', 'reasons', 'he', 'is', 'endorsing', 'and', 'supporting', 'Democratic', 'presidential', 'nominee', 'Hillary', 'Clinton.', 'James', 'writes:', 'As', 'a', 'kid,', 'I', 'didn', 't', 'have', 'much', 'money.', 'It', 'was', 'just', 'my', 'mom', 'and', 'me,', 'and', 'things', 'were', 'rough', 'at', 'times.', 'But', 'I', 'had', 'basketball.', 'That', 'gave', 'me', 'a', 'family,', 'a', 'community,', 'and', 'an', 'education.', 'That', 's', 'more', 'than', 'a', 'lot', 'of', 'children', 'in', 'Akron', 'can', 'say.If', 'basketball', 'has', 'taught', 'me', 'anything,', 'it', 's', 'that', 'no', 'one', 'achieves', 'greatness', 'alone.', 'And', 'it', 'takes', 'everyone', 'working', 'together', 'to', 'create', 'real', 'change.When', 'I', 'look', 'at', 'this', 'year', 's', 'presidential', 'race,', 'it', 's', 'clear', 'which', 'candidate', 'believes', 'the', 'same', 'thing.', 'Only', 'one', 'person', 'running', 'truly', 'understands', 'the', 'struggles', 'of', 'an', 'Akron', 'child', 'born', 'into', 'poverty.', 'And', 'when', 'I', 'think', 'about', 'the', 'kinds', 'of', 'policies', 'and', 'ideas', 'the', 'kids', 'in', 'my', 'foundation', 'need', 'from', 'our', 'government,', 'the', 'choice', 'is', 'clear.That', 'candidate', 'is', 'Hillary', 'Clinton.', 'This', 'is', 'especially', 'significant', 'because', 'Ohio', 'is', 'a', 'state', 'where', 'James', 'is', 'pretty', 'much', 'worshipped,', 'and', 'it', 'is', 'also', 'a', 'state', 'that', 'is', 'seen', 'as', 'essential', 'for', 'winning', 'the', 'presidency.', 'This', 'is', 'an', 'opinion', 'that', 'holds', 'a', 'lot', 'of', 'weight', 'there.LeBron', 'James', 'embodies', 'the', 'American', 'dream,', 'as', 'does', 'Hillary', 'Clinton.', 'Hillary', 'was', 'raised', 'by', 'a', 'mother', 'who', 'began', 'working', 'at', 'the', 'age', 'of', '14', 'because', 'she', 'was', 'abandoned', 'by', 'her', 'parents', 'and', 'had', 'to', 'leave', 'the', 'home', 'of', 'grandparents', 'who', 'never', 'wanted', 'her', 'and', 'look', 'at', 'all', 'Hillary', 'became.', 'LeBron', 'James', 'was', 'a', 'poor', 'kid', 'raised', 'by', 'a', 'single', 'mom', 'who', 'became', 'one', 'of', 'the', 'most', 'revered', 'sports', 'stars', 'in', 'the', 'country.', 'In', 'contrast,', 'Donald', 'Trump', 'never', 'worked', 'for', 'anything', 'he', 'has.', 'He', 'inherited', 'it.', 'He', 's', 'really', 'good', 'at', 'being', 'a', 'spoiled,', 'entitled', 'rich', 'kid', 'who', 'has', 'never', 'cared', 'about', 'anything', 'but', 'himself', 'and', 'his', 'brand.', 'Do', 'we', 'really', 'want', 'that', 'as', 'president?', 'I', 'certainly', 'don', 't.Thanks,', 'LeBron.', '#ImWithHer,', 'too.Featured', 'image', 'via', 'David', 'Liam', 'Kyle/NBAE', 'via', 'Getty', 'Images'], tags=['Train_8']),\n",
              " TaggedDocument(words=['Members', 'of', 'a', 'congressional', 'committee', 'ripped', 'Obama', 'and', 'his', 'attorney', 'general', 'for', 'covering', 'up', 'an', 'investigation', 'into', 'the', 'death', 'of', 'Border', 'Patrol', 'agent', 'Brian', 'Terry.', 'Terry', 'was', 'killed', 'as', 'a', 'result', 'of', 'a', 'botched', 'government', 'gun-running', 'project', 'known', 'as', 'Operation', 'Fast', 'and', 'Furious:The', 'House', 'Oversight', 'Committee', 'also', 'Wednesday', 'released', 'a', 'scathing,', 'nearly', '300-page', 'report', 'that', 'found', 'Holder', 's', 'Justice', 'Department', 'tried', 'to', 'hide', 'the', 'facts', 'from', 'the', 'loved', 'ones', 'of', 'slain', 'Border', 'Patrol', 'Brian', 'Terry', 'seeing', 'his', 'family', 'as', 'more', 'of', 'a', 'nuisance', 'than', 'one', 'deserving', 'straight', 'answers', 'and', 'slamming', 'Obama', 's', 'assertion', 'of', 'executive', 'privilege', 'to', 'deny', 'Congress', 'access', 'to', 'records', 'pertaining', 'to', 'Fast', 'and', 'Furious.Senator', 'Grassley', 'accused', 'the', 'DOJ', 'and', 'ATF', 'officials', 'of', 'obstructing', 'the', 'investigation', 'and', 'working', 'to', 'silence', 'ATF', 'agents', 'who', 'informed', 'the', 'Senate', 'of', 'Fast', 'and', 'Furious:', 'The', 'Department', 'of', 'Justice', 'and', 'ATF', 'had', 'no', 'intention', 'of', 'looking', 'for', 'honest', 'answers', 'and', 'being', 'transparent.', 'In', 'fact,', 'from', 'the', 'onset,', 'bureaucrats', 'employed', 'shameless', 'delay', 'tactics', 'to', 'obstruct', 'the', 'investigation.', 'One', 'of', 'the', 'silenced', 'ATF', 'agents,', 'John', 'Dodson,', 'testified', 'Wednesday', 'that', 'he', 'remains', 'in', 'a', 'state', 'of', 'purgatory', 'since', 'objecting', 'to', 'Fast', 'and', 'Furious', 'and', 'has', 'been', 'the', 'subject', 'of', 'reprisals', 'and', 'ridicule', 'at', 'the', 'agency:', 'That', 'decision,', 'the', 'single', 'act', 'of', 'standing', 'up', 'and', 'saying,', 'What', 'we', 'are', 'doing', 'is', 'wrong', 'instantly', 'took', 'my', 'standing', 'from', 'being', 'that', 'of', 'an', 'agent', 'of', 'the', 'government', 'to', 'an', 'enemy', 'of', 'the', 'state.', 'ATF', 'and', 'DOJ', 'officials', 'implemented', 'an', 'all-out', 'campaign', 'to', 'silence', 'and', 'discredit', 'me.', 'Suffice', 'to', 'say,', 'the', 'last', 'six', 'to', 'seven', 'years', 'at', 'ATF', 'have', 'not', 'been', 'the', 'best', 'for', 'me', 'or', 'my', 'career.', 'Grassley', 's', 'and', 'Dodson', 's', 'testimony', 'reinforced', 'findings', 'of', 'the', 'report,', 'which', 'states', 'that', 'the', 'Justice', 'Department', 'knew', 'before', 'Terry', 's', 'death', 'that', 'the', 'ATF', 'was', 'walking', 'firearms', 'to', 'Mexico', 'and', 'knew', 'the', 'day', 'after', 'the', 'agent', 's', 'death', 'that', 'Fast', 'and', 'Furious', 'guns', 'were', 'involved', 'in', 'the', 'shootout', 'despite', 'denying', 'these', 'facts', 'to', 'the', 'media.', 'It', 'goes', 'on', 'to', 'state', 'that', 'the', 'Justice', 'Department', 's', 'internal', 'investigation', 'focused', 'more', 'on', 'spinning', 'the', 'story', 'to', 'avoid', 'negative', 'media', 'coverage', 'than', 'looking', 'into', 'lapses', 'by', 'either', 'the', 'DOJ', 'or', 'ATF.The', 'whistleblower', 'testimony', 'is', 'especially', 'compelling', 'at', 'the', '42:00', 'point', 'of', 'the', 'video:Several', 'emails', 'revealed', 'in', 'the', 'report', 'appear', 'to', 'indicate', 'that', 'some', 'Justice', 'Department', 'staffers', 'were', 'working', 'to', 'keep', 'information', 'from', 'political', 'appointees', 'at', 'the', 'department.', 'I', 'don', 't', 'want', 'to', 'jinx', 'it', 'but', 'it', 'really', 'is', 'astounding', 'that', 'the', 'plan', 'worked', 'so', 'far,', 'former', 'Deputy', 'Attorney', 'General', 'James', 'Cole', 'wrote', 'in', 'an', 'email', 'to', 'Holder,', 'according', 'to', 'the', 'report.The', 'report', 'also', 'says', 'that', 'Holder', 's', 'Justice', 'Department', 'stonewalled', 'inquiries', 'from', 'Sen.', 'Chuck', 'Grassley,', 'R-Iowa,', 'and', 'deceptively', 'told', 'him', 'that', 'the', 'ATF', 'makes', 'every', 'effort', 'to', 'interdict', 'firearms', 'purchased', 'by', 'straw', 'buyers.', 'There', 'are', 'important', 'reasons', 'for', 'not', 'giving', 'Grassley', 'everything', 'he', 'is', 'asking', 'for:', 'it', 'would', 'embolden', 'him', 'in', 'future', 'fights', 'and', 'would', 'use', 'up', 'a', 'lot', 'of', 'the', 'material', 'that', 'we', 'will', 'eventually', 'need', 'to', 'release', 'to', '(California', 'Rep.', 'Darrell)', 'Issa', '.', '.', '.', 'as', 'the', 'oversight', 'struggle', 'continues,', 'the', 'Office', 'of', 'Legislative', 'Affairs', 'Assistant', 'Attorney', 'General', 'Ron', 'Welch', 'said', 'in', 'an', 'email', 'to', 'DOJ', 'colleagues.Border', 'Patrol', 'Agent', 'Brian', 'Terry', 'died', 'in', 'a', 'gunfight', 'between', 'Border', 'Patrol', 'agents', 'and', 'members', 'of', 'a', 'six-man', 'cartel', 'rip', 'crew,', 'which', 'regularly', 'patrolled', 'the', 'desert', 'along', 'the', 'U.S.-Mexico', 'border', 'looking', 'for', 'drug', 'dealers', 'to', 'rob.Read', 'more:', 'FOX'], tags=['Train_9'])]"
            ]
          },
          "metadata": {},
          "execution_count": 76
        }
      ]
    },
    {
      "cell_type": "code",
      "source": [
        "model_dbow = doc2vec.Doc2Vec(dm=0, vector_size=300, negative=5, min_count=1, alpha=0.065,\n",
        "                     min_alpha=0.065)\n",
        "model_dbow.build_vocab([x for x in tqdm(all_data)])"
      ],
      "metadata": {
        "colab": {
          "base_uri": "https://localhost:8080/"
        },
        "id": "rFP-uD85MBVJ",
        "outputId": "3501a959-ee5b-4fb4-ab33-8edb790898bf"
      },
      "execution_count": 77,
      "outputs": [
        {
          "output_type": "stream",
          "name": "stderr",
          "text": [
            "100%|██████████| 44898/44898 [00:00<00:00, 1639953.51it/s]\n"
          ]
        }
      ]
    },
    {
      "cell_type": "code",
      "source": [
        "# dm=0 , distributed bag of words (DBOW) is used.\n",
        "# vector_size=300 , 300 vector dimensional feature vectors.\n",
        "# negative=5 , specifies how many “noise words” should be drawn.\n",
        "# min_count=1, ignores all words with total frequency lower than this.\n",
        "# alpha=0.065 , the initial learning rate.\n",
        "for epoch in range(5):\n",
        "    model_dbow.train(utils.shuffle([x for x in tqdm(all_data)]),\n",
        "                     total_examples=len(all_data),\n",
        "                     epochs=1)\n",
        "    model_dbow.alpha -= 0.002\n",
        "    model_dbow.min_alpha = model_dbow.alpha"
      ],
      "metadata": {
        "colab": {
          "base_uri": "https://localhost:8080/"
        },
        "id": "E8O8K1GaMBSW",
        "outputId": "3e2bc91d-3963-4603-f6f0-24ea66b9d074"
      },
      "execution_count": 79,
      "outputs": [
        {
          "output_type": "stream",
          "name": "stderr",
          "text": [
            "100%|██████████| 44898/44898 [00:00<00:00, 563347.68it/s]\n",
            "100%|██████████| 44898/44898 [00:00<00:00, 2686503.86it/s]\n",
            "100%|██████████| 44898/44898 [00:00<00:00, 2773184.42it/s]\n",
            "100%|██████████| 44898/44898 [00:00<00:00, 2769065.85it/s]\n",
            "100%|██████████| 44898/44898 [00:00<00:00, 2618480.23it/s]\n"
          ]
        }
      ]
    },
    {
      "cell_type": "code",
      "source": [
        "train_vectors_dbow = get_vectors(model_dbow, len(X_train), 300, 'Train')\n",
        "test_vectors_dbow = get_vectors(model_dbow, len(X_test), 300, 'Test')"
      ],
      "metadata": {
        "colab": {
          "base_uri": "https://localhost:8080/"
        },
        "id": "WVhMC5yiMBPp",
        "outputId": "ce436ed8-34d8-44ab-e4fa-afbf330ecf55"
      },
      "execution_count": 80,
      "outputs": [
        {
          "output_type": "stream",
          "name": "stderr",
          "text": [
            "<ipython-input-31-c807116ba1f2>:13: DeprecationWarning: Call to deprecated `docvecs` (The `docvecs` property has been renamed `dv`.).\n",
            "  vectors[i] = model.docvecs[prefix]\n"
          ]
        }
      ]
    },
    {
      "cell_type": "code",
      "source": [
        "# feed vectors to SVM classifier\n",
        "svm = SVC(C=1e5)\n",
        "# logreg.fit(train_vectors_dbow, y_train)\n",
        "\n",
        "svm = svm.fit(train_vectors_dbow, y_train)\n",
        "y_pred = svm.predict(test_vectors_dbow)\n",
        "\n",
        "print('accuracy %s' % accuracy_score(y_pred, y_test))\n",
        "print(classification_report(y_test, y_pred))"
      ],
      "metadata": {
        "colab": {
          "base_uri": "https://localhost:8080/"
        },
        "id": "QvZGaTi5OFR4",
        "outputId": "52904ec7-099c-4b77-ec3e-b6a88d1d0499"
      },
      "execution_count": 81,
      "outputs": [
        {
          "output_type": "stream",
          "name": "stdout",
          "text": [
            "accuracy 0.9526354862657758\n",
            "              precision    recall  f1-score   support\n",
            "\n",
            "           0       0.96      0.95      0.95      7025\n",
            "           1       0.95      0.95      0.95      6445\n",
            "\n",
            "    accuracy                           0.95     13470\n",
            "   macro avg       0.95      0.95      0.95     13470\n",
            "weighted avg       0.95      0.95      0.95     13470\n",
            "\n"
          ]
        }
      ]
    }
  ],
  "metadata": {
    "accelerator": "GPU",
    "colab": {
      "provenance": [],
      "toc_visible": true
    },
    "kernelspec": {
      "display_name": "Python 3",
      "name": "python3"
    }
  },
  "nbformat": 4,
  "nbformat_minor": 0
}